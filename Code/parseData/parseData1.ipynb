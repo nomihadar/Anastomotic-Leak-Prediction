{
 "cells": [
  {
   "cell_type": "markdown",
   "metadata": {},
   "source": [
    "**Notebook content:**\n",
    "- Sort rows.\n",
    "- Drop empty rows.\n",
    "- Drop empty and irrlevant columns. \n",
    "- Drop duplicate rows."
   ]
  },
  {
   "cell_type": "code",
   "execution_count": 76,
   "metadata": {},
   "outputs": [],
   "source": [
    "%reset -f "
   ]
  },
  {
   "cell_type": "code",
   "execution_count": 77,
   "metadata": {},
   "outputs": [],
   "source": [
    "import sys, os\n",
    "import numpy as np\n",
    "import pandas as pd\n",
    "\n",
    "from IPython.display import display\n",
    "sys.path.append(os.path.dirname(sys.path[0])) #to change to environment \n",
    "from utils.constants import *"
   ]
  },
  {
   "cell_type": "code",
   "execution_count": 78,
   "metadata": {},
   "outputs": [],
   "source": [
    "pd.set_option('display.max_columns', 50)\n",
    "pd.set_option('display.max_rows', 50)\n",
    "pd.set_option('display.float_format', lambda x: '%.4f' % x)\n",
    "np.set_printoptions(threshold=sys.maxsize) #- print the full NumPy array"
   ]
  },
  {
   "cell_type": "code",
   "execution_count": 79,
   "metadata": {},
   "outputs": [],
   "source": [
    "#files names \n",
    "INPUT_FILE = \"data0.csv\""
   ]
  },
  {
   "cell_type": "code",
   "execution_count": 80,
   "metadata": {},
   "outputs": [
    {
     "output_type": "execute_result",
     "data": {
      "text/plain": "(1683669, 44)"
     },
     "metadata": {},
     "execution_count": 80
    }
   ],
   "source": [
    "#read input file  \n",
    "input_path = os.path.join(DPATH_DATA, INPUT_FILE) \n",
    "df = pd.read_csv(input_path)\n",
    "df.shape"
   ]
  },
  {
   "cell_type": "markdown",
   "metadata": {},
   "source": [
    "**Headers**\n",
    "\n",
    "https://docs.google.com/spreadsheets/d/1rS5fCmB2nW72YMb0Pqb3ZbKIQO2jzqTS6cnaDWRuYB0/edit#gid=1712287935\n"
   ]
  },
  {
   "cell_type": "code",
   "execution_count": 81,
   "metadata": {},
   "outputs": [
    {
     "output_type": "stream",
     "name": "stdout",
     "text": "<class 'pandas.core.frame.DataFrame'>\nRangeIndex: 1683669 entries, 0 to 1683668\nData columns (total 44 columns):\nrowId                     1683650 non-null object\nid                        1683655 non-null object\npid                       1683616 non-null float64\nadmissionId               1683616 non-null float64\naltAdmissionId            0 non-null float64\naltPid                    39 non-null object\nbValue                    1556931 non-null object\nabnormalFlags             0 non-null float64\nbed                       1171800 non-null object\nbodyLocation              0 non-null float64\ncancelDate                0 non-null float64\ncancelled                 1683610 non-null object\nconverted                 1683616 non-null object\ndValue                    1556931 non-null float64\neventCode                 1683616 non-null object\neventCodeOrg              1534034 non-null object\neventDesc                 136875 non-null object\neventEndDate              1683616 non-null object\neventName                 1628158 non-null object\neventResult               0 non-null float64\neventResultType           0 non-null float64\neventStartDate            1683616 non-null object\neventType                 1683616 non-null object\neventTypeOrg              1541809 non-null object\nfacility                  0 non-null float64\niValue                    1556931 non-null float64\nmessageId                 1683616 non-null float64\nnormalRange               0 non-null float64\norderNumber               16699 non-null float64\norganismId                2126 non-null float64\nparentId                  109842 non-null object\npointOfCare               0 non-null float64\npresentOnAdmission        0 non-null float64\nprincipalDiagnosis        0 non-null float64\nroom                      0 non-null float64\nsValue                    38602 non-null object\nsourceName                1683577 non-null object\nspecimenCollectionSite    0 non-null float64\nspecimenId                0 non-null float64\ntValue                    2 non-null object\ntransferrable             1683577 non-null object\nunitOfMeasure             966464 non-null object\ncareGiver                 126685 non-null object\nTime_Stamp                1683577 non-null object\ndtypes: float64(21), object(23)\nmemory usage: 565.2+ MB\n"
    }
   ],
   "source": [
    "df.info()"
   ]
  },
  {
   "cell_type": "code",
   "execution_count": 82,
   "metadata": {},
   "outputs": [
    {
     "output_type": "execute_result",
     "data": {
      "text/plain": "                        % missing values\nrowId                             0.0010\nid                                0.0010\nmessageId                         0.0030\neventType                         0.0030\neventEndDate                      0.0030\neventCode                         0.0030\nconverted                         0.0030\neventStartDate                    0.0030\npid                               0.0030\nadmissionId                       0.0030\ncancelled                         0.0040\nTime_Stamp                        0.0050\ntransferrable                     0.0050\nsourceName                        0.0050\neventName                         3.2970\niValue                            7.5270\nbValue                            7.5270\ndValue                            7.5270\neventTypeOrg                      8.4260\neventCodeOrg                      8.8870\nbed                              30.4020\nunitOfMeasure                    42.5980\neventDesc                        91.8700\ncareGiver                        92.4760\nparentId                         93.4760\nsValue                           97.7070\norderNumber                      99.0080\norganismId                       99.8740\naltPid                           99.9980\naltAdmissionId                  100.0000\nbodyLocation                    100.0000\ntValue                          100.0000\nspecimenId                      100.0000\nspecimenCollectionSite          100.0000\ncancelDate                      100.0000\neventResultType                 100.0000\npresentOnAdmission              100.0000\npointOfCare                     100.0000\nnormalRange                     100.0000\neventResult                     100.0000\nabnormalFlags                   100.0000\nfacility                        100.0000\nroom                            100.0000\nprincipalDiagnosis              100.0000",
      "text/html": "<div>\n<style scoped>\n    .dataframe tbody tr th:only-of-type {\n        vertical-align: middle;\n    }\n\n    .dataframe tbody tr th {\n        vertical-align: top;\n    }\n\n    .dataframe thead th {\n        text-align: right;\n    }\n</style>\n<table border=\"1\" class=\"dataframe\">\n  <thead>\n    <tr style=\"text-align: right;\">\n      <th></th>\n      <th>% missing values</th>\n    </tr>\n  </thead>\n  <tbody>\n    <tr>\n      <td>rowId</td>\n      <td>0.0010</td>\n    </tr>\n    <tr>\n      <td>id</td>\n      <td>0.0010</td>\n    </tr>\n    <tr>\n      <td>messageId</td>\n      <td>0.0030</td>\n    </tr>\n    <tr>\n      <td>eventType</td>\n      <td>0.0030</td>\n    </tr>\n    <tr>\n      <td>eventEndDate</td>\n      <td>0.0030</td>\n    </tr>\n    <tr>\n      <td>eventCode</td>\n      <td>0.0030</td>\n    </tr>\n    <tr>\n      <td>converted</td>\n      <td>0.0030</td>\n    </tr>\n    <tr>\n      <td>eventStartDate</td>\n      <td>0.0030</td>\n    </tr>\n    <tr>\n      <td>pid</td>\n      <td>0.0030</td>\n    </tr>\n    <tr>\n      <td>admissionId</td>\n      <td>0.0030</td>\n    </tr>\n    <tr>\n      <td>cancelled</td>\n      <td>0.0040</td>\n    </tr>\n    <tr>\n      <td>Time_Stamp</td>\n      <td>0.0050</td>\n    </tr>\n    <tr>\n      <td>transferrable</td>\n      <td>0.0050</td>\n    </tr>\n    <tr>\n      <td>sourceName</td>\n      <td>0.0050</td>\n    </tr>\n    <tr>\n      <td>eventName</td>\n      <td>3.2970</td>\n    </tr>\n    <tr>\n      <td>iValue</td>\n      <td>7.5270</td>\n    </tr>\n    <tr>\n      <td>bValue</td>\n      <td>7.5270</td>\n    </tr>\n    <tr>\n      <td>dValue</td>\n      <td>7.5270</td>\n    </tr>\n    <tr>\n      <td>eventTypeOrg</td>\n      <td>8.4260</td>\n    </tr>\n    <tr>\n      <td>eventCodeOrg</td>\n      <td>8.8870</td>\n    </tr>\n    <tr>\n      <td>bed</td>\n      <td>30.4020</td>\n    </tr>\n    <tr>\n      <td>unitOfMeasure</td>\n      <td>42.5980</td>\n    </tr>\n    <tr>\n      <td>eventDesc</td>\n      <td>91.8700</td>\n    </tr>\n    <tr>\n      <td>careGiver</td>\n      <td>92.4760</td>\n    </tr>\n    <tr>\n      <td>parentId</td>\n      <td>93.4760</td>\n    </tr>\n    <tr>\n      <td>sValue</td>\n      <td>97.7070</td>\n    </tr>\n    <tr>\n      <td>orderNumber</td>\n      <td>99.0080</td>\n    </tr>\n    <tr>\n      <td>organismId</td>\n      <td>99.8740</td>\n    </tr>\n    <tr>\n      <td>altPid</td>\n      <td>99.9980</td>\n    </tr>\n    <tr>\n      <td>altAdmissionId</td>\n      <td>100.0000</td>\n    </tr>\n    <tr>\n      <td>bodyLocation</td>\n      <td>100.0000</td>\n    </tr>\n    <tr>\n      <td>tValue</td>\n      <td>100.0000</td>\n    </tr>\n    <tr>\n      <td>specimenId</td>\n      <td>100.0000</td>\n    </tr>\n    <tr>\n      <td>specimenCollectionSite</td>\n      <td>100.0000</td>\n    </tr>\n    <tr>\n      <td>cancelDate</td>\n      <td>100.0000</td>\n    </tr>\n    <tr>\n      <td>eventResultType</td>\n      <td>100.0000</td>\n    </tr>\n    <tr>\n      <td>presentOnAdmission</td>\n      <td>100.0000</td>\n    </tr>\n    <tr>\n      <td>pointOfCare</td>\n      <td>100.0000</td>\n    </tr>\n    <tr>\n      <td>normalRange</td>\n      <td>100.0000</td>\n    </tr>\n    <tr>\n      <td>eventResult</td>\n      <td>100.0000</td>\n    </tr>\n    <tr>\n      <td>abnormalFlags</td>\n      <td>100.0000</td>\n    </tr>\n    <tr>\n      <td>facility</td>\n      <td>100.0000</td>\n    </tr>\n    <tr>\n      <td>room</td>\n      <td>100.0000</td>\n    </tr>\n    <tr>\n      <td>principalDiagnosis</td>\n      <td>100.0000</td>\n    </tr>\n  </tbody>\n</table>\n</div>"
     },
     "metadata": {},
     "execution_count": 82
    }
   ],
   "source": [
    "df.isna().mean().round(5).mul(100).sort_values().to_frame(\"% missing values\")"
   ]
  },
  {
   "cell_type": "code",
   "execution_count": 83,
   "metadata": {},
   "outputs": [
    {
     "output_type": "execute_result",
     "data": {
      "text/plain": "dValue                    float64\niValue                    float64\nfacility                  float64\norderNumber               float64\norganismId                float64\neventResultType           float64\neventResult               float64\npointOfCare               float64\npresentOnAdmission        float64\nprincipalDiagnosis        float64\nroom                      float64\nmessageId                 float64\nnormalRange               float64\nspecimenCollectionSite    float64\ncancelDate                float64\nbodyLocation              float64\nspecimenId                float64\nabnormalFlags             float64\naltAdmissionId            float64\nadmissionId               float64\npid                       float64\nsValue                     object\ntValue                     object\ntransferrable              object\nparentId                   object\nunitOfMeasure              object\nsourceName                 object\nrowId                      object\neventStartDate             object\neventType                  object\ncareGiver                  object\neventName                  object\neventEndDate               object\neventDesc                  object\neventCodeOrg               object\neventCode                  object\nconverted                  object\ncancelled                  object\nbed                        object\nbValue                     object\naltPid                     object\nid                         object\neventTypeOrg               object\nTime_Stamp                 object\ndtype: object"
     },
     "metadata": {},
     "execution_count": 83
    }
   ],
   "source": [
    "df.dtypes.sort_values()"
   ]
  },
  {
   "cell_type": "markdown",
   "metadata": {},
   "source": [
    "### Sort rows "
   ]
  },
  {
   "cell_type": "code",
   "execution_count": 84,
   "metadata": {},
   "outputs": [],
   "source": [
    "#parse date of start/end event\n",
    "df['eventStartDate'] = pd.to_datetime(df['eventStartDate'], format='%Y-%m-%d')\n",
    "df['eventEndDate'] = pd.to_datetime(df['eventEndDate'], format='%Y-%m-%d')\n",
    "#sort\n",
    "df.sort_values([\"pid\", \"eventStartDate\"], inplace=True)"
   ]
  },
  {
   "cell_type": "markdown",
   "metadata": {},
   "source": [
    "### Drop columns"
   ]
  },
  {
   "cell_type": "code",
   "execution_count": 85,
   "metadata": {},
   "outputs": [
    {
     "output_type": "stream",
     "name": "stdout",
     "text": "num columns where all values are null: 14\n"
    }
   ],
   "source": [
    "#drop columns with all NaN's.\n",
    "print(\"num columns where all values are null:\", df.isna().all(axis=0).sum())\n",
    "df.dropna(axis=1, how='all', inplace=True)"
   ]
  },
  {
   "cell_type": "code",
   "execution_count": 86,
   "metadata": {},
   "outputs": [
    {
     "output_type": "stream",
     "name": "stdout",
     "text": "num irrelevant columnas: 12\n"
    }
   ],
   "source": [
    "#Drop irrelevant columns\n",
    "cols_to_drop = [\"rowId\", \"id\", \"altPid\", \"bed\", \\\n",
    "\"cancelled\", \"converted\", \\\n",
    "\"messageId\", \"parentId\", \"tValue\", \\\n",
    "\"transferrable\", \"careGiver\", \"Time_Stamp\"]\n",
    "\n",
    "print(\"num irrelevant columnas:\", len(cols_to_drop))    \n",
    "df.drop(columns=cols_to_drop, inplace=True)"
   ]
  },
  {
   "cell_type": "markdown",
   "metadata": {},
   "source": [
    "### Drop rows"
   ]
  },
  {
   "cell_type": "code",
   "execution_count": 87,
   "metadata": {},
   "outputs": [
    {
     "output_type": "stream",
     "name": "stdout",
     "text": "num rows where all values are null: 53\n"
    }
   ],
   "source": [
    "#drop rows with all NaN's.\n",
    "print(\"num rows where all values are null:\", df.isna().all(axis=1).sum())\n",
    "df.dropna(axis=0, how='all', inplace=True)"
   ]
  },
  {
   "cell_type": "code",
   "execution_count": 88,
   "metadata": {},
   "outputs": [
    {
     "output_type": "stream",
     "name": "stdout",
     "text": "\nNum duplicate rows: 96568\n"
    }
   ],
   "source": [
    "print(\"\\nNum duplicate rows:\", df.duplicated().sum())\n",
    "df.drop_duplicates(inplace=True)"
   ]
  },
  {
   "cell_type": "code",
   "execution_count": 89,
   "metadata": {},
   "outputs": [
    {
     "output_type": "stream",
     "name": "stdout",
     "text": "Num rows with missing patient id: 0\n"
    }
   ],
   "source": [
    "print(\"Num rows with missing patient id:\", df[df[\"pid\"].isna()].shape[0])"
   ]
  },
  {
   "cell_type": "markdown",
   "metadata": {},
   "source": [
    "## Resulted dataframe"
   ]
  },
  {
   "cell_type": "code",
   "execution_count": 90,
   "metadata": {},
   "outputs": [
    {
     "output_type": "execute_result",
     "data": {
      "text/plain": "(1587048, 18)"
     },
     "metadata": {},
     "execution_count": 90
    }
   ],
   "source": [
    "df.shape"
   ]
  },
  {
   "cell_type": "code",
   "execution_count": 91,
   "metadata": {},
   "outputs": [
    {
     "output_type": "stream",
     "name": "stdout",
     "text": "<class 'pandas.core.frame.DataFrame'>\nInt64Index: 1587048 entries, 1669969 to 1592287\nData columns (total 18 columns):\npid               1587048 non-null float64\nadmissionId       1587048 non-null float64\nbValue            1507828 non-null object\ndValue            1507828 non-null float64\neventCode         1587048 non-null object\neventCodeOrg      1488929 non-null object\neventDesc         86365 non-null object\neventEndDate      1587048 non-null datetime64[ns]\neventName         1552195 non-null object\neventStartDate    1587048 non-null datetime64[ns]\neventType         1587048 non-null object\neventTypeOrg      1493838 non-null object\niValue            1507828 non-null float64\norderNumber       15551 non-null float64\norganismId        1031 non-null float64\nsValue            35412 non-null object\nsourceName        1587009 non-null object\nunitOfMeasure     944714 non-null object\ndtypes: datetime64[ns](2), float64(6), object(10)\nmemory usage: 230.1+ MB\n"
    }
   ],
   "source": [
    "df.info()"
   ]
  }
 ],
 "metadata": {
  "kernelspec": {
   "display_name": "Python 3",
   "language": "python",
   "name": "python3"
  },
  "language_info": {
   "codemirror_mode": {
    "name": "ipython",
    "version": 3
   },
   "file_extension": ".py",
   "mimetype": "text/x-python",
   "name": "python",
   "nbconvert_exporter": "python",
   "pygments_lexer": "ipython3",
   "version": "3.7.4-final"
  }
 },
 "nbformat": 4,
 "nbformat_minor": 2
}