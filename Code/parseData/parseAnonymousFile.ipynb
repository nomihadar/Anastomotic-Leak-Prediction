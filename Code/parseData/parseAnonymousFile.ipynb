{
 "cells": [
  {
   "cell_type": "code",
   "execution_count": 582,
   "metadata": {},
   "outputs": [],
   "source": [
    "%reset -f  "
   ]
  },
  {
   "cell_type": "code",
   "execution_count": 583,
   "metadata": {},
   "outputs": [],
   "source": [
    "import os, sys\n",
    "import pandas as pd\n",
    "import numpy as np\n",
    "from IPython.display import display\n",
    "pd.set_option('display.max_columns', 30)\n",
    "pd.set_option('display.max_rows', 100)\n",
    "pd.options.display.precision = 4\n",
    "\n",
    "sys.path.append(os.path.dirname(sys.path[0])) #to change to environment\n",
    "from utils.constants import *\n",
    "\n",
    "# visualization\n",
    "import seaborn as sns       \n",
    "import matplotlib.pyplot as plt \n",
    "from matplotlib.pyplot import figure\n",
    "%matplotlib inline\n",
    "\n",
    "INPUT_FILE1 = \"anonymous_080620_DA_translated.xlsx\"\n",
    "INPUT_FILE2 = \"parsedData0.csv\"\n",
    "OUTPUT_FILE = \"anonymous_080620_DA_parsed.xlsx\""
   ]
  },
  {
   "cell_type": "code",
   "execution_count": 584,
   "metadata": {},
   "outputs": [],
   "source": [
    "# read anonymous\n",
    "input_path = os.path.join(DPATH_ANONYMOUS, INPUT_FILE1)\n",
    "df = pd.read_excel(input_path, sep=',')  "
   ]
  },
  {
   "cell_type": "code",
   "execution_count": 585,
   "metadata": {
    "scrolled": true
   },
   "outputs": [
    {
     "output_type": "stream",
     "name": "stdout",
     "text": "(1135, 14)\n"
    }
   ],
   "source": [
    "print(df.shape)"
   ]
  },
  {
   "cell_type": "code",
   "execution_count": 586,
   "metadata": {
    "scrolled": true
   },
   "outputs": [
    {
     "output_type": "execute_result",
     "data": {
      "text/plain": "       Code  Days of hospitalization     Sex   Age Date of surgery  \\\n0   1135541                      NaN  female  43.0      2018-03-12   \n1  11341892                     41.0  female  30.0      2018-03-13   \n2  11339133                      NaN    male  26.0      2018-11-21   \n3  11323824                     11.0  female  62.0      2018-07-11   \n4  11315215                      NaN     NaN   NaN      2018-08-14   \n\n  Patient classification                                    Name of surgery  \\\n0               Upper GI            OPEN DISTAL SUBTOTAL GASTRECTOMY 436320   \n1               upper GI  DIAGNOSTIC LAPAROSCOPY 493200;OPEN DISTAL SUBT...   \n2               upper GI  EXPLORATORY LAPAROTOMY 490000;OPEN DISTAL SUBT...   \n3               Upper GI  LAPAROSCOPIC REPAIR OF  TRAUMATIC DIAPHRAGMATI...   \n4               Upper GI  OPEN DISTAL SUBTOTAL GASTRECTOMY 436320; OPEN ...   \n\n  Responsible surgeon   Urgency Surgical approach     Complications   Kk  \\\n0                 NaN  elective              open               NaN  1.0   \n1                 NaN    urgent      LAPAROSCOPIC  Anastomotic Leak  1.0   \n2                 NaN    urgent              open  Anastomotic Leak  1.0   \n3         Hazan David    urgent      LAPAROSCOPIC               NaN  1.0   \n4                 NaN  elective      laparoscopic  Anastomotic Leak  1.0   \n\n   Simple  Severe  \n0     NaN     NaN  \n1     NaN     1.0  \n2     1.0     NaN  \n3     NaN     NaN  \n4     1.0     NaN  ",
      "text/html": "<div>\n<style scoped>\n    .dataframe tbody tr th:only-of-type {\n        vertical-align: middle;\n    }\n\n    .dataframe tbody tr th {\n        vertical-align: top;\n    }\n\n    .dataframe thead th {\n        text-align: right;\n    }\n</style>\n<table border=\"1\" class=\"dataframe\">\n  <thead>\n    <tr style=\"text-align: right;\">\n      <th></th>\n      <th>Code</th>\n      <th>Days of hospitalization</th>\n      <th>Sex</th>\n      <th>Age</th>\n      <th>Date of surgery</th>\n      <th>Patient classification</th>\n      <th>Name of surgery</th>\n      <th>Responsible surgeon</th>\n      <th>Urgency</th>\n      <th>Surgical approach</th>\n      <th>Complications</th>\n      <th>Kk</th>\n      <th>Simple</th>\n      <th>Severe</th>\n    </tr>\n  </thead>\n  <tbody>\n    <tr>\n      <td>0</td>\n      <td>1135541</td>\n      <td>NaN</td>\n      <td>female</td>\n      <td>43.0</td>\n      <td>2018-03-12</td>\n      <td>Upper GI</td>\n      <td>OPEN DISTAL SUBTOTAL GASTRECTOMY 436320</td>\n      <td>NaN</td>\n      <td>elective</td>\n      <td>open</td>\n      <td>NaN</td>\n      <td>1.0</td>\n      <td>NaN</td>\n      <td>NaN</td>\n    </tr>\n    <tr>\n      <td>1</td>\n      <td>11341892</td>\n      <td>41.0</td>\n      <td>female</td>\n      <td>30.0</td>\n      <td>2018-03-13</td>\n      <td>upper GI</td>\n      <td>DIAGNOSTIC LAPAROSCOPY 493200;OPEN DISTAL SUBT...</td>\n      <td>NaN</td>\n      <td>urgent</td>\n      <td>LAPAROSCOPIC</td>\n      <td>Anastomotic Leak</td>\n      <td>1.0</td>\n      <td>NaN</td>\n      <td>1.0</td>\n    </tr>\n    <tr>\n      <td>2</td>\n      <td>11339133</td>\n      <td>NaN</td>\n      <td>male</td>\n      <td>26.0</td>\n      <td>2018-11-21</td>\n      <td>upper GI</td>\n      <td>EXPLORATORY LAPAROTOMY 490000;OPEN DISTAL SUBT...</td>\n      <td>NaN</td>\n      <td>urgent</td>\n      <td>open</td>\n      <td>Anastomotic Leak</td>\n      <td>1.0</td>\n      <td>1.0</td>\n      <td>NaN</td>\n    </tr>\n    <tr>\n      <td>3</td>\n      <td>11323824</td>\n      <td>11.0</td>\n      <td>female</td>\n      <td>62.0</td>\n      <td>2018-07-11</td>\n      <td>Upper GI</td>\n      <td>LAPAROSCOPIC REPAIR OF  TRAUMATIC DIAPHRAGMATI...</td>\n      <td>Hazan David</td>\n      <td>urgent</td>\n      <td>LAPAROSCOPIC</td>\n      <td>NaN</td>\n      <td>1.0</td>\n      <td>NaN</td>\n      <td>NaN</td>\n    </tr>\n    <tr>\n      <td>4</td>\n      <td>11315215</td>\n      <td>NaN</td>\n      <td>NaN</td>\n      <td>NaN</td>\n      <td>2018-08-14</td>\n      <td>Upper GI</td>\n      <td>OPEN DISTAL SUBTOTAL GASTRECTOMY 436320; OPEN ...</td>\n      <td>NaN</td>\n      <td>elective</td>\n      <td>laparoscopic</td>\n      <td>Anastomotic Leak</td>\n      <td>1.0</td>\n      <td>1.0</td>\n      <td>NaN</td>\n    </tr>\n  </tbody>\n</table>\n</div>"
     },
     "metadata": {},
     "execution_count": 586
    }
   ],
   "source": [
    "df.head()"
   ]
  },
  {
   "cell_type": "markdown",
   "metadata": {},
   "source": [
    "### Drop duplicated rows"
   ]
  },
  {
   "cell_type": "code",
   "execution_count": 587,
   "metadata": {},
   "outputs": [],
   "source": [
    "#down case \"surgial approach\" column\n",
    "df['Surgical approach'] = df['Surgical approach'].str.lower()"
   ]
  },
  {
   "cell_type": "markdown",
   "metadata": {},
   "source": [
    "There are 165 duplicate rows."
   ]
  },
  {
   "cell_type": "code",
   "execution_count": 588,
   "metadata": {},
   "outputs": [
    {
     "output_type": "stream",
     "name": "stdout",
     "text": "Num duplicated rows: 165\n"
    }
   ],
   "source": [
    "print(\"Num duplicated rows:\", df.duplicated().sum())"
   ]
  },
  {
   "cell_type": "code",
   "execution_count": 589,
   "metadata": {},
   "outputs": [
    {
     "output_type": "stream",
     "name": "stdout",
     "text": "Num current rows: 970\n"
    }
   ],
   "source": [
    "#drop rows\n",
    "df[df.duplicated()]\n",
    "df.drop_duplicates(inplace=True)\n",
    "print(\"Num current rows:\", df.shape[0])"
   ]
  },
  {
   "cell_type": "markdown",
   "metadata": {},
   "source": [
    "## Drop patients who do not appear in events file"
   ]
  },
  {
   "cell_type": "markdown",
   "metadata": {},
   "source": [
    "After droping duplicate rows and patients who don't appear in events file, **718** patients were left. \n",
    "\n",
    "In events file there are 680 patients. \n",
    "\n",
    "There are patients who underwent more than one surgery (hence 718 > 680) "
   ]
  },
  {
   "cell_type": "code",
   "execution_count": 590,
   "metadata": {},
   "outputs": [],
   "source": [
    "#read events file\n",
    "events_path = os.path.join(DPATH_DATA, INPUT_FILE2)\n",
    "events = pd.read_csv(events_path, sep=',') "
   ]
  },
  {
   "cell_type": "code",
   "execution_count": 591,
   "metadata": {},
   "outputs": [
    {
     "output_type": "execute_result",
     "data": {
      "text/plain": "680"
     },
     "metadata": {},
     "execution_count": 591
    }
   ],
   "source": [
    "#get list of patients appearing in events files\n",
    "pIDs = events[\"pid\"].drop_duplicates()\n",
    "pIDs.shape[0]"
   ]
  },
  {
   "cell_type": "code",
   "execution_count": 592,
   "metadata": {},
   "outputs": [
    {
     "output_type": "execute_result",
     "data": {
      "text/plain": "(718, 14)"
     },
     "metadata": {},
     "execution_count": 592
    }
   ],
   "source": [
    "#drop patients who don't appear in list\n",
    "df = df[df['Code'].isin(pIDs)]\n",
    "df.shape"
   ]
  },
  {
   "cell_type": "markdown",
   "metadata": {},
   "source": [
    "### Parse date of surgery"
   ]
  },
  {
   "cell_type": "code",
   "execution_count": 593,
   "metadata": {},
   "outputs": [],
   "source": [
    "#parse date     \n",
    "df['Date of surgery'] = pd.to_datetime(df['Date of surgery'], format='%d/%m/%Y')"
   ]
  },
  {
   "cell_type": "code",
   "execution_count": 594,
   "metadata": {},
   "outputs": [
    {
     "output_type": "execute_result",
     "data": {
      "text/plain": "0   2018-03-12\n1   2018-03-13\n2   2018-11-21\n4   2018-08-14\n5   2018-09-27\nName: Date of surgery, dtype: datetime64[ns]"
     },
     "metadata": {},
     "execution_count": 594
    }
   ],
   "source": [
    "df['Date of surgery'].head()"
   ]
  },
  {
   "cell_type": "code",
   "execution_count": 595,
   "metadata": {},
   "outputs": [
    {
     "output_type": "execute_result",
     "data": {
      "text/plain": "count                     640\nunique                    259\ntop       2018-07-04 00:00:00\nfreq                        7\nfirst     2017-04-24 00:00:00\nlast      2019-07-10 00:00:00\nName: Date of surgery, dtype: object"
     },
     "metadata": {},
     "execution_count": 595
    }
   ],
   "source": [
    "df['Date of surgery'].describe()"
   ]
  },
  {
   "cell_type": "markdown",
   "metadata": {},
   "source": [
    "### Info"
   ]
  },
  {
   "cell_type": "code",
   "execution_count": 596,
   "metadata": {},
   "outputs": [
    {
     "output_type": "stream",
     "name": "stdout",
     "text": "<class 'pandas.core.frame.DataFrame'>\nInt64Index: 718 entries, 0 to 1110\nData columns (total 14 columns):\nCode                       718 non-null int64\nDays of hospitalization    289 non-null float64\nSex                        353 non-null object\nAge                        353 non-null float64\nDate of surgery            640 non-null datetime64[ns]\nPatient classification     718 non-null object\nName of surgery            718 non-null object\nResponsible surgeon        248 non-null object\nUrgency                    718 non-null object\nSurgical approach          718 non-null object\nComplications              165 non-null object\nKk                         717 non-null float64\nSimple                     113 non-null float64\nSevere                     91 non-null float64\ndtypes: datetime64[ns](1), float64(5), int64(1), object(7)\nmemory usage: 84.1+ KB\n"
    }
   ],
   "source": [
    "df.info()"
   ]
  },
  {
   "cell_type": "markdown",
   "metadata": {},
   "source": [
    "### Missing values"
   ]
  },
  {
   "cell_type": "code",
   "execution_count": 597,
   "metadata": {},
   "outputs": [
    {
     "output_type": "execute_result",
     "data": {
      "text/plain": "                         missing values (%)\nCode                                 0.0000\nDays of hospitalization             59.7493\nSex                                 50.8357\nAge                                 50.8357\nDate of surgery                     10.8635\nPatient classification               0.0000\nName of surgery                      0.0000\nResponsible surgeon                 65.4596\nUrgency                              0.0000\nSurgical approach                    0.0000\nComplications                       77.0195\nKk                                   0.1393\nSimple                              84.2618\nSevere                              87.3259",
      "text/html": "<div>\n<style scoped>\n    .dataframe tbody tr th:only-of-type {\n        vertical-align: middle;\n    }\n\n    .dataframe tbody tr th {\n        vertical-align: top;\n    }\n\n    .dataframe thead th {\n        text-align: right;\n    }\n</style>\n<table border=\"1\" class=\"dataframe\">\n  <thead>\n    <tr style=\"text-align: right;\">\n      <th></th>\n      <th>missing values (%)</th>\n    </tr>\n  </thead>\n  <tbody>\n    <tr>\n      <td>Code</td>\n      <td>0.0000</td>\n    </tr>\n    <tr>\n      <td>Days of hospitalization</td>\n      <td>59.7493</td>\n    </tr>\n    <tr>\n      <td>Sex</td>\n      <td>50.8357</td>\n    </tr>\n    <tr>\n      <td>Age</td>\n      <td>50.8357</td>\n    </tr>\n    <tr>\n      <td>Date of surgery</td>\n      <td>10.8635</td>\n    </tr>\n    <tr>\n      <td>Patient classification</td>\n      <td>0.0000</td>\n    </tr>\n    <tr>\n      <td>Name of surgery</td>\n      <td>0.0000</td>\n    </tr>\n    <tr>\n      <td>Responsible surgeon</td>\n      <td>65.4596</td>\n    </tr>\n    <tr>\n      <td>Urgency</td>\n      <td>0.0000</td>\n    </tr>\n    <tr>\n      <td>Surgical approach</td>\n      <td>0.0000</td>\n    </tr>\n    <tr>\n      <td>Complications</td>\n      <td>77.0195</td>\n    </tr>\n    <tr>\n      <td>Kk</td>\n      <td>0.1393</td>\n    </tr>\n    <tr>\n      <td>Simple</td>\n      <td>84.2618</td>\n    </tr>\n    <tr>\n      <td>Severe</td>\n      <td>87.3259</td>\n    </tr>\n  </tbody>\n</table>\n</div>"
     },
     "metadata": {},
     "execution_count": 597
    }
   ],
   "source": [
    "#pd.set_option('display.float_format', lambda x: '%.4f' % x)\n",
    "\n",
    "# percentage of missing values in each column\n",
    "percent_missing = df.isna().mean() * 100\n",
    "percent_missing.to_frame(name=\"missing values (%)\")"
   ]
  },
  {
   "cell_type": "markdown",
   "metadata": {},
   "source": [
    "# Explore features"
   ]
  },
  {
   "cell_type": "markdown",
   "metadata": {},
   "source": [
    "### **Describe numeric columns**\n",
    "\n",
    "**Code** - Patient ID\n",
    "\n",
    "**Days of hospitalization** - Number of days of hospitalization\n",
    "\n",
    "**Age** - Age \n",
    "\n",
    "**Kk** - ? all values equal to 1. Can be removed.\n",
    "\n",
    "**Simple & Severe** - Severity classification. See wikipedia. The columns \"Simple\" & \"Severe\" refer to this classification:\n",
    "\n",
    "    Simple - under 3\n",
    "\n",
    "    Severe - Above 3 inclusive - When the value '2' appears in this columns it is apparently a\n",
    "    mistake. The columns 'Simple' & 'Severe' contain only indicator values 0 or 1 or only 1\n",
    "    whenever relevant."
   ]
  },
  {
   "cell_type": "code",
   "execution_count": 598,
   "metadata": {},
   "outputs": [
    {
     "output_type": "execute_result",
     "data": {
      "text/plain": "             Code  Days of hospitalization       Age     Kk  Simple   Severe\ncount  7.1800e+02                 289.0000  353.0000  717.0   113.0  91.0000\nmean   4.5604e+08                  12.3253   53.4136    1.0     1.0   1.0110\nstd    2.7979e+08                  15.1771   19.2857    0.0     0.0   0.1048\nmin    1.0684e+06                   1.0000   16.0000    1.0     1.0   1.0000\n25%    2.2858e+08                   3.0000   39.0000    1.0     1.0   1.0000\n50%    4.4233e+08                   7.0000   55.0000    1.0     1.0   1.0000\n75%    6.6846e+08                  13.0000   68.0000    1.0     1.0   1.0000\nmax    1.0358e+09                 108.0000   93.0000    1.0     1.0   2.0000",
      "text/html": "<div>\n<style scoped>\n    .dataframe tbody tr th:only-of-type {\n        vertical-align: middle;\n    }\n\n    .dataframe tbody tr th {\n        vertical-align: top;\n    }\n\n    .dataframe thead th {\n        text-align: right;\n    }\n</style>\n<table border=\"1\" class=\"dataframe\">\n  <thead>\n    <tr style=\"text-align: right;\">\n      <th></th>\n      <th>Code</th>\n      <th>Days of hospitalization</th>\n      <th>Age</th>\n      <th>Kk</th>\n      <th>Simple</th>\n      <th>Severe</th>\n    </tr>\n  </thead>\n  <tbody>\n    <tr>\n      <td>count</td>\n      <td>7.1800e+02</td>\n      <td>289.0000</td>\n      <td>353.0000</td>\n      <td>717.0</td>\n      <td>113.0</td>\n      <td>91.0000</td>\n    </tr>\n    <tr>\n      <td>mean</td>\n      <td>4.5604e+08</td>\n      <td>12.3253</td>\n      <td>53.4136</td>\n      <td>1.0</td>\n      <td>1.0</td>\n      <td>1.0110</td>\n    </tr>\n    <tr>\n      <td>std</td>\n      <td>2.7979e+08</td>\n      <td>15.1771</td>\n      <td>19.2857</td>\n      <td>0.0</td>\n      <td>0.0</td>\n      <td>0.1048</td>\n    </tr>\n    <tr>\n      <td>min</td>\n      <td>1.0684e+06</td>\n      <td>1.0000</td>\n      <td>16.0000</td>\n      <td>1.0</td>\n      <td>1.0</td>\n      <td>1.0000</td>\n    </tr>\n    <tr>\n      <td>25%</td>\n      <td>2.2858e+08</td>\n      <td>3.0000</td>\n      <td>39.0000</td>\n      <td>1.0</td>\n      <td>1.0</td>\n      <td>1.0000</td>\n    </tr>\n    <tr>\n      <td>50%</td>\n      <td>4.4233e+08</td>\n      <td>7.0000</td>\n      <td>55.0000</td>\n      <td>1.0</td>\n      <td>1.0</td>\n      <td>1.0000</td>\n    </tr>\n    <tr>\n      <td>75%</td>\n      <td>6.6846e+08</td>\n      <td>13.0000</td>\n      <td>68.0000</td>\n      <td>1.0</td>\n      <td>1.0</td>\n      <td>1.0000</td>\n    </tr>\n    <tr>\n      <td>max</td>\n      <td>1.0358e+09</td>\n      <td>108.0000</td>\n      <td>93.0000</td>\n      <td>1.0</td>\n      <td>1.0</td>\n      <td>2.0000</td>\n    </tr>\n  </tbody>\n</table>\n</div>"
     },
     "metadata": {},
     "execution_count": 598
    }
   ],
   "source": [
    "df.describe()"
   ]
  },
  {
   "cell_type": "markdown",
   "metadata": {},
   "source": [
    "**Column: Code**\n",
    "\n",
    "There are 680 patients."
   ]
  },
  {
   "cell_type": "code",
   "execution_count": 599,
   "metadata": {},
   "outputs": [
    {
     "output_type": "execute_result",
     "data": {
      "text/plain": "680"
     },
     "metadata": {},
     "execution_count": 599
    }
   ],
   "source": [
    "df[\"Code\"].nunique()"
   ]
  },
  {
   "cell_type": "markdown",
   "metadata": {},
   "source": [
    "### **Sort by code and date of surgery**"
   ]
  },
  {
   "cell_type": "code",
   "execution_count": 600,
   "metadata": {},
   "outputs": [],
   "source": [
    "#sort by patient ID\n",
    "df.sort_values(by=['Code', 'Date of surgery'], inplace=True)"
   ]
  },
  {
   "cell_type": "code",
   "execution_count": 601,
   "metadata": {},
   "outputs": [],
   "source": [
    "#reset index\n",
    "df.reset_index(inplace=True, drop=True)"
   ]
  },
  {
   "cell_type": "markdown",
   "metadata": {},
   "source": [
    "### Repeating patients "
   ]
  },
  {
   "cell_type": "markdown",
   "metadata": {},
   "source": [
    "Get pateints with more than 1 row.\n",
    "\n",
    "There are 34 patients who underwent more than one surgery.  "
   ]
  },
  {
   "cell_type": "code",
   "execution_count": 602,
   "metadata": {},
   "outputs": [
    {
     "output_type": "execute_result",
     "data": {
      "text/plain": "             # patients\n# surgeries            \n1                   646\n2                    30\n3                     4",
      "text/html": "<div>\n<style scoped>\n    .dataframe tbody tr th:only-of-type {\n        vertical-align: middle;\n    }\n\n    .dataframe tbody tr th {\n        vertical-align: top;\n    }\n\n    .dataframe thead th {\n        text-align: right;\n    }\n</style>\n<table border=\"1\" class=\"dataframe\">\n  <thead>\n    <tr style=\"text-align: right;\">\n      <th></th>\n      <th># patients</th>\n    </tr>\n    <tr>\n      <th># surgeries</th>\n      <th></th>\n    </tr>\n  </thead>\n  <tbody>\n    <tr>\n      <td>1</td>\n      <td>646</td>\n    </tr>\n    <tr>\n      <td>2</td>\n      <td>30</td>\n    </tr>\n    <tr>\n      <td>3</td>\n      <td>4</td>\n    </tr>\n  </tbody>\n</table>\n</div>"
     },
     "metadata": {},
     "execution_count": 602
    }
   ],
   "source": [
    "s = df.groupby(\"Code\").size().value_counts().to_frame(name=\"# patients\")\n",
    "s.index.name = \"# surgeries\"\n",
    "s"
   ]
  },
  {
   "cell_type": "code",
   "execution_count": 603,
   "metadata": {},
   "outputs": [],
   "source": [
    "#get patients with more than one surgery\n",
    "df[df.groupby(\"Code\")[\"Code\"].transform('size') > 1];\n",
    "\n",
    "#can also be coded thus:\n",
    "#m = df.groupby('Code').size() > 1\n",
    "#df[df['Code'].map(m)]"
   ]
  },
  {
   "cell_type": "markdown",
   "metadata": {},
   "source": [
    "### **Describe object values**\n",
    "\n",
    "**Sex** - Female/male.\n",
    "\n",
    "**Date of Surgery** - Date of surgery in the format DD/MM/YYYY.\n",
    "\n",
    "**Patient classification** - There are 10 classifications, see below. \n",
    "\n",
    "**Name of surgery** - Name and description of surgery, and some ID. \n",
    "\n",
    "**Responsible surgeon** - Name of responsible surgeon. \n",
    "    \n",
    "**Urgency** - Two values: urgency / elective.  \n",
    "\n",
    "**Surgical approach** - Three values: open / laparoscopic / Robotic surgery\n",
    "    \n",
    "**Complications** - Description of complications, including 'Anastomotic Leak' "
   ]
  },
  {
   "cell_type": "code",
   "execution_count": 604,
   "metadata": {},
   "outputs": [
    {
     "output_type": "execute_result",
     "data": {
      "text/plain": "           Sex Patient classification                         Name of surgery  \\\ncount      353                    718                                     718   \nunique       2                     17                                     313   \ntop     female              Bariatric  LAPAROSCOPIC SLEEVE GASTRECTOMY 438430   \nfreq       203                    244                                     104   \n\n       Responsible surgeon   Urgency Surgical approach     Complications  \ncount                  248       718               718               165  \nunique                  17         2                 3                90  \ntop          Nissan Aviram  elective      laparoscopic  Anastomotic Leak  \nfreq                    63       535               378                58  ",
      "text/html": "<div>\n<style scoped>\n    .dataframe tbody tr th:only-of-type {\n        vertical-align: middle;\n    }\n\n    .dataframe tbody tr th {\n        vertical-align: top;\n    }\n\n    .dataframe thead th {\n        text-align: right;\n    }\n</style>\n<table border=\"1\" class=\"dataframe\">\n  <thead>\n    <tr style=\"text-align: right;\">\n      <th></th>\n      <th>Sex</th>\n      <th>Patient classification</th>\n      <th>Name of surgery</th>\n      <th>Responsible surgeon</th>\n      <th>Urgency</th>\n      <th>Surgical approach</th>\n      <th>Complications</th>\n    </tr>\n  </thead>\n  <tbody>\n    <tr>\n      <td>count</td>\n      <td>353</td>\n      <td>718</td>\n      <td>718</td>\n      <td>248</td>\n      <td>718</td>\n      <td>718</td>\n      <td>165</td>\n    </tr>\n    <tr>\n      <td>unique</td>\n      <td>2</td>\n      <td>17</td>\n      <td>313</td>\n      <td>17</td>\n      <td>2</td>\n      <td>3</td>\n      <td>90</td>\n    </tr>\n    <tr>\n      <td>top</td>\n      <td>female</td>\n      <td>Bariatric</td>\n      <td>LAPAROSCOPIC SLEEVE GASTRECTOMY 438430</td>\n      <td>Nissan Aviram</td>\n      <td>elective</td>\n      <td>laparoscopic</td>\n      <td>Anastomotic Leak</td>\n    </tr>\n    <tr>\n      <td>freq</td>\n      <td>203</td>\n      <td>244</td>\n      <td>104</td>\n      <td>63</td>\n      <td>535</td>\n      <td>378</td>\n      <td>58</td>\n    </tr>\n  </tbody>\n</table>\n</div>"
     },
     "metadata": {},
     "execution_count": 604
    }
   ],
   "source": [
    "df.describe(include= ['object'])"
   ]
  },
  {
   "cell_type": "markdown",
   "metadata": {},
   "source": [
    "### **Column: Date of surgery**"
   ]
  },
  {
   "cell_type": "code",
   "execution_count": 605,
   "metadata": {},
   "outputs": [
    {
     "output_type": "execute_result",
     "data": {
      "text/plain": "  Date of surgery\n1      2018-07-18\n2      2018-09-25\n3      2018-09-22\n4      2018-03-12\n5      2018-05-22",
      "text/html": "<div>\n<style scoped>\n    .dataframe tbody tr th:only-of-type {\n        vertical-align: middle;\n    }\n\n    .dataframe tbody tr th {\n        vertical-align: top;\n    }\n\n    .dataframe thead th {\n        text-align: right;\n    }\n</style>\n<table border=\"1\" class=\"dataframe\">\n  <thead>\n    <tr style=\"text-align: right;\">\n      <th></th>\n      <th>Date of surgery</th>\n    </tr>\n  </thead>\n  <tbody>\n    <tr>\n      <td>1</td>\n      <td>2018-07-18</td>\n    </tr>\n    <tr>\n      <td>2</td>\n      <td>2018-09-25</td>\n    </tr>\n    <tr>\n      <td>3</td>\n      <td>2018-09-22</td>\n    </tr>\n    <tr>\n      <td>4</td>\n      <td>2018-03-12</td>\n    </tr>\n    <tr>\n      <td>5</td>\n      <td>2018-05-22</td>\n    </tr>\n  </tbody>\n</table>\n</div>"
     },
     "metadata": {},
     "execution_count": 605
    }
   ],
   "source": [
    "df[[\"Date of surgery\"]].dropna().head()"
   ]
  },
  {
   "cell_type": "markdown",
   "metadata": {},
   "source": [
    " Dates of surgeries: **2017-04-24** until **2019-07-10**. \n",
    " - Need to fill the missing values.\n",
    " - In half of the days, there is more than one surgery. Is it possible that there are 7 surgerys a day?"
   ]
  },
  {
   "cell_type": "code",
   "execution_count": 606,
   "metadata": {},
   "outputs": [
    {
     "output_type": "execute_result",
     "data": {
      "text/plain": "count                     640\nunique                    259\ntop       2018-07-04 00:00:00\nfreq                        7\nfirst     2017-04-24 00:00:00\nlast      2019-07-10 00:00:00\nName: Date of surgery, dtype: object"
     },
     "metadata": {},
     "execution_count": 606
    }
   ],
   "source": [
    "df[\"Date of surgery\"].describe()"
   ]
  },
  {
   "cell_type": "code",
   "execution_count": 607,
   "metadata": {},
   "outputs": [
    {
     "output_type": "execute_result",
     "data": {
      "text/plain": "count    259.0000\nmean       2.4710\nstd        1.6001\nmin        1.0000\n25%        1.0000\n50%        2.0000\n75%        3.0000\nmax        7.0000\nName: Date of surgery, dtype: float64"
     },
     "metadata": {},
     "execution_count": 607
    }
   ],
   "source": [
    "#number of surgeries a day\n",
    "df[\"Date of surgery\"].value_counts().describe()"
   ]
  },
  {
   "cell_type": "code",
   "execution_count": 608,
   "metadata": {},
   "outputs": [
    {
     "output_type": "display_data",
     "data": {
      "text/plain": "<Figure size 432x288 with 1 Axes>",
      "image/svg+xml": "<?xml version=\"1.0\" encoding=\"utf-8\" standalone=\"no\"?>\r\n<!DOCTYPE svg PUBLIC \"-//W3C//DTD SVG 1.1//EN\"\r\n  \"http://www.w3.org/Graphics/SVG/1.1/DTD/svg11.dtd\">\r\n<!-- Created with matplotlib (https://matplotlib.org/) -->\r\n<svg height=\"263.63625pt\" version=\"1.1\" viewBox=\"0 0 375.2875 263.63625\" width=\"375.2875pt\" xmlns=\"http://www.w3.org/2000/svg\" xmlns:xlink=\"http://www.w3.org/1999/xlink\">\r\n <defs>\r\n  <style type=\"text/css\">\r\n*{stroke-linecap:butt;stroke-linejoin:round;}\r\n  </style>\r\n </defs>\r\n <g id=\"figure_1\">\r\n  <g id=\"patch_1\">\r\n   <path d=\"M 0 263.63625 \r\nL 375.2875 263.63625 \r\nL 375.2875 0 \r\nL 0 0 \r\nz\r\n\" style=\"fill:none;\"/>\r\n  </g>\r\n  <g id=\"axes_1\">\r\n   <g id=\"patch_2\">\r\n    <path d=\"M 33.2875 239.758125 \r\nL 368.0875 239.758125 \r\nL 368.0875 22.318125 \r\nL 33.2875 22.318125 \r\nz\r\n\" style=\"fill:#ffffff;\"/>\r\n   </g>\r\n   <g id=\"patch_3\">\r\n    <path clip-path=\"url(#p80c0afc16d)\" d=\"M 48.505682 239.758125 \r\nL 78.942045 239.758125 \r\nL 78.942045 32.672411 \r\nL 48.505682 32.672411 \r\nz\r\n\" style=\"fill:#1f77b4;\"/>\r\n   </g>\r\n   <g id=\"patch_4\">\r\n    <path clip-path=\"url(#p80c0afc16d)\" d=\"M 78.942045 239.758125 \r\nL 109.378409 239.758125 \r\nL 109.378409 110.857833 \r\nL 78.942045 110.857833 \r\nz\r\n\" style=\"fill:#1f77b4;\"/>\r\n   </g>\r\n   <g id=\"patch_5\">\r\n    <path clip-path=\"url(#p80c0afc16d)\" d=\"M 109.378409 239.758125 \r\nL 139.814773 239.758125 \r\nL 139.814773 239.758125 \r\nL 109.378409 239.758125 \r\nz\r\n\" style=\"fill:#1f77b4;\"/>\r\n   </g>\r\n   <g id=\"patch_6\">\r\n    <path clip-path=\"url(#p80c0afc16d)\" d=\"M 139.814773 239.758125 \r\nL 170.251136 239.758125 \r\nL 170.251136 163.685822 \r\nL 139.814773 163.685822 \r\nz\r\n\" style=\"fill:#1f77b4;\"/>\r\n   </g>\r\n   <g id=\"patch_7\">\r\n    <path clip-path=\"url(#p80c0afc16d)\" d=\"M 170.251136 239.758125 \r\nL 200.6875 239.758125 \r\nL 200.6875 239.758125 \r\nL 170.251136 239.758125 \r\nz\r\n\" style=\"fill:#1f77b4;\"/>\r\n   </g>\r\n   <g id=\"patch_8\">\r\n    <path clip-path=\"url(#p80c0afc16d)\" d=\"M 200.6875 239.758125 \r\nL 231.123864 239.758125 \r\nL 231.123864 182.703898 \r\nL 200.6875 182.703898 \r\nz\r\n\" style=\"fill:#1f77b4;\"/>\r\n   </g>\r\n   <g id=\"patch_9\">\r\n    <path clip-path=\"url(#p80c0afc16d)\" d=\"M 231.123864 239.758125 \r\nL 261.560227 239.758125 \r\nL 261.560227 191.156376 \r\nL 231.123864 191.156376 \r\nz\r\n\" style=\"fill:#1f77b4;\"/>\r\n   </g>\r\n   <g id=\"patch_10\">\r\n    <path clip-path=\"url(#p80c0afc16d)\" d=\"M 261.560227 239.758125 \r\nL 291.996591 239.758125 \r\nL 291.996591 239.758125 \r\nL 261.560227 239.758125 \r\nz\r\n\" style=\"fill:#1f77b4;\"/>\r\n   </g>\r\n   <g id=\"patch_11\">\r\n    <path clip-path=\"url(#p80c0afc16d)\" d=\"M 291.996591 239.758125 \r\nL 322.432955 239.758125 \r\nL 322.432955 220.740049 \r\nL 291.996591 220.740049 \r\nz\r\n\" style=\"fill:#1f77b4;\"/>\r\n   </g>\r\n   <g id=\"patch_12\">\r\n    <path clip-path=\"url(#p80c0afc16d)\" d=\"M 322.432955 239.758125 \r\nL 352.869318 239.758125 \r\nL 352.869318 229.192527 \r\nL 322.432955 229.192527 \r\nz\r\n\" style=\"fill:#1f77b4;\"/>\r\n   </g>\r\n   <g id=\"matplotlib.axis_1\">\r\n    <g id=\"xtick_1\">\r\n     <g id=\"line2d_1\">\r\n      <defs>\r\n       <path d=\"M 0 0 \r\nL 0 3.5 \r\n\" id=\"m9521789185\" style=\"stroke:#000000;stroke-width:0.8;\"/>\r\n      </defs>\r\n      <g>\r\n       <use style=\"stroke:#000000;stroke-width:0.8;\" x=\"48.505682\" xlink:href=\"#m9521789185\" y=\"239.758125\"/>\r\n      </g>\r\n     </g>\r\n     <g id=\"text_1\">\r\n      <!-- 1 -->\r\n      <defs>\r\n       <path d=\"M 12.40625 8.296875 \r\nL 28.515625 8.296875 \r\nL 28.515625 63.921875 \r\nL 10.984375 60.40625 \r\nL 10.984375 69.390625 \r\nL 28.421875 72.90625 \r\nL 38.28125 72.90625 \r\nL 38.28125 8.296875 \r\nL 54.390625 8.296875 \r\nL 54.390625 0 \r\nL 12.40625 0 \r\nz\r\n\" id=\"DejaVuSans-49\"/>\r\n      </defs>\r\n      <g transform=\"translate(45.324432 254.356563)scale(0.1 -0.1)\">\r\n       <use xlink:href=\"#DejaVuSans-49\"/>\r\n      </g>\r\n     </g>\r\n    </g>\r\n    <g id=\"xtick_2\">\r\n     <g id=\"line2d_2\">\r\n      <g>\r\n       <use style=\"stroke:#000000;stroke-width:0.8;\" x=\"99.232955\" xlink:href=\"#m9521789185\" y=\"239.758125\"/>\r\n      </g>\r\n     </g>\r\n     <g id=\"text_2\">\r\n      <!-- 2 -->\r\n      <defs>\r\n       <path d=\"M 19.1875 8.296875 \r\nL 53.609375 8.296875 \r\nL 53.609375 0 \r\nL 7.328125 0 \r\nL 7.328125 8.296875 \r\nQ 12.9375 14.109375 22.625 23.890625 \r\nQ 32.328125 33.6875 34.8125 36.53125 \r\nQ 39.546875 41.84375 41.421875 45.53125 \r\nQ 43.3125 49.21875 43.3125 52.78125 \r\nQ 43.3125 58.59375 39.234375 62.25 \r\nQ 35.15625 65.921875 28.609375 65.921875 \r\nQ 23.96875 65.921875 18.8125 64.3125 \r\nQ 13.671875 62.703125 7.8125 59.421875 \r\nL 7.8125 69.390625 \r\nQ 13.765625 71.78125 18.9375 73 \r\nQ 24.125 74.21875 28.421875 74.21875 \r\nQ 39.75 74.21875 46.484375 68.546875 \r\nQ 53.21875 62.890625 53.21875 53.421875 \r\nQ 53.21875 48.921875 51.53125 44.890625 \r\nQ 49.859375 40.875 45.40625 35.40625 \r\nQ 44.1875 33.984375 37.640625 27.21875 \r\nQ 31.109375 20.453125 19.1875 8.296875 \r\nz\r\n\" id=\"DejaVuSans-50\"/>\r\n      </defs>\r\n      <g transform=\"translate(96.051705 254.356563)scale(0.1 -0.1)\">\r\n       <use xlink:href=\"#DejaVuSans-50\"/>\r\n      </g>\r\n     </g>\r\n    </g>\r\n    <g id=\"xtick_3\">\r\n     <g id=\"line2d_3\">\r\n      <g>\r\n       <use style=\"stroke:#000000;stroke-width:0.8;\" x=\"149.960227\" xlink:href=\"#m9521789185\" y=\"239.758125\"/>\r\n      </g>\r\n     </g>\r\n     <g id=\"text_3\">\r\n      <!-- 3 -->\r\n      <defs>\r\n       <path d=\"M 40.578125 39.3125 \r\nQ 47.65625 37.796875 51.625 33 \r\nQ 55.609375 28.21875 55.609375 21.1875 \r\nQ 55.609375 10.40625 48.1875 4.484375 \r\nQ 40.765625 -1.421875 27.09375 -1.421875 \r\nQ 22.515625 -1.421875 17.65625 -0.515625 \r\nQ 12.796875 0.390625 7.625 2.203125 \r\nL 7.625 11.71875 \r\nQ 11.71875 9.328125 16.59375 8.109375 \r\nQ 21.484375 6.890625 26.8125 6.890625 \r\nQ 36.078125 6.890625 40.9375 10.546875 \r\nQ 45.796875 14.203125 45.796875 21.1875 \r\nQ 45.796875 27.640625 41.28125 31.265625 \r\nQ 36.765625 34.90625 28.71875 34.90625 \r\nL 20.21875 34.90625 \r\nL 20.21875 43.015625 \r\nL 29.109375 43.015625 \r\nQ 36.375 43.015625 40.234375 45.921875 \r\nQ 44.09375 48.828125 44.09375 54.296875 \r\nQ 44.09375 59.90625 40.109375 62.90625 \r\nQ 36.140625 65.921875 28.71875 65.921875 \r\nQ 24.65625 65.921875 20.015625 65.03125 \r\nQ 15.375 64.15625 9.8125 62.3125 \r\nL 9.8125 71.09375 \r\nQ 15.4375 72.65625 20.34375 73.4375 \r\nQ 25.25 74.21875 29.59375 74.21875 \r\nQ 40.828125 74.21875 47.359375 69.109375 \r\nQ 53.90625 64.015625 53.90625 55.328125 \r\nQ 53.90625 49.265625 50.4375 45.09375 \r\nQ 46.96875 40.921875 40.578125 39.3125 \r\nz\r\n\" id=\"DejaVuSans-51\"/>\r\n      </defs>\r\n      <g transform=\"translate(146.778977 254.356563)scale(0.1 -0.1)\">\r\n       <use xlink:href=\"#DejaVuSans-51\"/>\r\n      </g>\r\n     </g>\r\n    </g>\r\n    <g id=\"xtick_4\">\r\n     <g id=\"line2d_4\">\r\n      <g>\r\n       <use style=\"stroke:#000000;stroke-width:0.8;\" x=\"200.6875\" xlink:href=\"#m9521789185\" y=\"239.758125\"/>\r\n      </g>\r\n     </g>\r\n     <g id=\"text_4\">\r\n      <!-- 4 -->\r\n      <defs>\r\n       <path d=\"M 37.796875 64.3125 \r\nL 12.890625 25.390625 \r\nL 37.796875 25.390625 \r\nz\r\nM 35.203125 72.90625 \r\nL 47.609375 72.90625 \r\nL 47.609375 25.390625 \r\nL 58.015625 25.390625 \r\nL 58.015625 17.1875 \r\nL 47.609375 17.1875 \r\nL 47.609375 0 \r\nL 37.796875 0 \r\nL 37.796875 17.1875 \r\nL 4.890625 17.1875 \r\nL 4.890625 26.703125 \r\nz\r\n\" id=\"DejaVuSans-52\"/>\r\n      </defs>\r\n      <g transform=\"translate(197.50625 254.356563)scale(0.1 -0.1)\">\r\n       <use xlink:href=\"#DejaVuSans-52\"/>\r\n      </g>\r\n     </g>\r\n    </g>\r\n    <g id=\"xtick_5\">\r\n     <g id=\"line2d_5\">\r\n      <g>\r\n       <use style=\"stroke:#000000;stroke-width:0.8;\" x=\"251.414773\" xlink:href=\"#m9521789185\" y=\"239.758125\"/>\r\n      </g>\r\n     </g>\r\n     <g id=\"text_5\">\r\n      <!-- 5 -->\r\n      <defs>\r\n       <path d=\"M 10.796875 72.90625 \r\nL 49.515625 72.90625 \r\nL 49.515625 64.59375 \r\nL 19.828125 64.59375 \r\nL 19.828125 46.734375 \r\nQ 21.96875 47.46875 24.109375 47.828125 \r\nQ 26.265625 48.1875 28.421875 48.1875 \r\nQ 40.625 48.1875 47.75 41.5 \r\nQ 54.890625 34.8125 54.890625 23.390625 \r\nQ 54.890625 11.625 47.5625 5.09375 \r\nQ 40.234375 -1.421875 26.90625 -1.421875 \r\nQ 22.3125 -1.421875 17.546875 -0.640625 \r\nQ 12.796875 0.140625 7.71875 1.703125 \r\nL 7.71875 11.625 \r\nQ 12.109375 9.234375 16.796875 8.0625 \r\nQ 21.484375 6.890625 26.703125 6.890625 \r\nQ 35.15625 6.890625 40.078125 11.328125 \r\nQ 45.015625 15.765625 45.015625 23.390625 \r\nQ 45.015625 31 40.078125 35.4375 \r\nQ 35.15625 39.890625 26.703125 39.890625 \r\nQ 22.75 39.890625 18.8125 39.015625 \r\nQ 14.890625 38.140625 10.796875 36.28125 \r\nz\r\n\" id=\"DejaVuSans-53\"/>\r\n      </defs>\r\n      <g transform=\"translate(248.233523 254.356563)scale(0.1 -0.1)\">\r\n       <use xlink:href=\"#DejaVuSans-53\"/>\r\n      </g>\r\n     </g>\r\n    </g>\r\n    <g id=\"xtick_6\">\r\n     <g id=\"line2d_6\">\r\n      <g>\r\n       <use style=\"stroke:#000000;stroke-width:0.8;\" x=\"302.142045\" xlink:href=\"#m9521789185\" y=\"239.758125\"/>\r\n      </g>\r\n     </g>\r\n     <g id=\"text_6\">\r\n      <!-- 6 -->\r\n      <defs>\r\n       <path d=\"M 33.015625 40.375 \r\nQ 26.375 40.375 22.484375 35.828125 \r\nQ 18.609375 31.296875 18.609375 23.390625 \r\nQ 18.609375 15.53125 22.484375 10.953125 \r\nQ 26.375 6.390625 33.015625 6.390625 \r\nQ 39.65625 6.390625 43.53125 10.953125 \r\nQ 47.40625 15.53125 47.40625 23.390625 \r\nQ 47.40625 31.296875 43.53125 35.828125 \r\nQ 39.65625 40.375 33.015625 40.375 \r\nz\r\nM 52.59375 71.296875 \r\nL 52.59375 62.3125 \r\nQ 48.875 64.0625 45.09375 64.984375 \r\nQ 41.3125 65.921875 37.59375 65.921875 \r\nQ 27.828125 65.921875 22.671875 59.328125 \r\nQ 17.53125 52.734375 16.796875 39.40625 \r\nQ 19.671875 43.65625 24.015625 45.921875 \r\nQ 28.375 48.1875 33.59375 48.1875 \r\nQ 44.578125 48.1875 50.953125 41.515625 \r\nQ 57.328125 34.859375 57.328125 23.390625 \r\nQ 57.328125 12.15625 50.6875 5.359375 \r\nQ 44.046875 -1.421875 33.015625 -1.421875 \r\nQ 20.359375 -1.421875 13.671875 8.265625 \r\nQ 6.984375 17.96875 6.984375 36.375 \r\nQ 6.984375 53.65625 15.1875 63.9375 \r\nQ 23.390625 74.21875 37.203125 74.21875 \r\nQ 40.921875 74.21875 44.703125 73.484375 \r\nQ 48.484375 72.75 52.59375 71.296875 \r\nz\r\n\" id=\"DejaVuSans-54\"/>\r\n      </defs>\r\n      <g transform=\"translate(298.960795 254.356563)scale(0.1 -0.1)\">\r\n       <use xlink:href=\"#DejaVuSans-54\"/>\r\n      </g>\r\n     </g>\r\n    </g>\r\n    <g id=\"xtick_7\">\r\n     <g id=\"line2d_7\">\r\n      <g>\r\n       <use style=\"stroke:#000000;stroke-width:0.8;\" x=\"352.869318\" xlink:href=\"#m9521789185\" y=\"239.758125\"/>\r\n      </g>\r\n     </g>\r\n     <g id=\"text_7\">\r\n      <!-- 7 -->\r\n      <defs>\r\n       <path d=\"M 8.203125 72.90625 \r\nL 55.078125 72.90625 \r\nL 55.078125 68.703125 \r\nL 28.609375 0 \r\nL 18.3125 0 \r\nL 43.21875 64.59375 \r\nL 8.203125 64.59375 \r\nz\r\n\" id=\"DejaVuSans-55\"/>\r\n      </defs>\r\n      <g transform=\"translate(349.688068 254.356563)scale(0.1 -0.1)\">\r\n       <use xlink:href=\"#DejaVuSans-55\"/>\r\n      </g>\r\n     </g>\r\n    </g>\r\n   </g>\r\n   <g id=\"matplotlib.axis_2\">\r\n    <g id=\"ytick_1\">\r\n     <g id=\"line2d_8\">\r\n      <defs>\r\n       <path d=\"M 0 0 \r\nL -3.5 0 \r\n\" id=\"m8c83ca9b22\" style=\"stroke:#000000;stroke-width:0.8;\"/>\r\n      </defs>\r\n      <g>\r\n       <use style=\"stroke:#000000;stroke-width:0.8;\" x=\"33.2875\" xlink:href=\"#m8c83ca9b22\" y=\"239.758125\"/>\r\n      </g>\r\n     </g>\r\n     <g id=\"text_8\">\r\n      <!-- 0 -->\r\n      <defs>\r\n       <path d=\"M 31.78125 66.40625 \r\nQ 24.171875 66.40625 20.328125 58.90625 \r\nQ 16.5 51.421875 16.5 36.375 \r\nQ 16.5 21.390625 20.328125 13.890625 \r\nQ 24.171875 6.390625 31.78125 6.390625 \r\nQ 39.453125 6.390625 43.28125 13.890625 \r\nQ 47.125 21.390625 47.125 36.375 \r\nQ 47.125 51.421875 43.28125 58.90625 \r\nQ 39.453125 66.40625 31.78125 66.40625 \r\nz\r\nM 31.78125 74.21875 \r\nQ 44.046875 74.21875 50.515625 64.515625 \r\nQ 56.984375 54.828125 56.984375 36.375 \r\nQ 56.984375 17.96875 50.515625 8.265625 \r\nQ 44.046875 -1.421875 31.78125 -1.421875 \r\nQ 19.53125 -1.421875 13.0625 8.265625 \r\nQ 6.59375 17.96875 6.59375 36.375 \r\nQ 6.59375 54.828125 13.0625 64.515625 \r\nQ 19.53125 74.21875 31.78125 74.21875 \r\nz\r\n\" id=\"DejaVuSans-48\"/>\r\n      </defs>\r\n      <g transform=\"translate(19.925 243.557344)scale(0.1 -0.1)\">\r\n       <use xlink:href=\"#DejaVuSans-48\"/>\r\n      </g>\r\n     </g>\r\n    </g>\r\n    <g id=\"ytick_2\">\r\n     <g id=\"line2d_9\">\r\n      <g>\r\n       <use style=\"stroke:#000000;stroke-width:0.8;\" x=\"33.2875\" xlink:href=\"#m8c83ca9b22\" y=\"197.495734\"/>\r\n      </g>\r\n     </g>\r\n     <g id=\"text_9\">\r\n      <!-- 20 -->\r\n      <g transform=\"translate(13.5625 201.294953)scale(0.1 -0.1)\">\r\n       <use xlink:href=\"#DejaVuSans-50\"/>\r\n       <use x=\"63.623047\" xlink:href=\"#DejaVuSans-48\"/>\r\n      </g>\r\n     </g>\r\n    </g>\r\n    <g id=\"ytick_3\">\r\n     <g id=\"line2d_10\">\r\n      <g>\r\n       <use style=\"stroke:#000000;stroke-width:0.8;\" x=\"33.2875\" xlink:href=\"#m8c83ca9b22\" y=\"155.233344\"/>\r\n      </g>\r\n     </g>\r\n     <g id=\"text_10\">\r\n      <!-- 40 -->\r\n      <g transform=\"translate(13.5625 159.032562)scale(0.1 -0.1)\">\r\n       <use xlink:href=\"#DejaVuSans-52\"/>\r\n       <use x=\"63.623047\" xlink:href=\"#DejaVuSans-48\"/>\r\n      </g>\r\n     </g>\r\n    </g>\r\n    <g id=\"ytick_4\">\r\n     <g id=\"line2d_11\">\r\n      <g>\r\n       <use style=\"stroke:#000000;stroke-width:0.8;\" x=\"33.2875\" xlink:href=\"#m8c83ca9b22\" y=\"112.970953\"/>\r\n      </g>\r\n     </g>\r\n     <g id=\"text_11\">\r\n      <!-- 60 -->\r\n      <g transform=\"translate(13.5625 116.770172)scale(0.1 -0.1)\">\r\n       <use xlink:href=\"#DejaVuSans-54\"/>\r\n       <use x=\"63.623047\" xlink:href=\"#DejaVuSans-48\"/>\r\n      </g>\r\n     </g>\r\n    </g>\r\n    <g id=\"ytick_5\">\r\n     <g id=\"line2d_12\">\r\n      <g>\r\n       <use style=\"stroke:#000000;stroke-width:0.8;\" x=\"33.2875\" xlink:href=\"#m8c83ca9b22\" y=\"70.708562\"/>\r\n      </g>\r\n     </g>\r\n     <g id=\"text_12\">\r\n      <!-- 80 -->\r\n      <defs>\r\n       <path d=\"M 31.78125 34.625 \r\nQ 24.75 34.625 20.71875 30.859375 \r\nQ 16.703125 27.09375 16.703125 20.515625 \r\nQ 16.703125 13.921875 20.71875 10.15625 \r\nQ 24.75 6.390625 31.78125 6.390625 \r\nQ 38.8125 6.390625 42.859375 10.171875 \r\nQ 46.921875 13.96875 46.921875 20.515625 \r\nQ 46.921875 27.09375 42.890625 30.859375 \r\nQ 38.875 34.625 31.78125 34.625 \r\nz\r\nM 21.921875 38.8125 \r\nQ 15.578125 40.375 12.03125 44.71875 \r\nQ 8.5 49.078125 8.5 55.328125 \r\nQ 8.5 64.0625 14.71875 69.140625 \r\nQ 20.953125 74.21875 31.78125 74.21875 \r\nQ 42.671875 74.21875 48.875 69.140625 \r\nQ 55.078125 64.0625 55.078125 55.328125 \r\nQ 55.078125 49.078125 51.53125 44.71875 \r\nQ 48 40.375 41.703125 38.8125 \r\nQ 48.828125 37.15625 52.796875 32.3125 \r\nQ 56.78125 27.484375 56.78125 20.515625 \r\nQ 56.78125 9.90625 50.3125 4.234375 \r\nQ 43.84375 -1.421875 31.78125 -1.421875 \r\nQ 19.734375 -1.421875 13.25 4.234375 \r\nQ 6.78125 9.90625 6.78125 20.515625 \r\nQ 6.78125 27.484375 10.78125 32.3125 \r\nQ 14.796875 37.15625 21.921875 38.8125 \r\nz\r\nM 18.3125 54.390625 \r\nQ 18.3125 48.734375 21.84375 45.5625 \r\nQ 25.390625 42.390625 31.78125 42.390625 \r\nQ 38.140625 42.390625 41.71875 45.5625 \r\nQ 45.3125 48.734375 45.3125 54.390625 \r\nQ 45.3125 60.0625 41.71875 63.234375 \r\nQ 38.140625 66.40625 31.78125 66.40625 \r\nQ 25.390625 66.40625 21.84375 63.234375 \r\nQ 18.3125 60.0625 18.3125 54.390625 \r\nz\r\n\" id=\"DejaVuSans-56\"/>\r\n      </defs>\r\n      <g transform=\"translate(13.5625 74.507781)scale(0.1 -0.1)\">\r\n       <use xlink:href=\"#DejaVuSans-56\"/>\r\n       <use x=\"63.623047\" xlink:href=\"#DejaVuSans-48\"/>\r\n      </g>\r\n     </g>\r\n    </g>\r\n    <g id=\"ytick_6\">\r\n     <g id=\"line2d_13\">\r\n      <g>\r\n       <use style=\"stroke:#000000;stroke-width:0.8;\" x=\"33.2875\" xlink:href=\"#m8c83ca9b22\" y=\"28.446172\"/>\r\n      </g>\r\n     </g>\r\n     <g id=\"text_13\">\r\n      <!-- 100 -->\r\n      <g transform=\"translate(7.2 32.24539)scale(0.1 -0.1)\">\r\n       <use xlink:href=\"#DejaVuSans-49\"/>\r\n       <use x=\"63.623047\" xlink:href=\"#DejaVuSans-48\"/>\r\n       <use x=\"127.246094\" xlink:href=\"#DejaVuSans-48\"/>\r\n      </g>\r\n     </g>\r\n    </g>\r\n   </g>\r\n   <g id=\"patch_13\">\r\n    <path d=\"M 33.2875 239.758125 \r\nL 33.2875 22.318125 \r\n\" style=\"fill:none;stroke:#000000;stroke-linecap:square;stroke-linejoin:miter;stroke-width:0.8;\"/>\r\n   </g>\r\n   <g id=\"patch_14\">\r\n    <path d=\"M 368.0875 239.758125 \r\nL 368.0875 22.318125 \r\n\" style=\"fill:none;stroke:#000000;stroke-linecap:square;stroke-linejoin:miter;stroke-width:0.8;\"/>\r\n   </g>\r\n   <g id=\"patch_15\">\r\n    <path d=\"M 33.2875 239.758125 \r\nL 368.0875 239.758125 \r\n\" style=\"fill:none;stroke:#000000;stroke-linecap:square;stroke-linejoin:miter;stroke-width:0.8;\"/>\r\n   </g>\r\n   <g id=\"patch_16\">\r\n    <path d=\"M 33.2875 22.318125 \r\nL 368.0875 22.318125 \r\n\" style=\"fill:none;stroke:#000000;stroke-linecap:square;stroke-linejoin:miter;stroke-width:0.8;\"/>\r\n   </g>\r\n   <g id=\"text_14\">\r\n    <!-- Histogram of number of surgeries per a day -->\r\n    <defs>\r\n     <path d=\"M 9.8125 72.90625 \r\nL 19.671875 72.90625 \r\nL 19.671875 43.015625 \r\nL 55.515625 43.015625 \r\nL 55.515625 72.90625 \r\nL 65.375 72.90625 \r\nL 65.375 0 \r\nL 55.515625 0 \r\nL 55.515625 34.71875 \r\nL 19.671875 34.71875 \r\nL 19.671875 0 \r\nL 9.8125 0 \r\nz\r\n\" id=\"DejaVuSans-72\"/>\r\n     <path d=\"M 9.421875 54.6875 \r\nL 18.40625 54.6875 \r\nL 18.40625 0 \r\nL 9.421875 0 \r\nz\r\nM 9.421875 75.984375 \r\nL 18.40625 75.984375 \r\nL 18.40625 64.59375 \r\nL 9.421875 64.59375 \r\nz\r\n\" id=\"DejaVuSans-105\"/>\r\n     <path d=\"M 44.28125 53.078125 \r\nL 44.28125 44.578125 \r\nQ 40.484375 46.53125 36.375 47.5 \r\nQ 32.28125 48.484375 27.875 48.484375 \r\nQ 21.1875 48.484375 17.84375 46.4375 \r\nQ 14.5 44.390625 14.5 40.28125 \r\nQ 14.5 37.15625 16.890625 35.375 \r\nQ 19.28125 33.59375 26.515625 31.984375 \r\nL 29.59375 31.296875 \r\nQ 39.15625 29.25 43.1875 25.515625 \r\nQ 47.21875 21.78125 47.21875 15.09375 \r\nQ 47.21875 7.46875 41.1875 3.015625 \r\nQ 35.15625 -1.421875 24.609375 -1.421875 \r\nQ 20.21875 -1.421875 15.453125 -0.5625 \r\nQ 10.6875 0.296875 5.421875 2 \r\nL 5.421875 11.28125 \r\nQ 10.40625 8.6875 15.234375 7.390625 \r\nQ 20.0625 6.109375 24.8125 6.109375 \r\nQ 31.15625 6.109375 34.5625 8.28125 \r\nQ 37.984375 10.453125 37.984375 14.40625 \r\nQ 37.984375 18.0625 35.515625 20.015625 \r\nQ 33.0625 21.96875 24.703125 23.78125 \r\nL 21.578125 24.515625 \r\nQ 13.234375 26.265625 9.515625 29.90625 \r\nQ 5.8125 33.546875 5.8125 39.890625 \r\nQ 5.8125 47.609375 11.28125 51.796875 \r\nQ 16.75 56 26.8125 56 \r\nQ 31.78125 56 36.171875 55.265625 \r\nQ 40.578125 54.546875 44.28125 53.078125 \r\nz\r\n\" id=\"DejaVuSans-115\"/>\r\n     <path d=\"M 18.3125 70.21875 \r\nL 18.3125 54.6875 \r\nL 36.8125 54.6875 \r\nL 36.8125 47.703125 \r\nL 18.3125 47.703125 \r\nL 18.3125 18.015625 \r\nQ 18.3125 11.328125 20.140625 9.421875 \r\nQ 21.96875 7.515625 27.59375 7.515625 \r\nL 36.8125 7.515625 \r\nL 36.8125 0 \r\nL 27.59375 0 \r\nQ 17.1875 0 13.234375 3.875 \r\nQ 9.28125 7.765625 9.28125 18.015625 \r\nL 9.28125 47.703125 \r\nL 2.6875 47.703125 \r\nL 2.6875 54.6875 \r\nL 9.28125 54.6875 \r\nL 9.28125 70.21875 \r\nz\r\n\" id=\"DejaVuSans-116\"/>\r\n     <path d=\"M 30.609375 48.390625 \r\nQ 23.390625 48.390625 19.1875 42.75 \r\nQ 14.984375 37.109375 14.984375 27.296875 \r\nQ 14.984375 17.484375 19.15625 11.84375 \r\nQ 23.34375 6.203125 30.609375 6.203125 \r\nQ 37.796875 6.203125 41.984375 11.859375 \r\nQ 46.1875 17.53125 46.1875 27.296875 \r\nQ 46.1875 37.015625 41.984375 42.703125 \r\nQ 37.796875 48.390625 30.609375 48.390625 \r\nz\r\nM 30.609375 56 \r\nQ 42.328125 56 49.015625 48.375 \r\nQ 55.71875 40.765625 55.71875 27.296875 \r\nQ 55.71875 13.875 49.015625 6.21875 \r\nQ 42.328125 -1.421875 30.609375 -1.421875 \r\nQ 18.84375 -1.421875 12.171875 6.21875 \r\nQ 5.515625 13.875 5.515625 27.296875 \r\nQ 5.515625 40.765625 12.171875 48.375 \r\nQ 18.84375 56 30.609375 56 \r\nz\r\n\" id=\"DejaVuSans-111\"/>\r\n     <path d=\"M 45.40625 27.984375 \r\nQ 45.40625 37.75 41.375 43.109375 \r\nQ 37.359375 48.484375 30.078125 48.484375 \r\nQ 22.859375 48.484375 18.828125 43.109375 \r\nQ 14.796875 37.75 14.796875 27.984375 \r\nQ 14.796875 18.265625 18.828125 12.890625 \r\nQ 22.859375 7.515625 30.078125 7.515625 \r\nQ 37.359375 7.515625 41.375 12.890625 \r\nQ 45.40625 18.265625 45.40625 27.984375 \r\nz\r\nM 54.390625 6.78125 \r\nQ 54.390625 -7.171875 48.1875 -13.984375 \r\nQ 42 -20.796875 29.203125 -20.796875 \r\nQ 24.46875 -20.796875 20.265625 -20.09375 \r\nQ 16.0625 -19.390625 12.109375 -17.921875 \r\nL 12.109375 -9.1875 \r\nQ 16.0625 -11.328125 19.921875 -12.34375 \r\nQ 23.78125 -13.375 27.78125 -13.375 \r\nQ 36.625 -13.375 41.015625 -8.765625 \r\nQ 45.40625 -4.15625 45.40625 5.171875 \r\nL 45.40625 9.625 \r\nQ 42.625 4.78125 38.28125 2.390625 \r\nQ 33.9375 0 27.875 0 \r\nQ 17.828125 0 11.671875 7.65625 \r\nQ 5.515625 15.328125 5.515625 27.984375 \r\nQ 5.515625 40.671875 11.671875 48.328125 \r\nQ 17.828125 56 27.875 56 \r\nQ 33.9375 56 38.28125 53.609375 \r\nQ 42.625 51.21875 45.40625 46.390625 \r\nL 45.40625 54.6875 \r\nL 54.390625 54.6875 \r\nz\r\n\" id=\"DejaVuSans-103\"/>\r\n     <path d=\"M 41.109375 46.296875 \r\nQ 39.59375 47.171875 37.8125 47.578125 \r\nQ 36.03125 48 33.890625 48 \r\nQ 26.265625 48 22.1875 43.046875 \r\nQ 18.109375 38.09375 18.109375 28.8125 \r\nL 18.109375 0 \r\nL 9.078125 0 \r\nL 9.078125 54.6875 \r\nL 18.109375 54.6875 \r\nL 18.109375 46.1875 \r\nQ 20.953125 51.171875 25.484375 53.578125 \r\nQ 30.03125 56 36.53125 56 \r\nQ 37.453125 56 38.578125 55.875 \r\nQ 39.703125 55.765625 41.0625 55.515625 \r\nz\r\n\" id=\"DejaVuSans-114\"/>\r\n     <path d=\"M 34.28125 27.484375 \r\nQ 23.390625 27.484375 19.1875 25 \r\nQ 14.984375 22.515625 14.984375 16.5 \r\nQ 14.984375 11.71875 18.140625 8.90625 \r\nQ 21.296875 6.109375 26.703125 6.109375 \r\nQ 34.1875 6.109375 38.703125 11.40625 \r\nQ 43.21875 16.703125 43.21875 25.484375 \r\nL 43.21875 27.484375 \r\nz\r\nM 52.203125 31.203125 \r\nL 52.203125 0 \r\nL 43.21875 0 \r\nL 43.21875 8.296875 \r\nQ 40.140625 3.328125 35.546875 0.953125 \r\nQ 30.953125 -1.421875 24.3125 -1.421875 \r\nQ 15.921875 -1.421875 10.953125 3.296875 \r\nQ 6 8.015625 6 15.921875 \r\nQ 6 25.140625 12.171875 29.828125 \r\nQ 18.359375 34.515625 30.609375 34.515625 \r\nL 43.21875 34.515625 \r\nL 43.21875 35.40625 \r\nQ 43.21875 41.609375 39.140625 45 \r\nQ 35.0625 48.390625 27.6875 48.390625 \r\nQ 23 48.390625 18.546875 47.265625 \r\nQ 14.109375 46.140625 10.015625 43.890625 \r\nL 10.015625 52.203125 \r\nQ 14.9375 54.109375 19.578125 55.046875 \r\nQ 24.21875 56 28.609375 56 \r\nQ 40.484375 56 46.34375 49.84375 \r\nQ 52.203125 43.703125 52.203125 31.203125 \r\nz\r\n\" id=\"DejaVuSans-97\"/>\r\n     <path d=\"M 52 44.1875 \r\nQ 55.375 50.25 60.0625 53.125 \r\nQ 64.75 56 71.09375 56 \r\nQ 79.640625 56 84.28125 50.015625 \r\nQ 88.921875 44.046875 88.921875 33.015625 \r\nL 88.921875 0 \r\nL 79.890625 0 \r\nL 79.890625 32.71875 \r\nQ 79.890625 40.578125 77.09375 44.375 \r\nQ 74.3125 48.1875 68.609375 48.1875 \r\nQ 61.625 48.1875 57.5625 43.546875 \r\nQ 53.515625 38.921875 53.515625 30.90625 \r\nL 53.515625 0 \r\nL 44.484375 0 \r\nL 44.484375 32.71875 \r\nQ 44.484375 40.625 41.703125 44.40625 \r\nQ 38.921875 48.1875 33.109375 48.1875 \r\nQ 26.21875 48.1875 22.15625 43.53125 \r\nQ 18.109375 38.875 18.109375 30.90625 \r\nL 18.109375 0 \r\nL 9.078125 0 \r\nL 9.078125 54.6875 \r\nL 18.109375 54.6875 \r\nL 18.109375 46.1875 \r\nQ 21.1875 51.21875 25.484375 53.609375 \r\nQ 29.78125 56 35.6875 56 \r\nQ 41.65625 56 45.828125 52.96875 \r\nQ 50 49.953125 52 44.1875 \r\nz\r\n\" id=\"DejaVuSans-109\"/>\r\n     <path id=\"DejaVuSans-32\"/>\r\n     <path d=\"M 37.109375 75.984375 \r\nL 37.109375 68.5 \r\nL 28.515625 68.5 \r\nQ 23.6875 68.5 21.796875 66.546875 \r\nQ 19.921875 64.59375 19.921875 59.515625 \r\nL 19.921875 54.6875 \r\nL 34.71875 54.6875 \r\nL 34.71875 47.703125 \r\nL 19.921875 47.703125 \r\nL 19.921875 0 \r\nL 10.890625 0 \r\nL 10.890625 47.703125 \r\nL 2.296875 47.703125 \r\nL 2.296875 54.6875 \r\nL 10.890625 54.6875 \r\nL 10.890625 58.5 \r\nQ 10.890625 67.625 15.140625 71.796875 \r\nQ 19.390625 75.984375 28.609375 75.984375 \r\nz\r\n\" id=\"DejaVuSans-102\"/>\r\n     <path d=\"M 54.890625 33.015625 \r\nL 54.890625 0 \r\nL 45.90625 0 \r\nL 45.90625 32.71875 \r\nQ 45.90625 40.484375 42.875 44.328125 \r\nQ 39.84375 48.1875 33.796875 48.1875 \r\nQ 26.515625 48.1875 22.3125 43.546875 \r\nQ 18.109375 38.921875 18.109375 30.90625 \r\nL 18.109375 0 \r\nL 9.078125 0 \r\nL 9.078125 54.6875 \r\nL 18.109375 54.6875 \r\nL 18.109375 46.1875 \r\nQ 21.34375 51.125 25.703125 53.5625 \r\nQ 30.078125 56 35.796875 56 \r\nQ 45.21875 56 50.046875 50.171875 \r\nQ 54.890625 44.34375 54.890625 33.015625 \r\nz\r\n\" id=\"DejaVuSans-110\"/>\r\n     <path d=\"M 8.5 21.578125 \r\nL 8.5 54.6875 \r\nL 17.484375 54.6875 \r\nL 17.484375 21.921875 \r\nQ 17.484375 14.15625 20.5 10.265625 \r\nQ 23.53125 6.390625 29.59375 6.390625 \r\nQ 36.859375 6.390625 41.078125 11.03125 \r\nQ 45.3125 15.671875 45.3125 23.6875 \r\nL 45.3125 54.6875 \r\nL 54.296875 54.6875 \r\nL 54.296875 0 \r\nL 45.3125 0 \r\nL 45.3125 8.40625 \r\nQ 42.046875 3.421875 37.71875 1 \r\nQ 33.40625 -1.421875 27.6875 -1.421875 \r\nQ 18.265625 -1.421875 13.375 4.4375 \r\nQ 8.5 10.296875 8.5 21.578125 \r\nz\r\nM 31.109375 56 \r\nz\r\n\" id=\"DejaVuSans-117\"/>\r\n     <path d=\"M 48.6875 27.296875 \r\nQ 48.6875 37.203125 44.609375 42.84375 \r\nQ 40.53125 48.484375 33.40625 48.484375 \r\nQ 26.265625 48.484375 22.1875 42.84375 \r\nQ 18.109375 37.203125 18.109375 27.296875 \r\nQ 18.109375 17.390625 22.1875 11.75 \r\nQ 26.265625 6.109375 33.40625 6.109375 \r\nQ 40.53125 6.109375 44.609375 11.75 \r\nQ 48.6875 17.390625 48.6875 27.296875 \r\nz\r\nM 18.109375 46.390625 \r\nQ 20.953125 51.265625 25.265625 53.625 \r\nQ 29.59375 56 35.59375 56 \r\nQ 45.5625 56 51.78125 48.09375 \r\nQ 58.015625 40.1875 58.015625 27.296875 \r\nQ 58.015625 14.40625 51.78125 6.484375 \r\nQ 45.5625 -1.421875 35.59375 -1.421875 \r\nQ 29.59375 -1.421875 25.265625 0.953125 \r\nQ 20.953125 3.328125 18.109375 8.203125 \r\nL 18.109375 0 \r\nL 9.078125 0 \r\nL 9.078125 75.984375 \r\nL 18.109375 75.984375 \r\nz\r\n\" id=\"DejaVuSans-98\"/>\r\n     <path d=\"M 56.203125 29.59375 \r\nL 56.203125 25.203125 \r\nL 14.890625 25.203125 \r\nQ 15.484375 15.921875 20.484375 11.0625 \r\nQ 25.484375 6.203125 34.421875 6.203125 \r\nQ 39.59375 6.203125 44.453125 7.46875 \r\nQ 49.3125 8.734375 54.109375 11.28125 \r\nL 54.109375 2.78125 \r\nQ 49.265625 0.734375 44.1875 -0.34375 \r\nQ 39.109375 -1.421875 33.890625 -1.421875 \r\nQ 20.796875 -1.421875 13.15625 6.1875 \r\nQ 5.515625 13.8125 5.515625 26.8125 \r\nQ 5.515625 40.234375 12.765625 48.109375 \r\nQ 20.015625 56 32.328125 56 \r\nQ 43.359375 56 49.78125 48.890625 \r\nQ 56.203125 41.796875 56.203125 29.59375 \r\nz\r\nM 47.21875 32.234375 \r\nQ 47.125 39.59375 43.09375 43.984375 \r\nQ 39.0625 48.390625 32.421875 48.390625 \r\nQ 24.90625 48.390625 20.390625 44.140625 \r\nQ 15.875 39.890625 15.1875 32.171875 \r\nz\r\n\" id=\"DejaVuSans-101\"/>\r\n     <path d=\"M 18.109375 8.203125 \r\nL 18.109375 -20.796875 \r\nL 9.078125 -20.796875 \r\nL 9.078125 54.6875 \r\nL 18.109375 54.6875 \r\nL 18.109375 46.390625 \r\nQ 20.953125 51.265625 25.265625 53.625 \r\nQ 29.59375 56 35.59375 56 \r\nQ 45.5625 56 51.78125 48.09375 \r\nQ 58.015625 40.1875 58.015625 27.296875 \r\nQ 58.015625 14.40625 51.78125 6.484375 \r\nQ 45.5625 -1.421875 35.59375 -1.421875 \r\nQ 29.59375 -1.421875 25.265625 0.953125 \r\nQ 20.953125 3.328125 18.109375 8.203125 \r\nz\r\nM 48.6875 27.296875 \r\nQ 48.6875 37.203125 44.609375 42.84375 \r\nQ 40.53125 48.484375 33.40625 48.484375 \r\nQ 26.265625 48.484375 22.1875 42.84375 \r\nQ 18.109375 37.203125 18.109375 27.296875 \r\nQ 18.109375 17.390625 22.1875 11.75 \r\nQ 26.265625 6.109375 33.40625 6.109375 \r\nQ 40.53125 6.109375 44.609375 11.75 \r\nQ 48.6875 17.390625 48.6875 27.296875 \r\nz\r\n\" id=\"DejaVuSans-112\"/>\r\n     <path d=\"M 45.40625 46.390625 \r\nL 45.40625 75.984375 \r\nL 54.390625 75.984375 \r\nL 54.390625 0 \r\nL 45.40625 0 \r\nL 45.40625 8.203125 \r\nQ 42.578125 3.328125 38.25 0.953125 \r\nQ 33.9375 -1.421875 27.875 -1.421875 \r\nQ 17.96875 -1.421875 11.734375 6.484375 \r\nQ 5.515625 14.40625 5.515625 27.296875 \r\nQ 5.515625 40.1875 11.734375 48.09375 \r\nQ 17.96875 56 27.875 56 \r\nQ 33.9375 56 38.25 53.625 \r\nQ 42.578125 51.265625 45.40625 46.390625 \r\nz\r\nM 14.796875 27.296875 \r\nQ 14.796875 17.390625 18.875 11.75 \r\nQ 22.953125 6.109375 30.078125 6.109375 \r\nQ 37.203125 6.109375 41.296875 11.75 \r\nQ 45.40625 17.390625 45.40625 27.296875 \r\nQ 45.40625 37.203125 41.296875 42.84375 \r\nQ 37.203125 48.484375 30.078125 48.484375 \r\nQ 22.953125 48.484375 18.875 42.84375 \r\nQ 14.796875 37.203125 14.796875 27.296875 \r\nz\r\n\" id=\"DejaVuSans-100\"/>\r\n     <path d=\"M 32.171875 -5.078125 \r\nQ 28.375 -14.84375 24.75 -17.8125 \r\nQ 21.140625 -20.796875 15.09375 -20.796875 \r\nL 7.90625 -20.796875 \r\nL 7.90625 -13.28125 \r\nL 13.1875 -13.28125 \r\nQ 16.890625 -13.28125 18.9375 -11.515625 \r\nQ 21 -9.765625 23.484375 -3.21875 \r\nL 25.09375 0.875 \r\nL 2.984375 54.6875 \r\nL 12.5 54.6875 \r\nL 29.59375 11.921875 \r\nL 46.6875 54.6875 \r\nL 56.203125 54.6875 \r\nz\r\n\" id=\"DejaVuSans-121\"/>\r\n    </defs>\r\n    <g transform=\"translate(68.8075 16.318125)scale(0.12 -0.12)\">\r\n     <use xlink:href=\"#DejaVuSans-72\"/>\r\n     <use x=\"75.195312\" xlink:href=\"#DejaVuSans-105\"/>\r\n     <use x=\"102.978516\" xlink:href=\"#DejaVuSans-115\"/>\r\n     <use x=\"155.078125\" xlink:href=\"#DejaVuSans-116\"/>\r\n     <use x=\"194.287109\" xlink:href=\"#DejaVuSans-111\"/>\r\n     <use x=\"255.46875\" xlink:href=\"#DejaVuSans-103\"/>\r\n     <use x=\"318.945312\" xlink:href=\"#DejaVuSans-114\"/>\r\n     <use x=\"360.058594\" xlink:href=\"#DejaVuSans-97\"/>\r\n     <use x=\"421.337891\" xlink:href=\"#DejaVuSans-109\"/>\r\n     <use x=\"518.75\" xlink:href=\"#DejaVuSans-32\"/>\r\n     <use x=\"550.537109\" xlink:href=\"#DejaVuSans-111\"/>\r\n     <use x=\"611.71875\" xlink:href=\"#DejaVuSans-102\"/>\r\n     <use x=\"646.923828\" xlink:href=\"#DejaVuSans-32\"/>\r\n     <use x=\"678.710938\" xlink:href=\"#DejaVuSans-110\"/>\r\n     <use x=\"742.089844\" xlink:href=\"#DejaVuSans-117\"/>\r\n     <use x=\"805.46875\" xlink:href=\"#DejaVuSans-109\"/>\r\n     <use x=\"902.880859\" xlink:href=\"#DejaVuSans-98\"/>\r\n     <use x=\"966.357422\" xlink:href=\"#DejaVuSans-101\"/>\r\n     <use x=\"1027.880859\" xlink:href=\"#DejaVuSans-114\"/>\r\n     <use x=\"1068.994141\" xlink:href=\"#DejaVuSans-32\"/>\r\n     <use x=\"1100.78125\" xlink:href=\"#DejaVuSans-111\"/>\r\n     <use x=\"1161.962891\" xlink:href=\"#DejaVuSans-102\"/>\r\n     <use x=\"1197.167969\" xlink:href=\"#DejaVuSans-32\"/>\r\n     <use x=\"1228.955078\" xlink:href=\"#DejaVuSans-115\"/>\r\n     <use x=\"1281.054688\" xlink:href=\"#DejaVuSans-117\"/>\r\n     <use x=\"1344.433594\" xlink:href=\"#DejaVuSans-114\"/>\r\n     <use x=\"1383.796875\" xlink:href=\"#DejaVuSans-103\"/>\r\n     <use x=\"1447.273438\" xlink:href=\"#DejaVuSans-101\"/>\r\n     <use x=\"1508.796875\" xlink:href=\"#DejaVuSans-114\"/>\r\n     <use x=\"1549.910156\" xlink:href=\"#DejaVuSans-105\"/>\r\n     <use x=\"1577.693359\" xlink:href=\"#DejaVuSans-101\"/>\r\n     <use x=\"1639.216797\" xlink:href=\"#DejaVuSans-115\"/>\r\n     <use x=\"1691.316406\" xlink:href=\"#DejaVuSans-32\"/>\r\n     <use x=\"1723.103516\" xlink:href=\"#DejaVuSans-112\"/>\r\n     <use x=\"1786.580078\" xlink:href=\"#DejaVuSans-101\"/>\r\n     <use x=\"1848.103516\" xlink:href=\"#DejaVuSans-114\"/>\r\n     <use x=\"1889.216797\" xlink:href=\"#DejaVuSans-32\"/>\r\n     <use x=\"1921.003906\" xlink:href=\"#DejaVuSans-97\"/>\r\n     <use x=\"1982.283203\" xlink:href=\"#DejaVuSans-32\"/>\r\n     <use x=\"2014.070312\" xlink:href=\"#DejaVuSans-100\"/>\r\n     <use x=\"2077.546875\" xlink:href=\"#DejaVuSans-97\"/>\r\n     <use x=\"2138.826172\" xlink:href=\"#DejaVuSans-121\"/>\r\n    </g>\r\n   </g>\r\n  </g>\r\n </g>\r\n <defs>\r\n  <clipPath id=\"p80c0afc16d\">\r\n   <rect height=\"217.44\" width=\"334.8\" x=\"33.2875\" y=\"22.318125\"/>\r\n  </clipPath>\r\n </defs>\r\n</svg>\r\n",
      "image/png": "[encoded data removed]"
     },
     "metadata": {
      "needs_background": "light"
     }
    }
   ],
   "source": [
    "plt.hist(df[\"Date of surgery\"].value_counts());\n",
    "plt.title(\"Histogram of number of surgeries per a day\");"
   ]
  },
  {
   "cell_type": "markdown",
   "metadata": {},
   "source": [
    "**Column: Patient classification**\n",
    "\n",
    "There are 10 classes:\n",
    "    1.\tAppendectomy\n",
    "    2.\tBariatric\n",
    "    3.\tColorectal\n",
    "    4.\tEmergency\n",
    "    5.\tHernia\n",
    "    6.\tHpb\n",
    "    7.\tOther\n",
    "    8.\tSmall Bowel\n",
    "    9.\tSurgical Oncology\n",
    "    10.\tUpper Gi\n"
   ]
  },
  {
   "cell_type": "code",
   "execution_count": 609,
   "metadata": {},
   "outputs": [
    {
     "output_type": "execute_result",
     "data": {
      "text/plain": "17"
     },
     "metadata": {},
     "execution_count": 609
    }
   ],
   "source": [
    "df[\"Patient classification\"].nunique()"
   ]
  },
  {
   "cell_type": "code",
   "execution_count": 610,
   "metadata": {},
   "outputs": [
    {
     "output_type": "execute_result",
     "data": {
      "text/plain": "Bariatric            244\nColorectal           187\nSurgical Oncology    126\nHernia                50\nsmall bowel           28\nEmergency             21\nSmall Bowel           11\nhernia                 9\ncolorectal             9\nbariatric              8\nUpper GI               7\nOther                  6\nSmall bowel            6\nupper GI               2\nHPB                    2\nAppendectomy           1\nother                  1\nName: Patient classification, dtype: int64"
     },
     "metadata": {},
     "execution_count": 610
    }
   ],
   "source": [
    "df[\"Patient classification\"].value_counts()"
   ]
  },
  {
   "cell_type": "code",
   "execution_count": 611,
   "metadata": {},
   "outputs": [],
   "source": [
    "#unit classes differ in capital letters \n",
    "df[\"Patient classification\"] = df[\"Patient classification\"].str.title()"
   ]
  },
  {
   "cell_type": "code",
   "execution_count": 612,
   "metadata": {},
   "outputs": [
    {
     "output_type": "execute_result",
     "data": {
      "text/plain": "                         counts\nPatient classifications        \nBariatric                   252\nColorectal                  196\nSurgical Oncology           126\nHernia                       59\nSmall Bowel                  45\nEmergency                    21\nUpper Gi                      9\nOther                         7\nHpb                           2\nAppendectomy                  1",
      "text/html": "<div>\n<style scoped>\n    .dataframe tbody tr th:only-of-type {\n        vertical-align: middle;\n    }\n\n    .dataframe tbody tr th {\n        vertical-align: top;\n    }\n\n    .dataframe thead th {\n        text-align: right;\n    }\n</style>\n<table border=\"1\" class=\"dataframe\">\n  <thead>\n    <tr style=\"text-align: right;\">\n      <th></th>\n      <th>counts</th>\n    </tr>\n    <tr>\n      <th>Patient classifications</th>\n      <th></th>\n    </tr>\n  </thead>\n  <tbody>\n    <tr>\n      <td>Bariatric</td>\n      <td>252</td>\n    </tr>\n    <tr>\n      <td>Colorectal</td>\n      <td>196</td>\n    </tr>\n    <tr>\n      <td>Surgical Oncology</td>\n      <td>126</td>\n    </tr>\n    <tr>\n      <td>Hernia</td>\n      <td>59</td>\n    </tr>\n    <tr>\n      <td>Small Bowel</td>\n      <td>45</td>\n    </tr>\n    <tr>\n      <td>Emergency</td>\n      <td>21</td>\n    </tr>\n    <tr>\n      <td>Upper Gi</td>\n      <td>9</td>\n    </tr>\n    <tr>\n      <td>Other</td>\n      <td>7</td>\n    </tr>\n    <tr>\n      <td>Hpb</td>\n      <td>2</td>\n    </tr>\n    <tr>\n      <td>Appendectomy</td>\n      <td>1</td>\n    </tr>\n  </tbody>\n</table>\n</div>"
     },
     "metadata": {},
     "execution_count": 612
    }
   ],
   "source": [
    "#number of unique values for each classification\n",
    "df[\"Patient classification\"].value_counts().rename_axis('Patient classifications').to_frame('counts')\n"
   ]
  },
  {
   "cell_type": "markdown",
   "metadata": {},
   "source": [
    "### **column: Name of surgery**\n",
    "\n",
    "Names are quiet long. They should be classified into several classes. "
   ]
  },
  {
   "cell_type": "code",
   "execution_count": 613,
   "metadata": {},
   "outputs": [
    {
     "output_type": "execute_result",
     "data": {
      "text/plain": "313"
     },
     "metadata": {},
     "execution_count": 613
    }
   ],
   "source": [
    "df[\"Name of surgery\"].nunique()"
   ]
  },
  {
   "cell_type": "code",
   "execution_count": 614,
   "metadata": {
    "scrolled": true
   },
   "outputs": [
    {
     "output_type": "execute_result",
     "data": {
      "text/plain": "                                       Name of surgery\n0    DIAGNOSTIC/ STAGING LAPAROSCOPY 493200;LAPAROS...\n1    CYTOREDUCTIVE SURGERY WITH HIPEC (HYPERTHERMIC...\n2    LAPAROSCOPIC CHOLECYSTECTOMY 475620; LAPAROSCO...\n3    OPEN TOTAL GASTRECTOMY, WITH ESOPHAGOENTEROSTO...\n4              OPEN DISTAL SUBTOTAL GASTRECTOMY 436320\n..                                                 ...\n713  APPENDECTOMY;CYTOREDUCTIVE SURGERY WITH HIPEC ...\n714  ABDOMINAL HYSTERECTOMY, TOTAL WITH BSO (T.A.H ...\n715  CYTOREDUCTIVE SURGERY WITH HIPEC (HYPERTHERMIC...\n716  CYTOREDUCTIVE SURGERY WITH HIPEC (HYPERTHERMIC...\n717  ABDOMINAL HYSTERECTOMY, TOTAL 581500;CYTOREDUC...\n\n[313 rows x 1 columns]",
      "text/html": "<div>\n<style scoped>\n    .dataframe tbody tr th:only-of-type {\n        vertical-align: middle;\n    }\n\n    .dataframe tbody tr th {\n        vertical-align: top;\n    }\n\n    .dataframe thead th {\n        text-align: right;\n    }\n</style>\n<table border=\"1\" class=\"dataframe\">\n  <thead>\n    <tr style=\"text-align: right;\">\n      <th></th>\n      <th>Name of surgery</th>\n    </tr>\n  </thead>\n  <tbody>\n    <tr>\n      <td>0</td>\n      <td>DIAGNOSTIC/ STAGING LAPAROSCOPY 493200;LAPAROS...</td>\n    </tr>\n    <tr>\n      <td>1</td>\n      <td>CYTOREDUCTIVE SURGERY WITH HIPEC (HYPERTHERMIC...</td>\n    </tr>\n    <tr>\n      <td>2</td>\n      <td>LAPAROSCOPIC CHOLECYSTECTOMY 475620; LAPAROSCO...</td>\n    </tr>\n    <tr>\n      <td>3</td>\n      <td>OPEN TOTAL GASTRECTOMY, WITH ESOPHAGOENTEROSTO...</td>\n    </tr>\n    <tr>\n      <td>4</td>\n      <td>OPEN DISTAL SUBTOTAL GASTRECTOMY 436320</td>\n    </tr>\n    <tr>\n      <td>...</td>\n      <td>...</td>\n    </tr>\n    <tr>\n      <td>713</td>\n      <td>APPENDECTOMY;CYTOREDUCTIVE SURGERY WITH HIPEC ...</td>\n    </tr>\n    <tr>\n      <td>714</td>\n      <td>ABDOMINAL HYSTERECTOMY, TOTAL WITH BSO (T.A.H ...</td>\n    </tr>\n    <tr>\n      <td>715</td>\n      <td>CYTOREDUCTIVE SURGERY WITH HIPEC (HYPERTHERMIC...</td>\n    </tr>\n    <tr>\n      <td>716</td>\n      <td>CYTOREDUCTIVE SURGERY WITH HIPEC (HYPERTHERMIC...</td>\n    </tr>\n    <tr>\n      <td>717</td>\n      <td>ABDOMINAL HYSTERECTOMY, TOTAL 581500;CYTOREDUC...</td>\n    </tr>\n  </tbody>\n</table>\n<p>313 rows × 1 columns</p>\n</div>"
     },
     "metadata": {},
     "execution_count": 614
    }
   ],
   "source": [
    "df[[\"Name of surgery\"]].drop_duplicates()"
   ]
  },
  {
   "cell_type": "markdown",
   "metadata": {},
   "source": [
    "### **column: Responsible surgeon**"
   ]
  },
  {
   "cell_type": "code",
   "execution_count": 615,
   "metadata": {},
   "outputs": [
    {
     "output_type": "execute_result",
     "data": {
      "text/plain": "Nissan Aviram             63\nHermon Hila               46\nGoitman David             32\nSegev Lior                29\n                          16\nBen-Yaakov Almog          15\nHazan David               15\nVestrich Gali             10\nFeigin Ania                5\nZippel Dov                 4\nWexler-Feigin Ania         2\nNevo Jonathan              2\nCohen Amir                 2\nAshkenazi Roni             2\nKlein Yorm                 2\nFriedman Orly-Zipporah     2\nBerger Yaniv               1\nName: Responsible surgeon, dtype: int64"
     },
     "metadata": {},
     "execution_count": 615
    }
   ],
   "source": [
    "surgeonsNames = df[\"Responsible surgeon\"].value_counts()\n",
    "surgeonsNames"
   ]
  },
  {
   "cell_type": "markdown",
   "metadata": {},
   "source": [
    "### **column: Urgency**"
   ]
  },
  {
   "cell_type": "markdown",
   "metadata": {},
   "source": [
    "There are 535 elective surgeries."
   ]
  },
  {
   "cell_type": "code",
   "execution_count": 616,
   "metadata": {},
   "outputs": [
    {
     "output_type": "execute_result",
     "data": {
      "text/plain": "          counts\nurgency         \nelective     535\nurgent       183",
      "text/html": "<div>\n<style scoped>\n    .dataframe tbody tr th:only-of-type {\n        vertical-align: middle;\n    }\n\n    .dataframe tbody tr th {\n        vertical-align: top;\n    }\n\n    .dataframe thead th {\n        text-align: right;\n    }\n</style>\n<table border=\"1\" class=\"dataframe\">\n  <thead>\n    <tr style=\"text-align: right;\">\n      <th></th>\n      <th>counts</th>\n    </tr>\n    <tr>\n      <th>urgency</th>\n      <th></th>\n    </tr>\n  </thead>\n  <tbody>\n    <tr>\n      <td>elective</td>\n      <td>535</td>\n    </tr>\n    <tr>\n      <td>urgent</td>\n      <td>183</td>\n    </tr>\n  </tbody>\n</table>\n</div>"
     },
     "metadata": {},
     "execution_count": 616
    }
   ],
   "source": [
    "df[\"Urgency\"].value_counts().rename_axis('urgency').to_frame('counts')"
   ]
  },
  {
   "cell_type": "markdown",
   "metadata": {},
   "source": [
    "There are 15 patients who underwent both elective and urgent surgeries."
   ]
  },
  {
   "cell_type": "code",
   "execution_count": 617,
   "metadata": {},
   "outputs": [
    {
     "output_type": "execute_result",
     "data": {
      "text/plain": "15"
     },
     "metadata": {},
     "execution_count": 617
    }
   ],
   "source": [
    "df[df.groupby(\"Code\")[\"Urgency\"].transform('nunique') > 1].groupby(\"Code\").ngroups"
   ]
  },
  {
   "cell_type": "markdown",
   "metadata": {},
   "source": [
    "### **column: Surgical approach**\n",
    "\n",
    " There are 3 approaches:\n",
    "    1.\tOpen\n",
    "    2.\tLaparoscopic\n",
    "    3.\tRobotic surgery"
   ]
  },
  {
   "cell_type": "code",
   "execution_count": 618,
   "metadata": {},
   "outputs": [
    {
     "output_type": "execute_result",
     "data": {
      "text/plain": "                 counts\napproaches             \nlaparoscopic        378\nopen                339\nrobotic surgery       1",
      "text/html": "<div>\n<style scoped>\n    .dataframe tbody tr th:only-of-type {\n        vertical-align: middle;\n    }\n\n    .dataframe tbody tr th {\n        vertical-align: top;\n    }\n\n    .dataframe thead th {\n        text-align: right;\n    }\n</style>\n<table border=\"1\" class=\"dataframe\">\n  <thead>\n    <tr style=\"text-align: right;\">\n      <th></th>\n      <th>counts</th>\n    </tr>\n    <tr>\n      <th>approaches</th>\n      <th></th>\n    </tr>\n  </thead>\n  <tbody>\n    <tr>\n      <td>laparoscopic</td>\n      <td>378</td>\n    </tr>\n    <tr>\n      <td>open</td>\n      <td>339</td>\n    </tr>\n    <tr>\n      <td>robotic surgery</td>\n      <td>1</td>\n    </tr>\n  </tbody>\n</table>\n</div>"
     },
     "metadata": {},
     "execution_count": 618
    }
   ],
   "source": [
    "df[\"Surgical approach\"].value_counts().rename_axis('approaches').to_frame('counts')"
   ]
  },
  {
   "cell_type": "markdown",
   "metadata": {},
   "source": [
    "### **column: Complications**"
   ]
  },
  {
   "cell_type": "code",
   "execution_count": 619,
   "metadata": {},
   "outputs": [
    {
     "output_type": "execute_result",
     "data": {
      "text/plain": "90"
     },
     "metadata": {},
     "execution_count": 619
    }
   ],
   "source": [
    "df[\"Complications\"].nunique()"
   ]
  },
  {
   "cell_type": "code",
   "execution_count": 620,
   "metadata": {},
   "outputs": [
    {
     "output_type": "execute_result",
     "data": {
      "text/plain": "                                             counts\ncomplications                                      \nAnastomotic Leak                                 58\nSkin and soft tissue - SSI- Superficial - 1       7\nGastrointestinal - lleus - 1                      5\nSSI- Superficial: 1                               4\nCardiac - Cardiac arrhythmia - 2                  3",
      "text/html": "<div>\n<style scoped>\n    .dataframe tbody tr th:only-of-type {\n        vertical-align: middle;\n    }\n\n    .dataframe tbody tr th {\n        vertical-align: top;\n    }\n\n    .dataframe thead th {\n        text-align: right;\n    }\n</style>\n<table border=\"1\" class=\"dataframe\">\n  <thead>\n    <tr style=\"text-align: right;\">\n      <th></th>\n      <th>counts</th>\n    </tr>\n    <tr>\n      <th>complications</th>\n      <th></th>\n    </tr>\n  </thead>\n  <tbody>\n    <tr>\n      <td>Anastomotic Leak</td>\n      <td>58</td>\n    </tr>\n    <tr>\n      <td>Skin and soft tissue - SSI- Superficial - 1</td>\n      <td>7</td>\n    </tr>\n    <tr>\n      <td>Gastrointestinal - lleus - 1</td>\n      <td>5</td>\n    </tr>\n    <tr>\n      <td>SSI- Superficial: 1</td>\n      <td>4</td>\n    </tr>\n    <tr>\n      <td>Cardiac - Cardiac arrhythmia - 2</td>\n      <td>3</td>\n    </tr>\n  </tbody>\n</table>\n</div>"
     },
     "metadata": {},
     "execution_count": 620
    }
   ],
   "source": [
    "df[\"Complications\"].value_counts().rename_axis('complications').to_frame('counts').head()"
   ]
  },
  {
   "cell_type": "markdown",
   "metadata": {},
   "source": [
    "# **Anastomotic Leak** \n",
    "There are 58 patients with anastomotic leak."
   ]
  },
  {
   "cell_type": "code",
   "execution_count": 621,
   "metadata": {},
   "outputs": [
    {
     "output_type": "execute_result",
     "data": {
      "text/plain": "(58, 14)"
     },
     "metadata": {},
     "execution_count": 621
    }
   ],
   "source": [
    "anastomoticLeak = df[df[\"Complications\"] == \"Anastomotic Leak\"]\n",
    "anastomoticLeak.shape"
   ]
  },
  {
   "cell_type": "code",
   "execution_count": 622,
   "metadata": {},
   "outputs": [],
   "source": [
    "anastomoticLeak;"
   ]
  },
  {
   "cell_type": "markdown",
   "metadata": {},
   "source": [
    "### Fill missing values "
   ]
  },
  {
   "cell_type": "markdown",
   "metadata": {},
   "source": [
    "Fill the sex of patients with known sex"
   ]
  },
  {
   "cell_type": "code",
   "execution_count": 623,
   "metadata": {},
   "outputs": [],
   "source": [
    "df[\"Sex\"] = df.groupby(\"Code\")[\"Sex\"].fillna(method=\"pad\")"
   ]
  },
  {
   "cell_type": "markdown",
   "metadata": {},
   "source": [
    "# Write output"
   ]
  },
  {
   "cell_type": "code",
   "execution_count": 624,
   "metadata": {},
   "outputs": [
    {
     "output_type": "error",
     "ename": "NameError",
     "evalue": "name 'output_file' is not defined",
     "traceback": [
      "\u001b[1;31m---------------------------------------------------------------------------\u001b[0m",
      "\u001b[1;31mNameError\u001b[0m                                 Traceback (most recent call last)",
      "\u001b[1;32m<ipython-input-624-6ceeccc53bfc>\u001b[0m in \u001b[0;36m<module>\u001b[1;34m\u001b[0m\n\u001b[0;32m      3\u001b[0m \u001b[1;33m\u001b[0m\u001b[0m\n\u001b[0;32m      4\u001b[0m \u001b[0moutput_path\u001b[0m \u001b[1;33m=\u001b[0m \u001b[0mos\u001b[0m\u001b[1;33m.\u001b[0m\u001b[0mpath\u001b[0m\u001b[1;33m.\u001b[0m\u001b[0mjoin\u001b[0m\u001b[1;33m(\u001b[0m\u001b[0mDPATH_ANONYMOUS\u001b[0m\u001b[1;33m,\u001b[0m \u001b[0mOUTPUT_FILE\u001b[0m\u001b[1;33m)\u001b[0m\u001b[1;33m\u001b[0m\u001b[1;33m\u001b[0m\u001b[0m\n\u001b[1;32m----> 5\u001b[1;33m \u001b[1;32mif\u001b[0m \u001b[1;32mnot\u001b[0m \u001b[0mos\u001b[0m\u001b[1;33m.\u001b[0m\u001b[0mpath\u001b[0m\u001b[1;33m.\u001b[0m\u001b[0mexists\u001b[0m\u001b[1;33m(\u001b[0m\u001b[0moutput_file\u001b[0m\u001b[1;33m)\u001b[0m\u001b[1;33m:\u001b[0m\u001b[1;33m\u001b[0m\u001b[1;33m\u001b[0m\u001b[0m\n\u001b[0m\u001b[0;32m      6\u001b[0m     \u001b[1;32mwith\u001b[0m \u001b[0mpd\u001b[0m\u001b[1;33m.\u001b[0m\u001b[0mExcelWriter\u001b[0m\u001b[1;33m(\u001b[0m\u001b[0moutput_path\u001b[0m\u001b[1;33m,\u001b[0m \u001b[0mdatetime_format\u001b[0m\u001b[1;33m=\u001b[0m\u001b[1;34m'DD/MM/YYYY'\u001b[0m\u001b[1;33m)\u001b[0m \u001b[1;32mas\u001b[0m \u001b[0mwriter\u001b[0m\u001b[1;33m:\u001b[0m\u001b[1;33m\u001b[0m\u001b[1;33m\u001b[0m\u001b[0m\n\u001b[0;32m      7\u001b[0m         \u001b[0mdf\u001b[0m\u001b[1;33m.\u001b[0m\u001b[0mto_excel\u001b[0m\u001b[1;33m(\u001b[0m\u001b[0mwriter\u001b[0m\u001b[1;33m,\u001b[0m \u001b[0mindex\u001b[0m \u001b[1;33m=\u001b[0m\u001b[1;32mFalse\u001b[0m\u001b[1;33m)\u001b[0m\u001b[1;33m\u001b[0m\u001b[1;33m\u001b[0m\u001b[0m\n",
      "\u001b[1;31mNameError\u001b[0m: name 'output_file' is not defined"
     ]
    }
   ],
   "source": [
    "#rename code column to \"pid\" (as it called in events file)\n",
    "df.rename(columns={\"Code\": \"pid\"}, inplace=True)\n",
    "\n",
    "output_path = os.path.join(DPATH_ANONYMOUS, OUTPUT_FILE)\n",
    "if not os.path.exists(output_file):\n",
    "    with pd.ExcelWriter(output_path, datetime_format='DD/MM/YYYY') as writer:\n",
    "        df.to_excel(writer, index =False)"
   ]
  }
 ],
 "metadata": {
  "kernelspec": {
   "display_name": "Python 3",
   "language": "python",
   "name": "python3"
  },
  "language_info": {
   "codemirror_mode": {
    "name": "ipython",
    "version": 3
   },
   "file_extension": ".py",
   "mimetype": "text/x-python",
   "name": "python",
   "nbconvert_exporter": "python",
   "pygments_lexer": "ipython3",
   "version": "3.7.4-final"
  }
 },
 "nbformat": 4,
 "nbformat_minor": 2
}