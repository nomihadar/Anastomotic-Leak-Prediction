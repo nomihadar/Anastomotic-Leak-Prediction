{
 "cells": [
  {
   "cell_type": "markdown",
   "metadata": {
    "scrolled": false
   },
   "source": [
    "**Notebook content:**\n",
    "- Explore rest of columns which were not examined yet. \n",
    "- "
   ]
  },
  {
   "cell_type": "code",
   "execution_count": 33,
   "metadata": {},
   "outputs": [],
   "source": [
    "%reset -f "
   ]
  },
  {
   "cell_type": "code",
   "execution_count": 34,
   "metadata": {},
   "outputs": [],
   "source": [
    "import sys\n",
    "import pandas as pd\n",
    "import numpy as np\n",
    "import datetime\n",
    "from IPython.display import display\n",
    "\n",
    "pd.set_option('display.max_columns', 30)\n",
    "pd.set_option('display.max_rows', 200)\n",
    "pd.set_option('display.float_format', lambda x: '%.f' % x)\n",
    "pd.options.display.precision = 4\n",
    "\n",
    "#import sys\n",
    "np.set_printoptions(threshold=sys.maxsize) #- print the full NumPy array\n",
    "\n",
    "from myDefs.defs import *\n",
    "\n",
    "# visualization\n",
    "import seaborn as sns\n",
    "import matplotlib.pyplot as plt \n",
    "from matplotlib.pyplot import figure\n",
    "%matplotlib inline\n"
   ]
  },
  {
   "cell_type": "markdown",
   "metadata": {},
   "source": [
    "**Read events file**"
   ]
  },
  {
   "cell_type": "code",
   "execution_count": 35,
   "metadata": {
    "pycharm": {
     "is_executing": false
    }
   },
   "outputs": [],
   "source": [
    "file = DATA_PATH + \"parseData1.csv\"\n",
    "df = pd.read_csv(file, sep=',')  #encoding='cp1255'"
   ]
  },
  {
   "cell_type": "code",
   "execution_count": 36,
   "metadata": {
    "jupyter": {
     "outputs_hidden": false
    },
    "pycharm": {
     "name": "#%%\n"
    }
   },
   "outputs": [
    {
     "data": {
      "text/plain": [
       "(1683616, 17)"
      ]
     },
     "execution_count": 36,
     "metadata": {},
     "output_type": "execute_result"
    }
   ],
   "source": [
    "df.shape"
   ]
  },
  {
   "cell_type": "code",
   "execution_count": 37,
   "metadata": {},
   "outputs": [
    {
     "data": {
      "text/html": [
       "<div>\n",
       "<style scoped>\n",
       "    .dataframe tbody tr th:only-of-type {\n",
       "        vertical-align: middle;\n",
       "    }\n",
       "\n",
       "    .dataframe tbody tr th {\n",
       "        vertical-align: top;\n",
       "    }\n",
       "\n",
       "    .dataframe thead th {\n",
       "        text-align: right;\n",
       "    }\n",
       "</style>\n",
       "<table border=\"1\" class=\"dataframe\">\n",
       "  <thead>\n",
       "    <tr style=\"text-align: right;\">\n",
       "      <th></th>\n",
       "      <th>pid</th>\n",
       "      <th>admissionId</th>\n",
       "      <th>eventName</th>\n",
       "      <th>eventStartDate</th>\n",
       "      <th>eventEndDate</th>\n",
       "      <th>dValue</th>\n",
       "      <th>iValue</th>\n",
       "      <th>sValue</th>\n",
       "      <th>eventDesc</th>\n",
       "      <th>unitOfMeasure</th>\n",
       "      <th>orderNumber</th>\n",
       "      <th>organismId</th>\n",
       "      <th>eventCode</th>\n",
       "      <th>eventCodeOrg</th>\n",
       "      <th>eventType</th>\n",
       "      <th>eventTypeOrg</th>\n",
       "      <th>sourceName</th>\n",
       "    </tr>\n",
       "  </thead>\n",
       "  <tbody>\n",
       "    <tr>\n",
       "      <td>0</td>\n",
       "      <td>1013265123</td>\n",
       "      <td>1840641</td>\n",
       "      <td>WBC</td>\n",
       "      <td>2018-02-15 10:58:00.0000000</td>\n",
       "      <td>2018-02-15 10:58:00.0000000</td>\n",
       "      <td>2</td>\n",
       "      <td>0</td>\n",
       "      <td>NaN</td>\n",
       "      <td>NaN</td>\n",
       "      <td>K/microL</td>\n",
       "      <td>nan</td>\n",
       "      <td>nan</td>\n",
       "      <td>26464-8</td>\n",
       "      <td>100109500</td>\n",
       "      <td>loinc</td>\n",
       "      <td>conv_lab_cham</td>\n",
       "      <td>[MIRROR_Chameleon].[Lab_Results]</td>\n",
       "    </tr>\n",
       "    <tr>\n",
       "      <td>1</td>\n",
       "      <td>1013265123</td>\n",
       "      <td>1840641</td>\n",
       "      <td>Alkaline Phosphatase -Blood</td>\n",
       "      <td>2018-02-15 10:25:00.0000000</td>\n",
       "      <td>2018-02-15 10:25:00.0000000</td>\n",
       "      <td>129</td>\n",
       "      <td>0</td>\n",
       "      <td>NaN</td>\n",
       "      <td>NaN</td>\n",
       "      <td>IU/l</td>\n",
       "      <td>nan</td>\n",
       "      <td>nan</td>\n",
       "      <td>77141-0</td>\n",
       "      <td>100184075</td>\n",
       "      <td>loinc</td>\n",
       "      <td>conv_lab_cham</td>\n",
       "      <td>[MIRROR_Chameleon].[Lab_Results]</td>\n",
       "    </tr>\n",
       "    <tr>\n",
       "      <td>2</td>\n",
       "      <td>1013265123</td>\n",
       "      <td>1840641</td>\n",
       "      <td>Protein -Blood, total</td>\n",
       "      <td>2018-02-15 10:25:00.0000000</td>\n",
       "      <td>2018-02-15 10:25:00.0000000</td>\n",
       "      <td>4</td>\n",
       "      <td>0</td>\n",
       "      <td>NaN</td>\n",
       "      <td>NaN</td>\n",
       "      <td>g/dl</td>\n",
       "      <td>nan</td>\n",
       "      <td>nan</td>\n",
       "      <td>2885-2</td>\n",
       "      <td>100184155</td>\n",
       "      <td>loinc</td>\n",
       "      <td>conv_lab_cham</td>\n",
       "      <td>[MIRROR_Chameleon].[Lab_Results]</td>\n",
       "    </tr>\n",
       "    <tr>\n",
       "      <td>3</td>\n",
       "      <td>1013265123</td>\n",
       "      <td>1840641</td>\n",
       "      <td>Sodium -Blood</td>\n",
       "      <td>2018-02-15 10:25:00.0000000</td>\n",
       "      <td>2018-02-15 10:25:00.0000000</td>\n",
       "      <td>147</td>\n",
       "      <td>0</td>\n",
       "      <td>NaN</td>\n",
       "      <td>NaN</td>\n",
       "      <td>meq/l</td>\n",
       "      <td>nan</td>\n",
       "      <td>nan</td>\n",
       "      <td>2951-2</td>\n",
       "      <td>100184295</td>\n",
       "      <td>loinc</td>\n",
       "      <td>conv_lab_cham</td>\n",
       "      <td>[MIRROR_Chameleon].[Lab_Results]</td>\n",
       "    </tr>\n",
       "    <tr>\n",
       "      <td>4</td>\n",
       "      <td>1013265123</td>\n",
       "      <td>1840641</td>\n",
       "      <td>Urea -Blood</td>\n",
       "      <td>2018-02-15 10:25:00.0000000</td>\n",
       "      <td>2018-02-15 10:25:00.0000000</td>\n",
       "      <td>24</td>\n",
       "      <td>0</td>\n",
       "      <td>NaN</td>\n",
       "      <td>NaN</td>\n",
       "      <td>mg/dl</td>\n",
       "      <td>nan</td>\n",
       "      <td>nan</td>\n",
       "      <td>3091-6</td>\n",
       "      <td>100184520</td>\n",
       "      <td>loinc</td>\n",
       "      <td>conv_lab_cham</td>\n",
       "      <td>[MIRROR_Chameleon].[Lab_Results]</td>\n",
       "    </tr>\n",
       "  </tbody>\n",
       "</table>\n",
       "</div>"
      ],
      "text/plain": [
       "         pid  admissionId                    eventName  \\\n",
       "0 1013265123      1840641                          WBC   \n",
       "1 1013265123      1840641  Alkaline Phosphatase -Blood   \n",
       "2 1013265123      1840641        Protein -Blood, total   \n",
       "3 1013265123      1840641                Sodium -Blood   \n",
       "4 1013265123      1840641                  Urea -Blood   \n",
       "\n",
       "                eventStartDate                 eventEndDate  dValue  iValue  \\\n",
       "0  2018-02-15 10:58:00.0000000  2018-02-15 10:58:00.0000000       2       0   \n",
       "1  2018-02-15 10:25:00.0000000  2018-02-15 10:25:00.0000000     129       0   \n",
       "2  2018-02-15 10:25:00.0000000  2018-02-15 10:25:00.0000000       4       0   \n",
       "3  2018-02-15 10:25:00.0000000  2018-02-15 10:25:00.0000000     147       0   \n",
       "4  2018-02-15 10:25:00.0000000  2018-02-15 10:25:00.0000000      24       0   \n",
       "\n",
       "  sValue eventDesc unitOfMeasure  orderNumber  organismId eventCode  \\\n",
       "0    NaN       NaN      K/microL          nan         nan   26464-8   \n",
       "1    NaN       NaN          IU/l          nan         nan   77141-0   \n",
       "2    NaN       NaN          g/dl          nan         nan    2885-2   \n",
       "3    NaN       NaN         meq/l          nan         nan    2951-2   \n",
       "4    NaN       NaN         mg/dl          nan         nan    3091-6   \n",
       "\n",
       "  eventCodeOrg eventType   eventTypeOrg                        sourceName  \n",
       "0    100109500     loinc  conv_lab_cham  [MIRROR_Chameleon].[Lab_Results]  \n",
       "1    100184075     loinc  conv_lab_cham  [MIRROR_Chameleon].[Lab_Results]  \n",
       "2    100184155     loinc  conv_lab_cham  [MIRROR_Chameleon].[Lab_Results]  \n",
       "3    100184295     loinc  conv_lab_cham  [MIRROR_Chameleon].[Lab_Results]  \n",
       "4    100184520     loinc  conv_lab_cham  [MIRROR_Chameleon].[Lab_Results]  "
      ]
     },
     "execution_count": 37,
     "metadata": {},
     "output_type": "execute_result"
    }
   ],
   "source": [
    "df.head()"
   ]
  },
  {
   "cell_type": "code",
   "execution_count": 38,
   "metadata": {},
   "outputs": [
    {
     "name": "stdout",
     "output_type": "stream",
     "text": [
      "<class 'pandas.core.frame.DataFrame'>\n",
      "RangeIndex: 1683616 entries, 0 to 1683615\n",
      "Data columns (total 17 columns):\n",
      "pid               1683616 non-null float64\n",
      "admissionId       1683616 non-null float64\n",
      "eventName         1628158 non-null object\n",
      "eventStartDate    1683616 non-null object\n",
      "eventEndDate      1683616 non-null object\n",
      "dValue            1556931 non-null float64\n",
      "iValue            1556931 non-null float64\n",
      "sValue            38602 non-null object\n",
      "eventDesc         136875 non-null object\n",
      "unitOfMeasure     966464 non-null object\n",
      "orderNumber       16699 non-null float64\n",
      "organismId        2126 non-null float64\n",
      "eventCode         1683616 non-null object\n",
      "eventCodeOrg      1534034 non-null object\n",
      "eventType         1683616 non-null object\n",
      "eventTypeOrg      1541809 non-null object\n",
      "sourceName        1683577 non-null object\n",
      "dtypes: float64(6), object(11)\n",
      "memory usage: 218.4+ MB\n"
     ]
    }
   ],
   "source": [
    "df.info()"
   ]
  },
  {
   "cell_type": "markdown",
   "metadata": {},
   "source": [
    "## Parse Dates"
   ]
  },
  {
   "cell_type": "markdown",
   "metadata": {},
   "source": [
    "Parse dates of events in events file."
   ]
  },
  {
   "cell_type": "code",
   "execution_count": 39,
   "metadata": {},
   "outputs": [],
   "source": [
    "#parse date of start event\n",
    "df['eventStartDate'] = pd.to_datetime(df['eventStartDate'], format='%Y-%m-%d')\n",
    "\n",
    "#parse date of end event\n",
    "df['eventEndDate'] = pd.to_datetime(df['eventEndDate'], format='%Y-%m-%d')"
   ]
  },
  {
   "cell_type": "markdown",
   "metadata": {},
   "source": [
    "## Sort by patient id and event start dates"
   ]
  },
  {
   "cell_type": "code",
   "execution_count": 40,
   "metadata": {},
   "outputs": [],
   "source": [
    "df.sort_values([\"pid\", \"eventStartDate\"], inplace=True)"
   ]
  },
  {
   "cell_type": "code",
   "execution_count": 41,
   "metadata": {},
   "outputs": [
    {
     "data": {
      "text/html": [
       "<div>\n",
       "<style scoped>\n",
       "    .dataframe tbody tr th:only-of-type {\n",
       "        vertical-align: middle;\n",
       "    }\n",
       "\n",
       "    .dataframe tbody tr th {\n",
       "        vertical-align: top;\n",
       "    }\n",
       "\n",
       "    .dataframe thead th {\n",
       "        text-align: right;\n",
       "    }\n",
       "</style>\n",
       "<table border=\"1\" class=\"dataframe\">\n",
       "  <thead>\n",
       "    <tr style=\"text-align: right;\">\n",
       "      <th></th>\n",
       "      <th>pid</th>\n",
       "      <th>admissionId</th>\n",
       "      <th>eventName</th>\n",
       "      <th>eventStartDate</th>\n",
       "      <th>eventEndDate</th>\n",
       "      <th>dValue</th>\n",
       "      <th>iValue</th>\n",
       "      <th>sValue</th>\n",
       "      <th>eventDesc</th>\n",
       "      <th>unitOfMeasure</th>\n",
       "      <th>orderNumber</th>\n",
       "      <th>organismId</th>\n",
       "      <th>eventCode</th>\n",
       "      <th>eventCodeOrg</th>\n",
       "      <th>eventType</th>\n",
       "      <th>eventTypeOrg</th>\n",
       "      <th>sourceName</th>\n",
       "    </tr>\n",
       "  </thead>\n",
       "  <tbody>\n",
       "    <tr>\n",
       "      <td>1669916</td>\n",
       "      <td>1068368</td>\n",
       "      <td>1923584</td>\n",
       "      <td>סטורציה</td>\n",
       "      <td>2018-10-03 08:36:34.433</td>\n",
       "      <td>2018-10-03 08:36:34.433</td>\n",
       "      <td>100</td>\n",
       "      <td>0</td>\n",
       "      <td>NaN</td>\n",
       "      <td>NaN</td>\n",
       "      <td>NaN</td>\n",
       "      <td>nan</td>\n",
       "      <td>nan</td>\n",
       "      <td>113080007</td>\n",
       "      <td>13</td>\n",
       "      <td>snomed</td>\n",
       "      <td>conv_monitoring_parameter_cham</td>\n",
       "      <td>[MIRROR_Chameleon].[DeviceMonitor]</td>\n",
       "    </tr>\n",
       "    <tr>\n",
       "      <td>1669917</td>\n",
       "      <td>1068368</td>\n",
       "      <td>1923584</td>\n",
       "      <td>סטורציה</td>\n",
       "      <td>2018-10-03 08:36:34.433</td>\n",
       "      <td>2018-10-03 08:36:34.433</td>\n",
       "      <td>99</td>\n",
       "      <td>0</td>\n",
       "      <td>NaN</td>\n",
       "      <td>NaN</td>\n",
       "      <td>NaN</td>\n",
       "      <td>nan</td>\n",
       "      <td>nan</td>\n",
       "      <td>113080007</td>\n",
       "      <td>13</td>\n",
       "      <td>snomed</td>\n",
       "      <td>conv_monitoring_parameter_cham</td>\n",
       "      <td>[MIRROR_Chameleon].[DeviceMonitor]</td>\n",
       "    </tr>\n",
       "    <tr>\n",
       "      <td>1669918</td>\n",
       "      <td>1068368</td>\n",
       "      <td>1923584</td>\n",
       "      <td>לחץ סיסטולי</td>\n",
       "      <td>2018-10-03 08:36:34.467</td>\n",
       "      <td>2018-10-03 08:36:34.467</td>\n",
       "      <td>159</td>\n",
       "      <td>0</td>\n",
       "      <td>NaN</td>\n",
       "      <td>NaN</td>\n",
       "      <td>NaN</td>\n",
       "      <td>nan</td>\n",
       "      <td>nan</td>\n",
       "      <td>271649006</td>\n",
       "      <td>23</td>\n",
       "      <td>snomed</td>\n",
       "      <td>conv_monitoring_parameter_cham</td>\n",
       "      <td>[MIRROR_Chameleon].[DeviceMonitor]</td>\n",
       "    </tr>\n",
       "    <tr>\n",
       "      <td>1669919</td>\n",
       "      <td>1068368</td>\n",
       "      <td>1923584</td>\n",
       "      <td>לחץ סיסטולי</td>\n",
       "      <td>2018-10-03 08:36:34.467</td>\n",
       "      <td>2018-10-03 08:36:34.467</td>\n",
       "      <td>140</td>\n",
       "      <td>0</td>\n",
       "      <td>NaN</td>\n",
       "      <td>NaN</td>\n",
       "      <td>NaN</td>\n",
       "      <td>nan</td>\n",
       "      <td>nan</td>\n",
       "      <td>271649006</td>\n",
       "      <td>23</td>\n",
       "      <td>snomed</td>\n",
       "      <td>conv_monitoring_parameter_cham</td>\n",
       "      <td>[MIRROR_Chameleon].[DeviceMonitor]</td>\n",
       "    </tr>\n",
       "    <tr>\n",
       "      <td>1669920</td>\n",
       "      <td>1068368</td>\n",
       "      <td>1923584</td>\n",
       "      <td>לחץ דיאסטולי</td>\n",
       "      <td>2018-10-03 08:36:34.497</td>\n",
       "      <td>2018-10-03 08:36:34.497</td>\n",
       "      <td>68</td>\n",
       "      <td>0</td>\n",
       "      <td>NaN</td>\n",
       "      <td>NaN</td>\n",
       "      <td>NaN</td>\n",
       "      <td>nan</td>\n",
       "      <td>nan</td>\n",
       "      <td>271650006</td>\n",
       "      <td>24</td>\n",
       "      <td>snomed</td>\n",
       "      <td>conv_monitoring_parameter_cham</td>\n",
       "      <td>[MIRROR_Chameleon].[DeviceMonitor]</td>\n",
       "    </tr>\n",
       "  </tbody>\n",
       "</table>\n",
       "</div>"
      ],
      "text/plain": [
       "            pid  admissionId     eventName          eventStartDate  \\\n",
       "1669916 1068368      1923584       סטורציה 2018-10-03 08:36:34.433   \n",
       "1669917 1068368      1923584       סטורציה 2018-10-03 08:36:34.433   \n",
       "1669918 1068368      1923584   לחץ סיסטולי 2018-10-03 08:36:34.467   \n",
       "1669919 1068368      1923584   לחץ סיסטולי 2018-10-03 08:36:34.467   \n",
       "1669920 1068368      1923584  לחץ דיאסטולי 2018-10-03 08:36:34.497   \n",
       "\n",
       "                   eventEndDate  dValue  iValue sValue eventDesc  \\\n",
       "1669916 2018-10-03 08:36:34.433     100       0    NaN       NaN   \n",
       "1669917 2018-10-03 08:36:34.433      99       0    NaN       NaN   \n",
       "1669918 2018-10-03 08:36:34.467     159       0    NaN       NaN   \n",
       "1669919 2018-10-03 08:36:34.467     140       0    NaN       NaN   \n",
       "1669920 2018-10-03 08:36:34.497      68       0    NaN       NaN   \n",
       "\n",
       "        unitOfMeasure  orderNumber  organismId  eventCode eventCodeOrg  \\\n",
       "1669916           NaN          nan         nan  113080007           13   \n",
       "1669917           NaN          nan         nan  113080007           13   \n",
       "1669918           NaN          nan         nan  271649006           23   \n",
       "1669919           NaN          nan         nan  271649006           23   \n",
       "1669920           NaN          nan         nan  271650006           24   \n",
       "\n",
       "        eventType                    eventTypeOrg  \\\n",
       "1669916    snomed  conv_monitoring_parameter_cham   \n",
       "1669917    snomed  conv_monitoring_parameter_cham   \n",
       "1669918    snomed  conv_monitoring_parameter_cham   \n",
       "1669919    snomed  conv_monitoring_parameter_cham   \n",
       "1669920    snomed  conv_monitoring_parameter_cham   \n",
       "\n",
       "                                 sourceName  \n",
       "1669916  [MIRROR_Chameleon].[DeviceMonitor]  \n",
       "1669917  [MIRROR_Chameleon].[DeviceMonitor]  \n",
       "1669918  [MIRROR_Chameleon].[DeviceMonitor]  \n",
       "1669919  [MIRROR_Chameleon].[DeviceMonitor]  \n",
       "1669920  [MIRROR_Chameleon].[DeviceMonitor]  "
      ]
     },
     "execution_count": 41,
     "metadata": {},
     "output_type": "execute_result"
    }
   ],
   "source": [
    "df.head()"
   ]
  },
  {
   "cell_type": "markdown",
   "metadata": {},
   "source": [
    "# Quick view on rest of the columns"
   ]
  },
  {
   "cell_type": "markdown",
   "metadata": {},
   "source": [
    "### Column pid"
   ]
  },
  {
   "cell_type": "markdown",
   "metadata": {},
   "source": [
    "**pid**: annonimized patient identification. There are **680** patietns."
   ]
  },
  {
   "cell_type": "code",
   "execution_count": 44,
   "metadata": {},
   "outputs": [
    {
     "data": {
      "text/plain": [
       "680"
      ]
     },
     "execution_count": 44,
     "metadata": {},
     "output_type": "execute_result"
    }
   ],
   "source": [
    "df[\"pid\"].nunique()"
   ]
  },
  {
   "cell_type": "markdown",
   "metadata": {},
   "source": [
    "Number of rows per patient. Sizes are between 76 to 77,817."
   ]
  },
  {
   "cell_type": "code",
   "execution_count": 45,
   "metadata": {},
   "outputs": [
    {
     "data": {
      "text/plain": [
       "pid\n",
       "421743715       76\n",
       "719132417       81\n",
       "303664833      106\n",
       "221320915      115\n",
       "624783512      144\n",
       "             ...  \n",
       "669777467    34017\n",
       "532578604    35086\n",
       "788959348    36265\n",
       "621138515    67574\n",
       "11339133     77817\n",
       "Length: 680, dtype: int64"
      ]
     },
     "execution_count": 45,
     "metadata": {},
     "output_type": "execute_result"
    }
   ],
   "source": [
    "sizes = df.groupby(\"pid\").size().sort_values()\n",
    "sizes"
   ]
  },
  {
   "cell_type": "code",
   "execution_count": 46,
   "metadata": {},
   "outputs": [
    {
     "data": {
      "text/plain": [
       "Text(0, 0.5, 'Count')"
      ]
     },
     "execution_count": 46,
     "metadata": {},
     "output_type": "execute_result"
    },
    {
     "data": {
      "image/png": "[encoded data removed]",
      "text/plain": [
       "<Figure size 432x288 with 1 Axes>"
      ]
     },
     "metadata": {
      "needs_background": "light"
     },
     "output_type": "display_data"
    }
   ],
   "source": [
    "sizes.hist(grid=False, bins=10)\n",
    "plt.title('Histogram of num rows per patient')\n",
    "plt.xlabel('Num rows per patient')\n",
    "plt.ylabel('Count')"
   ]
  },
  {
   "cell_type": "code",
   "execution_count": 47,
   "metadata": {},
   "outputs": [
    {
     "data": {
      "image/png": "[encoded data removed]",
      "text/plain": [
       "<Figure size 800x400 with 1 Axes>"
      ]
     },
     "metadata": {
      "needs_background": "light"
     },
     "output_type": "display_data"
    }
   ],
   "source": [
    "figure(num=None, figsize=(10, 5), dpi=80)\n",
    "\n",
    "plt.bar(range(sizes.shape[0]), sizes.values, align='center')\n",
    "plt.xlabel('Patients')\n",
    "plt.title('Num rows per patient')\n",
    "plt.yscale('log')"
   ]
  },
  {
   "cell_type": "markdown",
   "metadata": {},
   "source": [
    "### Column admissionId"
   ]
  },
  {
   "cell_type": "markdown",
   "metadata": {},
   "source": [
    "**admissionId**: Anonymized admission identification."
   ]
  },
  {
   "cell_type": "code",
   "execution_count": 49,
   "metadata": {},
   "outputs": [
    {
     "data": {
      "text/plain": [
       "1405"
      ]
     },
     "execution_count": 49,
     "metadata": {},
     "output_type": "execute_result"
    }
   ],
   "source": [
    "df[\"admissionId\"].nunique()"
   ]
  },
  {
   "cell_type": "markdown",
   "metadata": {},
   "source": [
    "There are 382 patients with 1 addmission ID, 144 patients with 2 addmission IDs, etc. There are patients with more than 10 addmission IDs."
   ]
  },
  {
   "cell_type": "code",
   "execution_count": 50,
   "metadata": {},
   "outputs": [
    {
     "data": {
      "text/html": [
       "<div>\n",
       "<style scoped>\n",
       "    .dataframe tbody tr th:only-of-type {\n",
       "        vertical-align: middle;\n",
       "    }\n",
       "\n",
       "    .dataframe tbody tr th {\n",
       "        vertical-align: top;\n",
       "    }\n",
       "\n",
       "    .dataframe thead th {\n",
       "        text-align: right;\n",
       "    }\n",
       "</style>\n",
       "<table border=\"1\" class=\"dataframe\">\n",
       "  <thead>\n",
       "    <tr style=\"text-align: right;\">\n",
       "      <th></th>\n",
       "      <th>count</th>\n",
       "    </tr>\n",
       "    <tr>\n",
       "      <th># admissionIDs</th>\n",
       "      <th></th>\n",
       "    </tr>\n",
       "  </thead>\n",
       "  <tbody>\n",
       "    <tr>\n",
       "      <td>1</td>\n",
       "      <td>382</td>\n",
       "    </tr>\n",
       "    <tr>\n",
       "      <td>2</td>\n",
       "      <td>144</td>\n",
       "    </tr>\n",
       "    <tr>\n",
       "      <td>3</td>\n",
       "      <td>57</td>\n",
       "    </tr>\n",
       "    <tr>\n",
       "      <td>4</td>\n",
       "      <td>32</td>\n",
       "    </tr>\n",
       "    <tr>\n",
       "      <td>5</td>\n",
       "      <td>25</td>\n",
       "    </tr>\n",
       "    <tr>\n",
       "      <td>6</td>\n",
       "      <td>16</td>\n",
       "    </tr>\n",
       "    <tr>\n",
       "      <td>7</td>\n",
       "      <td>11</td>\n",
       "    </tr>\n",
       "    <tr>\n",
       "      <td>8</td>\n",
       "      <td>2</td>\n",
       "    </tr>\n",
       "    <tr>\n",
       "      <td>9</td>\n",
       "      <td>6</td>\n",
       "    </tr>\n",
       "    <tr>\n",
       "      <td>11</td>\n",
       "      <td>2</td>\n",
       "    </tr>\n",
       "    <tr>\n",
       "      <td>13</td>\n",
       "      <td>1</td>\n",
       "    </tr>\n",
       "    <tr>\n",
       "      <td>15</td>\n",
       "      <td>1</td>\n",
       "    </tr>\n",
       "    <tr>\n",
       "      <td>18</td>\n",
       "      <td>1</td>\n",
       "    </tr>\n",
       "  </tbody>\n",
       "</table>\n",
       "</div>"
      ],
      "text/plain": [
       "                count\n",
       "# admissionIDs       \n",
       "1                 382\n",
       "2                 144\n",
       "3                  57\n",
       "4                  32\n",
       "5                  25\n",
       "6                  16\n",
       "7                  11\n",
       "8                   2\n",
       "9                   6\n",
       "11                  2\n",
       "13                  1\n",
       "15                  1\n",
       "18                  1"
      ]
     },
     "execution_count": 50,
     "metadata": {},
     "output_type": "execute_result"
    }
   ],
   "source": [
    "t = df.groupby([\"pid\", \"admissionId\"]).size().groupby(level=0).size()\n",
    "t = t.value_counts().sort_index().to_frame(name= \"count\")\n",
    "t.index.name = \"# admissionIDs\"\n",
    "t"
   ]
  },
  {
   "cell_type": "code",
   "execution_count": 51,
   "metadata": {},
   "outputs": [],
   "source": [
    "#get patient with 18 admission IDs\n",
    "df.groupby([\"pid\", \"admissionId\"]).size().groupby(level=0).size().idxmax()\n",
    "patient18_admissions = df[df[\"pid\"]==1021872115]"
   ]
  },
  {
   "cell_type": "markdown",
   "metadata": {},
   "source": [
    "### Column eventCode"
   ]
  },
  {
   "cell_type": "markdown",
   "metadata": {},
   "source": [
    "**eventCode**: Not clear what is this code. "
   ]
  },
  {
   "cell_type": "code",
   "execution_count": 52,
   "metadata": {},
   "outputs": [
    {
     "data": {
      "text/plain": [
       "1669916    113080007\n",
       "1669917    113080007\n",
       "1669918    271649006\n",
       "1669919    271649006\n",
       "1669920    271650006\n",
       "Name: eventCode, dtype: object"
      ]
     },
     "execution_count": 52,
     "metadata": {},
     "output_type": "execute_result"
    }
   ],
   "source": [
    "df[\"eventCode\"].head()"
   ]
  },
  {
   "cell_type": "code",
   "execution_count": 53,
   "metadata": {},
   "outputs": [
    {
     "data": {
      "text/plain": [
       "271650006    153083\n",
       "364075005    120050\n",
       "113080007    111170\n",
       "86290005      79824\n",
       "271649006     69238\n",
       "              ...  \n",
       "5390-0            1\n",
       "51387008          1\n",
       "14766002          1\n",
       "302215000         1\n",
       "68975-2           1\n",
       "Name: eventCode, Length: 1106, dtype: int64"
      ]
     },
     "execution_count": 53,
     "metadata": {},
     "output_type": "execute_result"
    }
   ],
   "source": [
    "df[\"eventCode\"].value_counts()"
   ]
  },
  {
   "cell_type": "markdown",
   "metadata": {},
   "source": [
    "### Column eventCodeOrg"
   ]
  },
  {
   "cell_type": "markdown",
   "metadata": {},
   "source": [
    "**eventCodeOrg**: Original code in the hospital source systems.\n",
    "\n",
    "Not all 168,250 values which are not numeric, such as \"LAPAROSCOPIC\" and \"ASA\" strings."
   ]
  },
  {
   "cell_type": "code",
   "execution_count": 54,
   "metadata": {},
   "outputs": [
    {
     "data": {
      "text/plain": [
       "3            82326\n",
       "2            82194\n",
       "13           66636\n",
       "1            40275\n",
       "4704         36653\n",
       "             ...  \n",
       "118709623        1\n",
       "50.3             1\n",
       "17854            1\n",
       "8                1\n",
       "19745            1\n",
       "Name: eventCodeOrg, Length: 1505, dtype: int64"
      ]
     },
     "execution_count": 54,
     "metadata": {},
     "output_type": "execute_result"
    }
   ],
   "source": [
    "df[\"eventCodeOrg\"].value_counts() "
   ]
  },
  {
   "cell_type": "code",
   "execution_count": 55,
   "metadata": {},
   "outputs": [
    {
     "data": {
      "text/plain": [
       "dtype('O')"
      ]
     },
     "execution_count": 55,
     "metadata": {},
     "output_type": "execute_result"
    }
   ],
   "source": [
    "df[\"eventCodeOrg\"].dtypes"
   ]
  },
  {
   "cell_type": "code",
   "execution_count": 56,
   "metadata": {},
   "outputs": [
    {
     "name": "stdout",
     "output_type": "stream",
     "text": [
      "168250\n"
     ]
    }
   ],
   "source": [
    "idx = pd.to_numeric(df[\"eventCodeOrg\"], errors='coerce').isna()\n",
    "print(idx.sum())\n",
    "df[idx][\"eventCodeOrg\"].drop_duplicates();"
   ]
  },
  {
   "cell_type": "markdown",
   "metadata": {},
   "source": [
    "### Column eventType"
   ]
  },
  {
   "cell_type": "markdown",
   "metadata": {},
   "source": [
    "There are 5 event types."
   ]
  },
  {
   "cell_type": "code",
   "execution_count": 57,
   "metadata": {},
   "outputs": [
    {
     "data": {
      "text/plain": [
       "snomed          1025183\n",
       "loinc            548244\n",
       "rxnorm            66058\n",
       "internal          39553\n",
       "mdm-doc-type       4578\n",
       "Name: eventType, dtype: int64"
      ]
     },
     "execution_count": 57,
     "metadata": {},
     "output_type": "execute_result"
    }
   ],
   "source": [
    "df[\"eventType\"].value_counts()"
   ]
  },
  {
   "cell_type": "markdown",
   "metadata": {},
   "source": [
    "### Column eventTypeOrg"
   ]
  },
  {
   "cell_type": "code",
   "execution_count": 58,
   "metadata": {},
   "outputs": [
    {
     "data": {
      "text/plain": [
       "conv_lab_cham                       528095\n",
       "conv_monitoring_parameter_cham      502250\n",
       "conv_monitoring_parameter_icu       378434\n",
       "conv_medicine_cham                   59239\n",
       "conv_medicine_icu                    35675\n",
       "conv_device_type_cham                12110\n",
       "mdm-doc-type                          7616\n",
       "conv_catheter_cham                    5106\n",
       "conv_diag_cham                        3848\n",
       "conv_proc_cham                        2955\n",
       "conv_description_cham                 1788\n",
       "conv_diag_icu                         1246\n",
       "conv_urgency_of_surgey_cham            903\n",
       "conv_approach_cham                     897\n",
       "Conv_lab_cham                          459\n",
       "conv_device_insert_location_cham       307\n",
       "conv_asa_cham                          303\n",
       "Conv_monitoring_parameter_cham         217\n",
       "conv_type_of_surgey_cham               199\n",
       "ge                                     153\n",
       "Conv_Device_Type_Cham                    5\n",
       "Conv_Catheter_cham                       2\n",
       "Conv_Approach_cham                       1\n",
       "conv_Urgency_Of_Surgey_cham              1\n",
       "Name: eventTypeOrg, dtype: int64"
      ]
     },
     "execution_count": 58,
     "metadata": {},
     "output_type": "execute_result"
    }
   ],
   "source": [
    "df[\"eventTypeOrg\"].value_counts()"
   ]
  },
  {
   "cell_type": "markdown",
   "metadata": {},
   "source": [
    "### Column eventDesc"
   ]
  },
  {
   "cell_type": "markdown",
   "metadata": {},
   "source": [
    "**eventDesc**: Description of the event.\n",
    "\n",
    "There are 13,6875 events with a description. There are 215 unique values.  "
   ]
  },
  {
   "cell_type": "code",
   "execution_count": 59,
   "metadata": {},
   "outputs": [
    {
     "data": {
      "text/plain": [
       "136875"
      ]
     },
     "execution_count": 59,
     "metadata": {},
     "output_type": "execute_result"
    }
   ],
   "source": [
    "df[\"eventDesc\"].count()"
   ]
  },
  {
   "cell_type": "code",
   "execution_count": 60,
   "metadata": {},
   "outputs": [
    {
     "data": {
      "text/html": [
       "<div>\n",
       "<style scoped>\n",
       "    .dataframe tbody tr th:only-of-type {\n",
       "        vertical-align: middle;\n",
       "    }\n",
       "\n",
       "    .dataframe tbody tr th {\n",
       "        vertical-align: top;\n",
       "    }\n",
       "\n",
       "    .dataframe thead th {\n",
       "        text-align: right;\n",
       "    }\n",
       "</style>\n",
       "<table border=\"1\" class=\"dataframe\">\n",
       "  <thead>\n",
       "    <tr style=\"text-align: right;\">\n",
       "      <th></th>\n",
       "      <th>index</th>\n",
       "      <th>count</th>\n",
       "    </tr>\n",
       "  </thead>\n",
       "  <tbody>\n",
       "    <tr>\n",
       "      <td>0</td>\n",
       "      <td>adequate mentation</td>\n",
       "      <td>27061</td>\n",
       "    </tr>\n",
       "    <tr>\n",
       "      <td>1</td>\n",
       "      <td>NTT</td>\n",
       "      <td>14583</td>\n",
       "    </tr>\n",
       "    <tr>\n",
       "      <td>2</td>\n",
       "      <td>localized pain</td>\n",
       "      <td>10671</td>\n",
       "    </tr>\n",
       "    <tr>\n",
       "      <td>3</td>\n",
       "      <td>central line insert</td>\n",
       "      <td>9262</td>\n",
       "    </tr>\n",
       "    <tr>\n",
       "      <td>4</td>\n",
       "      <td>deep incision absces</td>\n",
       "      <td>8140</td>\n",
       "    </tr>\n",
       "    <tr>\n",
       "      <td>...</td>\n",
       "      <td>...</td>\n",
       "      <td>...</td>\n",
       "    </tr>\n",
       "    <tr>\n",
       "      <td>210</td>\n",
       "      <td>רקע משפחתי</td>\n",
       "      <td>1</td>\n",
       "    </tr>\n",
       "    <tr>\n",
       "      <td>211</td>\n",
       "      <td>אנמנזה רפואית</td>\n",
       "      <td>1</td>\n",
       "    </tr>\n",
       "    <tr>\n",
       "      <td>212</td>\n",
       "      <td>infiltrate right lower</td>\n",
       "      <td>1</td>\n",
       "    </tr>\n",
       "    <tr>\n",
       "      <td>213</td>\n",
       "      <td>סיבת אשפוז מפורטת סיעודית</td>\n",
       "      <td>1</td>\n",
       "    </tr>\n",
       "    <tr>\n",
       "      <td>214</td>\n",
       "      <td>דחיפות</td>\n",
       "      <td>1</td>\n",
       "    </tr>\n",
       "  </tbody>\n",
       "</table>\n",
       "<p>215 rows × 2 columns</p>\n",
       "</div>"
      ],
      "text/plain": [
       "                         index  count\n",
       "0           adequate mentation  27061\n",
       "1                          NTT  14583\n",
       "2               localized pain  10671\n",
       "3          central line insert   9262\n",
       "4         deep incision absces   8140\n",
       "..                         ...    ...\n",
       "210                 רקע משפחתי      1\n",
       "211              אנמנזה רפואית      1\n",
       "212     infiltrate right lower      1\n",
       "213  סיבת אשפוז מפורטת סיעודית      1\n",
       "214                     דחיפות      1\n",
       "\n",
       "[215 rows x 2 columns]"
      ]
     },
     "execution_count": 60,
     "metadata": {},
     "output_type": "execute_result"
    }
   ],
   "source": [
    "df[\"eventDesc\"].value_counts().reset_index(name='count')"
   ]
  },
  {
   "cell_type": "markdown",
   "metadata": {},
   "source": [
    "### Column eventTypeOrg"
   ]
  },
  {
   "cell_type": "markdown",
   "metadata": {},
   "source": [
    "**sourceName**: Indicates the source for the event."
   ]
  },
  {
   "cell_type": "code",
   "execution_count": 61,
   "metadata": {},
   "outputs": [
    {
     "data": {
      "text/plain": [
       "186"
      ]
     },
     "execution_count": 61,
     "metadata": {},
     "output_type": "execute_result"
    }
   ],
   "source": [
    "df[\"sourceName\"].nunique()"
   ]
  },
  {
   "cell_type": "code",
   "execution_count": 62,
   "metadata": {},
   "outputs": [
    {
     "data": {
      "text/html": [
       "<div>\n",
       "<style scoped>\n",
       "    .dataframe tbody tr th:only-of-type {\n",
       "        vertical-align: middle;\n",
       "    }\n",
       "\n",
       "    .dataframe tbody tr th {\n",
       "        vertical-align: top;\n",
       "    }\n",
       "\n",
       "    .dataframe thead th {\n",
       "        text-align: right;\n",
       "    }\n",
       "</style>\n",
       "<table border=\"1\" class=\"dataframe\">\n",
       "  <thead>\n",
       "    <tr style=\"text-align: right;\">\n",
       "      <th></th>\n",
       "      <th>index</th>\n",
       "      <th>count</th>\n",
       "    </tr>\n",
       "  </thead>\n",
       "  <tbody>\n",
       "    <tr>\n",
       "      <td>0</td>\n",
       "      <td>[MIRROR_Chameleon].[Lab_Results]</td>\n",
       "      <td>511855</td>\n",
       "    </tr>\n",
       "    <tr>\n",
       "      <td>1</td>\n",
       "      <td>[MIRROR_Sheba_ICU].[MVQSignalsView]</td>\n",
       "      <td>375644</td>\n",
       "    </tr>\n",
       "    <tr>\n",
       "      <td>2</td>\n",
       "      <td>[MIRROR_Chameleon].[DeviceMonitor]</td>\n",
       "      <td>266216</td>\n",
       "    </tr>\n",
       "    <tr>\n",
       "      <td>3</td>\n",
       "      <td>[MIRROR_Chameleon].[Execution]</td>\n",
       "      <td>236251</td>\n",
       "    </tr>\n",
       "    <tr>\n",
       "      <td>4</td>\n",
       "      <td>[MIRROR_Chameleon].[MedExecutionMedicine]</td>\n",
       "      <td>59239</td>\n",
       "    </tr>\n",
       "  </tbody>\n",
       "</table>\n",
       "</div>"
      ],
      "text/plain": [
       "                                       index   count\n",
       "0           [MIRROR_Chameleon].[Lab_Results]  511855\n",
       "1        [MIRROR_Sheba_ICU].[MVQSignalsView]  375644\n",
       "2         [MIRROR_Chameleon].[DeviceMonitor]  266216\n",
       "3             [MIRROR_Chameleon].[Execution]  236251\n",
       "4  [MIRROR_Chameleon].[MedExecutionMedicine]   59239"
      ]
     },
     "execution_count": 62,
     "metadata": {},
     "output_type": "execute_result"
    }
   ],
   "source": [
    "df[\"sourceName\"].value_counts().reset_index(name='count').head()"
   ]
  },
  {
   "cell_type": "markdown",
   "metadata": {},
   "source": [
    "### Column unitOfMeasure"
   ]
  },
  {
   "cell_type": "code",
   "execution_count": 63,
   "metadata": {},
   "outputs": [
    {
     "data": {
      "text/plain": [
       "%                      134894\n",
       "mmHg                   105354\n",
       "K/microL                90623\n",
       "mg/dl                   82828\n",
       "None                    52471\n",
       "g/dl                    52165\n",
       "insp/min                50002\n",
       "IU/l                    47333\n",
       "meq/l                   39727\n",
       "C                       38497\n",
       "bpm                     36653\n",
       "mg                      31932\n",
       "ml                      28483\n",
       "cmH2O                   27693\n",
       "F                       22793\n",
       "fL                      21125\n",
       "mbar                    18433\n",
       "cc(ml)                  17153\n",
       "mmol/l                  11377\n",
       "M/microL                10444\n",
       "pg                      10441\n",
       "mOsm/KgH2O              10104\n",
       "g/dL                     4887\n",
       "g%                       3705\n",
       "gram                     3209\n",
       "gr                       2959\n",
       "sec.                     2932\n",
       "mcg                      1409\n",
       "ms                        956\n",
       "BPM                       942\n",
       "units                     877\n",
       "/HPF                      468\n",
       "cc                        453\n",
       "g                         364\n",
       "ng/ml                     356\n",
       "Million_Un                232\n",
       "l                         231\n",
       "applicatio                223\n",
       "application               178\n",
       "ml/min/1.73m              163\n",
       "pg/ml                     142\n",
       "LEU/UL                    137\n",
       "kg                        129\n",
       "micgr/dl                  117\n",
       "drops                     111\n",
       "cc(ml)/hou                103\n",
       "cm                        100\n",
       "degree                     96\n",
       "tab/ cap                   88\n",
       "MIU                        58\n",
       "IU                         39\n",
       "mm/hour                    34\n",
       "mm/2hours                  32\n",
       "U/ml                       28\n",
       "Antibody Index (AI)        25\n",
       "min                        24\n",
       "cells/mm3                  21\n",
       "mg/l                       20\n",
       "IU/ml                      17\n",
       "count or degree/WBC        11\n",
       "cells                      10\n",
       "count/total WBC            10\n",
       "mg/24h                     10\n",
       "mmol/L                      8\n",
       "micg/ml                     7\n",
       "mU/ml                       4\n",
       "EU/ml                       4\n",
       "mcg/kg/min                  3\n",
       "cc(ml)/hour                 3\n",
       "Index Value                 1\n",
       "puff                        1\n",
       "S/CO                        1\n",
       "*10                         1\n",
       "Name: unitOfMeasure, dtype: int64"
      ]
     },
     "execution_count": 63,
     "metadata": {},
     "output_type": "execute_result"
    }
   ],
   "source": [
    "df[\"unitOfMeasure\"].value_counts()"
   ]
  },
  {
   "cell_type": "markdown",
   "metadata": {},
   "source": [
    "### Column orderNumber"
   ]
  },
  {
   "cell_type": "markdown",
   "metadata": {},
   "source": [
    "**Microbiology order number**: Microbiology order number."
   ]
  },
  {
   "cell_type": "code",
   "execution_count": 64,
   "metadata": {},
   "outputs": [
    {
     "data": {
      "text/html": [
       "<div>\n",
       "<style scoped>\n",
       "    .dataframe tbody tr th:only-of-type {\n",
       "        vertical-align: middle;\n",
       "    }\n",
       "\n",
       "    .dataframe tbody tr th {\n",
       "        vertical-align: top;\n",
       "    }\n",
       "\n",
       "    .dataframe thead th {\n",
       "        text-align: right;\n",
       "    }\n",
       "</style>\n",
       "<table border=\"1\" class=\"dataframe\">\n",
       "  <thead>\n",
       "    <tr style=\"text-align: right;\">\n",
       "      <th></th>\n",
       "      <th>orderNumber</th>\n",
       "    </tr>\n",
       "  </thead>\n",
       "  <tbody>\n",
       "    <tr>\n",
       "      <td>1668341</td>\n",
       "      <td>1135897</td>\n",
       "    </tr>\n",
       "    <tr>\n",
       "      <td>1641764</td>\n",
       "      <td>1138905</td>\n",
       "    </tr>\n",
       "    <tr>\n",
       "      <td>1641765</td>\n",
       "      <td>1138905</td>\n",
       "    </tr>\n",
       "    <tr>\n",
       "      <td>1675971</td>\n",
       "      <td>1139554</td>\n",
       "    </tr>\n",
       "    <tr>\n",
       "      <td>1675972</td>\n",
       "      <td>1139554</td>\n",
       "    </tr>\n",
       "    <tr>\n",
       "      <td>...</td>\n",
       "      <td>...</td>\n",
       "    </tr>\n",
       "    <tr>\n",
       "      <td>1267962</td>\n",
       "      <td>1065899</td>\n",
       "    </tr>\n",
       "    <tr>\n",
       "      <td>1273912</td>\n",
       "      <td>1065899</td>\n",
       "    </tr>\n",
       "    <tr>\n",
       "      <td>1273913</td>\n",
       "      <td>1065899</td>\n",
       "    </tr>\n",
       "    <tr>\n",
       "      <td>1277129</td>\n",
       "      <td>1065899</td>\n",
       "    </tr>\n",
       "    <tr>\n",
       "      <td>1277130</td>\n",
       "      <td>1065899</td>\n",
       "    </tr>\n",
       "  </tbody>\n",
       "</table>\n",
       "<p>16699 rows × 1 columns</p>\n",
       "</div>"
      ],
      "text/plain": [
       "         orderNumber\n",
       "1668341      1135897\n",
       "1641764      1138905\n",
       "1641765      1138905\n",
       "1675971      1139554\n",
       "1675972      1139554\n",
       "...              ...\n",
       "1267962      1065899\n",
       "1273912      1065899\n",
       "1273913      1065899\n",
       "1277129      1065899\n",
       "1277130      1065899\n",
       "\n",
       "[16699 rows x 1 columns]"
      ]
     },
     "execution_count": 64,
     "metadata": {},
     "output_type": "execute_result"
    }
   ],
   "source": [
    "df[[\"orderNumber\"]].dropna()"
   ]
  },
  {
   "cell_type": "code",
   "execution_count": 65,
   "metadata": {},
   "outputs": [
    {
     "data": {
      "text/plain": [
       "4097"
      ]
     },
     "execution_count": 65,
     "metadata": {},
     "output_type": "execute_result"
    }
   ],
   "source": [
    "df[\"orderNumber\"].nunique()"
   ]
  },
  {
   "cell_type": "markdown",
   "metadata": {},
   "source": [
    "Number of order numbers per patient:"
   ]
  },
  {
   "cell_type": "code",
   "execution_count": 66,
   "metadata": {},
   "outputs": [
    {
     "data": {
      "text/plain": [
       "pid\n",
       "430694706      0\n",
       "380920756      0\n",
       "379980757      0\n",
       "377788759      0\n",
       "375382761      0\n",
       "            ... \n",
       "532578604     65\n",
       "11339133      81\n",
       "621138515     83\n",
       "104681290     88\n",
       "788959348    150\n",
       "Name: orderNumber, Length: 680, dtype: int64"
      ]
     },
     "execution_count": 66,
     "metadata": {},
     "output_type": "execute_result"
    }
   ],
   "source": [
    "df.groupby(\"pid\")[\"orderNumber\"].nunique().sort_values()"
   ]
  },
  {
   "cell_type": "markdown",
   "metadata": {},
   "source": [
    "There are 280 patients with more than one order number. "
   ]
  },
  {
   "cell_type": "code",
   "execution_count": 67,
   "metadata": {},
   "outputs": [
    {
     "data": {
      "text/plain": [
       "280"
      ]
     },
     "execution_count": 67,
     "metadata": {},
     "output_type": "execute_result"
    }
   ],
   "source": [
    "df[df.groupby(\"pid\")[\"orderNumber\"].transform('nunique')>1].groupby(\"pid\").ngroups"
   ]
  },
  {
   "cell_type": "markdown",
   "metadata": {},
   "source": [
    "### Column organismId"
   ]
  },
  {
   "cell_type": "markdown",
   "metadata": {},
   "source": [
    "**organismId**: Snomed code of the identified organism in a microbiology test."
   ]
  },
  {
   "cell_type": "code",
   "execution_count": 68,
   "metadata": {},
   "outputs": [
    {
     "data": {
      "text/plain": [
       "2126"
      ]
     },
     "execution_count": 68,
     "metadata": {},
     "output_type": "execute_result"
    }
   ],
   "source": [
    "df[\"organismId\"].count()"
   ]
  },
  {
   "cell_type": "code",
   "execution_count": 69,
   "metadata": {},
   "outputs": [
    {
     "data": {
      "text/plain": [
       "61"
      ]
     },
     "execution_count": 69,
     "metadata": {},
     "output_type": "execute_result"
    }
   ],
   "source": [
    "df[\"organismId\"].nunique()"
   ]
  },
  {
   "cell_type": "code",
   "execution_count": 70,
   "metadata": {},
   "outputs": [
    {
     "data": {
      "text/plain": [
       "112283007    414\n",
       "56415008     295\n",
       "78065002     205\n",
       "90272000     184\n",
       "52499004     143\n",
       "3092008       94\n",
       "243301005     87\n",
       "60875001      87\n",
       "53326005      47\n",
       "73457008      44\n",
       "44304009      42\n",
       "61302002      39\n",
       "40347003      37\n",
       "44827007      34\n",
       "55247009      33\n",
       "91288006      23\n",
       "40886007      21\n",
       "414102007     19\n",
       "113697002     18\n",
       "43492007      15\n",
       "47885008      14\n",
       "243416009     13\n",
       "444877006     12\n",
       "62093005      11\n",
       "243386003     11\n",
       "114129000     11\n",
       "43690008      11\n",
       "14385002      10\n",
       "8191000       10\n",
       "83452006       9\n",
       "62592009       8\n",
       "87002009       8\n",
       "33562003       8\n",
       "372377007      7\n",
       "9861002        7\n",
       "103494005      6\n",
       "115952006      6\n",
       "84408007       6\n",
       "127537007      6\n",
       "76995003       6\n",
       "33522002       5\n",
       "115125000      5\n",
       "30949009       4\n",
       "114264004      4\n",
       "7757008        4\n",
       "8331005        4\n",
       "413931002      4\n",
       "87172008       3\n",
       "76199005       3\n",
       "80166006       3\n",
       "83514008       3\n",
       "115158009      3\n",
       "66872005       3\n",
       "116197008      3\n",
       "14196002       3\n",
       "243398008      2\n",
       "39473003       2\n",
       "48299003       2\n",
       "243397003      2\n",
       "88529008       2\n",
       "63550006       1\n",
       "Name: organismId, dtype: int64"
      ]
     },
     "execution_count": 70,
     "metadata": {},
     "output_type": "execute_result"
    }
   ],
   "source": [
    "df[\"organismId\"].value_counts()"
   ]
  }
 ],
 "metadata": {
  "kernelspec": {
   "display_name": "Python 3",
   "language": "python",
   "name": "python3"
  },
  "language_info": {
   "codemirror_mode": {
    "name": "ipython",
    "version": 3
   },
   "file_extension": ".py",
   "mimetype": "text/x-python",
   "name": "python",
   "nbconvert_exporter": "python",
   "pygments_lexer": "ipython3",
   "version": "3.7.4"
  }
 },
 "nbformat": 4,
 "nbformat_minor": 2
}
