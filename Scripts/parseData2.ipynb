{
 "cells": [
  {
   "cell_type": "markdown",
   "metadata": {
    "scrolled": false
   },
   "source": [
    "**Notebook content:**\n",
    "- Compute statistics of dates of events, such as number of events before surgery date. "
   ]
  },
  {
   "cell_type": "code",
   "execution_count": 1,
   "metadata": {},
   "outputs": [],
   "source": [
    "%reset -f "
   ]
  },
  {
   "cell_type": "code",
   "execution_count": 2,
   "metadata": {},
   "outputs": [],
   "source": [
    "import sys\n",
    "import pandas as pd\n",
    "import numpy as np\n",
    "import datetime\n",
    "from IPython.display import display\n",
    "\n",
    "pd.set_option('display.max_columns', 30)\n",
    "pd.set_option('display.max_rows', 200)\n",
    "#pd.set_option('display.float_format', lambda x: '%.f' % x)\n",
    "pd.options.display.precision = 4\n",
    "\n",
    "#import sys\n",
    "np.set_printoptions(threshold=sys.maxsize) #- print the full NumPy array\n",
    "\n",
    "from myDefs.defs import *\n",
    "\n",
    "# visualization\n",
    "import seaborn as sns\n",
    "import matplotlib.pyplot as plt \n",
    "from matplotlib.pyplot import figure\n",
    "%matplotlib inline\n"
   ]
  },
  {
   "cell_type": "markdown",
   "metadata": {},
   "source": [
    "**Read events file**"
   ]
  },
  {
   "cell_type": "code",
   "execution_count": null,
   "metadata": {
    "pycharm": {
     "is_executing": false
    }
   },
   "outputs": [],
   "source": [
    "file = DATA_PATH + \"parseData1.csv\"\n",
    "df = pd.read_csv(file, sep=',')  "
   ]
  },
  {
   "cell_type": "code",
   "execution_count": null,
   "metadata": {
    "jupyter": {
     "outputs_hidden": false
    },
    "pycharm": {
     "name": "#%%\n"
    }
   },
   "outputs": [],
   "source": [
    "df.shape"
   ]
  },
  {
   "cell_type": "code",
   "execution_count": null,
   "metadata": {},
   "outputs": [],
   "source": [
    "df.head()"
   ]
  },
  {
   "cell_type": "markdown",
   "metadata": {},
   "source": [
    "**Read anonymous file**"
   ]
  },
  {
   "cell_type": "code",
   "execution_count": null,
   "metadata": {
    "pycharm": {
     "is_executing": false
    }
   },
   "outputs": [],
   "source": [
    "file = DATA_PATH + \"parseAnonymous0.csv\"\n",
    "anonymous = pd.read_csv(file, sep=',') "
   ]
  },
  {
   "cell_type": "code",
   "execution_count": null,
   "metadata": {
    "jupyter": {
     "outputs_hidden": false
    },
    "pycharm": {
     "name": "#%%\n"
    }
   },
   "outputs": [],
   "source": [
    "anonymous.shape"
   ]
  },
  {
   "cell_type": "code",
   "execution_count": null,
   "metadata": {},
   "outputs": [],
   "source": [
    "anonymous.head()"
   ]
  },
  {
   "cell_type": "markdown",
   "metadata": {},
   "source": [
    "### Parse Dates"
   ]
  },
  {
   "cell_type": "markdown",
   "metadata": {},
   "source": [
    "Parse dates of events in events file."
   ]
  },
  {
   "cell_type": "code",
   "execution_count": null,
   "metadata": {},
   "outputs": [],
   "source": [
    "#parse date of start event\n",
    "df['eventStartDate'] = pd.to_datetime(df['eventStartDate'], format='%Y-%m-%d')\n",
    "\n",
    "#parse date of end event\n",
    "df['eventEndDate'] = pd.to_datetime(df['eventEndDate'], format='%Y-%m-%d')"
   ]
  },
  {
   "cell_type": "markdown",
   "metadata": {},
   "source": [
    "Parse date of surgery in anonymous file."
   ]
  },
  {
   "cell_type": "code",
   "execution_count": null,
   "metadata": {},
   "outputs": [],
   "source": [
    "#parse date of surgery\n",
    "anonymous['Date of surgery'] = pd.to_datetime(anonymous['Date of surgery'], format='%Y-%m-%d')"
   ]
  },
  {
   "cell_type": "markdown",
   "metadata": {},
   "source": [
    "### Sort by patient id and event start dates"
   ]
  },
  {
   "cell_type": "code",
   "execution_count": null,
   "metadata": {},
   "outputs": [],
   "source": [
    "df.sort_values([\"pid\", \"eventStartDate\"], inplace=True)"
   ]
  },
  {
   "cell_type": "markdown",
   "metadata": {},
   "source": [
    "# Time"
   ]
  },
  {
   "cell_type": "markdown",
   "metadata": {},
   "source": [
    "## Column eventStartDate, eventEndDate"
   ]
  },
  {
   "cell_type": "code",
   "execution_count": null,
   "metadata": {},
   "outputs": [],
   "source": [
    "df['eventStartDate'].head()"
   ]
  },
  {
   "cell_type": "markdown",
   "metadata": {},
   "source": [
    "### Date range\n",
    "Dates of events are from **01.01.2017** until **21.05.2019**"
   ]
  },
  {
   "cell_type": "code",
   "execution_count": null,
   "metadata": {},
   "outputs": [],
   "source": [
    "#get time interval of events starts \n",
    "print(df['eventStartDate'].min(), \"-\" ,df['eventStartDate'].max())"
   ]
  },
  {
   "cell_type": "code",
   "execution_count": null,
   "metadata": {},
   "outputs": [],
   "source": [
    "#get time interval of events ends \n",
    "print(df['eventEndDate'].min(), \"-\" ,df['eventEndDate'].max())"
   ]
  },
  {
   "cell_type": "markdown",
   "metadata": {},
   "source": [
    "Years: **2017-2019**. Year 2009 is probably a mistake. Most of the data is from 2018."
   ]
  },
  {
   "cell_type": "code",
   "execution_count": null,
   "metadata": {},
   "outputs": [],
   "source": [
    "df['eventStartDate'].dt.year.value_counts()"
   ]
  },
  {
   "cell_type": "code",
   "execution_count": null,
   "metadata": {},
   "outputs": [],
   "source": [
    "#get min date of events starts  exculding year 2019 \n",
    "df[df['eventStartDate'].dt.year != 2009]['eventStartDate'].min()"
   ]
  },
  {
   "cell_type": "code",
   "execution_count": null,
   "metadata": {},
   "outputs": [],
   "source": [
    "#get min date of events starts  exculding year 2019 \n",
    "df[df['eventEndDate'].dt.year != 2009]['eventEndDate'].min()"
   ]
  },
  {
   "cell_type": "code",
   "execution_count": null,
   "metadata": {},
   "outputs": [],
   "source": [
    "#verify that patient contains the 2009 year is not empty\n",
    "#the event in this year is Carotid endarterectomy (כריתת רחם)\n",
    "df[df['pid']==722269414].shape"
   ]
  },
  {
   "cell_type": "markdown",
   "metadata": {},
   "source": [
    "**Duration of events**\n",
    "\n",
    "Most events last less than 1 hour, however there are: \n",
    "- 16,682 (~1%) which last more than an hour.\n",
    "- 12,981 (~0.8%) which last more than a day - many of these events are related to bacterial culture."
   ]
  },
  {
   "cell_type": "code",
   "execution_count": null,
   "metadata": {},
   "outputs": [],
   "source": [
    "df['eventDuration'] = df['eventEndDate'] - df['eventStartDate']"
   ]
  },
  {
   "cell_type": "code",
   "execution_count": null,
   "metadata": {},
   "outputs": [],
   "source": [
    "df['eventDuration'].describe()"
   ]
  },
  {
   "cell_type": "code",
   "execution_count": null,
   "metadata": {},
   "outputs": [],
   "source": [
    "duration = df[['eventDuration']]\n",
    "\n",
    "hour_plus = df[df['eventDuration'].dt.seconds > 3600]\n",
    "print(hour_plus.shape[0], \"->\", (hour_plus.shape[0]/df[\"eventName\"].count())*100, \"%\")\n",
    "\n",
    "day_plus = df[df['eventDuration'].dt.days > 1]\n",
    "print(day_plus.shape[0], \"->\", (day_plus.shape[0]/df[\"eventName\"].count())*100, \"%\")"
   ]
  },
  {
   "cell_type": "code",
   "execution_count": null,
   "metadata": {},
   "outputs": [],
   "source": [
    "hour_plus;"
   ]
  },
  {
   "cell_type": "code",
   "execution_count": null,
   "metadata": {},
   "outputs": [],
   "source": [
    "hour_plus[\"eventName\"].value_counts();"
   ]
  },
  {
   "cell_type": "markdown",
   "metadata": {},
   "source": [
    "# Statistics of dates\n",
    "For each patient show statstics of the event dates.\n",
    "\n",
    "For example, how many events before date of surgery and after day of surgery."
   ]
  },
  {
   "cell_type": "markdown",
   "metadata": {},
   "source": [
    "## Create Table 1\n",
    "\n",
    "Columns of table 1:\n",
    "- **start_day** - date of first event.\n",
    "- **end_day** - date of last event.\n",
    "- **period** - end_day - starts_day. \n",
    "- **nunique_days** - number of days for which there are events.\n",
    "- **n_events** - total number of events for this patient."
   ]
  },
  {
   "cell_type": "code",
   "execution_count": null,
   "metadata": {},
   "outputs": [],
   "source": [
    "anonymous_full = anonymous[~anonymous['Date of surgery'].isna()] #missing values, should be available later "
   ]
  },
  {
   "cell_type": "code",
   "execution_count": null,
   "metadata": {},
   "outputs": [],
   "source": [
    "anonymous_full.shape"
   ]
  },
  {
   "cell_type": "code",
   "execution_count": null,
   "metadata": {},
   "outputs": [],
   "source": [
    "df.head();"
   ]
  },
  {
   "cell_type": "code",
   "execution_count": null,
   "metadata": {},
   "outputs": [],
   "source": [
    "#get first and last days we have for patient\n",
    "start_day = df.groupby('pid')['eventStartDate'].min().dt.normalize().rename(\"start_day\")\n",
    "end_day = df.groupby('pid')['eventEndDate'].max().dt.normalize().rename(\"end_day\")\n",
    "\n",
    "#time duration per patient, i.e., period in which data was collected\n",
    "period = pd.Series(end_day - start_day).rename(\"period\")\n"
   ]
  },
  {
   "cell_type": "code",
   "execution_count": null,
   "metadata": {},
   "outputs": [],
   "source": [
    "#get number of days in which data was collected\n",
    "def nuniqueDays(x):\n",
    "    dates = pd.concat([x['eventStartDate'].dt.normalize(), x['eventEndDate'].dt.normalize()])\n",
    "    return dates.nunique()\n",
    "  \n",
    "nunique_days = df.groupby('pid').apply(nuniqueDays).rename(\"nunique_days\")\n",
    "\n",
    "#nunique_days = df.groupby('pid')['eventStartDate'].apply(lambda x : x.dt.normalize().nunique()).rename(\"nunique_days\")"
   ]
  },
  {
   "cell_type": "code",
   "execution_count": null,
   "metadata": {},
   "outputs": [],
   "source": [
    "#get total number of events \n",
    "nevents = df.groupby('pid')['eventStartDate'].count().rename(\"n_events\")"
   ]
  },
  {
   "cell_type": "code",
   "execution_count": null,
   "metadata": {},
   "outputs": [],
   "source": [
    "times = pd.concat([start_day,end_day, period, nunique_days, nevents], axis=1)\n",
    "times"
   ]
  },
  {
   "cell_type": "code",
   "execution_count": null,
   "metadata": {},
   "outputs": [],
   "source": [
    "anonymous = anonymous.sort_values([\"pid\", 'Date of surgery'])"
   ]
  },
  {
   "cell_type": "code",
   "execution_count": null,
   "metadata": {},
   "outputs": [],
   "source": [
    "#there are patients who underwent more than 1 surgery  \n",
    "#thus put each date of surgery in a saperate column\n",
    "def split_surgeries(x, max_surgeries):   \n",
    "    padding = [np.datetime64('NaT')] * (max_surgeries-x.values.shape[0])\n",
    "    ls = list(x.values) + padding\n",
    "    titels = [\"surgery_{}\".format(i+1) for i in range(max_surgeries)]\n",
    "    return pd.DataFrame([ls], columns=titels)\n",
    "\n",
    "max_surgeries = anonymous.groupby(\"pid\")['Date of surgery'].count().max()\n",
    "\n",
    "surgeries_dates = anonymous.groupby(\"pid\")['Date of surgery'].apply(split_surgeries, max_surgeries)\n",
    "surgeries_dates.reset_index(level=1, drop=True, inplace=True)"
   ]
  },
  {
   "cell_type": "code",
   "execution_count": null,
   "metadata": {},
   "outputs": [],
   "source": [
    "surgeries_dates;"
   ]
  },
  {
   "cell_type": "code",
   "execution_count": null,
   "metadata": {},
   "outputs": [],
   "source": [
    "surgeries_dates[~surgeries_dates[\"surgery_2\"].isna()];"
   ]
  },
  {
   "cell_type": "code",
   "execution_count": null,
   "metadata": {},
   "outputs": [],
   "source": [
    "times = times.merge(surgeries_dates, on=\"pid\") "
   ]
  },
  {
   "cell_type": "markdown",
   "metadata": {},
   "source": [
    "## Show Table 1"
   ]
  },
  {
   "cell_type": "code",
   "execution_count": null,
   "metadata": {},
   "outputs": [],
   "source": [
    "times"
   ]
  },
  {
   "cell_type": "code",
   "execution_count": null,
   "metadata": {},
   "outputs": [],
   "source": [
    "times.describe()"
   ]
  },
  {
   "cell_type": "markdown",
   "metadata": {},
   "source": [
    "## Create Table 2\n",
    "\n",
    "Columns of table 2:\n",
    "- **nEvents_before** - number of events before _first surgery.\n",
    "- **nEvents_in** - number of events in _first surgery day.\n",
    "- **nEvents_after** - number of events after _first surgery day.\n",
    "- **nDays_before** - number of days before _first surgery.\n",
    "- **nDays_before** - total number of events after _first surgery day."
   ]
  },
  {
   "cell_type": "code",
   "execution_count": null,
   "metadata": {},
   "outputs": [],
   "source": [
    "def getNUniqueDays(df):\n",
    "    dates = pd.concat([df['eventStartDate'].dt.normalize(), df['eventEndDate'].dt.normalize()])\n",
    "    return dates.nunique()\n",
    "\n",
    "\n",
    "def analyseDates(x, dates):\n",
    "    \n",
    "    #get surgery date of current patient \n",
    "    pid = x.iloc[0][\"pid\"]\n",
    "    surgery_date = dates.loc[pid, \"surgery_1\"]\n",
    "    \n",
    "    titels = [\"nEvents_before\", \"nEvents_in\", \"nEvents_after\", \"nDays_before\", \"nDays_after\"]\n",
    "    \n",
    "    if pd.isnull(surgery_date):\n",
    "        return None\n",
    "        #t = [0] * len(titels)\n",
    "     \n",
    "    #dates before and surgery\n",
    "    before_surgery = x[x['eventStartDate'] < surgery_date]\n",
    "    surgery_day = x[x['eventStartDate'].dt.normalize() == surgery_date]\n",
    "    after_surgery = x[x['eventStartDate'] >= surgery_date + datetime.timedelta(days=1)]\n",
    "        \n",
    "    #number of unique days   \n",
    "    ndays_before = getNUniqueDays(before_surgery)\n",
    "    ndays_after = getNUniqueDays(after_surgery)\n",
    "\n",
    "    #create data frame\n",
    "    data = [before_surgery.shape[0], surgery_day.shape[0], after_surgery.shape[0], \n",
    "         ndays_before, ndays_after]\n",
    "    df = pd.DataFrame([data], columns=titels)  \n",
    "    \n",
    "    return df\n",
    "\n",
    "    \n",
    "\n",
    "before_after = df.groupby('pid').apply(analyseDates, times)"
   ]
  },
  {
   "cell_type": "markdown",
   "metadata": {},
   "source": [
    "## Show Table 1"
   ]
  },
  {
   "cell_type": "code",
   "execution_count": null,
   "metadata": {},
   "outputs": [],
   "source": [
    "before_after"
   ]
  },
  {
   "cell_type": "code",
   "execution_count": null,
   "metadata": {},
   "outputs": [],
   "source": [
    "before_after.describe()"
   ]
  }
 ],
 "metadata": {
  "kernelspec": {
   "display_name": "Python 3",
   "language": "python",
   "name": "python3"
  },
  "language_info": {
   "codemirror_mode": {
    "name": "ipython",
    "version": 3
   },
   "file_extension": ".py",
   "mimetype": "text/x-python",
   "name": "python",
   "nbconvert_exporter": "python",
   "pygments_lexer": "ipython3",
   "version": "3.7.4"
  }
 },
 "nbformat": 4,
 "nbformat_minor": 2
}
