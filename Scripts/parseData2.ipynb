{
 "cells": [
  {
   "cell_type": "markdown",
   "metadata": {
    "scrolled": false
   },
   "source": [
    "**Notebook content:**\n",
    "- Compute statistics of dates of events, such as number of events before surgery date. "
   ]
  },
  {
   "cell_type": "code",
   "execution_count": 89,
   "metadata": {},
   "outputs": [],
   "source": [
    "%reset -f "
   ]
  },
  {
   "cell_type": "code",
   "execution_count": 90,
   "metadata": {},
   "outputs": [],
   "source": [
    "import sys\n",
    "import pandas as pd\n",
    "import numpy as np\n",
    "import datetime\n",
    "from IPython.display import display\n",
    "\n",
    "pd.set_option('display.max_columns', 30)\n",
    "pd.set_option('display.max_rows', 200)\n",
    "#pd.set_option('display.float_format', lambda x: '%.f' % x)\n",
    "pd.options.display.precision = 4\n",
    "\n",
    "#import sys\n",
    "np.set_printoptions(threshold=sys.maxsize) #- print the full NumPy array\n",
    "\n",
    "from myDefs.defs import *\n",
    "\n",
    "# visualization\n",
    "import seaborn as sns\n",
    "import matplotlib.pyplot as plt \n",
    "from matplotlib.pyplot import figure\n",
    "%matplotlib inline\n"
   ]
  },
  {
   "cell_type": "markdown",
   "metadata": {},
   "source": [
    "**Read events file**"
   ]
  },
  {
   "cell_type": "code",
   "execution_count": 91,
   "metadata": {
    "pycharm": {
     "is_executing": false
    }
   },
   "outputs": [],
   "source": [
    "file = DATA_PATH + \"parseData1.csv\"\n",
    "df = pd.read_csv(file, sep=',')  "
   ]
  },
  {
   "cell_type": "code",
   "execution_count": 92,
   "metadata": {
    "jupyter": {
     "outputs_hidden": false
    },
    "pycharm": {
     "name": "#%%\n"
    }
   },
   "outputs": [
    {
     "data": {
      "text/plain": [
       "(1683616, 17)"
      ]
     },
     "execution_count": 92,
     "metadata": {},
     "output_type": "execute_result"
    }
   ],
   "source": [
    "df.shape"
   ]
  },
  {
   "cell_type": "code",
   "execution_count": 93,
   "metadata": {},
   "outputs": [
    {
     "data": {
      "text/html": [
       "<div>\n",
       "<style scoped>\n",
       "    .dataframe tbody tr th:only-of-type {\n",
       "        vertical-align: middle;\n",
       "    }\n",
       "\n",
       "    .dataframe tbody tr th {\n",
       "        vertical-align: top;\n",
       "    }\n",
       "\n",
       "    .dataframe thead th {\n",
       "        text-align: right;\n",
       "    }\n",
       "</style>\n",
       "<table border=\"1\" class=\"dataframe\">\n",
       "  <thead>\n",
       "    <tr style=\"text-align: right;\">\n",
       "      <th></th>\n",
       "      <th>pid</th>\n",
       "      <th>admissionId</th>\n",
       "      <th>eventName</th>\n",
       "      <th>eventStartDate</th>\n",
       "      <th>eventEndDate</th>\n",
       "      <th>dValue</th>\n",
       "      <th>iValue</th>\n",
       "      <th>sValue</th>\n",
       "      <th>eventDesc</th>\n",
       "      <th>unitOfMeasure</th>\n",
       "      <th>orderNumber</th>\n",
       "      <th>organismId</th>\n",
       "      <th>eventCode</th>\n",
       "      <th>eventCodeOrg</th>\n",
       "      <th>eventType</th>\n",
       "      <th>eventTypeOrg</th>\n",
       "      <th>sourceName</th>\n",
       "    </tr>\n",
       "  </thead>\n",
       "  <tbody>\n",
       "    <tr>\n",
       "      <td>0</td>\n",
       "      <td>1.0133e+09</td>\n",
       "      <td>1840641.0</td>\n",
       "      <td>WBC</td>\n",
       "      <td>2018-02-15 10:58:00.0000000</td>\n",
       "      <td>2018-02-15 10:58:00.0000000</td>\n",
       "      <td>2.14</td>\n",
       "      <td>0.0</td>\n",
       "      <td>NaN</td>\n",
       "      <td>NaN</td>\n",
       "      <td>K/microL</td>\n",
       "      <td>NaN</td>\n",
       "      <td>NaN</td>\n",
       "      <td>26464-8</td>\n",
       "      <td>100109500</td>\n",
       "      <td>loinc</td>\n",
       "      <td>conv_lab_cham</td>\n",
       "      <td>[MIRROR_Chameleon].[Lab_Results]</td>\n",
       "    </tr>\n",
       "    <tr>\n",
       "      <td>1</td>\n",
       "      <td>1.0133e+09</td>\n",
       "      <td>1840641.0</td>\n",
       "      <td>Alkaline Phosphatase -Blood</td>\n",
       "      <td>2018-02-15 10:25:00.0000000</td>\n",
       "      <td>2018-02-15 10:25:00.0000000</td>\n",
       "      <td>129.00</td>\n",
       "      <td>0.0</td>\n",
       "      <td>NaN</td>\n",
       "      <td>NaN</td>\n",
       "      <td>IU/l</td>\n",
       "      <td>NaN</td>\n",
       "      <td>NaN</td>\n",
       "      <td>77141-0</td>\n",
       "      <td>100184075</td>\n",
       "      <td>loinc</td>\n",
       "      <td>conv_lab_cham</td>\n",
       "      <td>[MIRROR_Chameleon].[Lab_Results]</td>\n",
       "    </tr>\n",
       "    <tr>\n",
       "      <td>2</td>\n",
       "      <td>1.0133e+09</td>\n",
       "      <td>1840641.0</td>\n",
       "      <td>Protein -Blood, total</td>\n",
       "      <td>2018-02-15 10:25:00.0000000</td>\n",
       "      <td>2018-02-15 10:25:00.0000000</td>\n",
       "      <td>3.60</td>\n",
       "      <td>0.0</td>\n",
       "      <td>NaN</td>\n",
       "      <td>NaN</td>\n",
       "      <td>g/dl</td>\n",
       "      <td>NaN</td>\n",
       "      <td>NaN</td>\n",
       "      <td>2885-2</td>\n",
       "      <td>100184155</td>\n",
       "      <td>loinc</td>\n",
       "      <td>conv_lab_cham</td>\n",
       "      <td>[MIRROR_Chameleon].[Lab_Results]</td>\n",
       "    </tr>\n",
       "    <tr>\n",
       "      <td>3</td>\n",
       "      <td>1.0133e+09</td>\n",
       "      <td>1840641.0</td>\n",
       "      <td>Sodium -Blood</td>\n",
       "      <td>2018-02-15 10:25:00.0000000</td>\n",
       "      <td>2018-02-15 10:25:00.0000000</td>\n",
       "      <td>147.00</td>\n",
       "      <td>0.0</td>\n",
       "      <td>NaN</td>\n",
       "      <td>NaN</td>\n",
       "      <td>meq/l</td>\n",
       "      <td>NaN</td>\n",
       "      <td>NaN</td>\n",
       "      <td>2951-2</td>\n",
       "      <td>100184295</td>\n",
       "      <td>loinc</td>\n",
       "      <td>conv_lab_cham</td>\n",
       "      <td>[MIRROR_Chameleon].[Lab_Results]</td>\n",
       "    </tr>\n",
       "    <tr>\n",
       "      <td>4</td>\n",
       "      <td>1.0133e+09</td>\n",
       "      <td>1840641.0</td>\n",
       "      <td>Urea -Blood</td>\n",
       "      <td>2018-02-15 10:25:00.0000000</td>\n",
       "      <td>2018-02-15 10:25:00.0000000</td>\n",
       "      <td>24.00</td>\n",
       "      <td>0.0</td>\n",
       "      <td>NaN</td>\n",
       "      <td>NaN</td>\n",
       "      <td>mg/dl</td>\n",
       "      <td>NaN</td>\n",
       "      <td>NaN</td>\n",
       "      <td>3091-6</td>\n",
       "      <td>100184520</td>\n",
       "      <td>loinc</td>\n",
       "      <td>conv_lab_cham</td>\n",
       "      <td>[MIRROR_Chameleon].[Lab_Results]</td>\n",
       "    </tr>\n",
       "  </tbody>\n",
       "</table>\n",
       "</div>"
      ],
      "text/plain": [
       "          pid  admissionId                    eventName  \\\n",
       "0  1.0133e+09    1840641.0                          WBC   \n",
       "1  1.0133e+09    1840641.0  Alkaline Phosphatase -Blood   \n",
       "2  1.0133e+09    1840641.0        Protein -Blood, total   \n",
       "3  1.0133e+09    1840641.0                Sodium -Blood   \n",
       "4  1.0133e+09    1840641.0                  Urea -Blood   \n",
       "\n",
       "                eventStartDate                 eventEndDate  dValue  iValue  \\\n",
       "0  2018-02-15 10:58:00.0000000  2018-02-15 10:58:00.0000000    2.14     0.0   \n",
       "1  2018-02-15 10:25:00.0000000  2018-02-15 10:25:00.0000000  129.00     0.0   \n",
       "2  2018-02-15 10:25:00.0000000  2018-02-15 10:25:00.0000000    3.60     0.0   \n",
       "3  2018-02-15 10:25:00.0000000  2018-02-15 10:25:00.0000000  147.00     0.0   \n",
       "4  2018-02-15 10:25:00.0000000  2018-02-15 10:25:00.0000000   24.00     0.0   \n",
       "\n",
       "  sValue eventDesc unitOfMeasure  orderNumber  organismId eventCode  \\\n",
       "0    NaN       NaN      K/microL          NaN         NaN   26464-8   \n",
       "1    NaN       NaN          IU/l          NaN         NaN   77141-0   \n",
       "2    NaN       NaN          g/dl          NaN         NaN    2885-2   \n",
       "3    NaN       NaN         meq/l          NaN         NaN    2951-2   \n",
       "4    NaN       NaN         mg/dl          NaN         NaN    3091-6   \n",
       "\n",
       "  eventCodeOrg eventType   eventTypeOrg                        sourceName  \n",
       "0    100109500     loinc  conv_lab_cham  [MIRROR_Chameleon].[Lab_Results]  \n",
       "1    100184075     loinc  conv_lab_cham  [MIRROR_Chameleon].[Lab_Results]  \n",
       "2    100184155     loinc  conv_lab_cham  [MIRROR_Chameleon].[Lab_Results]  \n",
       "3    100184295     loinc  conv_lab_cham  [MIRROR_Chameleon].[Lab_Results]  \n",
       "4    100184520     loinc  conv_lab_cham  [MIRROR_Chameleon].[Lab_Results]  "
      ]
     },
     "execution_count": 93,
     "metadata": {},
     "output_type": "execute_result"
    }
   ],
   "source": [
    "df.head()"
   ]
  },
  {
   "cell_type": "markdown",
   "metadata": {},
   "source": [
    "**Read anonymous file**"
   ]
  },
  {
   "cell_type": "code",
   "execution_count": 94,
   "metadata": {
    "pycharm": {
     "is_executing": false
    }
   },
   "outputs": [],
   "source": [
    "file = DATA_PATH + \"parseAnonymous0.csv\"\n",
    "anonymous = pd.read_csv(file, sep=',') "
   ]
  },
  {
   "cell_type": "code",
   "execution_count": 95,
   "metadata": {
    "jupyter": {
     "outputs_hidden": false
    },
    "pycharm": {
     "name": "#%%\n"
    }
   },
   "outputs": [
    {
     "data": {
      "text/plain": [
       "(718, 14)"
      ]
     },
     "execution_count": 95,
     "metadata": {},
     "output_type": "execute_result"
    }
   ],
   "source": [
    "anonymous.shape"
   ]
  },
  {
   "cell_type": "code",
   "execution_count": 129,
   "metadata": {},
   "outputs": [
    {
     "data": {
      "text/html": [
       "<div>\n",
       "<style scoped>\n",
       "    .dataframe tbody tr th:only-of-type {\n",
       "        vertical-align: middle;\n",
       "    }\n",
       "\n",
       "    .dataframe tbody tr th {\n",
       "        vertical-align: top;\n",
       "    }\n",
       "\n",
       "    .dataframe thead th {\n",
       "        text-align: right;\n",
       "    }\n",
       "</style>\n",
       "<table border=\"1\" class=\"dataframe\">\n",
       "  <thead>\n",
       "    <tr style=\"text-align: right;\">\n",
       "      <th></th>\n",
       "      <th>pid</th>\n",
       "      <th>Days of hospitalization</th>\n",
       "      <th>Sex</th>\n",
       "      <th>Age</th>\n",
       "      <th>Date of surgery</th>\n",
       "      <th>Patient classification</th>\n",
       "      <th>Name of surgery</th>\n",
       "      <th>Responsible surgeon</th>\n",
       "      <th>Urgency</th>\n",
       "      <th>Surgical approach</th>\n",
       "      <th>Complications</th>\n",
       "      <th>Kk</th>\n",
       "      <th>Simple</th>\n",
       "      <th>Severe</th>\n",
       "    </tr>\n",
       "  </thead>\n",
       "  <tbody>\n",
       "    <tr>\n",
       "      <td>0</td>\n",
       "      <td>1068368</td>\n",
       "      <td>24.0</td>\n",
       "      <td>NaN</td>\n",
       "      <td>NaN</td>\n",
       "      <td>NaT</td>\n",
       "      <td>Surgical Oncology</td>\n",
       "      <td>DIAGNOSTIC/ STAGING LAPAROSCOPY 493200;LAPAROS...</td>\n",
       "      <td>Hermon Hila</td>\n",
       "      <td>elective</td>\n",
       "      <td>Laparoscopic</td>\n",
       "      <td>NaN</td>\n",
       "      <td>1.0</td>\n",
       "      <td>NaN</td>\n",
       "      <td>NaN</td>\n",
       "    </tr>\n",
       "    <tr>\n",
       "      <td>1</td>\n",
       "      <td>1123813</td>\n",
       "      <td>42.0</td>\n",
       "      <td>male</td>\n",
       "      <td>59.0</td>\n",
       "      <td>2018-07-18</td>\n",
       "      <td>Surgical Oncology</td>\n",
       "      <td>CYTOREDUCTIVE SURGERY WITH HIPEC (HYPERTHERMIC...</td>\n",
       "      <td>Nissan Aviram</td>\n",
       "      <td>elective</td>\n",
       "      <td>Open</td>\n",
       "      <td>Anastomotic Leak</td>\n",
       "      <td>1.0</td>\n",
       "      <td>1.0</td>\n",
       "      <td>1.0</td>\n",
       "    </tr>\n",
       "    <tr>\n",
       "      <td>2</td>\n",
       "      <td>1128298</td>\n",
       "      <td>NaN</td>\n",
       "      <td>NaN</td>\n",
       "      <td>NaN</td>\n",
       "      <td>NaT</td>\n",
       "      <td>Upper Gi</td>\n",
       "      <td>LAPAROSCOPIC CHOLECYSTECTOMY 475620; LAPAROSCO...</td>\n",
       "      <td>NaN</td>\n",
       "      <td>elective</td>\n",
       "      <td>Laparoscopic</td>\n",
       "      <td>NaN</td>\n",
       "      <td>1.0</td>\n",
       "      <td>NaN</td>\n",
       "      <td>NaN</td>\n",
       "    </tr>\n",
       "    <tr>\n",
       "      <td>3</td>\n",
       "      <td>1129307</td>\n",
       "      <td>NaN</td>\n",
       "      <td>NaN</td>\n",
       "      <td>NaN</td>\n",
       "      <td>NaT</td>\n",
       "      <td>Upper Gi</td>\n",
       "      <td>OPEN TOTAL GASTRECTOMY, WITH ESOPHAGOENTEROSTO...</td>\n",
       "      <td>NaN</td>\n",
       "      <td>urgent</td>\n",
       "      <td>Open</td>\n",
       "      <td>NaN</td>\n",
       "      <td>1.0</td>\n",
       "      <td>NaN</td>\n",
       "      <td>NaN</td>\n",
       "    </tr>\n",
       "    <tr>\n",
       "      <td>4</td>\n",
       "      <td>1135541</td>\n",
       "      <td>NaN</td>\n",
       "      <td>female</td>\n",
       "      <td>43.0</td>\n",
       "      <td>2018-03-12</td>\n",
       "      <td>Upper Gi</td>\n",
       "      <td>OPEN DISTAL SUBTOTAL GASTRECTOMY 436320</td>\n",
       "      <td>NaN</td>\n",
       "      <td>elective</td>\n",
       "      <td>Open</td>\n",
       "      <td>NaN</td>\n",
       "      <td>1.0</td>\n",
       "      <td>NaN</td>\n",
       "      <td>NaN</td>\n",
       "    </tr>\n",
       "  </tbody>\n",
       "</table>\n",
       "</div>"
      ],
      "text/plain": [
       "       pid  Days of hospitalization     Sex   Age Date of surgery  \\\n",
       "0  1068368                     24.0     NaN   NaN             NaT   \n",
       "1  1123813                     42.0    male  59.0      2018-07-18   \n",
       "2  1128298                      NaN     NaN   NaN             NaT   \n",
       "3  1129307                      NaN     NaN   NaN             NaT   \n",
       "4  1135541                      NaN  female  43.0      2018-03-12   \n",
       "\n",
       "  Patient classification                                    Name of surgery  \\\n",
       "0      Surgical Oncology  DIAGNOSTIC/ STAGING LAPAROSCOPY 493200;LAPAROS...   \n",
       "1      Surgical Oncology  CYTOREDUCTIVE SURGERY WITH HIPEC (HYPERTHERMIC...   \n",
       "2               Upper Gi  LAPAROSCOPIC CHOLECYSTECTOMY 475620; LAPAROSCO...   \n",
       "3               Upper Gi  OPEN TOTAL GASTRECTOMY, WITH ESOPHAGOENTEROSTO...   \n",
       "4               Upper Gi            OPEN DISTAL SUBTOTAL GASTRECTOMY 436320   \n",
       "\n",
       "  Responsible surgeon   Urgency Surgical approach     Complications   Kk  \\\n",
       "0         Hermon Hila  elective      Laparoscopic               NaN  1.0   \n",
       "1       Nissan Aviram  elective              Open  Anastomotic Leak  1.0   \n",
       "2                 NaN  elective      Laparoscopic               NaN  1.0   \n",
       "3                 NaN    urgent              Open               NaN  1.0   \n",
       "4                 NaN  elective              Open               NaN  1.0   \n",
       "\n",
       "   Simple  Severe  \n",
       "0     NaN     NaN  \n",
       "1     1.0     1.0  \n",
       "2     NaN     NaN  \n",
       "3     NaN     NaN  \n",
       "4     NaN     NaN  "
      ]
     },
     "execution_count": 129,
     "metadata": {},
     "output_type": "execute_result"
    }
   ],
   "source": [
    "anonymous.head()"
   ]
  },
  {
   "cell_type": "markdown",
   "metadata": {},
   "source": [
    "### Parse Dates"
   ]
  },
  {
   "cell_type": "markdown",
   "metadata": {},
   "source": [
    "Parse dates of events in events file."
   ]
  },
  {
   "cell_type": "code",
   "execution_count": 97,
   "metadata": {},
   "outputs": [],
   "source": [
    "#parse date of start event\n",
    "df['eventStartDate'] = pd.to_datetime(df['eventStartDate'], format='%Y-%m-%d')\n",
    "\n",
    "#parse date of end event\n",
    "df['eventEndDate'] = pd.to_datetime(df['eventEndDate'], format='%Y-%m-%d')"
   ]
  },
  {
   "cell_type": "markdown",
   "metadata": {},
   "source": [
    "Parse date of surgery in anonymous file."
   ]
  },
  {
   "cell_type": "code",
   "execution_count": 98,
   "metadata": {},
   "outputs": [],
   "source": [
    "#parse date of surgery\n",
    "anonymous['Date of surgery'] = pd.to_datetime(anonymous['Date of surgery'], format='%Y-%m-%d')"
   ]
  },
  {
   "cell_type": "markdown",
   "metadata": {},
   "source": [
    "### Sort by patient id and event start dates"
   ]
  },
  {
   "cell_type": "code",
   "execution_count": 99,
   "metadata": {},
   "outputs": [],
   "source": [
    "df.sort_values([\"pid\", \"eventStartDate\"], inplace=True)"
   ]
  },
  {
   "cell_type": "markdown",
   "metadata": {},
   "source": [
    "# Time"
   ]
  },
  {
   "cell_type": "markdown",
   "metadata": {},
   "source": [
    "## Column eventStartDate, eventEndDate"
   ]
  },
  {
   "cell_type": "code",
   "execution_count": 100,
   "metadata": {},
   "outputs": [
    {
     "data": {
      "text/plain": [
       "1669916   2018-10-03 08:36:34.433\n",
       "1669917   2018-10-03 08:36:34.433\n",
       "1669918   2018-10-03 08:36:34.467\n",
       "1669919   2018-10-03 08:36:34.467\n",
       "1669920   2018-10-03 08:36:34.497\n",
       "Name: eventStartDate, dtype: datetime64[ns]"
      ]
     },
     "execution_count": 100,
     "metadata": {},
     "output_type": "execute_result"
    }
   ],
   "source": [
    "df['eventStartDate'].head()"
   ]
  },
  {
   "cell_type": "markdown",
   "metadata": {},
   "source": [
    "### Date range\n",
    "Dates of events are from **01.01.2017** until **21.05.2019**"
   ]
  },
  {
   "cell_type": "code",
   "execution_count": 101,
   "metadata": {},
   "outputs": [
    {
     "name": "stdout",
     "output_type": "stream",
     "text": [
      "2009-01-01 00:00:00 - 2019-05-20 23:31:34.520000\n"
     ]
    }
   ],
   "source": [
    "#get time interval of events starts \n",
    "print(df['eventStartDate'].min(), \"-\" ,df['eventStartDate'].max())"
   ]
  },
  {
   "cell_type": "code",
   "execution_count": 102,
   "metadata": {},
   "outputs": [
    {
     "name": "stdout",
     "output_type": "stream",
     "text": [
      "2009-01-01 00:00:00 - 2019-05-21 13:45:39.617000\n"
     ]
    }
   ],
   "source": [
    "#get time interval of events ends \n",
    "print(df['eventEndDate'].min(), \"-\" ,df['eventEndDate'].max())"
   ]
  },
  {
   "cell_type": "markdown",
   "metadata": {},
   "source": [
    "Years: **2017-2019**. Year 2009 is probably a mistake. Most of the data is from 2018."
   ]
  },
  {
   "cell_type": "code",
   "execution_count": 103,
   "metadata": {},
   "outputs": [
    {
     "data": {
      "text/plain": [
       "2018    1490826\n",
       "2019     126189\n",
       "2017      66600\n",
       "2009          1\n",
       "Name: eventStartDate, dtype: int64"
      ]
     },
     "execution_count": 103,
     "metadata": {},
     "output_type": "execute_result"
    }
   ],
   "source": [
    "df['eventStartDate'].dt.year.value_counts()"
   ]
  },
  {
   "cell_type": "code",
   "execution_count": 104,
   "metadata": {},
   "outputs": [
    {
     "data": {
      "text/plain": [
       "Timestamp('2017-01-01 00:00:00')"
      ]
     },
     "execution_count": 104,
     "metadata": {},
     "output_type": "execute_result"
    }
   ],
   "source": [
    "#get min date of events starts  exculding year 2019 \n",
    "df[df['eventStartDate'].dt.year != 2009]['eventStartDate'].min()"
   ]
  },
  {
   "cell_type": "code",
   "execution_count": 105,
   "metadata": {},
   "outputs": [
    {
     "data": {
      "text/plain": [
       "Timestamp('2017-01-01 00:00:00')"
      ]
     },
     "execution_count": 105,
     "metadata": {},
     "output_type": "execute_result"
    }
   ],
   "source": [
    "#get min date of events starts  exculding year 2019 \n",
    "df[df['eventEndDate'].dt.year != 2009]['eventEndDate'].min()"
   ]
  },
  {
   "cell_type": "code",
   "execution_count": 106,
   "metadata": {},
   "outputs": [
    {
     "data": {
      "text/plain": [
       "(500, 17)"
      ]
     },
     "execution_count": 106,
     "metadata": {},
     "output_type": "execute_result"
    }
   ],
   "source": [
    "#verify that patient contains the 2009 year is not empty\n",
    "#the event in this year is Carotid endarterectomy (כריתת רחם)\n",
    "df[df['pid']==722269414].shape"
   ]
  },
  {
   "cell_type": "markdown",
   "metadata": {},
   "source": [
    "**Duration of events**\n",
    "\n",
    "Most events last less than 1 hour, however there are: \n",
    "- 16,682 (~1%) which last more than an hour.\n",
    "- 12,981 (~0.8%) which last more than a day - many of these events are related to bacterial culture."
   ]
  },
  {
   "cell_type": "code",
   "execution_count": 107,
   "metadata": {},
   "outputs": [],
   "source": [
    "df['eventDuration'] = df['eventEndDate'] - df['eventStartDate']"
   ]
  },
  {
   "cell_type": "code",
   "execution_count": 108,
   "metadata": {},
   "outputs": [
    {
     "data": {
      "text/plain": [
       "count                    1683616\n",
       "mean      0 days 00:57:59.862615\n",
       "std       0 days 12:26:34.163699\n",
       "min              0 days 00:00:00\n",
       "25%              0 days 00:00:00\n",
       "50%              0 days 00:00:00\n",
       "75%              0 days 00:00:00\n",
       "max      33 days 14:11:04.577000\n",
       "Name: eventDuration, dtype: object"
      ]
     },
     "execution_count": 108,
     "metadata": {},
     "output_type": "execute_result"
    }
   ],
   "source": [
    "df['eventDuration'].describe()"
   ]
  },
  {
   "cell_type": "code",
   "execution_count": 109,
   "metadata": {},
   "outputs": [
    {
     "name": "stdout",
     "output_type": "stream",
     "text": [
      "16682 -> 1.0245934362635567 %\n",
      "12981 -> 0.7972813449308974 %\n"
     ]
    }
   ],
   "source": [
    "duration = df[['eventDuration']]\n",
    "\n",
    "hour_plus = df[df['eventDuration'].dt.seconds > 3600]\n",
    "print(hour_plus.shape[0], \"->\", (hour_plus.shape[0]/df[\"eventName\"].count())*100, \"%\")\n",
    "\n",
    "day_plus = df[df['eventDuration'].dt.days > 1]\n",
    "print(day_plus.shape[0], \"->\", (day_plus.shape[0]/df[\"eventName\"].count())*100, \"%\")"
   ]
  },
  {
   "cell_type": "code",
   "execution_count": 110,
   "metadata": {},
   "outputs": [],
   "source": [
    "hour_plus;"
   ]
  },
  {
   "cell_type": "code",
   "execution_count": 111,
   "metadata": {},
   "outputs": [],
   "source": [
    "hour_plus[\"eventName\"].value_counts();"
   ]
  },
  {
   "cell_type": "markdown",
   "metadata": {},
   "source": [
    "# Statistics of dates\n",
    "For each patient show statstics of the event dates.\n",
    "\n",
    "For example, how many events before date of surgery and after day of surgery."
   ]
  },
  {
   "cell_type": "markdown",
   "metadata": {},
   "source": [
    "## Create Table 1\n",
    "\n",
    "Columns of table 1:\n",
    "- **start_day** - date of first event.\n",
    "- **end_day** - date of last event.\n",
    "- **period** - end_day - starts_day. \n",
    "- **nunique_days** - number of days for which there are events.\n",
    "- **n_events** - total number of events for this patient."
   ]
  },
  {
   "cell_type": "code",
   "execution_count": 112,
   "metadata": {},
   "outputs": [],
   "source": [
    "anonymous_full = anonymous[~anonymous['Date of surgery'].isna()] #missing values, should be available later "
   ]
  },
  {
   "cell_type": "code",
   "execution_count": 113,
   "metadata": {},
   "outputs": [
    {
     "data": {
      "text/plain": [
       "(552, 14)"
      ]
     },
     "execution_count": 113,
     "metadata": {},
     "output_type": "execute_result"
    }
   ],
   "source": [
    "anonymous_full.shape"
   ]
  },
  {
   "cell_type": "code",
   "execution_count": 114,
   "metadata": {},
   "outputs": [],
   "source": [
    "df.head();"
   ]
  },
  {
   "cell_type": "code",
   "execution_count": 115,
   "metadata": {},
   "outputs": [],
   "source": [
    "#get first and last days we have for patient\n",
    "start_day = df.groupby('pid')['eventStartDate'].min().dt.normalize().rename(\"start_day\")\n",
    "end_day = df.groupby('pid')['eventEndDate'].max().dt.normalize().rename(\"end_day\")\n",
    "\n",
    "#time duration per patient, i.e., period in which data was collected\n",
    "period = pd.Series(end_day - start_day).rename(\"period\")\n"
   ]
  },
  {
   "cell_type": "code",
   "execution_count": 116,
   "metadata": {},
   "outputs": [],
   "source": [
    "#get number of days in which data was collected\n",
    "def nuniqueDays(x):\n",
    "    dates = pd.concat([x['eventStartDate'].dt.normalize(), x['eventEndDate'].dt.normalize()])\n",
    "    return dates.nunique()\n",
    "  \n",
    "nunique_days = df.groupby('pid').apply(nuniqueDays).rename(\"nunique_days\")\n",
    "\n",
    "#nunique_days = df.groupby('pid')['eventStartDate'].apply(lambda x : x.dt.normalize().nunique()).rename(\"nunique_days\")"
   ]
  },
  {
   "cell_type": "code",
   "execution_count": 117,
   "metadata": {},
   "outputs": [],
   "source": [
    "#get total number of events \n",
    "nevents = df.groupby('pid')['eventStartDate'].count().rename(\"n_events\")"
   ]
  },
  {
   "cell_type": "code",
   "execution_count": 118,
   "metadata": {},
   "outputs": [
    {
     "data": {
      "text/html": [
       "<div>\n",
       "<style scoped>\n",
       "    .dataframe tbody tr th:only-of-type {\n",
       "        vertical-align: middle;\n",
       "    }\n",
       "\n",
       "    .dataframe tbody tr th {\n",
       "        vertical-align: top;\n",
       "    }\n",
       "\n",
       "    .dataframe thead th {\n",
       "        text-align: right;\n",
       "    }\n",
       "</style>\n",
       "<table border=\"1\" class=\"dataframe\">\n",
       "  <thead>\n",
       "    <tr style=\"text-align: right;\">\n",
       "      <th></th>\n",
       "      <th>start_day</th>\n",
       "      <th>end_day</th>\n",
       "      <th>period</th>\n",
       "      <th>nunique_days</th>\n",
       "      <th>n_events</th>\n",
       "    </tr>\n",
       "    <tr>\n",
       "      <th>pid</th>\n",
       "      <th></th>\n",
       "      <th></th>\n",
       "      <th></th>\n",
       "      <th></th>\n",
       "      <th></th>\n",
       "    </tr>\n",
       "  </thead>\n",
       "  <tbody>\n",
       "    <tr>\n",
       "      <td>1.0684e+06</td>\n",
       "      <td>2018-10-03</td>\n",
       "      <td>2018-12-09</td>\n",
       "      <td>67 days</td>\n",
       "      <td>61</td>\n",
       "      <td>2716</td>\n",
       "    </tr>\n",
       "    <tr>\n",
       "      <td>1.1238e+06</td>\n",
       "      <td>2018-07-17</td>\n",
       "      <td>2019-04-14</td>\n",
       "      <td>271 days</td>\n",
       "      <td>125</td>\n",
       "      <td>11738</td>\n",
       "    </tr>\n",
       "    <tr>\n",
       "      <td>1.1283e+06</td>\n",
       "      <td>2018-04-18</td>\n",
       "      <td>2018-09-29</td>\n",
       "      <td>164 days</td>\n",
       "      <td>17</td>\n",
       "      <td>1080</td>\n",
       "    </tr>\n",
       "    <tr>\n",
       "      <td>1.1293e+06</td>\n",
       "      <td>2018-01-04</td>\n",
       "      <td>2018-10-07</td>\n",
       "      <td>276 days</td>\n",
       "      <td>42</td>\n",
       "      <td>5079</td>\n",
       "    </tr>\n",
       "    <tr>\n",
       "      <td>1.1355e+06</td>\n",
       "      <td>2018-03-12</td>\n",
       "      <td>2018-04-01</td>\n",
       "      <td>20 days</td>\n",
       "      <td>19</td>\n",
       "      <td>1634</td>\n",
       "    </tr>\n",
       "    <tr>\n",
       "      <td>...</td>\n",
       "      <td>...</td>\n",
       "      <td>...</td>\n",
       "      <td>...</td>\n",
       "      <td>...</td>\n",
       "      <td>...</td>\n",
       "    </tr>\n",
       "    <tr>\n",
       "      <td>1.0319e+09</td>\n",
       "      <td>2018-04-10</td>\n",
       "      <td>2018-04-18</td>\n",
       "      <td>8 days</td>\n",
       "      <td>9</td>\n",
       "      <td>1485</td>\n",
       "    </tr>\n",
       "    <tr>\n",
       "      <td>1.0324e+09</td>\n",
       "      <td>2018-03-27</td>\n",
       "      <td>2019-04-15</td>\n",
       "      <td>384 days</td>\n",
       "      <td>63</td>\n",
       "      <td>5324</td>\n",
       "    </tr>\n",
       "    <tr>\n",
       "      <td>1.0338e+09</td>\n",
       "      <td>2018-03-26</td>\n",
       "      <td>2018-07-24</td>\n",
       "      <td>120 days</td>\n",
       "      <td>117</td>\n",
       "      <td>10254</td>\n",
       "    </tr>\n",
       "    <tr>\n",
       "      <td>1.0345e+09</td>\n",
       "      <td>2018-03-13</td>\n",
       "      <td>2018-08-02</td>\n",
       "      <td>142 days</td>\n",
       "      <td>12</td>\n",
       "      <td>1608</td>\n",
       "    </tr>\n",
       "    <tr>\n",
       "      <td>1.0358e+09</td>\n",
       "      <td>2018-03-10</td>\n",
       "      <td>2018-03-19</td>\n",
       "      <td>9 days</td>\n",
       "      <td>10</td>\n",
       "      <td>1541</td>\n",
       "    </tr>\n",
       "  </tbody>\n",
       "</table>\n",
       "<p>680 rows × 5 columns</p>\n",
       "</div>"
      ],
      "text/plain": [
       "            start_day    end_day   period  nunique_days  n_events\n",
       "pid                                                              \n",
       "1.0684e+06 2018-10-03 2018-12-09  67 days            61      2716\n",
       "1.1238e+06 2018-07-17 2019-04-14 271 days           125     11738\n",
       "1.1283e+06 2018-04-18 2018-09-29 164 days            17      1080\n",
       "1.1293e+06 2018-01-04 2018-10-07 276 days            42      5079\n",
       "1.1355e+06 2018-03-12 2018-04-01  20 days            19      1634\n",
       "...               ...        ...      ...           ...       ...\n",
       "1.0319e+09 2018-04-10 2018-04-18   8 days             9      1485\n",
       "1.0324e+09 2018-03-27 2019-04-15 384 days            63      5324\n",
       "1.0338e+09 2018-03-26 2018-07-24 120 days           117     10254\n",
       "1.0345e+09 2018-03-13 2018-08-02 142 days            12      1608\n",
       "1.0358e+09 2018-03-10 2018-03-19   9 days            10      1541\n",
       "\n",
       "[680 rows x 5 columns]"
      ]
     },
     "execution_count": 118,
     "metadata": {},
     "output_type": "execute_result"
    }
   ],
   "source": [
    "times = pd.concat([start_day,end_day, period, nunique_days, nevents], axis=1)\n",
    "times"
   ]
  },
  {
   "cell_type": "code",
   "execution_count": 119,
   "metadata": {},
   "outputs": [],
   "source": [
    "anonymous = anonymous.sort_values([\"pid\", 'Date of surgery'])"
   ]
  },
  {
   "cell_type": "code",
   "execution_count": 120,
   "metadata": {},
   "outputs": [],
   "source": [
    "#there are patients who underwent more than 1 surgery  \n",
    "#thus put each date of surgery in a saperate column\n",
    "def split_surgeries(x, max_surgeries):   \n",
    "    padding = [np.datetime64('NaT')] * (max_surgeries-x.values.shape[0])\n",
    "    ls = list(x.values) + padding\n",
    "    titels = [\"surgery_{}\".format(i+1) for i in range(max_surgeries)]\n",
    "    return pd.DataFrame([ls], columns=titels)\n",
    "\n",
    "max_surgeries = anonymous.groupby(\"pid\")['Date of surgery'].count().max()\n",
    "\n",
    "surgeries_dates = anonymous.groupby(\"pid\")['Date of surgery'].apply(split_surgeries, max_surgeries)\n",
    "surgeries_dates.reset_index(level=1, drop=True, inplace=True)"
   ]
  },
  {
   "cell_type": "code",
   "execution_count": 121,
   "metadata": {},
   "outputs": [],
   "source": [
    "surgeries_dates;"
   ]
  },
  {
   "cell_type": "code",
   "execution_count": 122,
   "metadata": {},
   "outputs": [],
   "source": [
    "surgeries_dates[~surgeries_dates[\"surgery_2\"].isna()];"
   ]
  },
  {
   "cell_type": "code",
   "execution_count": 123,
   "metadata": {},
   "outputs": [],
   "source": [
    "times = times.merge(surgeries_dates, on=\"pid\") "
   ]
  },
  {
   "cell_type": "markdown",
   "metadata": {},
   "source": [
    "## Show Table 1"
   ]
  },
  {
   "cell_type": "code",
   "execution_count": 124,
   "metadata": {},
   "outputs": [
    {
     "data": {
      "text/html": [
       "<div>\n",
       "<style scoped>\n",
       "    .dataframe tbody tr th:only-of-type {\n",
       "        vertical-align: middle;\n",
       "    }\n",
       "\n",
       "    .dataframe tbody tr th {\n",
       "        vertical-align: top;\n",
       "    }\n",
       "\n",
       "    .dataframe thead th {\n",
       "        text-align: right;\n",
       "    }\n",
       "</style>\n",
       "<table border=\"1\" class=\"dataframe\">\n",
       "  <thead>\n",
       "    <tr style=\"text-align: right;\">\n",
       "      <th></th>\n",
       "      <th>start_day</th>\n",
       "      <th>end_day</th>\n",
       "      <th>period</th>\n",
       "      <th>nunique_days</th>\n",
       "      <th>n_events</th>\n",
       "      <th>surgery_1</th>\n",
       "      <th>surgery_2</th>\n",
       "      <th>surgery_3</th>\n",
       "    </tr>\n",
       "    <tr>\n",
       "      <th>pid</th>\n",
       "      <th></th>\n",
       "      <th></th>\n",
       "      <th></th>\n",
       "      <th></th>\n",
       "      <th></th>\n",
       "      <th></th>\n",
       "      <th></th>\n",
       "      <th></th>\n",
       "    </tr>\n",
       "  </thead>\n",
       "  <tbody>\n",
       "    <tr>\n",
       "      <td>1.0684e+06</td>\n",
       "      <td>2018-10-03</td>\n",
       "      <td>2018-12-09</td>\n",
       "      <td>67 days</td>\n",
       "      <td>61</td>\n",
       "      <td>2716</td>\n",
       "      <td>NaT</td>\n",
       "      <td>NaT</td>\n",
       "      <td>NaT</td>\n",
       "    </tr>\n",
       "    <tr>\n",
       "      <td>1.1238e+06</td>\n",
       "      <td>2018-07-17</td>\n",
       "      <td>2019-04-14</td>\n",
       "      <td>271 days</td>\n",
       "      <td>125</td>\n",
       "      <td>11738</td>\n",
       "      <td>2018-07-18</td>\n",
       "      <td>NaT</td>\n",
       "      <td>NaT</td>\n",
       "    </tr>\n",
       "    <tr>\n",
       "      <td>1.1283e+06</td>\n",
       "      <td>2018-04-18</td>\n",
       "      <td>2018-09-29</td>\n",
       "      <td>164 days</td>\n",
       "      <td>17</td>\n",
       "      <td>1080</td>\n",
       "      <td>NaT</td>\n",
       "      <td>NaT</td>\n",
       "      <td>NaT</td>\n",
       "    </tr>\n",
       "    <tr>\n",
       "      <td>1.1293e+06</td>\n",
       "      <td>2018-01-04</td>\n",
       "      <td>2018-10-07</td>\n",
       "      <td>276 days</td>\n",
       "      <td>42</td>\n",
       "      <td>5079</td>\n",
       "      <td>NaT</td>\n",
       "      <td>NaT</td>\n",
       "      <td>NaT</td>\n",
       "    </tr>\n",
       "    <tr>\n",
       "      <td>1.1355e+06</td>\n",
       "      <td>2018-03-12</td>\n",
       "      <td>2018-04-01</td>\n",
       "      <td>20 days</td>\n",
       "      <td>19</td>\n",
       "      <td>1634</td>\n",
       "      <td>2018-03-12</td>\n",
       "      <td>NaT</td>\n",
       "      <td>NaT</td>\n",
       "    </tr>\n",
       "    <tr>\n",
       "      <td>...</td>\n",
       "      <td>...</td>\n",
       "      <td>...</td>\n",
       "      <td>...</td>\n",
       "      <td>...</td>\n",
       "      <td>...</td>\n",
       "      <td>...</td>\n",
       "      <td>...</td>\n",
       "      <td>...</td>\n",
       "    </tr>\n",
       "    <tr>\n",
       "      <td>1.0319e+09</td>\n",
       "      <td>2018-04-10</td>\n",
       "      <td>2018-04-18</td>\n",
       "      <td>8 days</td>\n",
       "      <td>9</td>\n",
       "      <td>1485</td>\n",
       "      <td>2018-04-11</td>\n",
       "      <td>NaT</td>\n",
       "      <td>NaT</td>\n",
       "    </tr>\n",
       "    <tr>\n",
       "      <td>1.0324e+09</td>\n",
       "      <td>2018-03-27</td>\n",
       "      <td>2019-04-15</td>\n",
       "      <td>384 days</td>\n",
       "      <td>63</td>\n",
       "      <td>5324</td>\n",
       "      <td>2018-03-28</td>\n",
       "      <td>NaT</td>\n",
       "      <td>NaT</td>\n",
       "    </tr>\n",
       "    <tr>\n",
       "      <td>1.0338e+09</td>\n",
       "      <td>2018-03-26</td>\n",
       "      <td>2018-07-24</td>\n",
       "      <td>120 days</td>\n",
       "      <td>117</td>\n",
       "      <td>10254</td>\n",
       "      <td>2018-03-27</td>\n",
       "      <td>NaT</td>\n",
       "      <td>NaT</td>\n",
       "    </tr>\n",
       "    <tr>\n",
       "      <td>1.0345e+09</td>\n",
       "      <td>2018-03-13</td>\n",
       "      <td>2018-08-02</td>\n",
       "      <td>142 days</td>\n",
       "      <td>12</td>\n",
       "      <td>1608</td>\n",
       "      <td>2018-03-14</td>\n",
       "      <td>NaT</td>\n",
       "      <td>NaT</td>\n",
       "    </tr>\n",
       "    <tr>\n",
       "      <td>1.0358e+09</td>\n",
       "      <td>2018-03-10</td>\n",
       "      <td>2018-03-19</td>\n",
       "      <td>9 days</td>\n",
       "      <td>10</td>\n",
       "      <td>1541</td>\n",
       "      <td>2018-03-11</td>\n",
       "      <td>NaT</td>\n",
       "      <td>NaT</td>\n",
       "    </tr>\n",
       "  </tbody>\n",
       "</table>\n",
       "<p>680 rows × 8 columns</p>\n",
       "</div>"
      ],
      "text/plain": [
       "            start_day    end_day   period  nunique_days  n_events  surgery_1  \\\n",
       "pid                                                                            \n",
       "1.0684e+06 2018-10-03 2018-12-09  67 days            61      2716        NaT   \n",
       "1.1238e+06 2018-07-17 2019-04-14 271 days           125     11738 2018-07-18   \n",
       "1.1283e+06 2018-04-18 2018-09-29 164 days            17      1080        NaT   \n",
       "1.1293e+06 2018-01-04 2018-10-07 276 days            42      5079        NaT   \n",
       "1.1355e+06 2018-03-12 2018-04-01  20 days            19      1634 2018-03-12   \n",
       "...               ...        ...      ...           ...       ...        ...   \n",
       "1.0319e+09 2018-04-10 2018-04-18   8 days             9      1485 2018-04-11   \n",
       "1.0324e+09 2018-03-27 2019-04-15 384 days            63      5324 2018-03-28   \n",
       "1.0338e+09 2018-03-26 2018-07-24 120 days           117     10254 2018-03-27   \n",
       "1.0345e+09 2018-03-13 2018-08-02 142 days            12      1608 2018-03-14   \n",
       "1.0358e+09 2018-03-10 2018-03-19   9 days            10      1541 2018-03-11   \n",
       "\n",
       "           surgery_2 surgery_3  \n",
       "pid                             \n",
       "1.0684e+06       NaT       NaT  \n",
       "1.1238e+06       NaT       NaT  \n",
       "1.1283e+06       NaT       NaT  \n",
       "1.1293e+06       NaT       NaT  \n",
       "1.1355e+06       NaT       NaT  \n",
       "...              ...       ...  \n",
       "1.0319e+09       NaT       NaT  \n",
       "1.0324e+09       NaT       NaT  \n",
       "1.0338e+09       NaT       NaT  \n",
       "1.0345e+09       NaT       NaT  \n",
       "1.0358e+09       NaT       NaT  \n",
       "\n",
       "[680 rows x 8 columns]"
      ]
     },
     "execution_count": 124,
     "metadata": {},
     "output_type": "execute_result"
    }
   ],
   "source": [
    "times"
   ]
  },
  {
   "cell_type": "code",
   "execution_count": 125,
   "metadata": {},
   "outputs": [
    {
     "data": {
      "text/html": [
       "<div>\n",
       "<style scoped>\n",
       "    .dataframe tbody tr th:only-of-type {\n",
       "        vertical-align: middle;\n",
       "    }\n",
       "\n",
       "    .dataframe tbody tr th {\n",
       "        vertical-align: top;\n",
       "    }\n",
       "\n",
       "    .dataframe thead th {\n",
       "        text-align: right;\n",
       "    }\n",
       "</style>\n",
       "<table border=\"1\" class=\"dataframe\">\n",
       "  <thead>\n",
       "    <tr style=\"text-align: right;\">\n",
       "      <th></th>\n",
       "      <th>period</th>\n",
       "      <th>nunique_days</th>\n",
       "      <th>n_events</th>\n",
       "    </tr>\n",
       "  </thead>\n",
       "  <tbody>\n",
       "    <tr>\n",
       "      <td>count</td>\n",
       "      <td>680</td>\n",
       "      <td>680.0000</td>\n",
       "      <td>680.0000</td>\n",
       "    </tr>\n",
       "    <tr>\n",
       "      <td>mean</td>\n",
       "      <td>93 days 02:13:24.705882</td>\n",
       "      <td>22.6294</td>\n",
       "      <td>2475.9059</td>\n",
       "    </tr>\n",
       "    <tr>\n",
       "      <td>std</td>\n",
       "      <td>189 days 22:37:56.572378</td>\n",
       "      <td>32.9828</td>\n",
       "      <td>5753.7136</td>\n",
       "    </tr>\n",
       "    <tr>\n",
       "      <td>min</td>\n",
       "      <td>1 days 00:00:00</td>\n",
       "      <td>2.0000</td>\n",
       "      <td>76.0000</td>\n",
       "    </tr>\n",
       "    <tr>\n",
       "      <td>25%</td>\n",
       "      <td>3 days 00:00:00</td>\n",
       "      <td>4.0000</td>\n",
       "      <td>350.7500</td>\n",
       "    </tr>\n",
       "    <tr>\n",
       "      <td>50%</td>\n",
       "      <td>12 days 12:00:00</td>\n",
       "      <td>10.0000</td>\n",
       "      <td>822.0000</td>\n",
       "    </tr>\n",
       "    <tr>\n",
       "      <td>75%</td>\n",
       "      <td>132 days 00:00:00</td>\n",
       "      <td>23.0000</td>\n",
       "      <td>2083.5000</td>\n",
       "    </tr>\n",
       "    <tr>\n",
       "      <td>max</td>\n",
       "      <td>3585 days 00:00:00</td>\n",
       "      <td>275.0000</td>\n",
       "      <td>77817.0000</td>\n",
       "    </tr>\n",
       "  </tbody>\n",
       "</table>\n",
       "</div>"
      ],
      "text/plain": [
       "                         period  nunique_days    n_events\n",
       "count                       680      680.0000    680.0000\n",
       "mean    93 days 02:13:24.705882       22.6294   2475.9059\n",
       "std    189 days 22:37:56.572378       32.9828   5753.7136\n",
       "min             1 days 00:00:00        2.0000     76.0000\n",
       "25%             3 days 00:00:00        4.0000    350.7500\n",
       "50%            12 days 12:00:00       10.0000    822.0000\n",
       "75%           132 days 00:00:00       23.0000   2083.5000\n",
       "max          3585 days 00:00:00      275.0000  77817.0000"
      ]
     },
     "execution_count": 125,
     "metadata": {},
     "output_type": "execute_result"
    }
   ],
   "source": [
    "times.describe()"
   ]
  },
  {
   "cell_type": "markdown",
   "metadata": {},
   "source": [
    "## Create Table 2\n",
    "\n",
    "Columns of table 2:\n",
    "- **nEvents_before** - number of events before _first surgery.\n",
    "- **nEvents_in** - number of events in _first surgery day.\n",
    "- **nEvents_after** - number of events after _first surgery day.\n",
    "- **nDays_before** - number of days before _first surgery.\n",
    "- **nDays_before** - total number of events after _first surgery day."
   ]
  },
  {
   "cell_type": "code",
   "execution_count": 126,
   "metadata": {},
   "outputs": [],
   "source": [
    "def getNUniqueDays(df):\n",
    "    dates = pd.concat([df['eventStartDate'].dt.normalize(), df['eventEndDate'].dt.normalize()])\n",
    "    return dates.nunique()\n",
    "\n",
    "\n",
    "def analyseDates(x, dates):\n",
    "    \n",
    "    #get surgery date of current patient \n",
    "    pid = x.iloc[0][\"pid\"]\n",
    "    surgery_date = dates.loc[pid, \"surgery_1\"]\n",
    "    \n",
    "    titels = [\"nEvents_before\", \"nEvents_in\", \"nEvents_after\", \"nDays_before\", \"nDays_after\"]\n",
    "    \n",
    "    if pd.isnull(surgery_date):\n",
    "        return None\n",
    "        #t = [0] * len(titels)\n",
    "     \n",
    "    #dates before and surgery\n",
    "    before_surgery = x[x['eventStartDate'] < surgery_date]\n",
    "    surgery_day = x[x['eventStartDate'].dt.normalize() == surgery_date]\n",
    "    after_surgery = x[x['eventStartDate'] >= surgery_date + datetime.timedelta(days=1)]\n",
    "        \n",
    "    #number of unique days   \n",
    "    ndays_before = getNUniqueDays(before_surgery)\n",
    "    ndays_after = getNUniqueDays(after_surgery)\n",
    "\n",
    "    #create data frame\n",
    "    data = [before_surgery.shape[0], surgery_day.shape[0], after_surgery.shape[0], \n",
    "         ndays_before, ndays_after]\n",
    "    df = pd.DataFrame([data], columns=titels)  \n",
    "    \n",
    "    return df\n",
    "\n",
    "    \n",
    "\n",
    "before_after = df.groupby('pid').apply(analyseDates, times)"
   ]
  },
  {
   "cell_type": "markdown",
   "metadata": {},
   "source": [
    "## Show Table 1"
   ]
  },
  {
   "cell_type": "code",
   "execution_count": 127,
   "metadata": {},
   "outputs": [
    {
     "data": {
      "text/html": [
       "<div>\n",
       "<style scoped>\n",
       "    .dataframe tbody tr th:only-of-type {\n",
       "        vertical-align: middle;\n",
       "    }\n",
       "\n",
       "    .dataframe tbody tr th {\n",
       "        vertical-align: top;\n",
       "    }\n",
       "\n",
       "    .dataframe thead th {\n",
       "        text-align: right;\n",
       "    }\n",
       "</style>\n",
       "<table border=\"1\" class=\"dataframe\">\n",
       "  <thead>\n",
       "    <tr style=\"text-align: right;\">\n",
       "      <th></th>\n",
       "      <th></th>\n",
       "      <th>nEvents_before</th>\n",
       "      <th>nEvents_in</th>\n",
       "      <th>nEvents_after</th>\n",
       "      <th>nDays_before</th>\n",
       "      <th>nDays_after</th>\n",
       "    </tr>\n",
       "    <tr>\n",
       "      <th>pid</th>\n",
       "      <th></th>\n",
       "      <th></th>\n",
       "      <th></th>\n",
       "      <th></th>\n",
       "      <th></th>\n",
       "      <th></th>\n",
       "    </tr>\n",
       "  </thead>\n",
       "  <tbody>\n",
       "    <tr>\n",
       "      <td>1.1238e+06</td>\n",
       "      <td>0</td>\n",
       "      <td>74</td>\n",
       "      <td>514</td>\n",
       "      <td>11150</td>\n",
       "      <td>1</td>\n",
       "      <td>123</td>\n",
       "    </tr>\n",
       "    <tr>\n",
       "      <td>1.1355e+06</td>\n",
       "      <td>0</td>\n",
       "      <td>0</td>\n",
       "      <td>285</td>\n",
       "      <td>1349</td>\n",
       "      <td>0</td>\n",
       "      <td>18</td>\n",
       "    </tr>\n",
       "    <tr>\n",
       "      <td>3.9187e+06</td>\n",
       "      <td>0</td>\n",
       "      <td>64</td>\n",
       "      <td>295</td>\n",
       "      <td>185</td>\n",
       "      <td>1</td>\n",
       "      <td>2</td>\n",
       "    </tr>\n",
       "    <tr>\n",
       "      <td>4.8946e+06</td>\n",
       "      <td>0</td>\n",
       "      <td>58</td>\n",
       "      <td>304</td>\n",
       "      <td>6620</td>\n",
       "      <td>2</td>\n",
       "      <td>96</td>\n",
       "    </tr>\n",
       "    <tr>\n",
       "      <td>6.5415e+06</td>\n",
       "      <td>0</td>\n",
       "      <td>3411</td>\n",
       "      <td>320</td>\n",
       "      <td>5289</td>\n",
       "      <td>18</td>\n",
       "      <td>41</td>\n",
       "    </tr>\n",
       "    <tr>\n",
       "      <td>...</td>\n",
       "      <td>...</td>\n",
       "      <td>...</td>\n",
       "      <td>...</td>\n",
       "      <td>...</td>\n",
       "      <td>...</td>\n",
       "      <td>...</td>\n",
       "    </tr>\n",
       "    <tr>\n",
       "      <td>1.0319e+09</td>\n",
       "      <td>0</td>\n",
       "      <td>15</td>\n",
       "      <td>613</td>\n",
       "      <td>857</td>\n",
       "      <td>1</td>\n",
       "      <td>7</td>\n",
       "    </tr>\n",
       "    <tr>\n",
       "      <td>1.0324e+09</td>\n",
       "      <td>0</td>\n",
       "      <td>64</td>\n",
       "      <td>539</td>\n",
       "      <td>4721</td>\n",
       "      <td>1</td>\n",
       "      <td>61</td>\n",
       "    </tr>\n",
       "    <tr>\n",
       "      <td>1.0338e+09</td>\n",
       "      <td>0</td>\n",
       "      <td>61</td>\n",
       "      <td>541</td>\n",
       "      <td>9652</td>\n",
       "      <td>2</td>\n",
       "      <td>115</td>\n",
       "    </tr>\n",
       "    <tr>\n",
       "      <td>1.0345e+09</td>\n",
       "      <td>0</td>\n",
       "      <td>57</td>\n",
       "      <td>614</td>\n",
       "      <td>937</td>\n",
       "      <td>1</td>\n",
       "      <td>10</td>\n",
       "    </tr>\n",
       "    <tr>\n",
       "      <td>1.0358e+09</td>\n",
       "      <td>0</td>\n",
       "      <td>67</td>\n",
       "      <td>584</td>\n",
       "      <td>890</td>\n",
       "      <td>1</td>\n",
       "      <td>8</td>\n",
       "    </tr>\n",
       "  </tbody>\n",
       "</table>\n",
       "<p>525 rows × 5 columns</p>\n",
       "</div>"
      ],
      "text/plain": [
       "              nEvents_before  nEvents_in  nEvents_after  nDays_before  \\\n",
       "pid                                                                     \n",
       "1.1238e+06 0              74         514          11150             1   \n",
       "1.1355e+06 0               0         285           1349             0   \n",
       "3.9187e+06 0              64         295            185             1   \n",
       "4.8946e+06 0              58         304           6620             2   \n",
       "6.5415e+06 0            3411         320           5289            18   \n",
       "...                      ...         ...            ...           ...   \n",
       "1.0319e+09 0              15         613            857             1   \n",
       "1.0324e+09 0              64         539           4721             1   \n",
       "1.0338e+09 0              61         541           9652             2   \n",
       "1.0345e+09 0              57         614            937             1   \n",
       "1.0358e+09 0              67         584            890             1   \n",
       "\n",
       "              nDays_after  \n",
       "pid                        \n",
       "1.1238e+06 0          123  \n",
       "1.1355e+06 0           18  \n",
       "3.9187e+06 0            2  \n",
       "4.8946e+06 0           96  \n",
       "6.5415e+06 0           41  \n",
       "...                   ...  \n",
       "1.0319e+09 0            7  \n",
       "1.0324e+09 0           61  \n",
       "1.0338e+09 0          115  \n",
       "1.0345e+09 0           10  \n",
       "1.0358e+09 0            8  \n",
       "\n",
       "[525 rows x 5 columns]"
      ]
     },
     "execution_count": 127,
     "metadata": {},
     "output_type": "execute_result"
    }
   ],
   "source": [
    "before_after"
   ]
  },
  {
   "cell_type": "code",
   "execution_count": 128,
   "metadata": {},
   "outputs": [
    {
     "data": {
      "text/html": [
       "<div>\n",
       "<style scoped>\n",
       "    .dataframe tbody tr th:only-of-type {\n",
       "        vertical-align: middle;\n",
       "    }\n",
       "\n",
       "    .dataframe tbody tr th {\n",
       "        vertical-align: top;\n",
       "    }\n",
       "\n",
       "    .dataframe thead th {\n",
       "        text-align: right;\n",
       "    }\n",
       "</style>\n",
       "<table border=\"1\" class=\"dataframe\">\n",
       "  <thead>\n",
       "    <tr style=\"text-align: right;\">\n",
       "      <th></th>\n",
       "      <th>nEvents_before</th>\n",
       "      <th>nEvents_in</th>\n",
       "      <th>nEvents_after</th>\n",
       "      <th>nDays_before</th>\n",
       "      <th>nDays_after</th>\n",
       "    </tr>\n",
       "  </thead>\n",
       "  <tbody>\n",
       "    <tr>\n",
       "      <td>count</td>\n",
       "      <td>525.0000</td>\n",
       "      <td>525.0000</td>\n",
       "      <td>525.0000</td>\n",
       "      <td>525.0000</td>\n",
       "      <td>525.0000</td>\n",
       "    </tr>\n",
       "    <tr>\n",
       "      <td>mean</td>\n",
       "      <td>550.3181</td>\n",
       "      <td>317.3010</td>\n",
       "      <td>1652.4971</td>\n",
       "      <td>5.0400</td>\n",
       "      <td>16.5162</td>\n",
       "    </tr>\n",
       "    <tr>\n",
       "      <td>std</td>\n",
       "      <td>3280.1188</td>\n",
       "      <td>220.5777</td>\n",
       "      <td>3910.8740</td>\n",
       "      <td>11.3585</td>\n",
       "      <td>27.6613</td>\n",
       "    </tr>\n",
       "    <tr>\n",
       "      <td>min</td>\n",
       "      <td>0.0000</td>\n",
       "      <td>0.0000</td>\n",
       "      <td>0.0000</td>\n",
       "      <td>0.0000</td>\n",
       "      <td>0.0000</td>\n",
       "    </tr>\n",
       "    <tr>\n",
       "      <td>25%</td>\n",
       "      <td>4.0000</td>\n",
       "      <td>182.0000</td>\n",
       "      <td>113.0000</td>\n",
       "      <td>1.0000</td>\n",
       "      <td>2.0000</td>\n",
       "    </tr>\n",
       "    <tr>\n",
       "      <td>50%</td>\n",
       "      <td>63.0000</td>\n",
       "      <td>241.0000</td>\n",
       "      <td>371.0000</td>\n",
       "      <td>1.0000</td>\n",
       "      <td>6.0000</td>\n",
       "    </tr>\n",
       "    <tr>\n",
       "      <td>75%</td>\n",
       "      <td>182.0000</td>\n",
       "      <td>411.0000</td>\n",
       "      <td>1193.0000</td>\n",
       "      <td>4.0000</td>\n",
       "      <td>16.0000</td>\n",
       "    </tr>\n",
       "    <tr>\n",
       "      <td>max</td>\n",
       "      <td>50721.0000</td>\n",
       "      <td>1443.0000</td>\n",
       "      <td>33466.0000</td>\n",
       "      <td>98.0000</td>\n",
       "      <td>244.0000</td>\n",
       "    </tr>\n",
       "  </tbody>\n",
       "</table>\n",
       "</div>"
      ],
      "text/plain": [
       "       nEvents_before  nEvents_in  nEvents_after  nDays_before  nDays_after\n",
       "count        525.0000    525.0000       525.0000      525.0000     525.0000\n",
       "mean         550.3181    317.3010      1652.4971        5.0400      16.5162\n",
       "std         3280.1188    220.5777      3910.8740       11.3585      27.6613\n",
       "min            0.0000      0.0000         0.0000        0.0000       0.0000\n",
       "25%            4.0000    182.0000       113.0000        1.0000       2.0000\n",
       "50%           63.0000    241.0000       371.0000        1.0000       6.0000\n",
       "75%          182.0000    411.0000      1193.0000        4.0000      16.0000\n",
       "max        50721.0000   1443.0000     33466.0000       98.0000     244.0000"
      ]
     },
     "execution_count": 128,
     "metadata": {},
     "output_type": "execute_result"
    }
   ],
   "source": [
    "before_after.describe()"
   ]
  }
 ],
 "metadata": {
  "kernelspec": {
   "display_name": "Python 3",
   "language": "python",
   "name": "python3"
  },
  "language_info": {
   "codemirror_mode": {
    "name": "ipython",
    "version": 3
   },
   "file_extension": ".py",
   "mimetype": "text/x-python",
   "name": "python",
   "nbconvert_exporter": "python",
   "pygments_lexer": "ipython3",
   "version": "3.7.4"
  }
 },
 "nbformat": 4,
 "nbformat_minor": 2
}
