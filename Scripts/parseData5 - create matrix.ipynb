{
 "cells": [
  {
   "cell_type": "markdown",
   "metadata": {},
   "source": [
    "**Notebook content:**\n",
    "-\n"
   ]
  },
  {
   "cell_type": "code",
   "execution_count": 200,
   "metadata": {},
   "outputs": [],
   "source": [
    "%reset -f "
   ]
  },
  {
   "cell_type": "code",
   "execution_count": 201,
   "metadata": {},
   "outputs": [],
   "source": [
    "from myDefs.defs import *\n",
    "from IPython.display import display\n",
    "\n",
    "pd.set_option('display.max_columns', 30)\n",
    "pd.set_option('display.max_rows', 200)\n",
    "#pd.set_option('display.float_format', lambda x: '%.f' % x)\n",
    "pd.options.display.precision = 4\n",
    "\n",
    "#import sys\n",
    "np.set_printoptions(threshold=sys.maxsize) #- print the full NumPy array"
   ]
  },
  {
   "cell_type": "code",
   "execution_count": 202,
   "metadata": {},
   "outputs": [],
   "source": [
    "OUTPUT_PATH = DATA_PATH + \"parseData3.csv\""
   ]
  },
  {
   "cell_type": "markdown",
   "metadata": {},
   "source": [
    "### **Read files**"
   ]
  },
  {
   "cell_type": "code",
   "execution_count": 203,
   "metadata": {},
   "outputs": [],
   "source": [
    "#read events\n",
    "path = DATA_PATH + \"parseData2.csv\"\n",
    "df = pd.read_csv(path, sep=',') \n",
    "#parse date of surgery\n",
    "df['eventStartDate'] = pd.to_datetime(df['eventStartDate'], format='%Y-%m-%d')\n",
    "df['eventEndDate'] = pd.to_datetime(df['eventEndDate'], format='%Y-%m-%d')"
   ]
  },
  {
   "cell_type": "code",
   "execution_count": 204,
   "metadata": {},
   "outputs": [],
   "source": [
    "#read annonymous file\n",
    "path = \"{}parseAnonymous0.csv\".format(DATA_PATH)\n",
    "anonymous = pd.read_csv(path, sep=',')\n",
    "#parse date of surgery\n",
    "anonymous['Date of surgery'] = pd.to_datetime(anonymous['Date of surgery'], format='%Y-%m-%d')"
   ]
  },
  {
   "cell_type": "code",
   "execution_count": 205,
   "metadata": {},
   "outputs": [],
   "source": [
    "#read events info\n",
    "#eventsinfo = pd.read_excel(ORGANIZE_EVENTS_PATH + \"EventsInfo.xlsx\")"
   ]
  },
  {
   "cell_type": "code",
   "execution_count": 206,
   "metadata": {},
   "outputs": [
    {
     "name": "stdout",
     "output_type": "stream",
     "text": [
      "(1683616, 22)\n",
      "(718, 14)\n"
     ]
    }
   ],
   "source": [
    "print(df.shape)\n",
    "print(anonymous.shape)\n"
   ]
  },
  {
   "cell_type": "markdown",
   "metadata": {},
   "source": [
    "# Filter events and slice data"
   ]
  },
  {
   "cell_type": "markdown",
   "metadata": {},
   "source": [
    "### anonymous"
   ]
  },
  {
   "cell_type": "code",
   "execution_count": 207,
   "metadata": {},
   "outputs": [
    {
     "name": "stdout",
     "output_type": "stream",
     "text": [
      "anonymous: (525, 14)\n"
     ]
    }
   ],
   "source": [
    "#get only patient with a surgery date, which are not duplicate (first surgey)\n",
    "anonymous_ix = anonymous[anonymous['Date of surgery'].notna()]\\\n",
    "                          .loc[~anonymous['pid'].duplicated()].index\n",
    "print(\"anonymous:\", anonymous.loc[anonymous_ix].shape)"
   ]
  },
  {
   "cell_type": "code",
   "execution_count": 208,
   "metadata": {},
   "outputs": [],
   "source": [
    "#get data from anonymous \n",
    "\n",
    "anon = anonymous.loc[anonymous_ix]\n",
    "\n",
    "#map: 1 if Anastomotic Leak, 0 o.w.\n",
    "anon['Anastomotic Leak'] = 0\n",
    "anon.loc[anon['Complications']=='Anastomotic Leak', 'Anastomotic Leak'] = 1\n",
    "\n",
    "#drop columns\n",
    "cols_to_remove = ['Name of surgery',\n",
    "                  'Date of surgery', 'Days of hospitalization', 'Patient classification', \n",
    "                  'Responsible surgeon', 'Kk', 'Simple', 'Severe', 'Complications']\n",
    "anon = anon.drop(columns=cols_to_remove).set_index('pid')"
   ]
  },
  {
   "cell_type": "markdown",
   "metadata": {},
   "source": [
    "### events"
   ]
  },
  {
   "cell_type": "code",
   "execution_count": 209,
   "metadata": {},
   "outputs": [
    {
     "data": {
      "text/plain": [
       "550110"
      ]
     },
     "execution_count": 209,
     "metadata": {},
     "output_type": "execute_result"
    }
   ],
   "source": [
    "#choose in model, laboratory, nPatients \n",
    "npatients = 40\n",
    "\n",
    "laboratory = \\\n",
    "df[df['inModel']==1]\\\n",
    ".loc[df['category'] == 'laboratory']\\\n",
    ".loc[df.groupby('featureName')['pid']\\\n",
    "     .transform('nunique') > npatients].index\n",
    "\n",
    "len(laboratory)"
   ]
  },
  {
   "cell_type": "code",
   "execution_count": 210,
   "metadata": {},
   "outputs": [
    {
     "data": {
      "text/plain": [
       "621803"
      ]
     },
     "execution_count": 210,
     "metadata": {},
     "output_type": "execute_result"
    }
   ],
   "source": [
    "#choose in model, physical, nPatients > \n",
    "\n",
    "npatients = 40\n",
    "\n",
    "physical = \\\n",
    "df[df['inModel']==1]\\\n",
    ".loc[df['category'] == 'physical']\\\n",
    ".loc[df.groupby('featureName')['pid']\\\n",
    "     .transform('nunique') > npatients].index\n",
    "\n",
    "len(physical)"
   ]
  },
  {
   "cell_type": "code",
   "execution_count": 211,
   "metadata": {},
   "outputs": [
    {
     "data": {
      "text/plain": [
       "32943"
      ]
     },
     "execution_count": 211,
     "metadata": {},
     "output_type": "execute_result"
    }
   ],
   "source": [
    "drugs = \\\n",
    "df[df['inModel']==1]\\\n",
    ".loc[df['category'] == 'drug']\\\n",
    ".loc[df.groupby('featureName')['pid']\\\n",
    "     .transform('nunique') > 10].index\n",
    "\n",
    "len(drugs)"
   ]
  },
  {
   "cell_type": "code",
   "execution_count": 212,
   "metadata": {},
   "outputs": [
    {
     "data": {
      "text/plain": [
       "(1204856, 22)"
      ]
     },
     "execution_count": 212,
     "metadata": {},
     "output_type": "execute_result"
    }
   ],
   "source": [
    "#slice events\n",
    "data = df.iloc[laboratory | physical | drugs]\n",
    "\n",
    "data.shape"
   ]
  },
  {
   "cell_type": "markdown",
   "metadata": {},
   "source": [
    "# print events"
   ]
  },
  {
   "cell_type": "code",
   "execution_count": 213,
   "metadata": {},
   "outputs": [
    {
     "data": {
      "text/plain": [
       "heart rate                       119108\n",
       "blood pressure                    82194\n",
       "body temperature                  72884\n",
       "saturation                        67932\n",
       "FiO2                              40932\n",
       "SpO2                              35402\n",
       "SpO2.pr                           32507\n",
       "SpO2.ir_amp                       32100\n",
       "blood pressure diastolic          29303\n",
       "blood pressure systolic           28682\n",
       "respiratory rate, total           21208\n",
       "respiratory rate, CO2             17861\n",
       "PEEP                              17841\n",
       "Potassium                         15952\n",
       "Sodium                            15923\n",
       "HGB                               15383\n",
       "Saturation, O2                    15171\n",
       "WBC_1                             14626\n",
       "NEUTRO (abs)                      13023\n",
       "PSV                               11162\n",
       "Nucleated RBC (%)                 10607\n",
       "Nucleated RBC (abs)               10607\n",
       "HCT                               10481\n",
       "PLT                               10463\n",
       "MPV                               10447\n",
       "RBC                               10444\n",
       "MCHC                              10442\n",
       "MCH                               10441\n",
       "MCV                               10439\n",
       "PCT                               10436\n",
       "RDW                               10434\n",
       "MONO (abs)                        10419\n",
       "EOS (%)                           10417\n",
       "LYMPHO (abs)                      10416\n",
       "BASO (abs)                        10416\n",
       "BASO (%)                          10415\n",
       "LYMPHO (%)                        10414\n",
       "EOS (abs)                         10414\n",
       "MONO (%)                          10409\n",
       "NEUTRO (%)                        10402\n",
       "Phosphorus                        10330\n",
       "Estimated Globulin                10269\n",
       "Creatinine                        10233\n",
       "Urea                              10220\n",
       "Chloride                          10205\n",
       "Glucose                           10189\n",
       "Calcium, total                    10187\n",
       "Bilirubin, total                  10103\n",
       "Alkaline Phosphatase              10100\n",
       "Protein, total                    10099\n",
       "Albumin                           10076\n",
       "Osmolality (calc.)                10005\n",
       "Magnesium                          9222\n",
       "Gamma-GT                           7989\n",
       "SGOT (AST)                         7921\n",
       "SGPT (ALT)                         7914\n",
       "Amylase                            7517\n",
       "Bilirubin, direct                  6920\n",
       "PO2 - general                      5907\n",
       "PCO2 - general                     5812\n",
       "PH - general                       5803\n",
       "Furosemide                         5760\n",
       "PaO2                               5383\n",
       "NiBPD                              4424\n",
       "NiBPS                              4419\n",
       "LDH                                4353\n",
       "Bisoprolol                         4311\n",
       "Urine catheter drain               3933\n",
       "PaCO2                              3791\n",
       "K-ABG                              3777\n",
       "Na-ABG                             3774\n",
       "O2HB                               3749\n",
       "PH                                 3737\n",
       "HbABG                              3705\n",
       "Metronidazole                      3416\n",
       "INR                                3201\n",
       "PT                                 3196\n",
       "PTT                                2893\n",
       "Norepinephrine                     2631\n",
       "PEEP/CPAP Setting                  2280\n",
       "Piperacillin / tazobactam          2222\n",
       "weight                             1903\n",
       "height                             1623\n",
       "BMI                                1588\n",
       "Hydrocortisone                     1529\n",
       "PCO2, V                            1522\n",
       "PH, V                              1521\n",
       "Propranolol                        1363\n",
       "Meropenem                          1338\n",
       "CPK, total                         1337\n",
       "Ceftriaxone                        1281\n",
       "Fibrinogen                         1062\n",
       "Magnesium sulfate                  1057\n",
       "T Offset                            956\n",
       "NEUTRO (&)                          826\n",
       "Prednisone                          802\n",
       "Bondormin                           796\n",
       "Hb                                  783\n",
       "Ciprofloxacin                       775\n",
       "K                                   681\n",
       "Na                                  675\n",
       "Labetalol                           630\n",
       "Saturation, O2, Ar                  625\n",
       "PO2, Ar                             620\n",
       "PCO2, Ar                            608\n",
       "PH, Ar                              606\n",
       "Atorvastatin                        592\n",
       "Fentanyl patch                      590\n",
       "Cefazolin                           577\n",
       "Amoxicillin / clavulanic acid       533\n",
       "Norepinephrine + dextrose           527\n",
       "WBC_2                               468\n",
       "pH                                  458\n",
       "Vaben                               373\n",
       "WBC                                 319\n",
       "Morphine hcl                        271\n",
       "Cholesterol, total                  250\n",
       "Vancomycin                          246\n",
       "Magnesium sulfate                   245\n",
       "Reticulocytes (abs)                 239\n",
       "Reticulocytes (%)                   239\n",
       "MCV reticulocyte                    239\n",
       "Lorazepam                           234\n",
       "Morphine hcl                        226\n",
       "Fleet enema                         220\n",
       "CPK-MB                              202\n",
       "Meroken new                         199\n",
       "CPK-MB (%)                          170\n",
       "Vitamin B12                         142\n",
       "WBC_3                               137\n",
       "Ferritin                            123\n",
       "Transferrin                         108\n",
       "Optalgin                            103\n",
       "Fentanyl                             96\n",
       "Osmolality -Urine                    90\n",
       "Name: featureName, dtype: int64"
      ]
     },
     "execution_count": 213,
     "metadata": {},
     "output_type": "execute_result"
    }
   ],
   "source": [
    "#print features\n",
    "data['featureName'].value_counts().sort_values(ascending=False)"
   ]
  },
  {
   "cell_type": "code",
   "execution_count": 214,
   "metadata": {},
   "outputs": [
    {
     "data": {
      "text/plain": [
       "0            2.14\n",
       "1          129.00\n",
       "2            3.60\n",
       "3          147.00\n",
       "4           24.00\n",
       "            ...  \n",
       "1683611     64.00\n",
       "1683612    103.00\n",
       "1683613     18.00\n",
       "1683614      2.70\n",
       "1683615      8.10\n",
       "Name: numeric, Length: 1200847, dtype: float64"
      ]
     },
     "execution_count": 214,
     "metadata": {},
     "output_type": "execute_result"
    }
   ],
   "source": [
    "data.loc[data['numeric'].notna(), 'numeric']"
   ]
  },
  {
   "cell_type": "markdown",
   "metadata": {},
   "source": [
    "# Create A Features Table"
   ]
  },
  {
   "cell_type": "markdown",
   "metadata": {},
   "source": [
    "### laboratory & physical categories"
   ]
  },
  {
   "cell_type": "code",
   "execution_count": 215,
   "metadata": {},
   "outputs": [],
   "source": [
    "data = df.iloc[laboratory | physical]"
   ]
  },
  {
   "cell_type": "code",
   "execution_count": 222,
   "metadata": {},
   "outputs": [
    {
     "name": "stdout",
     "output_type": "stream",
     "text": [
      "before shape: (5, 28) Num events: 4\n",
      "before shape: (5, 92) Num events: 4\n",
      "result shape: (5, 120)\n"
     ]
    }
   ],
   "source": [
    "\n",
    "before_frames = []\n",
    "after_frames = []\n",
    "\n",
    "#for each patient and surgery date in anonymous \n",
    "for index, row in anonymous.loc[anonymous_ix].head().iterrows(): \n",
    "    \n",
    "    #get surgery date of current patient \n",
    "    surgery_date = row['Date of surgery']\n",
    "    \n",
    "    #print(row['pid'], surgery_date)\n",
    "    \n",
    "    #get events before and after date of surgery\n",
    "    patient = data.loc[data['pid'] == row['pid'], :]\n",
    "    before = patient[patient['eventStartDate'] < surgery_date]\n",
    "    after = patient[patient['eventStartDate'] >= surgery_date]\n",
    "    \n",
    "    #print(row['pid'], \"nBefore:\", len(before), \"nAfter:\", len(after))\n",
    "    \n",
    "    #calculate statistics\n",
    "    x1 = before.groupby('featureName')['numeric'].agg(['mean', 'median', 'min', 'max']) \n",
    "    x2 = after.groupby('featureName')['numeric'].agg(['mean', 'median', 'min', 'max'])\n",
    "    \n",
    "    #reshape and add pid\n",
    "    y1 = x1.stack().to_frame().T.assign(pid=row['pid'])\n",
    "    y2 = x2.stack().to_frame().T.assign(pid=row['pid'])\n",
    "\n",
    "    #add to list\n",
    "    before_frames.append(y1)\n",
    "    after_frames.append(y2)\n",
    "    \n",
    "    #display(y1)\n",
    "    #display(y2)\n",
    "    \n",
    "#y1 = pd.concat([x1], keys=['before_surgery'], names=['date'])\n",
    "#y2 = pd.concat([x2], keys=['after_surgery'], names=['date'])\n",
    "\n",
    "before_concat = pd.concat(before_frames).set_index('pid', drop=True) \n",
    "after_concat = pd.concat(after_frames).set_index('pid', drop=True) \n",
    "\n",
    "result_data = pd.concat([before_concat, after_concat], axis=1, \n",
    "                        keys=['before_surgery', 'after_surgery'], \n",
    "                        names=['date','eventName', 'statistics'])\n",
    "\n",
    "print(\"before shape:\", before_concat.shape, \"Num events:\", before_concat.columns.get_level_values(1).nunique())\n",
    "print(\"before shape:\", after_concat.shape, \"Num events:\", after_concat.columns.get_level_values(1).nunique())\n",
    "print(\"result shape:\", result_data.shape)"
   ]
  },
  {
   "cell_type": "code",
   "execution_count": 220,
   "metadata": {},
   "outputs": [
    {
     "data": {
      "text/html": [
       "<div>\n",
       "<style scoped>\n",
       "    .dataframe tbody tr th:only-of-type {\n",
       "        vertical-align: middle;\n",
       "    }\n",
       "\n",
       "    .dataframe tbody tr th {\n",
       "        vertical-align: top;\n",
       "    }\n",
       "\n",
       "    .dataframe thead tr th {\n",
       "        text-align: left;\n",
       "    }\n",
       "\n",
       "    .dataframe thead tr:last-of-type th {\n",
       "        text-align: right;\n",
       "    }\n",
       "</style>\n",
       "<table border=\"1\" class=\"dataframe\">\n",
       "  <thead>\n",
       "    <tr>\n",
       "      <th>date</th>\n",
       "      <th colspan=\"15\" halign=\"left\">before_surgery</th>\n",
       "      <th>...</th>\n",
       "      <th colspan=\"15\" halign=\"left\">after_surgery</th>\n",
       "    </tr>\n",
       "    <tr>\n",
       "      <th>eventName</th>\n",
       "      <th colspan=\"4\" halign=\"left\">Albumin</th>\n",
       "      <th colspan=\"4\" halign=\"left\">Alkaline Phosphatase</th>\n",
       "      <th colspan=\"4\" halign=\"left\">Amylase</th>\n",
       "      <th colspan=\"3\" halign=\"left\">BASO (%)</th>\n",
       "      <th>...</th>\n",
       "      <th colspan=\"3\" halign=\"left\">respiratory rate, CO2</th>\n",
       "      <th colspan=\"4\" halign=\"left\">respiratory rate, total</th>\n",
       "      <th colspan=\"4\" halign=\"left\">saturation</th>\n",
       "      <th colspan=\"4\" halign=\"left\">weight</th>\n",
       "    </tr>\n",
       "    <tr>\n",
       "      <th>statistics</th>\n",
       "      <th>max</th>\n",
       "      <th>mean</th>\n",
       "      <th>median</th>\n",
       "      <th>min</th>\n",
       "      <th>max</th>\n",
       "      <th>mean</th>\n",
       "      <th>median</th>\n",
       "      <th>min</th>\n",
       "      <th>max</th>\n",
       "      <th>mean</th>\n",
       "      <th>median</th>\n",
       "      <th>min</th>\n",
       "      <th>max</th>\n",
       "      <th>mean</th>\n",
       "      <th>median</th>\n",
       "      <th>...</th>\n",
       "      <th>mean</th>\n",
       "      <th>median</th>\n",
       "      <th>min</th>\n",
       "      <th>max</th>\n",
       "      <th>mean</th>\n",
       "      <th>median</th>\n",
       "      <th>min</th>\n",
       "      <th>max</th>\n",
       "      <th>mean</th>\n",
       "      <th>median</th>\n",
       "      <th>min</th>\n",
       "      <th>max</th>\n",
       "      <th>mean</th>\n",
       "      <th>median</th>\n",
       "      <th>min</th>\n",
       "    </tr>\n",
       "    <tr>\n",
       "      <th>pid</th>\n",
       "      <th></th>\n",
       "      <th></th>\n",
       "      <th></th>\n",
       "      <th></th>\n",
       "      <th></th>\n",
       "      <th></th>\n",
       "      <th></th>\n",
       "      <th></th>\n",
       "      <th></th>\n",
       "      <th></th>\n",
       "      <th></th>\n",
       "      <th></th>\n",
       "      <th></th>\n",
       "      <th></th>\n",
       "      <th></th>\n",
       "      <th></th>\n",
       "      <th></th>\n",
       "      <th></th>\n",
       "      <th></th>\n",
       "      <th></th>\n",
       "      <th></th>\n",
       "      <th></th>\n",
       "      <th></th>\n",
       "      <th></th>\n",
       "      <th></th>\n",
       "      <th></th>\n",
       "      <th></th>\n",
       "      <th></th>\n",
       "      <th></th>\n",
       "      <th></th>\n",
       "      <th></th>\n",
       "    </tr>\n",
       "  </thead>\n",
       "  <tbody>\n",
       "    <tr>\n",
       "      <td>1123813</td>\n",
       "      <td>4.2</td>\n",
       "      <td>4.2000</td>\n",
       "      <td>4.20</td>\n",
       "      <td>4.2</td>\n",
       "      <td>97.0</td>\n",
       "      <td>97.0</td>\n",
       "      <td>97.0</td>\n",
       "      <td>97.0</td>\n",
       "      <td>63.0</td>\n",
       "      <td>63.0000</td>\n",
       "      <td>63.0</td>\n",
       "      <td>63.0</td>\n",
       "      <td>0.5</td>\n",
       "      <td>0.5000</td>\n",
       "      <td>0.5</td>\n",
       "      <td>...</td>\n",
       "      <td>9.8000</td>\n",
       "      <td>11.0</td>\n",
       "      <td>0.0</td>\n",
       "      <td>68.0</td>\n",
       "      <td>18.5</td>\n",
       "      <td>17.0</td>\n",
       "      <td>6.0</td>\n",
       "      <td>100.0</td>\n",
       "      <td>97.1693</td>\n",
       "      <td>98.0</td>\n",
       "      <td>85.0</td>\n",
       "      <td>108.0</td>\n",
       "      <td>96.9667</td>\n",
       "      <td>105.0</td>\n",
       "      <td>85.3</td>\n",
       "    </tr>\n",
       "    <tr>\n",
       "      <td>1135541</td>\n",
       "      <td>NaN</td>\n",
       "      <td>NaN</td>\n",
       "      <td>NaN</td>\n",
       "      <td>NaN</td>\n",
       "      <td>NaN</td>\n",
       "      <td>NaN</td>\n",
       "      <td>NaN</td>\n",
       "      <td>NaN</td>\n",
       "      <td>NaN</td>\n",
       "      <td>NaN</td>\n",
       "      <td>NaN</td>\n",
       "      <td>NaN</td>\n",
       "      <td>NaN</td>\n",
       "      <td>NaN</td>\n",
       "      <td>NaN</td>\n",
       "      <td>...</td>\n",
       "      <td>6.6471</td>\n",
       "      <td>10.0</td>\n",
       "      <td>0.0</td>\n",
       "      <td>NaN</td>\n",
       "      <td>NaN</td>\n",
       "      <td>NaN</td>\n",
       "      <td>NaN</td>\n",
       "      <td>100.0</td>\n",
       "      <td>97.9277</td>\n",
       "      <td>98.0</td>\n",
       "      <td>94.0</td>\n",
       "      <td>68.0</td>\n",
       "      <td>68.0000</td>\n",
       "      <td>68.0</td>\n",
       "      <td>68.0</td>\n",
       "    </tr>\n",
       "    <tr>\n",
       "      <td>3918745</td>\n",
       "      <td>3.9</td>\n",
       "      <td>3.9000</td>\n",
       "      <td>3.90</td>\n",
       "      <td>3.9</td>\n",
       "      <td>90.0</td>\n",
       "      <td>90.0</td>\n",
       "      <td>90.0</td>\n",
       "      <td>90.0</td>\n",
       "      <td>53.0</td>\n",
       "      <td>53.0000</td>\n",
       "      <td>53.0</td>\n",
       "      <td>53.0</td>\n",
       "      <td>0.4</td>\n",
       "      <td>0.4000</td>\n",
       "      <td>0.4</td>\n",
       "      <td>...</td>\n",
       "      <td>4.6842</td>\n",
       "      <td>0.0</td>\n",
       "      <td>0.0</td>\n",
       "      <td>NaN</td>\n",
       "      <td>NaN</td>\n",
       "      <td>NaN</td>\n",
       "      <td>NaN</td>\n",
       "      <td>100.0</td>\n",
       "      <td>96.7879</td>\n",
       "      <td>97.0</td>\n",
       "      <td>91.0</td>\n",
       "      <td>NaN</td>\n",
       "      <td>NaN</td>\n",
       "      <td>NaN</td>\n",
       "      <td>NaN</td>\n",
       "    </tr>\n",
       "    <tr>\n",
       "      <td>4894647</td>\n",
       "      <td>4.3</td>\n",
       "      <td>4.3000</td>\n",
       "      <td>4.30</td>\n",
       "      <td>4.3</td>\n",
       "      <td>70.0</td>\n",
       "      <td>70.0</td>\n",
       "      <td>70.0</td>\n",
       "      <td>70.0</td>\n",
       "      <td>NaN</td>\n",
       "      <td>NaN</td>\n",
       "      <td>NaN</td>\n",
       "      <td>NaN</td>\n",
       "      <td>0.3</td>\n",
       "      <td>0.3000</td>\n",
       "      <td>0.3</td>\n",
       "      <td>...</td>\n",
       "      <td>6.5854</td>\n",
       "      <td>10.0</td>\n",
       "      <td>0.0</td>\n",
       "      <td>NaN</td>\n",
       "      <td>NaN</td>\n",
       "      <td>NaN</td>\n",
       "      <td>NaN</td>\n",
       "      <td>100.0</td>\n",
       "      <td>96.7396</td>\n",
       "      <td>98.0</td>\n",
       "      <td>0.0</td>\n",
       "      <td>85.0</td>\n",
       "      <td>71.1250</td>\n",
       "      <td>74.6</td>\n",
       "      <td>0.0</td>\n",
       "    </tr>\n",
       "    <tr>\n",
       "      <td>6541482</td>\n",
       "      <td>3.1</td>\n",
       "      <td>1.9429</td>\n",
       "      <td>1.95</td>\n",
       "      <td>1.4</td>\n",
       "      <td>123.0</td>\n",
       "      <td>94.0</td>\n",
       "      <td>112.5</td>\n",
       "      <td>33.0</td>\n",
       "      <td>68.0</td>\n",
       "      <td>32.6923</td>\n",
       "      <td>29.0</td>\n",
       "      <td>9.0</td>\n",
       "      <td>0.3</td>\n",
       "      <td>0.1214</td>\n",
       "      <td>0.1</td>\n",
       "      <td>...</td>\n",
       "      <td>8.1250</td>\n",
       "      <td>10.0</td>\n",
       "      <td>0.0</td>\n",
       "      <td>NaN</td>\n",
       "      <td>NaN</td>\n",
       "      <td>NaN</td>\n",
       "      <td>NaN</td>\n",
       "      <td>100.0</td>\n",
       "      <td>97.2320</td>\n",
       "      <td>98.0</td>\n",
       "      <td>80.0</td>\n",
       "      <td>58.0</td>\n",
       "      <td>54.6667</td>\n",
       "      <td>53.0</td>\n",
       "      <td>53.0</td>\n",
       "    </tr>\n",
       "  </tbody>\n",
       "</table>\n",
       "<p>5 rows × 728 columns</p>\n",
       "</div>"
      ],
      "text/plain": [
       "date       before_surgery                                                 \\\n",
       "eventName         Albumin                     Alkaline Phosphatase         \n",
       "statistics            max    mean median  min                  max  mean   \n",
       "pid                                                                        \n",
       "1123813               4.2  4.2000   4.20  4.2                 97.0  97.0   \n",
       "1135541               NaN     NaN    NaN  NaN                  NaN   NaN   \n",
       "3918745               3.9  3.9000   3.90  3.9                 90.0  90.0   \n",
       "4894647               4.3  4.3000   4.30  4.3                 70.0  70.0   \n",
       "6541482               3.1  1.9429   1.95  1.4                123.0  94.0   \n",
       "\n",
       "date                                                                           \\\n",
       "eventName               Amylase                       BASO (%)                  \n",
       "statistics median   min     max     mean median   min      max    mean median   \n",
       "pid                                                                             \n",
       "1123813      97.0  97.0    63.0  63.0000   63.0  63.0      0.5  0.5000    0.5   \n",
       "1135541       NaN   NaN     NaN      NaN    NaN   NaN      NaN     NaN    NaN   \n",
       "3918745      90.0  90.0    53.0  53.0000   53.0  53.0      0.4  0.4000    0.4   \n",
       "4894647      70.0  70.0     NaN      NaN    NaN   NaN      0.3  0.3000    0.3   \n",
       "6541482     112.5  33.0    68.0  32.6923   29.0   9.0      0.3  0.1214    0.1   \n",
       "\n",
       "date        ...         after_surgery                                      \\\n",
       "eventName   ... respiratory rate, CO2             respiratory rate, total   \n",
       "statistics  ...                  mean median  min                     max   \n",
       "pid         ...                                                             \n",
       "1123813     ...                9.8000   11.0  0.0                    68.0   \n",
       "1135541     ...                6.6471   10.0  0.0                     NaN   \n",
       "3918745     ...                4.6842    0.0  0.0                     NaN   \n",
       "4894647     ...                6.5854   10.0  0.0                     NaN   \n",
       "6541482     ...                8.1250   10.0  0.0                     NaN   \n",
       "\n",
       "date                                                                   \\\n",
       "eventName                    saturation                       weight    \n",
       "statistics  mean median  min        max     mean median   min     max   \n",
       "pid                                                                     \n",
       "1123813     18.5   17.0  6.0      100.0  97.1693   98.0  85.0   108.0   \n",
       "1135541      NaN    NaN  NaN      100.0  97.9277   98.0  94.0    68.0   \n",
       "3918745      NaN    NaN  NaN      100.0  96.7879   97.0  91.0     NaN   \n",
       "4894647      NaN    NaN  NaN      100.0  96.7396   98.0   0.0    85.0   \n",
       "6541482      NaN    NaN  NaN      100.0  97.2320   98.0  80.0    58.0   \n",
       "\n",
       "date                              \n",
       "eventName                         \n",
       "statistics     mean median   min  \n",
       "pid                               \n",
       "1123813     96.9667  105.0  85.3  \n",
       "1135541     68.0000   68.0  68.0  \n",
       "3918745         NaN    NaN   NaN  \n",
       "4894647     71.1250   74.6   0.0  \n",
       "6541482     54.6667   53.0  53.0  \n",
       "\n",
       "[5 rows x 728 columns]"
      ]
     },
     "execution_count": 220,
     "metadata": {},
     "output_type": "execute_result"
    }
   ],
   "source": [
    "result_data"
   ]
  },
  {
   "cell_type": "markdown",
   "metadata": {},
   "source": [
    "### drug categorie"
   ]
  },
  {
   "cell_type": "code",
   "execution_count": 250,
   "metadata": {},
   "outputs": [],
   "source": [
    "data = df.iloc[drugs]"
   ]
  },
  {
   "cell_type": "code",
   "execution_count": 249,
   "metadata": {},
   "outputs": [
    {
     "data": {
      "text/plain": [
       "pid         featureName      \n",
       "1.1238e+06  Bisoprolol            2\n",
       "            Cefazolin             6\n",
       "            Ceftriaxone          13\n",
       "            Ciprofloxacin         9\n",
       "            Fleet enema           1\n",
       "                                 ..\n",
       "1.0358e+09  Magnesium sulfate     1\n",
       "            Meroken new           1\n",
       "            Metronidazole         1\n",
       "            Morphine hcl          1\n",
       "            Propranolol          26\n",
       "Length: 2701, dtype: int64"
      ]
     },
     "execution_count": 249,
     "metadata": {},
     "output_type": "execute_result"
    }
   ],
   "source": [
    "\n",
    "dr = data.loc[:,['pid', 'featureName']] \n",
    "dr.groupby(['pid', 'featureName']).apply(len)\n"
   ]
  },
  {
   "cell_type": "code",
   "execution_count": null,
   "metadata": {},
   "outputs": [],
   "source": [
    "metadata.columns\n",
    "a.merge(res, on='pid').to_csv(DATA_PATH + \"/draft1.csv\", index=False)\n",
    "\n",
    "#pd.concat([metadata.columns], keys=['a'], names=['nomi'])"
   ]
  },
  {
   "cell_type": "code",
   "execution_count": null,
   "metadata": {},
   "outputs": [],
   "source": [
    "pd.concat([metadata, result_data], axis=1, levels=['date','eventName', 'statistics'])\n"
   ]
  },
  {
   "cell_type": "code",
   "execution_count": null,
   "metadata": {},
   "outputs": [],
   "source": [
    "if WRITE_FLAG:\n",
    "#write output\n",
    "result.to_excel(DATA_PATH + 'draft1_.xlsx')"
   ]
  },
  {
   "cell_type": "code",
   "execution_count": null,
   "metadata": {},
   "outputs": [],
   "source": []
  },
  {
   "cell_type": "code",
   "execution_count": null,
   "metadata": {},
   "outputs": [],
   "source": []
  },
  {
   "cell_type": "markdown",
   "metadata": {},
   "source": [
    "## שונות"
   ]
  },
  {
   "cell_type": "code",
   "execution_count": null,
   "metadata": {},
   "outputs": [],
   "source": [
    "def create_feature(df, feature_name, alter_names, column_value='dValue', print_output=True):\n",
    "\n",
    "    '''\n",
    "    df - data frame of all events \n",
    "    feature_name - name of feature \n",
    "    alter_names - alternative names of feature\n",
    "    \n",
    "    '''\n",
    "   \n",
    "    #get the required events\n",
    "    sub_events = df[df[\"eventName\"].isin(alter_names)]\n",
    "\n",
    "    #select only rellevant columns \n",
    "    feature = sub_events.loc[:, ['pid', 'eventStartDate', 'eventEndDate', 'unitOfMeasure']]\n",
    "    \n",
    "    #get values of event \n",
    "    feature[feature_name] = sub_events[column_value]\n",
    "    \n",
    "    if print_output:\n",
    "        \n",
    "        print(\"Num {} events:\".format(feature_name), sub_events.shape[0])     \n",
    "\n",
    "        print(\"\\nHas sValue:\", sub_events['sValue'].any())\n",
    "        print(\"Has event description:\", sub_events['eventDesc'].any())\n",
    "\n",
    "        print(\"\\nDescribe numeric values:\\n\", sub_events[['dValue', 'iValue']].describe())\n",
    "\n",
    "        print(\"\\nUnit of measure:\", sub_events['unitOfMeasure'].unique())\n",
    "    \n",
    "        print(\"\\nResult:\")\n",
    "        display(feature.head())\n",
    "\n",
    "\n",
    "    return feature\n"
   ]
  },
  {
   "cell_type": "code",
   "execution_count": null,
   "metadata": {},
   "outputs": [],
   "source": [
    "'''\n",
    "Adding suffix to duplicate patients (pateints who underwent > 1 surgery) \n",
    "'''\n",
    "\n",
    "res = anonymous.copy()\n",
    "anonymous.head()\n",
    "res = res[['pid', 'Sex', 'Age', 'Date of surgery']]\n",
    "\n",
    "#convert column to strig \n",
    "res['pid'] = res['pid'].astype(str)\n",
    "\n",
    "#Number each item in each group from 1 to the length of that group.\n",
    "cumcount = res.groupby('pid').cumcount() + 1\n",
    "\n",
    "\n",
    "#which patients are duplicated\n",
    "idx = res['pid'].duplicated(keep=False)\n",
    "\n",
    "#concatenate suffixes\n",
    "res.loc[idx, 'pid'] = res['pid'] + \"_\" + cumcount.astype(str)\n",
    "\n",
    "res[idx];\n"
   ]
  },
  {
   "cell_type": "code",
   "execution_count": null,
   "metadata": {},
   "outputs": [],
   "source": []
  },
  {
   "cell_type": "code",
   "execution_count": null,
   "metadata": {},
   "outputs": [],
   "source": []
  },
  {
   "cell_type": "code",
   "execution_count": null,
   "metadata": {},
   "outputs": [],
   "source": []
  },
  {
   "cell_type": "code",
   "execution_count": null,
   "metadata": {},
   "outputs": [],
   "source": []
  },
  {
   "cell_type": "code",
   "execution_count": null,
   "metadata": {},
   "outputs": [],
   "source": [
    "ann['cumcount'] = ann.groupby('pid').cumcount()\n",
    "ann['pid'].astype(str) +\"_\"+ ann['cumcount'].astype(str)"
   ]
  },
  {
   "cell_type": "code",
   "execution_count": null,
   "metadata": {},
   "outputs": [],
   "source": []
  }
 ],
 "metadata": {
  "kernelspec": {
   "display_name": "Python 3",
   "language": "python",
   "name": "python3"
  },
  "language_info": {
   "codemirror_mode": {
    "name": "ipython",
    "version": 3
   },
   "file_extension": ".py",
   "mimetype": "text/x-python",
   "name": "python",
   "nbconvert_exporter": "python",
   "pygments_lexer": "ipython3",
   "version": "3.7.4"
  }
 },
 "nbformat": 4,
 "nbformat_minor": 2
}
