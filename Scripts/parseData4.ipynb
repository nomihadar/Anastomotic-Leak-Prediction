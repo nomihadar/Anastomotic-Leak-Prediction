{
 "cells": [
  {
   "cell_type": "markdown",
   "metadata": {},
   "source": [
    "**Notebook content:**\n",
    "- \n",
    "- "
   ]
  },
  {
   "cell_type": "code",
   "execution_count": 82,
   "metadata": {},
   "outputs": [],
   "source": [
    "%reset -f "
   ]
  },
  {
   "cell_type": "code",
   "execution_count": 171,
   "metadata": {},
   "outputs": [],
   "source": [
    "import sys\n",
    "import pandas as pd\n",
    "import numpy as np\n",
    "import datetime\n",
    "import json\n",
    "from IPython.display import display\n",
    "\n",
    "pd.set_option('display.max_columns', 30)\n",
    "pd.set_option('display.max_rows', 200)\n",
    "#pd.set_option('display.float_format', lambda x: '%.f' % x)\n",
    "pd.options.display.precision = 4\n",
    "\n",
    "#import sys\n",
    "np.set_printoptions(threshold=sys.maxsize) #- print the full NumPy array\n",
    "\n",
    "from myDefs.defs import *\n",
    "\n",
    "# visualization\n",
    "import seaborn as sns\n",
    "import matplotlib.pyplot as plt \n",
    "from matplotlib.pyplot import figure\n",
    "%matplotlib inline\n"
   ]
  },
  {
   "cell_type": "markdown",
   "metadata": {
    "collapsed": true
   },
   "source": [
    "**Read events file**"
   ]
  },
  {
   "cell_type": "code",
   "execution_count": 172,
   "metadata": {},
   "outputs": [],
   "source": [
    "#read events\n",
    "path = DATA_PATH + \"parseData1.csv\"\n",
    "df = pd.read_csv(path, sep=',') \n",
    "#parse date of surgery\n",
    "df['eventStartDate'] = pd.to_datetime(df['eventStartDate'], format='%Y-%m-%d')\n",
    "df['eventEndDate'] = pd.to_datetime(df['eventEndDate'], format='%Y-%m-%d')\n",
    "\n",
    "#read annonymous file\n",
    "path = \"{}parseAnonymous0.csv\".format(DATA_PATH)\n",
    "anonymous = pd.read_csv(path, sep=',')\n",
    "#parse date of surgery\n",
    "anonymous['Date of surgery'] = pd.to_datetime(anonymous['Date of surgery'], format='%Y-%m-%d')\n"
   ]
  },
  {
   "cell_type": "code",
   "execution_count": 185,
   "metadata": {},
   "outputs": [],
   "source": [
    "#read events info\n",
    "eventsinfo = pd.read_excel(EVENTS_INFO_PATH + \"EventsInfo.xlsx\")"
   ]
  },
  {
   "cell_type": "code",
   "execution_count": 174,
   "metadata": {},
   "outputs": [
    {
     "name": "stdout",
     "output_type": "stream",
     "text": [
      "(1683616, 17)\n",
      "(718, 14)\n",
      "(3755, 15)\n"
     ]
    }
   ],
   "source": [
    "print(df.shape)\n",
    "print(anonymous.shape)\n",
    "print(eventsinfo.shape)"
   ]
  },
  {
   "cell_type": "code",
   "execution_count": 222,
   "metadata": {},
   "outputs": [
    {
     "data": {
      "text/html": [
       "<div>\n",
       "<style scoped>\n",
       "    .dataframe tbody tr th:only-of-type {\n",
       "        vertical-align: middle;\n",
       "    }\n",
       "\n",
       "    .dataframe tbody tr th {\n",
       "        vertical-align: top;\n",
       "    }\n",
       "\n",
       "    .dataframe thead th {\n",
       "        text-align: right;\n",
       "    }\n",
       "</style>\n",
       "<table border=\"1\" class=\"dataframe\">\n",
       "  <thead>\n",
       "    <tr style=\"text-align: right;\">\n",
       "      <th></th>\n",
       "      <th>pid</th>\n",
       "      <th>admissionId</th>\n",
       "      <th>eventName</th>\n",
       "      <th>eventStartDate</th>\n",
       "      <th>eventEndDate</th>\n",
       "      <th>dValue</th>\n",
       "      <th>iValue</th>\n",
       "      <th>sValue</th>\n",
       "      <th>eventDesc</th>\n",
       "      <th>unitOfMeasure</th>\n",
       "      <th>orderNumber</th>\n",
       "      <th>organismId</th>\n",
       "      <th>eventCode</th>\n",
       "      <th>eventCodeOrg</th>\n",
       "      <th>eventType</th>\n",
       "      <th>eventTypeOrg</th>\n",
       "      <th>sourceName</th>\n",
       "      <th>numeric</th>\n",
       "      <th>feature_name</th>\n",
       "    </tr>\n",
       "  </thead>\n",
       "  <tbody>\n",
       "    <tr>\n",
       "      <td>0</td>\n",
       "      <td>2.0000e+00</td>\n",
       "      <td>1840641.0</td>\n",
       "      <td>WBC</td>\n",
       "      <td>2018-02-15 10:58:00</td>\n",
       "      <td>2018-02-15 10:58:00</td>\n",
       "      <td>2.14</td>\n",
       "      <td>0.0</td>\n",
       "      <td>NaN</td>\n",
       "      <td>NaN</td>\n",
       "      <td>K/microL</td>\n",
       "      <td>NaN</td>\n",
       "      <td>NaN</td>\n",
       "      <td>26464-8</td>\n",
       "      <td>100109500</td>\n",
       "      <td>loinc</td>\n",
       "      <td>conv_lab_cham</td>\n",
       "      <td>[MIRROR_Chameleon].[Lab_Results]</td>\n",
       "      <td>2.14</td>\n",
       "      <td>WBC</td>\n",
       "    </tr>\n",
       "    <tr>\n",
       "      <td>1</td>\n",
       "      <td>1.0133e+09</td>\n",
       "      <td>1840641.0</td>\n",
       "      <td>Alkaline Phosphatase -Blood</td>\n",
       "      <td>2018-02-15 10:25:00</td>\n",
       "      <td>2018-02-15 10:25:00</td>\n",
       "      <td>129.00</td>\n",
       "      <td>0.0</td>\n",
       "      <td>NaN</td>\n",
       "      <td>NaN</td>\n",
       "      <td>IU/l</td>\n",
       "      <td>NaN</td>\n",
       "      <td>NaN</td>\n",
       "      <td>77141-0</td>\n",
       "      <td>100184075</td>\n",
       "      <td>loinc</td>\n",
       "      <td>conv_lab_cham</td>\n",
       "      <td>[MIRROR_Chameleon].[Lab_Results]</td>\n",
       "      <td>129</td>\n",
       "      <td>Alkaline Phosphatase</td>\n",
       "    </tr>\n",
       "    <tr>\n",
       "      <td>2</td>\n",
       "      <td>1.0133e+09</td>\n",
       "      <td>1840641.0</td>\n",
       "      <td>Protein -Blood, total</td>\n",
       "      <td>2018-02-15 10:25:00</td>\n",
       "      <td>2018-02-15 10:25:00</td>\n",
       "      <td>3.60</td>\n",
       "      <td>0.0</td>\n",
       "      <td>NaN</td>\n",
       "      <td>NaN</td>\n",
       "      <td>g/dl</td>\n",
       "      <td>NaN</td>\n",
       "      <td>NaN</td>\n",
       "      <td>2885-2</td>\n",
       "      <td>100184155</td>\n",
       "      <td>loinc</td>\n",
       "      <td>conv_lab_cham</td>\n",
       "      <td>[MIRROR_Chameleon].[Lab_Results]</td>\n",
       "      <td>3.6</td>\n",
       "      <td>Protein</td>\n",
       "    </tr>\n",
       "    <tr>\n",
       "      <td>3</td>\n",
       "      <td>1.0133e+09</td>\n",
       "      <td>1840641.0</td>\n",
       "      <td>Sodium -Blood</td>\n",
       "      <td>2018-02-15 10:25:00</td>\n",
       "      <td>2018-02-15 10:25:00</td>\n",
       "      <td>147.00</td>\n",
       "      <td>0.0</td>\n",
       "      <td>NaN</td>\n",
       "      <td>NaN</td>\n",
       "      <td>meq/l</td>\n",
       "      <td>NaN</td>\n",
       "      <td>NaN</td>\n",
       "      <td>2951-2</td>\n",
       "      <td>100184295</td>\n",
       "      <td>loinc</td>\n",
       "      <td>conv_lab_cham</td>\n",
       "      <td>[MIRROR_Chameleon].[Lab_Results]</td>\n",
       "      <td>147</td>\n",
       "      <td>Sodium</td>\n",
       "    </tr>\n",
       "    <tr>\n",
       "      <td>4</td>\n",
       "      <td>1.0133e+09</td>\n",
       "      <td>1840641.0</td>\n",
       "      <td>Urea -Blood</td>\n",
       "      <td>2018-02-15 10:25:00</td>\n",
       "      <td>2018-02-15 10:25:00</td>\n",
       "      <td>24.00</td>\n",
       "      <td>0.0</td>\n",
       "      <td>NaN</td>\n",
       "      <td>NaN</td>\n",
       "      <td>mg/dl</td>\n",
       "      <td>NaN</td>\n",
       "      <td>NaN</td>\n",
       "      <td>3091-6</td>\n",
       "      <td>100184520</td>\n",
       "      <td>loinc</td>\n",
       "      <td>conv_lab_cham</td>\n",
       "      <td>[MIRROR_Chameleon].[Lab_Results]</td>\n",
       "      <td>24</td>\n",
       "      <td>Urea</td>\n",
       "    </tr>\n",
       "  </tbody>\n",
       "</table>\n",
       "</div>"
      ],
      "text/plain": [
       "          pid  admissionId                    eventName      eventStartDate  \\\n",
       "0  2.0000e+00    1840641.0                          WBC 2018-02-15 10:58:00   \n",
       "1  1.0133e+09    1840641.0  Alkaline Phosphatase -Blood 2018-02-15 10:25:00   \n",
       "2  1.0133e+09    1840641.0        Protein -Blood, total 2018-02-15 10:25:00   \n",
       "3  1.0133e+09    1840641.0                Sodium -Blood 2018-02-15 10:25:00   \n",
       "4  1.0133e+09    1840641.0                  Urea -Blood 2018-02-15 10:25:00   \n",
       "\n",
       "         eventEndDate  dValue  iValue sValue eventDesc unitOfMeasure  \\\n",
       "0 2018-02-15 10:58:00    2.14     0.0    NaN       NaN      K/microL   \n",
       "1 2018-02-15 10:25:00  129.00     0.0    NaN       NaN          IU/l   \n",
       "2 2018-02-15 10:25:00    3.60     0.0    NaN       NaN          g/dl   \n",
       "3 2018-02-15 10:25:00  147.00     0.0    NaN       NaN         meq/l   \n",
       "4 2018-02-15 10:25:00   24.00     0.0    NaN       NaN         mg/dl   \n",
       "\n",
       "   orderNumber  organismId eventCode eventCodeOrg eventType   eventTypeOrg  \\\n",
       "0          NaN         NaN   26464-8    100109500     loinc  conv_lab_cham   \n",
       "1          NaN         NaN   77141-0    100184075     loinc  conv_lab_cham   \n",
       "2          NaN         NaN    2885-2    100184155     loinc  conv_lab_cham   \n",
       "3          NaN         NaN    2951-2    100184295     loinc  conv_lab_cham   \n",
       "4          NaN         NaN    3091-6    100184520     loinc  conv_lab_cham   \n",
       "\n",
       "                         sourceName numeric          feature_name  \n",
       "0  [MIRROR_Chameleon].[Lab_Results]    2.14                   WBC  \n",
       "1  [MIRROR_Chameleon].[Lab_Results]     129  Alkaline Phosphatase  \n",
       "2  [MIRROR_Chameleon].[Lab_Results]     3.6               Protein  \n",
       "3  [MIRROR_Chameleon].[Lab_Results]     147                Sodium  \n",
       "4  [MIRROR_Chameleon].[Lab_Results]      24                  Urea  "
      ]
     },
     "execution_count": 222,
     "metadata": {},
     "output_type": "execute_result"
    }
   ],
   "source": [
    "df.head()"
   ]
  },
  {
   "cell_type": "markdown",
   "metadata": {},
   "source": [
    "# Replace values (sValue -> dValue)"
   ]
  },
  {
   "cell_type": "code",
   "execution_count": 202,
   "metadata": {
    "scrolled": true
   },
   "outputs": [],
   "source": [
    "def convert_to_dict(x):\n",
    "    s = x.replace('\"\"', '\"')\n",
    "    d = json.loads(s)\n",
    "    for key in d:\n",
    "        if d[key] == 'None':\n",
    "            d[key] = None\n",
    "    return d\n",
    "\n",
    "#replace dValue by values in dictionary\n",
    "def replace_values(x, info):\n",
    "    #get dictionary \n",
    "    d = info.loc[info['eventName'] == x['eventName'].iloc[0], 'dict'].iloc[0]\n",
    "    #copy sValue to dValue\n",
    "    x.loc[x['sValue'].notna(),'dValue'] = x['sValue']\n",
    "    #replace dValues by by sValues \n",
    "    return x['dValue'].replace(d)\n",
    "\n",
    "#convert dict column to dictionary \n",
    "eventsinfo.loc[eventsinfo['dict'].notna(),'dict'] = eventsinfo.loc[eventsinfo['dict'].notna(),'dict'].apply(convert_to_dict)\n",
    "\n",
    "#replace values\n",
    "df['numeric'] = df.groupby('eventName', group_keys=False).apply(replace_values, eventsinfo)"
   ]
  },
  {
   "cell_type": "code",
   "execution_count": 176,
   "metadata": {},
   "outputs": [],
   "source": [
    "#create column feature name \n",
    "names_dict = eventsinfo.loc[eventsinfo['feature_name'].notna(), :]\n",
    "names_dict = dict(zip(names_dict['eventName'], names_dict['feature_name']))\n",
    "\n",
    "df['feature_name'] = df['eventName']\n",
    "df['feature_name'] = df['feature_name'].replace(names_dict)"
   ]
  },
  {
   "cell_type": "code",
   "execution_count": 157,
   "metadata": {},
   "outputs": [
    {
     "data": {
      "text/plain": [
       "3688"
      ]
     },
     "execution_count": 157,
     "metadata": {},
     "output_type": "execute_result"
    }
   ],
   "source": [
    "df['feature_name'].nunique()"
   ]
  },
  {
   "cell_type": "code",
   "execution_count": null,
   "metadata": {},
   "outputs": [],
   "source": []
  },
  {
   "cell_type": "code",
   "execution_count": null,
   "metadata": {},
   "outputs": [],
   "source": []
  },
  {
   "cell_type": "markdown",
   "metadata": {},
   "source": [
    "# Filter events"
   ]
  },
  {
   "cell_type": "markdown",
   "metadata": {},
   "source": [
    "# slice data"
   ]
  },
  {
   "cell_type": "code",
   "execution_count": 177,
   "metadata": {},
   "outputs": [
    {
     "name": "stdout",
     "output_type": "stream",
     "text": [
      "anonymous: (525, 14)\n"
     ]
    }
   ],
   "source": [
    "#get only patient with a surgery date, which are not duplicate (first surgey)\n",
    "anonymous_ix = anonymous[(anonymous['Date of surgery'].notna()) \n",
    "                         & (~anonymous['pid'].duplicated())].index\n",
    "print(\"anonymous:\", anonymous.loc[anonymous_ix].shape)"
   ]
  },
  {
   "cell_type": "code",
   "execution_count": 186,
   "metadata": {},
   "outputs": [
    {
     "data": {
      "text/plain": [
       "(66,)"
      ]
     },
     "execution_count": 186,
     "metadata": {},
     "output_type": "execute_result"
    }
   ],
   "source": [
    "#filter events by thier info\n",
    "#filter 1\n",
    "filter1 = ((eventsinfo['category'] == 'laboratory') & (eventsinfo['inMatrix'] == 1) \\\n",
    "         & (eventsinfo['nPatients'] > 300))\n",
    "\n",
    "filtered = eventsinfo.loc[filter1, 'dict'].dropna().head().replace()\n",
    "\n",
    "#filter 2\n",
    "filter2 = ((eventsinfo['category'] == 'physical') & \\\n",
    "        (eventsinfo['inMatrix'] == 1) & \\\n",
    "           \n",
    "        (eventsinfo['nPatients'] > 30)) \n",
    "\n",
    "#filter 3\n",
    "filter3 = ((eventsinfo['category'] == 'drug') & \\\n",
    "        (eventsinfo['inMatrix'] == 1) & \\\n",
    "            (eventsinfo['sValue'].isna()) & \\\n",
    "        (eventsinfo['nPatients'] > 30)) \n",
    "\n",
    "            \n",
    "info_ix = eventsinfo[filter1 | filter2].index\n",
    "\n",
    "\n",
    "info_ix.shape\n",
    "#'Fentanyl'"
   ]
  },
  {
   "cell_type": "code",
   "execution_count": 325,
   "metadata": {
    "scrolled": true
   },
   "outputs": [
    {
     "name": "stdout",
     "output_type": "stream",
     "text": [
      "df: (741740, 20)\n"
     ]
    }
   ],
   "source": [
    "#slice events data  \n",
    "df_ix = df[df['eventName'].isin(eventsinfo.loc[info_ix,'eventName']) ].index\n",
    "print(\"df:\", df.loc[df_ix].shape)\n"
   ]
  },
  {
   "cell_type": "code",
   "execution_count": null,
   "metadata": {},
   "outputs": [],
   "source": [
    "#get meta data from anonymous \n",
    "\n",
    "metadata = anonymous.loc[anonymous_ix]\n",
    "\n",
    "#map: 1 if Anastomotic Leak, 0 o.w.\n",
    "metadata['Anastomotic Leak'] = 0\n",
    "metadata.loc[metadata['Complications']=='Anastomotic Leak', 'Anastomotic Leak'] = 1\n",
    "\n",
    "#drop columns\n",
    "cols_to_remove = ['Date of surgery', 'Days of hospitalization', 'Patient classification', \n",
    "                  'Responsible surgeon', 'Kk', 'Simple', 'Severe', 'Complications']\n",
    "metadata = metadata.drop(columns=cols_to_remove).set_index('pid')"
   ]
  },
  {
   "cell_type": "markdown",
   "metadata": {},
   "source": [
    "# convert units"
   ]
  },
  {
   "cell_type": "code",
   "execution_count": 189,
   "metadata": {},
   "outputs": [
    {
     "data": {
      "text/html": [
       "<div>\n",
       "<style scoped>\n",
       "    .dataframe tbody tr th:only-of-type {\n",
       "        vertical-align: middle;\n",
       "    }\n",
       "\n",
       "    .dataframe tbody tr th {\n",
       "        vertical-align: top;\n",
       "    }\n",
       "\n",
       "    .dataframe thead th {\n",
       "        text-align: right;\n",
       "    }\n",
       "</style>\n",
       "<table border=\"1\" class=\"dataframe\">\n",
       "  <thead>\n",
       "    <tr style=\"text-align: right;\">\n",
       "      <th></th>\n",
       "      <th>eventName</th>\n",
       "      <th>feature_name</th>\n",
       "      <th>unit</th>\n",
       "    </tr>\n",
       "  </thead>\n",
       "  <tbody>\n",
       "    <tr>\n",
       "      <td>15</td>\n",
       "      <td>חום</td>\n",
       "      <td>body temperature</td>\n",
       "      <td>['F', 'C']</td>\n",
       "    </tr>\n",
       "    <tr>\n",
       "      <td>17</td>\n",
       "      <td>Temperature</td>\n",
       "      <td>body temperature</td>\n",
       "      <td>['F']</td>\n",
       "    </tr>\n",
       "    <tr>\n",
       "      <td>182</td>\n",
       "      <td>WBC</td>\n",
       "      <td>NaN</td>\n",
       "      <td>[nan, '/HPF', 'K/microL', 'cells/mm3', 'LEU/UL']</td>\n",
       "    </tr>\n",
       "  </tbody>\n",
       "</table>\n",
       "</div>"
      ],
      "text/plain": [
       "       eventName      feature_name  \\\n",
       "15           חום  body temperature   \n",
       "17   Temperature  body temperature   \n",
       "182          WBC               NaN   \n",
       "\n",
       "                                                 unit  \n",
       "15                                         ['F', 'C']  \n",
       "17                                              ['F']  \n",
       "182  [nan, '/HPF', 'K/microL', 'cells/mm3', 'LEU/UL']  "
      ]
     },
     "execution_count": 189,
     "metadata": {},
     "output_type": "execute_result"
    }
   ],
   "source": [
    "#see which events should be converted\n",
    "eventsinfo.loc[info_ix].loc[eventsinfo['convertUnit'].notna(), ['eventName', 'feature_name', 'unit']]"
   ]
  },
  {
   "cell_type": "code",
   "execution_count": 226,
   "metadata": {},
   "outputs": [],
   "source": [
    "#create new column of unit\n",
    "df['unit'] = df['unitOfMeasure']"
   ]
  },
  {
   "cell_type": "markdown",
   "metadata": {},
   "source": [
    "#### Body temperature"
   ]
  },
  {
   "cell_type": "code",
   "execution_count": 274,
   "metadata": {},
   "outputs": [],
   "source": [
    "def fahrenheit_to_celsius(f):\n",
    "    return (f - 32) * 5.0/9.0\n",
    "\n",
    "temp_ix = df.loc[df['feature_name'] == 'body temperature'].loc[df['unitOfMeasure'] == 'F'].index\n",
    "df.loc[temp_ix, 'numeric'] = df.loc[temp_ix, 'numeric'].apply(fahrenheit_to_celsius)\n",
    "df.loc[temp_ix, 'unit'] = 'C'\n",
    "\n",
    "#remove noise\n",
    "temp = df.loc[df['feature_name'] == 'body temperature', 'numeric']\n",
    "temp_ix = temp[temp > 45].index\n",
    "df.loc[temp_ix, 'numeric'] = None"
   ]
  },
  {
   "cell_type": "markdown",
   "metadata": {},
   "source": [
    "#### WBC"
   ]
  },
  {
   "cell_type": "code",
   "execution_count": 332,
   "metadata": {},
   "outputs": [],
   "source": [
    "#temporarily leave only \"K/microL\"\n",
    "wbc_ix = df.loc[df['feature_name'] == 'WBC'].loc[df['unitOfMeasure'] != 'K/microL'].index\n",
    "\n",
    "df.drop(wbc_ix, inplace=True)"
   ]
  },
  {
   "cell_type": "markdown",
   "metadata": {},
   "source": []
  },
  {
   "cell_type": "code",
   "execution_count": null,
   "metadata": {},
   "outputs": [],
   "source": []
  },
  {
   "cell_type": "markdown",
   "metadata": {},
   "source": [
    "# print events"
   ]
  },
  {
   "cell_type": "code",
   "execution_count": 337,
   "metadata": {},
   "outputs": [
    {
     "data": {
      "text/plain": [
       "feature_name\n",
       " heart rate / Ventricular Rate    942\n",
       "% Alpha1                            9\n",
       "% Alpha2                            9\n",
       "% Gamma                             9\n",
       "% LYMPHO                            2\n",
       "                                 ... \n",
       "תרבית מניקור מותניCSF               7\n",
       "תרגול אקטיבי                        2\n",
       "תרופות קבועות                       3\n",
       "תשובת CT חזה בטן אגן                1\n",
       "תשובת ייעוץ מרפאת כאב               1\n",
       "Length: 3684, dtype: int64"
      ]
     },
     "execution_count": 337,
     "metadata": {},
     "output_type": "execute_result"
    }
   ],
   "source": [
    "df.groupby('feature_name').apply(len)"
   ]
  },
  {
   "cell_type": "markdown",
   "metadata": {},
   "source": [
    "# Create A Features Table"
   ]
  },
  {
   "cell_type": "code",
   "execution_count": null,
   "metadata": {},
   "outputs": [],
   "source": [
    "\n",
    "before_frames = []\n",
    "after_frames = []\n",
    "\n",
    "for index, row in anonymous.loc[anonymous_ix].head().iterrows(): #.head(10)\n",
    "\n",
    "    #get surgery date of current patient \n",
    "    surgery_date = row['Date of surgery']\n",
    "    \n",
    "    #print(row['pid'], surgery_date)\n",
    "    \n",
    "    #get events before and after date of surgery\n",
    "    data = df.loc[df_ix].loc[data['pid'] == row['pid'], :]\n",
    "    before = data[data['eventStartDate'] < surgery_date]\n",
    "    after = data[data['eventStartDate'] >= surgery_date]\n",
    "    \n",
    "    #display(data['eventName'].value_counts())\n",
    "    \n",
    "    #calculate statistics\n",
    "    x1 = before.groupby('feature_name')['numeric'].agg(['mean', 'median', 'min', 'max']) \n",
    "    x2 = after.groupby('feature_name')['numeric'].agg([ 'mean', 'median', 'min', 'max'])\n",
    "    \n",
    "    #reshape and add pid\n",
    "    y1 = x1.stack().to_frame().T.assign(pid=row['pid'])\n",
    "    y2 = x2.stack().to_frame().T.assign(pid=row['pid'])\n",
    "\n",
    "    #add to list\n",
    "    before_frames.append(y1)\n",
    "    after_frames.append(y2)\n",
    "    \n",
    "    #display(y1)\n",
    "    #display(y2)\n",
    "    \n",
    "#y1 = pd.concat([x1], keys=['before_surgery'], names=['date'])\n",
    "#y2 = pd.concat([x2], keys=['after_surgery'], names=['date'])\n",
    "\n",
    "before_concat = pd.concat(before_frames).set_index('pid', drop=True) \n",
    "after_concat = pd.concat(after_frames).set_index('pid', drop=True) \n",
    "\n",
    "result_data = pd.concat([before_concat, after_concat], axis=1, \n",
    "                        keys=['before_surgery', 'after_surgery'], \n",
    "                        names=['date','eventName', 'statistics'])\n",
    "\n",
    "print(\"before shape:\", before_concat.shape, \"Num events:\", before_concat.columns.get_level_values(1).nunique())\n",
    "print(\"before shape:\", after_concat.shape, \"Num events:\", after_concat.columns.get_level_values(1).nunique())\n",
    "print(\"result shape:\", result_data.shape)"
   ]
  },
  {
   "cell_type": "code",
   "execution_count": null,
   "metadata": {},
   "outputs": [],
   "source": [
    "result_data"
   ]
  },
  {
   "cell_type": "code",
   "execution_count": null,
   "metadata": {},
   "outputs": [],
   "source": [
    "metadata.columns\n",
    "#a.merge(res, on='pid').to_csv(DATA_PATH + \"/draft1.csv\", index=False)\n",
    "\n",
    "#pd.concat([metadata.columns], keys=['a'], names=['nomi'])"
   ]
  },
  {
   "cell_type": "code",
   "execution_count": null,
   "metadata": {},
   "outputs": [],
   "source": [
    "pd.concat([metadata, result_data], axis=1, levels=['date','eventName', 'statistics'])\n"
   ]
  },
  {
   "cell_type": "code",
   "execution_count": null,
   "metadata": {},
   "outputs": [],
   "source": [
    "#write output\n",
    "result.to_excel(DATA_PATH + 'draft1_.xlsx')"
   ]
  },
  {
   "cell_type": "code",
   "execution_count": null,
   "metadata": {},
   "outputs": [],
   "source": [
    "    \n",
    "def stupid(row, df, cat):\n",
    "        \n",
    "    #get surgery date of current patient \n",
    "    surgery_date = row['Date of surgery']\n",
    "    \n",
    "    #get events before and after date of surgery\n",
    "    \n",
    "    df = df[df['pid'] == row['pid']]\n",
    "    events_before = df[df['eventStartDate'] < surgery_date]\n",
    "    events_after = df[df['eventStartDate'] >= surgery_date]\n",
    "    \n",
    "    #get relevant columns\n",
    "    before = events_before[['eventName', 'numeirc']]\n",
    "    after = events_after[['eventName', 'numeirc']]\n",
    "    \n",
    "    \n",
    "    x = before.groupby('eventName')['numeirc'].agg(['min', 'max']) #, 'mean', 'median'\n",
    "    \n",
    "    \n",
    "    \n",
    "    y1 = x.stack().to_frame().T\n",
    "    y2 = x.stack().to_frame().T\n",
    "    \n",
    "    display(y1)\n",
    "    \n",
    "    z= pd.concat([y1.iloc[:,1:], y2], axis=0,sort=False)\n",
    "    display(z)\n",
    "    return 0\n",
    "    ''' \n",
    "    #groupby \n",
    "    before = before.groupby('eventName')['dValue'].agg({'sum_col' : np.sum,\n",
    "                                                         'date' : [np.min, np.max]})\n",
    "    after = after.groupby('eventName')['dValue'].describe()[['min', 'max']]\n",
    "    \n",
    "    print(before)\n",
    "    #empty data frame of all events \n",
    "    events_names = cat['eventName'].drop_duplicates()\n",
    "    all_events = pd.Series(np.nan, index=events_names)\n",
    "    \n",
    "    print(pd.concat([before, after]))\n",
    "   \n",
    "    #merge\n",
    "    merged1 = pd.concat([all_events, values_before], axis=1,sort=False).sort_index()\n",
    "    merged2 = pd.concat([all_events, values_after], axis=1,sort=False).sort_index()\n",
    "\n",
    "    \n",
    "    #convert to dict\n",
    "    d1 = merged1.to_dict()\n",
    "    d2 = merged2.to_dict()\n",
    "   \n",
    "    titles = [\"pid\", \"before_surgery\", \"after_surgery\"]\n",
    "    \n",
    "    res = pd.Series([row[\"pid\"], d1,d2], index=titles)\n",
    "    #display(res)\n",
    "    return res\n",
    "    '''\n",
    "\n",
    "    \n",
    " \n",
    "    "
   ]
  },
  {
   "cell_type": "code",
   "execution_count": null,
   "metadata": {},
   "outputs": [],
   "source": [
    "row = sub_anon.iloc[0,:]\n",
    "#get surgery date of current patient \n",
    "surgery_date = row['Date of surgery']\n",
    "    \n",
    "#get events before and after date of surgery\n",
    "\n",
    "events_before = df.loc[(df['pid'] == row['pid']) & (df['eventStartDate'] < surgery_date), ['eventName', 'dValue']]\n",
    "\n",
    "#groupby \n",
    "yy = events_before.groupby('eventName')['dValue'].describe()[['min', 'max']].head()"
   ]
  },
  {
   "cell_type": "code",
   "execution_count": null,
   "metadata": {},
   "outputs": [],
   "source": []
  },
  {
   "cell_type": "code",
   "execution_count": null,
   "metadata": {},
   "outputs": [],
   "source": []
  },
  {
   "cell_type": "markdown",
   "metadata": {},
   "source": [
    "## שונות"
   ]
  },
  {
   "cell_type": "code",
   "execution_count": null,
   "metadata": {},
   "outputs": [],
   "source": [
    "def create_feature(df, feature_name, alter_names, column_value='dValue', print_output=True):\n",
    "\n",
    "    '''\n",
    "    df - data frame of all events \n",
    "    feature_name - name of feature \n",
    "    alter_names - alternative names of feature\n",
    "    \n",
    "    '''\n",
    "   \n",
    "    #get the required events\n",
    "    sub_events = df[df[\"eventName\"].isin(alter_names)]\n",
    "\n",
    "    #select only rellevant columns \n",
    "    feature = sub_events.loc[:, ['pid', 'eventStartDate', 'eventEndDate', 'unitOfMeasure']]\n",
    "    \n",
    "    #get values of event \n",
    "    feature[feature_name] = sub_events[column_value]\n",
    "    \n",
    "    if print_output:\n",
    "        \n",
    "        print(\"Num {} events:\".format(feature_name), sub_events.shape[0])     \n",
    "\n",
    "        print(\"\\nHas sValue:\", sub_events['sValue'].any())\n",
    "        print(\"Has event description:\", sub_events['eventDesc'].any())\n",
    "\n",
    "        print(\"\\nDescribe numeric values:\\n\", sub_events[['dValue', 'iValue']].describe())\n",
    "\n",
    "        print(\"\\nUnit of measure:\", sub_events['unitOfMeasure'].unique())\n",
    "    \n",
    "        print(\"\\nResult:\")\n",
    "        display(feature.head())\n",
    "\n",
    "\n",
    "    return feature\n"
   ]
  },
  {
   "cell_type": "code",
   "execution_count": null,
   "metadata": {},
   "outputs": [],
   "source": [
    "'''\n",
    "Adding suffix to duplicate patients (pateints who underwent > 1 surgery) \n",
    "'''\n",
    "\n",
    "res = anonymous.copy()\n",
    "anonymous.head()\n",
    "res = res[['pid', 'Sex', 'Age', 'Date of surgery']]\n",
    "\n",
    "#convert column to strig \n",
    "res['pid'] = res['pid'].astype(str)\n",
    "\n",
    "#Number each item in each group from 1 to the length of that group.\n",
    "cumcount = res.groupby('pid').cumcount() + 1\n",
    "\n",
    "\n",
    "#which patients are duplicated\n",
    "idx = res['pid'].duplicated(keep=False)\n",
    "\n",
    "#concatenate suffixes\n",
    "res.loc[idx, 'pid'] = res['pid'] + \"_\" + cumcount.astype(str)\n",
    "\n",
    "res[idx];\n"
   ]
  },
  {
   "cell_type": "code",
   "execution_count": null,
   "metadata": {},
   "outputs": [],
   "source": []
  },
  {
   "cell_type": "code",
   "execution_count": null,
   "metadata": {},
   "outputs": [],
   "source": []
  },
  {
   "cell_type": "code",
   "execution_count": null,
   "metadata": {},
   "outputs": [],
   "source": []
  },
  {
   "cell_type": "code",
   "execution_count": null,
   "metadata": {},
   "outputs": [],
   "source": []
  },
  {
   "cell_type": "code",
   "execution_count": null,
   "metadata": {},
   "outputs": [],
   "source": [
    "ann['cumcount'] = ann.groupby('pid').cumcount()\n",
    "ann['pid'].astype(str) +\"_\"+ ann['cumcount'].astype(str)"
   ]
  }
 ],
 "metadata": {
  "kernelspec": {
   "display_name": "Python 3",
   "language": "python",
   "name": "python3"
  },
  "language_info": {
   "codemirror_mode": {
    "name": "ipython",
    "version": 3
   },
   "file_extension": ".py",
   "mimetype": "text/x-python",
   "name": "python",
   "nbconvert_exporter": "python",
   "pygments_lexer": "ipython3",
   "version": "3.7.4"
  }
 },
 "nbformat": 4,
 "nbformat_minor": 2
}
