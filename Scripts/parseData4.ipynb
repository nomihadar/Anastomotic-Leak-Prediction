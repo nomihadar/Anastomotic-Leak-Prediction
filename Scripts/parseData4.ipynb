{
 "cells": [
  {
   "cell_type": "markdown",
   "metadata": {},
   "source": [
    "**Notebook content:**\n",
    "- \n",
    "- "
   ]
  },
  {
   "cell_type": "code",
   "execution_count": 82,
   "metadata": {},
   "outputs": [],
   "source": [
    "%reset -f "
   ]
  },
  {
   "cell_type": "code",
   "execution_count": 171,
   "metadata": {},
   "outputs": [],
   "source": [
    "import sys\n",
    "import pandas as pd\n",
    "import numpy as np\n",
    "import datetime\n",
    "import json\n",
    "from IPython.display import display\n",
    "\n",
    "pd.set_option('display.max_columns', 30)\n",
    "pd.set_option('display.max_rows', 200)\n",
    "#pd.set_option('display.float_format', lambda x: '%.f' % x)\n",
    "pd.options.display.precision = 4\n",
    "\n",
    "#import sys\n",
    "np.set_printoptions(threshold=sys.maxsize) #- print the full NumPy array\n",
    "\n",
    "from myDefs.defs import *\n",
    "\n",
    "# visualization\n",
    "import seaborn as sns\n",
    "import matplotlib.pyplot as plt \n",
    "from matplotlib.pyplot import figure\n",
    "%matplotlib inline\n"
   ]
  },
  {
   "cell_type": "markdown",
   "metadata": {
    "collapsed": true
   },
   "source": [
    "**Read events file**"
   ]
  },
  {
   "cell_type": "code",
   "execution_count": 347,
   "metadata": {},
   "outputs": [],
   "source": [
    "#read events\n",
    "path = DATA_PATH + \"parseData1.csv\"\n",
    "df = pd.read_csv(path, sep=',') \n",
    "#parse date of surgery\n",
    "df['eventStartDate'] = pd.to_datetime(df['eventStartDate'], format='%Y-%m-%d')\n",
    "df['eventEndDate'] = pd.to_datetime(df['eventEndDate'], format='%Y-%m-%d')\n",
    "\n",
    "#read annonymous file\n",
    "path = \"{}parseAnonymous0.csv\".format(DATA_PATH)\n",
    "anonymous = pd.read_csv(path, sep=',')\n",
    "#parse date of surgery\n",
    "anonymous['Date of surgery'] = pd.to_datetime(anonymous['Date of surgery'], format='%Y-%m-%d')\n"
   ]
  },
  {
   "cell_type": "code",
   "execution_count": 354,
   "metadata": {},
   "outputs": [],
   "source": [
    "#read events info\n",
    "eventsinfo = pd.read_excel(EVENTS_INFO_PATH + \"EventsInfo.xlsx\")"
   ]
  },
  {
   "cell_type": "code",
   "execution_count": 174,
   "metadata": {},
   "outputs": [
    {
     "name": "stdout",
     "output_type": "stream",
     "text": [
      "(1683616, 17)\n",
      "(718, 14)\n",
      "(3755, 15)\n"
     ]
    }
   ],
   "source": [
    "print(df.shape)\n",
    "print(anonymous.shape)\n",
    "print(eventsinfo.shape)"
   ]
  },
  {
   "cell_type": "code",
   "execution_count": 340,
   "metadata": {},
   "outputs": [
    {
     "data": {
      "text/plain": [
       "Index(['pid', 'admissionId', 'eventName', 'eventStartDate', 'eventEndDate',\n",
       "       'dValue', 'iValue', 'sValue', 'eventDesc', 'unitOfMeasure',\n",
       "       'orderNumber', 'organismId', 'eventCode', 'eventCodeOrg', 'eventType',\n",
       "       'eventTypeOrg', 'sourceName', 'numeric', 'feature_name', 'unit'],\n",
       "      dtype='object')"
      ]
     },
     "execution_count": 340,
     "metadata": {},
     "output_type": "execute_result"
    }
   ],
   "source": [
    "df.columns"
   ]
  },
  {
   "cell_type": "code",
   "execution_count": 338,
   "metadata": {},
   "outputs": [],
   "source": [
    "df = events.copy()\n",
    "data = ['pid', 'admissionId', 'eventName', 'eventStartDate', 'eventEndDate',\n",
    "       'dValue', 'iValue', 'sValue', 'eventDesc', 'unitOfMeasure',\n",
    "       'orderNumber', 'organismId', 'eventCode', 'eventCodeOrg', 'eventType',\n",
    "       'eventTypeOrg', 'sourceName', 'numeric', 'feature_name', 'unit']"
   ]
  },
  {
   "cell_type": "markdown",
   "metadata": {},
   "source": [
    "# New column: feature name"
   ]
  },
  {
   "cell_type": "code",
   "execution_count": 349,
   "metadata": {},
   "outputs": [],
   "source": [
    "#create new column feature name \n",
    "names_dict = eventsinfo.loc[eventsinfo['feature_name'].notna(), :]\n",
    "names_dict = dict(zip(names_dict['eventName'], names_dict['feature_name']))\n",
    "\n",
    "df['feature_name'] = df['eventName']\n",
    "df['feature_name'] = df['feature_name'].replace(names_dict)"
   ]
  },
  {
   "cell_type": "code",
   "execution_count": 157,
   "metadata": {},
   "outputs": [
    {
     "data": {
      "text/plain": [
       "3688"
      ]
     },
     "execution_count": 157,
     "metadata": {},
     "output_type": "execute_result"
    }
   ],
   "source": [
    "df['feature_name'].nunique()"
   ]
  },
  {
   "cell_type": "markdown",
   "metadata": {},
   "source": [
    "# Replace values (sValue -> dValue), create column \"numeric\""
   ]
  },
  {
   "cell_type": "code",
   "execution_count": 360,
   "metadata": {
    "scrolled": true
   },
   "outputs": [],
   "source": [
    "def convert_to_dict(x):\n",
    "    s = x.replace('\"\"', '\"')\n",
    "    d = json.loads(s)\n",
    "    for key in d:\n",
    "        if d[key] == 'None':\n",
    "            d[key] = None\n",
    "    return d\n",
    "\n",
    "#replace dValue by values in dictionary\n",
    "def replace_values(x, info):\n",
    "    #get dictionary \n",
    "    d = info.loc[info['eventName'] == x['eventName'].iloc[0], 'dict'].iloc[0]\n",
    "    #copy sValue to dValue\n",
    "    x.loc[x['sValue'].notna(),'dValue'] = x['sValue']\n",
    "    #replace dValues by by sValues \n",
    "    return x['dValue'].replace(d)\n",
    "\n",
    "#convert dict column to dictionary \n",
    "eventsinfo.loc[eventsinfo['dict'].notna(),'dict'] = eventsinfo.loc[eventsinfo['dict'].notna(),'dict'].apply(convert_to_dict)\n",
    "\n",
    "#replace values\n",
    "df['numeric'] = df.groupby('eventName', group_keys=False).apply(replace_values, eventsinfo)"
   ]
  },
  {
   "cell_type": "code",
   "execution_count": null,
   "metadata": {},
   "outputs": [],
   "source": []
  },
  {
   "cell_type": "code",
   "execution_count": null,
   "metadata": {},
   "outputs": [],
   "source": []
  },
  {
   "cell_type": "markdown",
   "metadata": {},
   "source": [
    "# Filter events and slice data"
   ]
  },
  {
   "cell_type": "code",
   "execution_count": 177,
   "metadata": {},
   "outputs": [
    {
     "name": "stdout",
     "output_type": "stream",
     "text": [
      "anonymous: (525, 14)\n"
     ]
    }
   ],
   "source": [
    "#get only patient with a surgery date, which are not duplicate (first surgey)\n",
    "anonymous_ix = anonymous[(anonymous['Date of surgery'].notna()) \n",
    "                         & (~anonymous['pid'].duplicated())].index\n",
    "print(\"anonymous:\", anonymous.loc[anonymous_ix].shape)"
   ]
  },
  {
   "cell_type": "code",
   "execution_count": 355,
   "metadata": {},
   "outputs": [
    {
     "data": {
      "text/plain": [
       "(67,)"
      ]
     },
     "execution_count": 355,
     "metadata": {},
     "output_type": "execute_result"
    }
   ],
   "source": [
    "#filter events by thier info\n",
    "#filter 1\n",
    "filter1 = ((eventsinfo['category'] == 'laboratory') & (eventsinfo['inMatrix'] == 1) \\\n",
    "         & (eventsinfo['nPatients'] > 300))\n",
    "\n",
    "filtered = eventsinfo.loc[filter1, 'dict'].dropna().head().replace()\n",
    "\n",
    "#filter 2\n",
    "filter2 = ((eventsinfo['category'] == 'physical') & \\\n",
    "        (eventsinfo['inMatrix'] == 1) & \\\n",
    "           \n",
    "        (eventsinfo['nPatients'] > 30)) \n",
    "\n",
    "#filter 3\n",
    "filter3 = ((eventsinfo['category'] == 'drug') & \\\n",
    "        (eventsinfo['inMatrix'] == 1) & \\\n",
    "            (eventsinfo['sValue'].isna()) & \\\n",
    "        (eventsinfo['nPatients'] > 30)) \n",
    "\n",
    "            \n",
    "info_ix = eventsinfo[filter1 | filter2].index\n",
    "\n",
    "\n",
    "info_ix.shape\n",
    "#'Fentanyl'"
   ]
  },
  {
   "cell_type": "code",
   "execution_count": 343,
   "metadata": {},
   "outputs": [],
   "source": [
    "events_names = eventsinfo.loc[filter1 | filter2, 'eventName']\n",
    "events_names;"
   ]
  },
  {
   "cell_type": "code",
   "execution_count": 325,
   "metadata": {
    "scrolled": true
   },
   "outputs": [
    {
     "name": "stdout",
     "output_type": "stream",
     "text": [
      "df: (741740, 20)\n"
     ]
    }
   ],
   "source": [
    "#slice events data  \n",
    "df_ix = df[df['eventName'].isin(eventsinfo.loc[info_ix, 'eventName']) ].index\n",
    "print(\"df:\", df.loc[df_ix].shape)\n"
   ]
  },
  {
   "cell_type": "code",
   "execution_count": null,
   "metadata": {},
   "outputs": [],
   "source": [
    "#get meta data from anonymous \n",
    "\n",
    "metadata = anonymous.loc[anonymous_ix]\n",
    "\n",
    "#map: 1 if Anastomotic Leak, 0 o.w.\n",
    "metadata['Anastomotic Leak'] = 0\n",
    "metadata.loc[metadata['Complications']=='Anastomotic Leak', 'Anastomotic Leak'] = 1\n",
    "\n",
    "#drop columns\n",
    "cols_to_remove = ['Date of surgery', 'Days of hospitalization', 'Patient classification', \n",
    "                  'Responsible surgeon', 'Kk', 'Simple', 'Severe', 'Complications']\n",
    "metadata = metadata.drop(columns=cols_to_remove).set_index('pid')"
   ]
  },
  {
   "cell_type": "markdown",
   "metadata": {},
   "source": [
    "# convert units"
   ]
  },
  {
   "cell_type": "code",
   "execution_count": 356,
   "metadata": {},
   "outputs": [
    {
     "data": {
      "text/html": [
       "<div>\n",
       "<style scoped>\n",
       "    .dataframe tbody tr th:only-of-type {\n",
       "        vertical-align: middle;\n",
       "    }\n",
       "\n",
       "    .dataframe tbody tr th {\n",
       "        vertical-align: top;\n",
       "    }\n",
       "\n",
       "    .dataframe thead th {\n",
       "        text-align: right;\n",
       "    }\n",
       "</style>\n",
       "<table border=\"1\" class=\"dataframe\">\n",
       "  <thead>\n",
       "    <tr style=\"text-align: right;\">\n",
       "      <th></th>\n",
       "      <th>eventName</th>\n",
       "      <th>feature_name</th>\n",
       "      <th>unit</th>\n",
       "    </tr>\n",
       "  </thead>\n",
       "  <tbody>\n",
       "    <tr>\n",
       "      <td>2</td>\n",
       "      <td>חום</td>\n",
       "      <td>body temperature</td>\n",
       "      <td>['F', 'C']</td>\n",
       "    </tr>\n",
       "    <tr>\n",
       "      <td>4</td>\n",
       "      <td>Temperature</td>\n",
       "      <td>body temperature</td>\n",
       "      <td>['F']</td>\n",
       "    </tr>\n",
       "    <tr>\n",
       "      <td>88</td>\n",
       "      <td>WBC</td>\n",
       "      <td>NaN</td>\n",
       "      <td>[nan, '/HPF', 'K/microL', 'cells/mm3', 'LEU/UL']</td>\n",
       "    </tr>\n",
       "  </tbody>\n",
       "</table>\n",
       "</div>"
      ],
      "text/plain": [
       "      eventName      feature_name  \\\n",
       "2           חום  body temperature   \n",
       "4   Temperature  body temperature   \n",
       "88          WBC               NaN   \n",
       "\n",
       "                                                unit  \n",
       "2                                         ['F', 'C']  \n",
       "4                                              ['F']  \n",
       "88  [nan, '/HPF', 'K/microL', 'cells/mm3', 'LEU/UL']  "
      ]
     },
     "execution_count": 356,
     "metadata": {},
     "output_type": "execute_result"
    }
   ],
   "source": [
    "#see which events should be converted\n",
    "eventsinfo.loc[info_ix].loc[eventsinfo['convertUnit'].notna(), ['eventName', 'feature_name', 'unit']]"
   ]
  },
  {
   "cell_type": "code",
   "execution_count": 226,
   "metadata": {},
   "outputs": [],
   "source": [
    "#create new column of unit\n",
    "df['unit'] = df['unitOfMeasure']"
   ]
  },
  {
   "cell_type": "markdown",
   "metadata": {},
   "source": [
    "#### Body temperature"
   ]
  },
  {
   "cell_type": "code",
   "execution_count": 274,
   "metadata": {},
   "outputs": [],
   "source": [
    "def fahrenheit_to_celsius(f):\n",
    "    return (f - 32) * 5.0/9.0\n",
    "\n",
    "temp_ix = df.loc[df['feature_name'] == 'body temperature'].loc[df['unitOfMeasure'] == 'F'].index\n",
    "df.loc[temp_ix, 'numeric'] = df.loc[temp_ix, 'numeric'].apply(fahrenheit_to_celsius)\n",
    "df.loc[temp_ix, 'unit'] = 'C'\n",
    "\n",
    "#remove noise\n",
    "temp = df.loc[df['feature_name'] == 'body temperature', 'numeric']\n",
    "temp_ix = temp[temp > 45].index\n",
    "df.loc[temp_ix, 'numeric'] = None"
   ]
  },
  {
   "cell_type": "markdown",
   "metadata": {},
   "source": [
    "#### WBC"
   ]
  },
  {
   "cell_type": "code",
   "execution_count": 353,
   "metadata": {},
   "outputs": [],
   "source": [
    "#temporarily leave only \"K/microL\"\n",
    "wbc_ix = df.loc[df['feature_name'] == 'WBC'].loc[df['unitOfMeasure'] == 'K/microL'].index\n",
    "\n",
    "df_ix = df_ix.union(wbc_ix)"
   ]
  },
  {
   "cell_type": "markdown",
   "metadata": {},
   "source": [
    "#### weight"
   ]
  },
  {
   "cell_type": "code",
   "execution_count": 366,
   "metadata": {},
   "outputs": [],
   "source": [
    "#convert to kg \n",
    "weight_ix = df.loc[df['eventName'] == 'CurrentWeight'].index\n",
    "df.loc[weight_ix, 'numeric'] = df.loc[weight_ix, 'numeric'].apply(lambda x: x/1000)\n",
    "df.loc[weight_ix, 'unit'] = 'kg'"
   ]
  },
  {
   "cell_type": "markdown",
   "metadata": {},
   "source": [
    "# print events"
   ]
  },
  {
   "cell_type": "code",
   "execution_count": 337,
   "metadata": {},
   "outputs": [
    {
     "data": {
      "text/plain": [
       "feature_name\n",
       " heart rate / Ventricular Rate    942\n",
       "% Alpha1                            9\n",
       "% Alpha2                            9\n",
       "% Gamma                             9\n",
       "% LYMPHO                            2\n",
       "                                 ... \n",
       "תרבית מניקור מותניCSF               7\n",
       "תרגול אקטיבי                        2\n",
       "תרופות קבועות                       3\n",
       "תשובת CT חזה בטן אגן                1\n",
       "תשובת ייעוץ מרפאת כאב               1\n",
       "Length: 3684, dtype: int64"
      ]
     },
     "execution_count": 337,
     "metadata": {},
     "output_type": "execute_result"
    }
   ],
   "source": [
    "df.groupby('feature_name').apply(len)"
   ]
  },
  {
   "cell_type": "markdown",
   "metadata": {},
   "source": [
    "# Create A Features Table"
   ]
  },
  {
   "cell_type": "code",
   "execution_count": null,
   "metadata": {},
   "outputs": [],
   "source": [
    "data = df.loc[df_ix]"
   ]
  },
  {
   "cell_type": "code",
   "execution_count": null,
   "metadata": {},
   "outputs": [],
   "source": [
    "\n",
    "before_frames = []\n",
    "after_frames = []\n",
    "\n",
    "for index, row in anonymous.loc[anonymous_ix].head().iterrows(): #.head(10)\n",
    "\n",
    "    #get surgery date of current patient \n",
    "    surgery_date = row['Date of surgery']\n",
    "    \n",
    "    #print(row['pid'], surgery_date)\n",
    "    \n",
    "    #get events before and after date of surgery\n",
    "    patient = data.loc[data['pid'] == row['pid'], :]\n",
    "    before = patient[patient['eventStartDate'] < surgery_date]\n",
    "    after = patient[patient['eventStartDate'] >= surgery_date]\n",
    "    \n",
    "    #display(data['eventName'].value_counts())\n",
    "    \n",
    "    #calculate statistics\n",
    "    x1 = before.groupby('feature_name')['numeric'].agg(['mean', 'median', 'min', 'max']) \n",
    "    x2 = after.groupby('feature_name')['numeric'].agg([ 'mean', 'median', 'min', 'max'])\n",
    "    \n",
    "    #reshape and add pid\n",
    "    y1 = x1.stack().to_frame().T.assign(pid=row['pid'])\n",
    "    y2 = x2.stack().to_frame().T.assign(pid=row['pid'])\n",
    "\n",
    "    #add to list\n",
    "    before_frames.append(y1)\n",
    "    after_frames.append(y2)\n",
    "    \n",
    "    #display(y1)\n",
    "    #display(y2)\n",
    "    \n",
    "#y1 = pd.concat([x1], keys=['before_surgery'], names=['date'])\n",
    "#y2 = pd.concat([x2], keys=['after_surgery'], names=['date'])\n",
    "\n",
    "before_concat = pd.concat(before_frames).set_index('pid', drop=True) \n",
    "after_concat = pd.concat(after_frames).set_index('pid', drop=True) \n",
    "\n",
    "result_data = pd.concat([before_concat, after_concat], axis=1, \n",
    "                        keys=['before_surgery', 'after_surgery'], \n",
    "                        names=['date','eventName', 'statistics'])\n",
    "\n",
    "print(\"before shape:\", before_concat.shape, \"Num events:\", before_concat.columns.get_level_values(1).nunique())\n",
    "print(\"before shape:\", after_concat.shape, \"Num events:\", after_concat.columns.get_level_values(1).nunique())\n",
    "print(\"result shape:\", result_data.shape)"
   ]
  },
  {
   "cell_type": "code",
   "execution_count": null,
   "metadata": {},
   "outputs": [],
   "source": [
    "result_data"
   ]
  },
  {
   "cell_type": "code",
   "execution_count": null,
   "metadata": {},
   "outputs": [],
   "source": [
    "metadata.columns\n",
    "#a.merge(res, on='pid').to_csv(DATA_PATH + \"/draft1.csv\", index=False)\n",
    "\n",
    "#pd.concat([metadata.columns], keys=['a'], names=['nomi'])"
   ]
  },
  {
   "cell_type": "code",
   "execution_count": null,
   "metadata": {},
   "outputs": [],
   "source": [
    "pd.concat([metadata, result_data], axis=1, levels=['date','eventName', 'statistics'])\n"
   ]
  },
  {
   "cell_type": "code",
   "execution_count": null,
   "metadata": {},
   "outputs": [],
   "source": [
    "#write output\n",
    "result.to_excel(DATA_PATH + 'draft1_.xlsx')"
   ]
  },
  {
   "cell_type": "code",
   "execution_count": null,
   "metadata": {},
   "outputs": [],
   "source": []
  },
  {
   "cell_type": "code",
   "execution_count": null,
   "metadata": {},
   "outputs": [],
   "source": []
  },
  {
   "cell_type": "markdown",
   "metadata": {},
   "source": [
    "## שונות"
   ]
  },
  {
   "cell_type": "code",
   "execution_count": null,
   "metadata": {},
   "outputs": [],
   "source": [
    "def create_feature(df, feature_name, alter_names, column_value='dValue', print_output=True):\n",
    "\n",
    "    '''\n",
    "    df - data frame of all events \n",
    "    feature_name - name of feature \n",
    "    alter_names - alternative names of feature\n",
    "    \n",
    "    '''\n",
    "   \n",
    "    #get the required events\n",
    "    sub_events = df[df[\"eventName\"].isin(alter_names)]\n",
    "\n",
    "    #select only rellevant columns \n",
    "    feature = sub_events.loc[:, ['pid', 'eventStartDate', 'eventEndDate', 'unitOfMeasure']]\n",
    "    \n",
    "    #get values of event \n",
    "    feature[feature_name] = sub_events[column_value]\n",
    "    \n",
    "    if print_output:\n",
    "        \n",
    "        print(\"Num {} events:\".format(feature_name), sub_events.shape[0])     \n",
    "\n",
    "        print(\"\\nHas sValue:\", sub_events['sValue'].any())\n",
    "        print(\"Has event description:\", sub_events['eventDesc'].any())\n",
    "\n",
    "        print(\"\\nDescribe numeric values:\\n\", sub_events[['dValue', 'iValue']].describe())\n",
    "\n",
    "        print(\"\\nUnit of measure:\", sub_events['unitOfMeasure'].unique())\n",
    "    \n",
    "        print(\"\\nResult:\")\n",
    "        display(feature.head())\n",
    "\n",
    "\n",
    "    return feature\n"
   ]
  },
  {
   "cell_type": "code",
   "execution_count": null,
   "metadata": {},
   "outputs": [],
   "source": [
    "'''\n",
    "Adding suffix to duplicate patients (pateints who underwent > 1 surgery) \n",
    "'''\n",
    "\n",
    "res = anonymous.copy()\n",
    "anonymous.head()\n",
    "res = res[['pid', 'Sex', 'Age', 'Date of surgery']]\n",
    "\n",
    "#convert column to strig \n",
    "res['pid'] = res['pid'].astype(str)\n",
    "\n",
    "#Number each item in each group from 1 to the length of that group.\n",
    "cumcount = res.groupby('pid').cumcount() + 1\n",
    "\n",
    "\n",
    "#which patients are duplicated\n",
    "idx = res['pid'].duplicated(keep=False)\n",
    "\n",
    "#concatenate suffixes\n",
    "res.loc[idx, 'pid'] = res['pid'] + \"_\" + cumcount.astype(str)\n",
    "\n",
    "res[idx];\n"
   ]
  },
  {
   "cell_type": "code",
   "execution_count": null,
   "metadata": {},
   "outputs": [],
   "source": []
  },
  {
   "cell_type": "code",
   "execution_count": null,
   "metadata": {},
   "outputs": [],
   "source": []
  },
  {
   "cell_type": "code",
   "execution_count": null,
   "metadata": {},
   "outputs": [],
   "source": []
  },
  {
   "cell_type": "code",
   "execution_count": null,
   "metadata": {},
   "outputs": [],
   "source": []
  },
  {
   "cell_type": "code",
   "execution_count": null,
   "metadata": {},
   "outputs": [],
   "source": [
    "ann['cumcount'] = ann.groupby('pid').cumcount()\n",
    "ann['pid'].astype(str) +\"_\"+ ann['cumcount'].astype(str)"
   ]
  }
 ],
 "metadata": {
  "kernelspec": {
   "display_name": "Python 3",
   "language": "python",
   "name": "python3"
  },
  "language_info": {
   "codemirror_mode": {
    "name": "ipython",
    "version": 3
   },
   "file_extension": ".py",
   "mimetype": "text/x-python",
   "name": "python",
   "nbconvert_exporter": "python",
   "pygments_lexer": "ipython3",
   "version": "3.7.4"
  }
 },
 "nbformat": 4,
 "nbformat_minor": 2
}
