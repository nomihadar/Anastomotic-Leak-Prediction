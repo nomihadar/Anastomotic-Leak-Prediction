{
 "cells": [
  {
   "cell_type": "markdown",
   "metadata": {},
   "source": [
    "**Notebook content:**\n",
    "- \n",
    "- "
   ]
  },
  {
   "cell_type": "code",
   "execution_count": 1,
   "metadata": {},
   "outputs": [],
   "source": [
    "%reset -f "
   ]
  },
  {
   "cell_type": "code",
   "execution_count": 2,
   "metadata": {},
   "outputs": [],
   "source": [
    "import sys\n",
    "import pandas as pd\n",
    "import numpy as np\n",
    "import datetime\n",
    "from IPython.display import display\n",
    "\n",
    "pd.set_option('display.max_columns', 30)\n",
    "pd.set_option('display.max_rows', 200)\n",
    "#pd.set_option('display.float_format', lambda x: '%.f' % x)\n",
    "pd.options.display.precision = 4\n",
    "\n",
    "#import sys\n",
    "np.set_printoptions(threshold=sys.maxsize) #- print the full NumPy array\n",
    "\n",
    "from myDefs.defs import *\n",
    "\n",
    "# visualization\n",
    "import seaborn as sns\n",
    "import matplotlib.pyplot as plt \n",
    "from matplotlib.pyplot import figure\n",
    "%matplotlib inline\n"
   ]
  },
  {
   "cell_type": "code",
   "execution_count": 3,
   "metadata": {},
   "outputs": [],
   "source": [
    "nValue = 'nValue' #numeric value"
   ]
  },
  {
   "cell_type": "markdown",
   "metadata": {
    "collapsed": true
   },
   "source": [
    "**Read events file**"
   ]
  },
  {
   "cell_type": "code",
   "execution_count": 4,
   "metadata": {},
   "outputs": [],
   "source": [
    "file = DATA_PATH + \"parseData1.csv\"\n",
    "df = pd.read_csv(file, sep=',')  "
   ]
  },
  {
   "cell_type": "code",
   "execution_count": 5,
   "metadata": {},
   "outputs": [
    {
     "data": {
      "text/plain": [
       "(1683616, 17)"
      ]
     },
     "execution_count": 5,
     "metadata": {},
     "output_type": "execute_result"
    }
   ],
   "source": [
    "df.shape"
   ]
  },
  {
   "cell_type": "code",
   "execution_count": 6,
   "metadata": {},
   "outputs": [],
   "source": [
    "df.head();"
   ]
  },
  {
   "cell_type": "markdown",
   "metadata": {},
   "source": [
    "**Read Anonymous file**"
   ]
  },
  {
   "cell_type": "code",
   "execution_count": 7,
   "metadata": {},
   "outputs": [],
   "source": [
    "output_path = \"{}parseAnonymous0.csv\".format(DATA_PATH)\n",
    "anonymous = pd.read_csv(output_path, sep=',')"
   ]
  },
  {
   "cell_type": "code",
   "execution_count": 8,
   "metadata": {},
   "outputs": [],
   "source": [
    "anonymous.head();"
   ]
  },
  {
   "cell_type": "code",
   "execution_count": 9,
   "metadata": {},
   "outputs": [],
   "source": [
    "anonymousIDs = anonymous[\"pid\"]"
   ]
  },
  {
   "cell_type": "code",
   "execution_count": 10,
   "metadata": {},
   "outputs": [],
   "source": [
    "dfIDs = df[\"pid\"]"
   ]
  },
  {
   "cell_type": "code",
   "execution_count": 11,
   "metadata": {},
   "outputs": [
    {
     "data": {
      "text/plain": [
       "pid                        680\n",
       "Days of hospitalization     47\n",
       "Sex                          2\n",
       "Age                         73\n",
       "Date of surgery            205\n",
       "Patient classification      10\n",
       "Name of surgery            313\n",
       "Responsible surgeon         17\n",
       "Urgency                      2\n",
       "Surgical approach            3\n",
       "Complications               90\n",
       "Kk                           1\n",
       "Simple                       1\n",
       "Severe                       2\n",
       "dtype: int64"
      ]
     },
     "execution_count": 11,
     "metadata": {},
     "output_type": "execute_result"
    }
   ],
   "source": [
    "anonymous.nunique()"
   ]
  },
  {
   "cell_type": "code",
   "execution_count": 12,
   "metadata": {},
   "outputs": [],
   "source": [
    "s1 = set(dfIDs) \n",
    "s2 = set(anonymousIDs)\n",
    "intersection = list(s1.intersection(s2))"
   ]
  },
  {
   "cell_type": "code",
   "execution_count": 13,
   "metadata": {},
   "outputs": [
    {
     "data": {
      "text/plain": [
       "680"
      ]
     },
     "execution_count": 13,
     "metadata": {},
     "output_type": "execute_result"
    }
   ],
   "source": [
    "len(intersection)"
   ]
  },
  {
   "cell_type": "markdown",
   "metadata": {},
   "source": [
    "**Read Events_map file**"
   ]
  },
  {
   "cell_type": "code",
   "execution_count": 14,
   "metadata": {},
   "outputs": [
    {
     "ename": "FileNotFoundError",
     "evalue": "[Errno 2] No such file or directory: 'C:/Users/hp4mp/PythonProjects/AnastomoticLeakProject/Data/organizeEvents/all_events_manual.xlsx'",
     "output_type": "error",
     "traceback": [
      "\u001b[1;31m---------------------------------------------------------------------------\u001b[0m",
      "\u001b[1;31mFileNotFoundError\u001b[0m                         Traceback (most recent call last)",
      "\u001b[1;32m<ipython-input-14-253131ca97f8>\u001b[0m in \u001b[0;36m<module>\u001b[1;34m\u001b[0m\n\u001b[0;32m      1\u001b[0m \u001b[0mpath\u001b[0m \u001b[1;33m=\u001b[0m \u001b[1;34m\"{}organizeEvents/all_events_manual.xlsx\"\u001b[0m\u001b[1;33m.\u001b[0m\u001b[0mformat\u001b[0m\u001b[1;33m(\u001b[0m\u001b[0mDATA_PATH\u001b[0m\u001b[1;33m)\u001b[0m\u001b[1;33m\u001b[0m\u001b[1;33m\u001b[0m\u001b[0m\n\u001b[1;32m----> 2\u001b[1;33m \u001b[0mevents\u001b[0m \u001b[1;33m=\u001b[0m \u001b[0mpd\u001b[0m\u001b[1;33m.\u001b[0m\u001b[0mread_excel\u001b[0m\u001b[1;33m(\u001b[0m\u001b[0mpath\u001b[0m\u001b[1;33m)\u001b[0m\u001b[1;33m\u001b[0m\u001b[1;33m\u001b[0m\u001b[0m\n\u001b[0m",
      "\u001b[1;32m~\\AppData\\Local\\Continuum\\anaconda3\\lib\\site-packages\\pandas\\util\\_decorators.py\u001b[0m in \u001b[0;36mwrapper\u001b[1;34m(*args, **kwargs)\u001b[0m\n\u001b[0;32m    206\u001b[0m                 \u001b[1;32melse\u001b[0m\u001b[1;33m:\u001b[0m\u001b[1;33m\u001b[0m\u001b[1;33m\u001b[0m\u001b[0m\n\u001b[0;32m    207\u001b[0m                     \u001b[0mkwargs\u001b[0m\u001b[1;33m[\u001b[0m\u001b[0mnew_arg_name\u001b[0m\u001b[1;33m]\u001b[0m \u001b[1;33m=\u001b[0m \u001b[0mnew_arg_value\u001b[0m\u001b[1;33m\u001b[0m\u001b[1;33m\u001b[0m\u001b[0m\n\u001b[1;32m--> 208\u001b[1;33m             \u001b[1;32mreturn\u001b[0m \u001b[0mfunc\u001b[0m\u001b[1;33m(\u001b[0m\u001b[1;33m*\u001b[0m\u001b[0margs\u001b[0m\u001b[1;33m,\u001b[0m \u001b[1;33m**\u001b[0m\u001b[0mkwargs\u001b[0m\u001b[1;33m)\u001b[0m\u001b[1;33m\u001b[0m\u001b[1;33m\u001b[0m\u001b[0m\n\u001b[0m\u001b[0;32m    209\u001b[0m \u001b[1;33m\u001b[0m\u001b[0m\n\u001b[0;32m    210\u001b[0m         \u001b[1;32mreturn\u001b[0m \u001b[0mwrapper\u001b[0m\u001b[1;33m\u001b[0m\u001b[1;33m\u001b[0m\u001b[0m\n",
      "\u001b[1;32m~\\AppData\\Local\\Continuum\\anaconda3\\lib\\site-packages\\pandas\\io\\excel\\_base.py\u001b[0m in \u001b[0;36mread_excel\u001b[1;34m(io, sheet_name, header, names, index_col, usecols, squeeze, dtype, engine, converters, true_values, false_values, skiprows, nrows, na_values, keep_default_na, verbose, parse_dates, date_parser, thousands, comment, skip_footer, skipfooter, convert_float, mangle_dupe_cols, **kwds)\u001b[0m\n\u001b[0;32m    308\u001b[0m \u001b[1;33m\u001b[0m\u001b[0m\n\u001b[0;32m    309\u001b[0m     \u001b[1;32mif\u001b[0m \u001b[1;32mnot\u001b[0m \u001b[0misinstance\u001b[0m\u001b[1;33m(\u001b[0m\u001b[0mio\u001b[0m\u001b[1;33m,\u001b[0m \u001b[0mExcelFile\u001b[0m\u001b[1;33m)\u001b[0m\u001b[1;33m:\u001b[0m\u001b[1;33m\u001b[0m\u001b[1;33m\u001b[0m\u001b[0m\n\u001b[1;32m--> 310\u001b[1;33m         \u001b[0mio\u001b[0m \u001b[1;33m=\u001b[0m \u001b[0mExcelFile\u001b[0m\u001b[1;33m(\u001b[0m\u001b[0mio\u001b[0m\u001b[1;33m,\u001b[0m \u001b[0mengine\u001b[0m\u001b[1;33m=\u001b[0m\u001b[0mengine\u001b[0m\u001b[1;33m)\u001b[0m\u001b[1;33m\u001b[0m\u001b[1;33m\u001b[0m\u001b[0m\n\u001b[0m\u001b[0;32m    311\u001b[0m     \u001b[1;32melif\u001b[0m \u001b[0mengine\u001b[0m \u001b[1;32mand\u001b[0m \u001b[0mengine\u001b[0m \u001b[1;33m!=\u001b[0m \u001b[0mio\u001b[0m\u001b[1;33m.\u001b[0m\u001b[0mengine\u001b[0m\u001b[1;33m:\u001b[0m\u001b[1;33m\u001b[0m\u001b[1;33m\u001b[0m\u001b[0m\n\u001b[0;32m    312\u001b[0m         raise ValueError(\n",
      "\u001b[1;32m~\\AppData\\Local\\Continuum\\anaconda3\\lib\\site-packages\\pandas\\io\\excel\\_base.py\u001b[0m in \u001b[0;36m__init__\u001b[1;34m(self, io, engine)\u001b[0m\n\u001b[0;32m    817\u001b[0m         \u001b[0mself\u001b[0m\u001b[1;33m.\u001b[0m\u001b[0m_io\u001b[0m \u001b[1;33m=\u001b[0m \u001b[0m_stringify_path\u001b[0m\u001b[1;33m(\u001b[0m\u001b[0mio\u001b[0m\u001b[1;33m)\u001b[0m\u001b[1;33m\u001b[0m\u001b[1;33m\u001b[0m\u001b[0m\n\u001b[0;32m    818\u001b[0m \u001b[1;33m\u001b[0m\u001b[0m\n\u001b[1;32m--> 819\u001b[1;33m         \u001b[0mself\u001b[0m\u001b[1;33m.\u001b[0m\u001b[0m_reader\u001b[0m \u001b[1;33m=\u001b[0m \u001b[0mself\u001b[0m\u001b[1;33m.\u001b[0m\u001b[0m_engines\u001b[0m\u001b[1;33m[\u001b[0m\u001b[0mengine\u001b[0m\u001b[1;33m]\u001b[0m\u001b[1;33m(\u001b[0m\u001b[0mself\u001b[0m\u001b[1;33m.\u001b[0m\u001b[0m_io\u001b[0m\u001b[1;33m)\u001b[0m\u001b[1;33m\u001b[0m\u001b[1;33m\u001b[0m\u001b[0m\n\u001b[0m\u001b[0;32m    820\u001b[0m \u001b[1;33m\u001b[0m\u001b[0m\n\u001b[0;32m    821\u001b[0m     \u001b[1;32mdef\u001b[0m \u001b[0m__fspath__\u001b[0m\u001b[1;33m(\u001b[0m\u001b[0mself\u001b[0m\u001b[1;33m)\u001b[0m\u001b[1;33m:\u001b[0m\u001b[1;33m\u001b[0m\u001b[1;33m\u001b[0m\u001b[0m\n",
      "\u001b[1;32m~\\AppData\\Local\\Continuum\\anaconda3\\lib\\site-packages\\pandas\\io\\excel\\_xlrd.py\u001b[0m in \u001b[0;36m__init__\u001b[1;34m(self, filepath_or_buffer)\u001b[0m\n\u001b[0;32m     19\u001b[0m         \u001b[0merr_msg\u001b[0m \u001b[1;33m=\u001b[0m \u001b[1;34m\"Install xlrd >= 1.0.0 for Excel support\"\u001b[0m\u001b[1;33m\u001b[0m\u001b[1;33m\u001b[0m\u001b[0m\n\u001b[0;32m     20\u001b[0m         \u001b[0mimport_optional_dependency\u001b[0m\u001b[1;33m(\u001b[0m\u001b[1;34m\"xlrd\"\u001b[0m\u001b[1;33m,\u001b[0m \u001b[0mextra\u001b[0m\u001b[1;33m=\u001b[0m\u001b[0merr_msg\u001b[0m\u001b[1;33m)\u001b[0m\u001b[1;33m\u001b[0m\u001b[1;33m\u001b[0m\u001b[0m\n\u001b[1;32m---> 21\u001b[1;33m         \u001b[0msuper\u001b[0m\u001b[1;33m(\u001b[0m\u001b[1;33m)\u001b[0m\u001b[1;33m.\u001b[0m\u001b[0m__init__\u001b[0m\u001b[1;33m(\u001b[0m\u001b[0mfilepath_or_buffer\u001b[0m\u001b[1;33m)\u001b[0m\u001b[1;33m\u001b[0m\u001b[1;33m\u001b[0m\u001b[0m\n\u001b[0m\u001b[0;32m     22\u001b[0m \u001b[1;33m\u001b[0m\u001b[0m\n\u001b[0;32m     23\u001b[0m     \u001b[1;33m@\u001b[0m\u001b[0mproperty\u001b[0m\u001b[1;33m\u001b[0m\u001b[1;33m\u001b[0m\u001b[0m\n",
      "\u001b[1;32m~\\AppData\\Local\\Continuum\\anaconda3\\lib\\site-packages\\pandas\\io\\excel\\_base.py\u001b[0m in \u001b[0;36m__init__\u001b[1;34m(self, filepath_or_buffer)\u001b[0m\n\u001b[0;32m    357\u001b[0m             \u001b[0mself\u001b[0m\u001b[1;33m.\u001b[0m\u001b[0mbook\u001b[0m \u001b[1;33m=\u001b[0m \u001b[0mself\u001b[0m\u001b[1;33m.\u001b[0m\u001b[0mload_workbook\u001b[0m\u001b[1;33m(\u001b[0m\u001b[0mfilepath_or_buffer\u001b[0m\u001b[1;33m)\u001b[0m\u001b[1;33m\u001b[0m\u001b[1;33m\u001b[0m\u001b[0m\n\u001b[0;32m    358\u001b[0m         \u001b[1;32melif\u001b[0m \u001b[0misinstance\u001b[0m\u001b[1;33m(\u001b[0m\u001b[0mfilepath_or_buffer\u001b[0m\u001b[1;33m,\u001b[0m \u001b[0mstr\u001b[0m\u001b[1;33m)\u001b[0m\u001b[1;33m:\u001b[0m\u001b[1;33m\u001b[0m\u001b[1;33m\u001b[0m\u001b[0m\n\u001b[1;32m--> 359\u001b[1;33m             \u001b[0mself\u001b[0m\u001b[1;33m.\u001b[0m\u001b[0mbook\u001b[0m \u001b[1;33m=\u001b[0m \u001b[0mself\u001b[0m\u001b[1;33m.\u001b[0m\u001b[0mload_workbook\u001b[0m\u001b[1;33m(\u001b[0m\u001b[0mfilepath_or_buffer\u001b[0m\u001b[1;33m)\u001b[0m\u001b[1;33m\u001b[0m\u001b[1;33m\u001b[0m\u001b[0m\n\u001b[0m\u001b[0;32m    360\u001b[0m         \u001b[1;32melse\u001b[0m\u001b[1;33m:\u001b[0m\u001b[1;33m\u001b[0m\u001b[1;33m\u001b[0m\u001b[0m\n\u001b[0;32m    361\u001b[0m             raise ValueError(\n",
      "\u001b[1;32m~\\AppData\\Local\\Continuum\\anaconda3\\lib\\site-packages\\pandas\\io\\excel\\_xlrd.py\u001b[0m in \u001b[0;36mload_workbook\u001b[1;34m(self, filepath_or_buffer)\u001b[0m\n\u001b[0;32m     34\u001b[0m             \u001b[1;32mreturn\u001b[0m \u001b[0mopen_workbook\u001b[0m\u001b[1;33m(\u001b[0m\u001b[0mfile_contents\u001b[0m\u001b[1;33m=\u001b[0m\u001b[0mdata\u001b[0m\u001b[1;33m)\u001b[0m\u001b[1;33m\u001b[0m\u001b[1;33m\u001b[0m\u001b[0m\n\u001b[0;32m     35\u001b[0m         \u001b[1;32melse\u001b[0m\u001b[1;33m:\u001b[0m\u001b[1;33m\u001b[0m\u001b[1;33m\u001b[0m\u001b[0m\n\u001b[1;32m---> 36\u001b[1;33m             \u001b[1;32mreturn\u001b[0m \u001b[0mopen_workbook\u001b[0m\u001b[1;33m(\u001b[0m\u001b[0mfilepath_or_buffer\u001b[0m\u001b[1;33m)\u001b[0m\u001b[1;33m\u001b[0m\u001b[1;33m\u001b[0m\u001b[0m\n\u001b[0m\u001b[0;32m     37\u001b[0m \u001b[1;33m\u001b[0m\u001b[0m\n\u001b[0;32m     38\u001b[0m     \u001b[1;33m@\u001b[0m\u001b[0mproperty\u001b[0m\u001b[1;33m\u001b[0m\u001b[1;33m\u001b[0m\u001b[0m\n",
      "\u001b[1;32m~\\AppData\\Local\\Continuum\\anaconda3\\lib\\site-packages\\xlrd\\__init__.py\u001b[0m in \u001b[0;36mopen_workbook\u001b[1;34m(filename, logfile, verbosity, use_mmap, file_contents, encoding_override, formatting_info, on_demand, ragged_rows)\u001b[0m\n\u001b[0;32m    109\u001b[0m     \u001b[1;32melse\u001b[0m\u001b[1;33m:\u001b[0m\u001b[1;33m\u001b[0m\u001b[1;33m\u001b[0m\u001b[0m\n\u001b[0;32m    110\u001b[0m         \u001b[0mfilename\u001b[0m \u001b[1;33m=\u001b[0m \u001b[0mos\u001b[0m\u001b[1;33m.\u001b[0m\u001b[0mpath\u001b[0m\u001b[1;33m.\u001b[0m\u001b[0mexpanduser\u001b[0m\u001b[1;33m(\u001b[0m\u001b[0mfilename\u001b[0m\u001b[1;33m)\u001b[0m\u001b[1;33m\u001b[0m\u001b[1;33m\u001b[0m\u001b[0m\n\u001b[1;32m--> 111\u001b[1;33m         \u001b[1;32mwith\u001b[0m \u001b[0mopen\u001b[0m\u001b[1;33m(\u001b[0m\u001b[0mfilename\u001b[0m\u001b[1;33m,\u001b[0m \u001b[1;34m\"rb\"\u001b[0m\u001b[1;33m)\u001b[0m \u001b[1;32mas\u001b[0m \u001b[0mf\u001b[0m\u001b[1;33m:\u001b[0m\u001b[1;33m\u001b[0m\u001b[1;33m\u001b[0m\u001b[0m\n\u001b[0m\u001b[0;32m    112\u001b[0m             \u001b[0mpeek\u001b[0m \u001b[1;33m=\u001b[0m \u001b[0mf\u001b[0m\u001b[1;33m.\u001b[0m\u001b[0mread\u001b[0m\u001b[1;33m(\u001b[0m\u001b[0mpeeksz\u001b[0m\u001b[1;33m)\u001b[0m\u001b[1;33m\u001b[0m\u001b[1;33m\u001b[0m\u001b[0m\n\u001b[0;32m    113\u001b[0m     \u001b[1;32mif\u001b[0m \u001b[0mpeek\u001b[0m \u001b[1;33m==\u001b[0m \u001b[1;34mb\"PK\\x03\\x04\"\u001b[0m\u001b[1;33m:\u001b[0m \u001b[1;31m# a ZIP file\u001b[0m\u001b[1;33m\u001b[0m\u001b[1;33m\u001b[0m\u001b[0m\n",
      "\u001b[1;31mFileNotFoundError\u001b[0m: [Errno 2] No such file or directory: 'C:/Users/hp4mp/PythonProjects/AnastomoticLeakProject/Data/organizeEvents/all_events_manual.xlsx'"
     ]
    }
   ],
   "source": [
    "path = \"{}organizeEvents/all_events_manual.xlsx\".format(DATA_PATH)\n",
    "events = pd.read_excel(path)"
   ]
  },
  {
   "cell_type": "code",
   "execution_count": null,
   "metadata": {},
   "outputs": [],
   "source": [
    "events.head()"
   ]
  },
  {
   "cell_type": "code",
   "execution_count": null,
   "metadata": {},
   "outputs": [],
   "source": [
    "names = events.set_index('eventName')['feature_name']\n",
    "names = names[names.notna()]\n",
    "\n",
    "dnames = names.to_dict()\n",
    "dnames"
   ]
  },
  {
   "cell_type": "code",
   "execution_count": null,
   "metadata": {},
   "outputs": [],
   "source": [
    "names.index"
   ]
  },
  {
   "cell_type": "code",
   "execution_count": null,
   "metadata": {},
   "outputs": [],
   "source": [
    "sub_events = df.loc[df['eventName'].isin(names.index), :]\n",
    "\n",
    "sub_events.loc[:,'eventName'] = sub_events['eventName'].replace(dnames)\n",
    "sub_events"
   ]
  },
  {
   "cell_type": "markdown",
   "metadata": {},
   "source": [
    "# Feature by Feature"
   ]
  },
  {
   "cell_type": "code",
   "execution_count": null,
   "metadata": {},
   "outputs": [],
   "source": [
    "features_df = []"
   ]
  },
  {
   "cell_type": "code",
   "execution_count": null,
   "metadata": {},
   "outputs": [],
   "source": [
    "def create_feature(df, feature_name, alter_names, column_value='dValue', print_output=True):\n",
    "\n",
    "    '''\n",
    "    df - data frame of all events \n",
    "    feature_name - name of feature \n",
    "    alter_names - alternative names of feature\n",
    "    \n",
    "    '''\n",
    "   \n",
    "    #get the required events\n",
    "    sub_events = df[df[\"eventName\"].isin(alter_names)]\n",
    "\n",
    "    #select only rellevant columns \n",
    "    feature = sub_events.loc[:, ['pid', 'eventStartDate', 'eventEndDate', 'unitOfMeasure']]\n",
    "    \n",
    "    #get values of event \n",
    "    feature[feature_name] = sub_events[column_value]\n",
    "    \n",
    "    if print_output:\n",
    "        \n",
    "        print(\"Num {} events:\".format(feature_name), sub_events.shape[0])     \n",
    "\n",
    "        print(\"\\nHas sValue:\", sub_events['sValue'].any())\n",
    "        print(\"Has event description:\", sub_events['eventDesc'].any())\n",
    "\n",
    "        print(\"\\nDescribe numeric values:\\n\", sub_events[['dValue', 'iValue']].describe())\n",
    "\n",
    "        print(\"\\nUnit of measure:\", sub_events['unitOfMeasure'].unique())\n",
    "    \n",
    "        print(\"\\nResult:\")\n",
    "        display(feature.head())\n",
    "\n",
    "\n",
    "    return feature\n"
   ]
  },
  {
   "cell_type": "markdown",
   "metadata": {},
   "source": [
    "## Body heat"
   ]
  },
  {
   "cell_type": "code",
   "execution_count": null,
   "metadata": {},
   "outputs": [],
   "source": [
    "alter_names = ['חום.', 'חום', 'Temperature', 'DATEX.body temp.value_1', 'DATEX.body temp.value_2']\n",
    "body_heat = create_feature(df, 'body heat', alter_names)"
   ]
  },
  {
   "cell_type": "code",
   "execution_count": null,
   "metadata": {},
   "outputs": [],
   "source": [
    "def fahrenheit_to_celsius(f):\n",
    "    return (f - 32) * 5.0/9.0\n",
    "\n",
    "#.apply(fahrenheit_to_celsius)\n",
    "fahrenheits = body_heat['unitOfMeasure']=='F'\n",
    "body_heat.loc[fahrenheits, 'body heat'] = body_heat.loc[fahrenheits, 'body heat'].apply(fahrenheit_to_celsius)\n",
    "body_heat.loc[fahrenheits, 'unitOfMeasure'] = 'C'\n",
    "\n",
    "body_heat[body_heat['body heat'] > 40];"
   ]
  },
  {
   "cell_type": "code",
   "execution_count": null,
   "metadata": {},
   "outputs": [],
   "source": []
  },
  {
   "cell_type": "code",
   "execution_count": null,
   "metadata": {},
   "outputs": [],
   "source": []
  },
  {
   "cell_type": "code",
   "execution_count": null,
   "metadata": {},
   "outputs": [],
   "source": []
  },
  {
   "cell_type": "code",
   "execution_count": null,
   "metadata": {},
   "outputs": [],
   "source": []
  },
  {
   "cell_type": "markdown",
   "metadata": {},
   "source": [
    "# Create A Features Table"
   ]
  },
  {
   "cell_type": "code",
   "execution_count": null,
   "metadata": {},
   "outputs": [],
   "source": [
    "'''\n",
    "Adding suffix to duplicate patients (pateints who underwent > 1 surgery) \n",
    "'''\n",
    "\n",
    "res = anonymous.copy()\n",
    "anonymous.head()\n",
    "res = res[['pid', 'Sex', 'Age', 'Date of surgery']]\n",
    "\n",
    "#convert column to strig \n",
    "res['pid'] = res['pid'].astype(str)\n",
    "\n",
    "#Number each item in each group from 1 to the length of that group.\n",
    "cumcount = res.groupby('pid').cumcount() + 1\n",
    "\n",
    "\n",
    "#which patients are duplicated\n",
    "idx = res['pid'].duplicated(keep=False)\n",
    "\n",
    "#concatenate suffixes\n",
    "res.loc[idx, 'pid'] = res['pid'] + \"_\" + cumcount.astype(str)\n",
    "\n",
    "res[idx]\n"
   ]
  },
  {
   "cell_type": "code",
   "execution_count": null,
   "metadata": {},
   "outputs": [],
   "source": [
    "ann.groupby('pid').apply(lambda x:np.arange(len(x)))"
   ]
  },
  {
   "cell_type": "code",
   "execution_count": null,
   "metadata": {},
   "outputs": [],
   "source": [
    "ann['cumcount'] = ann.groupby('pid').cumcount()\n",
    "ann['pid'].astype(str) +\"_\"+ ann['cumcount'].astype(str)"
   ]
  },
  {
   "cell_type": "code",
   "execution_count": null,
   "metadata": {},
   "outputs": [],
   "source": [
    "def f(df):\n",
    "    return df.to_dict('list')\n",
    "\n",
    "def createEventsDic(df):\n",
    "    #group by event name \n",
    "    cols = [\"value\", \"unitOfMeasure\", \"eventDesc\"]\n",
    "    x = df.groupby(\"eventName\")[cols].apply(f).to_dict()\n",
    "    return x\n",
    "    \n",
    "def getEventsByTimeRange(df, start_time, end_time):\n",
    "    '''\n",
    "    Get events in the range [startTime, endTime)\n",
    "    '''\n",
    "    return df[df['eventStartDate'] >= start_time & df['eventStartDate'] < end_time]\n",
    "    \n",
    "    \n",
    "    \n",
    "def nomi(df):\n",
    "    \n",
    "    #get surgery date of current patient \n",
    "    pid = df.iloc[0][\"pid\"]\n",
    "    surgery_date = dates.loc[pid, \"surgery_1\"]\n",
    "    \n",
    "    pass\n",
    "    \n",
    "   \n",
    "    titels = [\"01_day_before_surgery\"]\n",
    "    \n",
    "    if pd.isnull(surgery_date):\n",
    "        return None\n",
    "        #t = [0] * len(titels)\n",
    "     \n",
    "    #dates before and surgery\n",
    "   \n",
    "    \n",
    "\n",
    "    #create data frame\n",
    "    data = []\n",
    "    df = pd.DataFrame([data], columns=titels)  \n",
    "    \n",
    "    return df\n",
    "\n",
    "    "
   ]
  },
  {
   "cell_type": "code",
   "execution_count": null,
   "metadata": {},
   "outputs": [],
   "source": [
    "createEventsDic(df.head())"
   ]
  },
  {
   "cell_type": "code",
   "execution_count": null,
   "metadata": {},
   "outputs": [],
   "source": [
    "df.groupby('pid').apply()"
   ]
  },
  {
   "cell_type": "code",
   "execution_count": null,
   "metadata": {},
   "outputs": [],
   "source": []
  },
  {
   "cell_type": "code",
   "execution_count": null,
   "metadata": {},
   "outputs": [],
   "source": [
    "df[df[\"eventName\"] == \"NoEventName\"].shape[0]"
   ]
  },
  {
   "cell_type": "code",
   "execution_count": null,
   "metadata": {},
   "outputs": [],
   "source": [
    "patients_ids = df.groupby(eventDesc).groups.keys()"
   ]
  },
  {
   "cell_type": "code",
   "execution_count": null,
   "metadata": {},
   "outputs": [],
   "source": [
    "df.head()"
   ]
  },
  {
   "cell_type": "code",
   "execution_count": null,
   "metadata": {},
   "outputs": [],
   "source": [
    "pd.options.display.max_colwidth = 100\n"
   ]
  },
  {
   "cell_type": "code",
   "execution_count": null,
   "metadata": {},
   "outputs": [],
   "source": [
    "df[df['eventName']=='Fever']"
   ]
  },
  {
   "cell_type": "code",
   "execution_count": 20,
   "metadata": {},
   "outputs": [
    {
     "data": {
      "text/html": [
       "<div>\n",
       "<style scoped>\n",
       "    .dataframe tbody tr th:only-of-type {\n",
       "        vertical-align: middle;\n",
       "    }\n",
       "\n",
       "    .dataframe tbody tr th {\n",
       "        vertical-align: top;\n",
       "    }\n",
       "\n",
       "    .dataframe thead th {\n",
       "        text-align: right;\n",
       "    }\n",
       "</style>\n",
       "<table border=\"1\" class=\"dataframe\">\n",
       "  <thead>\n",
       "    <tr style=\"text-align: right;\">\n",
       "      <th></th>\n",
       "      <th>pid</th>\n",
       "      <th>admissionId</th>\n",
       "      <th>eventName</th>\n",
       "      <th>eventStartDate</th>\n",
       "      <th>eventEndDate</th>\n",
       "      <th>dValue</th>\n",
       "      <th>iValue</th>\n",
       "      <th>sValue</th>\n",
       "      <th>eventDesc</th>\n",
       "      <th>unitOfMeasure</th>\n",
       "      <th>orderNumber</th>\n",
       "      <th>organismId</th>\n",
       "      <th>eventCode</th>\n",
       "      <th>eventCodeOrg</th>\n",
       "      <th>eventType</th>\n",
       "      <th>eventTypeOrg</th>\n",
       "      <th>sourceName</th>\n",
       "    </tr>\n",
       "  </thead>\n",
       "  <tbody>\n",
       "    <tr>\n",
       "      <td>165</td>\n",
       "      <td>4.8546e+08</td>\n",
       "      <td>1840978.0</td>\n",
       "      <td>כן</td>\n",
       "      <td>2018-02-18 09:13:08.9300000</td>\n",
       "      <td>2018-02-18 09:13:08.9300000</td>\n",
       "      <td>0.0</td>\n",
       "      <td>0.0</td>\n",
       "      <td>NaN</td>\n",
       "      <td>NaN</td>\n",
       "      <td>NaN</td>\n",
       "      <td>NaN</td>\n",
       "      <td>NaN</td>\n",
       "      <td>175853000</td>\n",
       "      <td>כן</td>\n",
       "      <td>snomed</td>\n",
       "      <td>conv_device_type_cham</td>\n",
       "      <td>[MIRROR_Chameleon].[Venous_Catheter_Dynamic_Qu...</td>\n",
       "    </tr>\n",
       "    <tr>\n",
       "      <td>953</td>\n",
       "      <td>1.7782e+08</td>\n",
       "      <td>1935793.0</td>\n",
       "      <td>כן</td>\n",
       "      <td>2018-12-09 15:41:11.5770000</td>\n",
       "      <td>2018-12-09 15:41:11.5770000</td>\n",
       "      <td>0.0</td>\n",
       "      <td>0.0</td>\n",
       "      <td>NaN</td>\n",
       "      <td>NaN</td>\n",
       "      <td>NaN</td>\n",
       "      <td>NaN</td>\n",
       "      <td>NaN</td>\n",
       "      <td>175853000</td>\n",
       "      <td>כן</td>\n",
       "      <td>snomed</td>\n",
       "      <td>conv_device_type_cham</td>\n",
       "      <td>[MIRROR_Chameleon].[Venous_Catheter_Dynamic_Qu...</td>\n",
       "    </tr>\n",
       "    <tr>\n",
       "      <td>3881</td>\n",
       "      <td>1.0133e+09</td>\n",
       "      <td>1805375.0</td>\n",
       "      <td>כן</td>\n",
       "      <td>2017-07-29 14:28:03.2730000</td>\n",
       "      <td>2017-07-29 14:28:03.2730000</td>\n",
       "      <td>0.0</td>\n",
       "      <td>0.0</td>\n",
       "      <td>NaN</td>\n",
       "      <td>NaN</td>\n",
       "      <td>NaN</td>\n",
       "      <td>NaN</td>\n",
       "      <td>NaN</td>\n",
       "      <td>175853000</td>\n",
       "      <td>כן</td>\n",
       "      <td>snomed</td>\n",
       "      <td>conv_device_type_cham</td>\n",
       "      <td>[MIRROR_Chameleon].[Venous_Catheter_Dynamic_Qu...</td>\n",
       "    </tr>\n",
       "    <tr>\n",
       "      <td>4079</td>\n",
       "      <td>1.0133e+09</td>\n",
       "      <td>1805375.0</td>\n",
       "      <td>כן</td>\n",
       "      <td>2017-07-31 04:11:13.6730000</td>\n",
       "      <td>2017-07-31 04:11:13.6730000</td>\n",
       "      <td>0.0</td>\n",
       "      <td>0.0</td>\n",
       "      <td>NaN</td>\n",
       "      <td>NaN</td>\n",
       "      <td>NaN</td>\n",
       "      <td>NaN</td>\n",
       "      <td>NaN</td>\n",
       "      <td>175853000</td>\n",
       "      <td>כן</td>\n",
       "      <td>snomed</td>\n",
       "      <td>conv_device_type_cham</td>\n",
       "      <td>[MIRROR_Chameleon].[Venous_Catheter_Dynamic_Qu...</td>\n",
       "    </tr>\n",
       "    <tr>\n",
       "      <td>4320</td>\n",
       "      <td>1.0133e+09</td>\n",
       "      <td>1840641.0</td>\n",
       "      <td>כן</td>\n",
       "      <td>2018-02-18 22:44:23.0530000</td>\n",
       "      <td>2018-02-18 22:44:23.0530000</td>\n",
       "      <td>0.0</td>\n",
       "      <td>0.0</td>\n",
       "      <td>NaN</td>\n",
       "      <td>NaN</td>\n",
       "      <td>NaN</td>\n",
       "      <td>NaN</td>\n",
       "      <td>NaN</td>\n",
       "      <td>175853000</td>\n",
       "      <td>כן</td>\n",
       "      <td>snomed</td>\n",
       "      <td>conv_device_type_cham</td>\n",
       "      <td>[MIRROR_Chameleon].[Venous_Catheter_Dynamic_Qu...</td>\n",
       "    </tr>\n",
       "    <tr>\n",
       "      <td>...</td>\n",
       "      <td>...</td>\n",
       "      <td>...</td>\n",
       "      <td>...</td>\n",
       "      <td>...</td>\n",
       "      <td>...</td>\n",
       "      <td>...</td>\n",
       "      <td>...</td>\n",
       "      <td>...</td>\n",
       "      <td>...</td>\n",
       "      <td>...</td>\n",
       "      <td>...</td>\n",
       "      <td>...</td>\n",
       "      <td>...</td>\n",
       "      <td>...</td>\n",
       "      <td>...</td>\n",
       "      <td>...</td>\n",
       "      <td>...</td>\n",
       "    </tr>\n",
       "    <tr>\n",
       "      <td>1675468</td>\n",
       "      <td>1.0726e+08</td>\n",
       "      <td>1927892.0</td>\n",
       "      <td>כן</td>\n",
       "      <td>2018-10-28 13:01:00.6400000</td>\n",
       "      <td>2018-10-28 13:01:00.6400000</td>\n",
       "      <td>0.0</td>\n",
       "      <td>0.0</td>\n",
       "      <td>NaN</td>\n",
       "      <td>NaN</td>\n",
       "      <td>NaN</td>\n",
       "      <td>NaN</td>\n",
       "      <td>NaN</td>\n",
       "      <td>175853000</td>\n",
       "      <td>כן</td>\n",
       "      <td>snomed</td>\n",
       "      <td>conv_device_type_cham</td>\n",
       "      <td>[MIRROR_Chameleon].[Venous_Catheter_Dynamic_Qu...</td>\n",
       "    </tr>\n",
       "    <tr>\n",
       "      <td>1680427</td>\n",
       "      <td>3.4132e+08</td>\n",
       "      <td>1922171.0</td>\n",
       "      <td>כן</td>\n",
       "      <td>2018-09-27 15:11:47.6270000</td>\n",
       "      <td>2018-09-27 15:11:47.6270000</td>\n",
       "      <td>0.0</td>\n",
       "      <td>0.0</td>\n",
       "      <td>NaN</td>\n",
       "      <td>NaN</td>\n",
       "      <td>NaN</td>\n",
       "      <td>NaN</td>\n",
       "      <td>NaN</td>\n",
       "      <td>175853000</td>\n",
       "      <td>כן</td>\n",
       "      <td>snomed</td>\n",
       "      <td>conv_device_type_cham</td>\n",
       "      <td>[MIRROR_Chameleon].[Venous_Catheter_Dynamic_Qu...</td>\n",
       "    </tr>\n",
       "    <tr>\n",
       "      <td>1682058</td>\n",
       "      <td>3.4132e+08</td>\n",
       "      <td>1922794.0</td>\n",
       "      <td>כן</td>\n",
       "      <td>2018-09-30 13:30:46.9100000</td>\n",
       "      <td>2018-09-30 13:30:46.9100000</td>\n",
       "      <td>0.0</td>\n",
       "      <td>0.0</td>\n",
       "      <td>NaN</td>\n",
       "      <td>NaN</td>\n",
       "      <td>NaN</td>\n",
       "      <td>NaN</td>\n",
       "      <td>NaN</td>\n",
       "      <td>175853000</td>\n",
       "      <td>כן</td>\n",
       "      <td>snomed</td>\n",
       "      <td>conv_device_type_cham</td>\n",
       "      <td>[MIRROR_Chameleon].[Venous_Catheter_Dynamic_Qu...</td>\n",
       "    </tr>\n",
       "    <tr>\n",
       "      <td>1682396</td>\n",
       "      <td>1.0726e+08</td>\n",
       "      <td>1925979.0</td>\n",
       "      <td>כן</td>\n",
       "      <td>2018-10-18 14:37:57.5500000</td>\n",
       "      <td>2018-10-18 14:37:57.5500000</td>\n",
       "      <td>0.0</td>\n",
       "      <td>0.0</td>\n",
       "      <td>NaN</td>\n",
       "      <td>NaN</td>\n",
       "      <td>NaN</td>\n",
       "      <td>NaN</td>\n",
       "      <td>NaN</td>\n",
       "      <td>175853000</td>\n",
       "      <td>כן</td>\n",
       "      <td>snomed</td>\n",
       "      <td>conv_device_type_cham</td>\n",
       "      <td>[MIRROR_Chameleon].[Venous_Catheter_Dynamic_Qu...</td>\n",
       "    </tr>\n",
       "    <tr>\n",
       "      <td>1683543</td>\n",
       "      <td>3.4132e+08</td>\n",
       "      <td>1922794.0</td>\n",
       "      <td>כן</td>\n",
       "      <td>2018-10-02 12:43:59.1600000</td>\n",
       "      <td>2018-10-02 12:43:59.1600000</td>\n",
       "      <td>0.0</td>\n",
       "      <td>0.0</td>\n",
       "      <td>NaN</td>\n",
       "      <td>NaN</td>\n",
       "      <td>NaN</td>\n",
       "      <td>NaN</td>\n",
       "      <td>NaN</td>\n",
       "      <td>175853000</td>\n",
       "      <td>כן</td>\n",
       "      <td>snomed</td>\n",
       "      <td>conv_device_type_cham</td>\n",
       "      <td>[MIRROR_Chameleon].[Venous_Catheter_Dynamic_Qu...</td>\n",
       "    </tr>\n",
       "  </tbody>\n",
       "</table>\n",
       "<p>1102 rows × 17 columns</p>\n",
       "</div>"
      ],
      "text/plain": [
       "                pid  admissionId eventName               eventStartDate  \\\n",
       "165      4.8546e+08    1840978.0        כן  2018-02-18 09:13:08.9300000   \n",
       "953      1.7782e+08    1935793.0        כן  2018-12-09 15:41:11.5770000   \n",
       "3881     1.0133e+09    1805375.0        כן  2017-07-29 14:28:03.2730000   \n",
       "4079     1.0133e+09    1805375.0        כן  2017-07-31 04:11:13.6730000   \n",
       "4320     1.0133e+09    1840641.0        כן  2018-02-18 22:44:23.0530000   \n",
       "...             ...          ...       ...                          ...   \n",
       "1675468  1.0726e+08    1927892.0        כן  2018-10-28 13:01:00.6400000   \n",
       "1680427  3.4132e+08    1922171.0        כן  2018-09-27 15:11:47.6270000   \n",
       "1682058  3.4132e+08    1922794.0        כן  2018-09-30 13:30:46.9100000   \n",
       "1682396  1.0726e+08    1925979.0        כן  2018-10-18 14:37:57.5500000   \n",
       "1683543  3.4132e+08    1922794.0        כן  2018-10-02 12:43:59.1600000   \n",
       "\n",
       "                        eventEndDate  dValue  iValue sValue eventDesc  \\\n",
       "165      2018-02-18 09:13:08.9300000     0.0     0.0    NaN       NaN   \n",
       "953      2018-12-09 15:41:11.5770000     0.0     0.0    NaN       NaN   \n",
       "3881     2017-07-29 14:28:03.2730000     0.0     0.0    NaN       NaN   \n",
       "4079     2017-07-31 04:11:13.6730000     0.0     0.0    NaN       NaN   \n",
       "4320     2018-02-18 22:44:23.0530000     0.0     0.0    NaN       NaN   \n",
       "...                              ...     ...     ...    ...       ...   \n",
       "1675468  2018-10-28 13:01:00.6400000     0.0     0.0    NaN       NaN   \n",
       "1680427  2018-09-27 15:11:47.6270000     0.0     0.0    NaN       NaN   \n",
       "1682058  2018-09-30 13:30:46.9100000     0.0     0.0    NaN       NaN   \n",
       "1682396  2018-10-18 14:37:57.5500000     0.0     0.0    NaN       NaN   \n",
       "1683543  2018-10-02 12:43:59.1600000     0.0     0.0    NaN       NaN   \n",
       "\n",
       "        unitOfMeasure  orderNumber  organismId  eventCode eventCodeOrg  \\\n",
       "165               NaN          NaN         NaN  175853000           כן   \n",
       "953               NaN          NaN         NaN  175853000           כן   \n",
       "3881              NaN          NaN         NaN  175853000           כן   \n",
       "4079              NaN          NaN         NaN  175853000           כן   \n",
       "4320              NaN          NaN         NaN  175853000           כן   \n",
       "...               ...          ...         ...        ...          ...   \n",
       "1675468           NaN          NaN         NaN  175853000           כן   \n",
       "1680427           NaN          NaN         NaN  175853000           כן   \n",
       "1682058           NaN          NaN         NaN  175853000           כן   \n",
       "1682396           NaN          NaN         NaN  175853000           כן   \n",
       "1683543           NaN          NaN         NaN  175853000           כן   \n",
       "\n",
       "        eventType           eventTypeOrg  \\\n",
       "165        snomed  conv_device_type_cham   \n",
       "953        snomed  conv_device_type_cham   \n",
       "3881       snomed  conv_device_type_cham   \n",
       "4079       snomed  conv_device_type_cham   \n",
       "4320       snomed  conv_device_type_cham   \n",
       "...           ...                    ...   \n",
       "1675468    snomed  conv_device_type_cham   \n",
       "1680427    snomed  conv_device_type_cham   \n",
       "1682058    snomed  conv_device_type_cham   \n",
       "1682396    snomed  conv_device_type_cham   \n",
       "1683543    snomed  conv_device_type_cham   \n",
       "\n",
       "                                                sourceName  \n",
       "165      [MIRROR_Chameleon].[Venous_Catheter_Dynamic_Qu...  \n",
       "953      [MIRROR_Chameleon].[Venous_Catheter_Dynamic_Qu...  \n",
       "3881     [MIRROR_Chameleon].[Venous_Catheter_Dynamic_Qu...  \n",
       "4079     [MIRROR_Chameleon].[Venous_Catheter_Dynamic_Qu...  \n",
       "4320     [MIRROR_Chameleon].[Venous_Catheter_Dynamic_Qu...  \n",
       "...                                                    ...  \n",
       "1675468  [MIRROR_Chameleon].[Venous_Catheter_Dynamic_Qu...  \n",
       "1680427  [MIRROR_Chameleon].[Venous_Catheter_Dynamic_Qu...  \n",
       "1682058  [MIRROR_Chameleon].[Venous_Catheter_Dynamic_Qu...  \n",
       "1682396  [MIRROR_Chameleon].[Venous_Catheter_Dynamic_Qu...  \n",
       "1683543  [MIRROR_Chameleon].[Venous_Catheter_Dynamic_Qu...  \n",
       "\n",
       "[1102 rows x 17 columns]"
      ]
     },
     "execution_count": 20,
     "metadata": {},
     "output_type": "execute_result"
    }
   ],
   "source": [
    "df[df['eventName']=='כן']"
   ]
  }
 ],
 "metadata": {
  "kernelspec": {
   "display_name": "Python 3",
   "language": "python",
   "name": "python3"
  },
  "language_info": {
   "codemirror_mode": {
    "name": "ipython",
    "version": 3
   },
   "file_extension": ".py",
   "mimetype": "text/x-python",
   "name": "python",
   "nbconvert_exporter": "python",
   "pygments_lexer": "ipython3",
   "version": "3.7.4"
  }
 },
 "nbformat": 4,
 "nbformat_minor": 2
}
