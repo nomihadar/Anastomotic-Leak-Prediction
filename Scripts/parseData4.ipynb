{
 "cells": [
  {
   "cell_type": "markdown",
   "metadata": {},
   "source": [
    "**Notebook content:**\n",
    "- \n",
    "- "
   ]
  },
  {
   "cell_type": "code",
   "execution_count": 127,
   "metadata": {},
   "outputs": [],
   "source": [
    "%reset -f "
   ]
  },
  {
   "cell_type": "code",
   "execution_count": 128,
   "metadata": {},
   "outputs": [],
   "source": [
    "import sys\n",
    "import pandas as pd\n",
    "import numpy as np\n",
    "import datetime\n",
    "import json\n",
    "from IPython.display import display\n",
    "\n",
    "pd.set_option('display.max_columns', 30)\n",
    "pd.set_option('display.max_rows', 200)\n",
    "#pd.set_option('display.float_format', lambda x: '%.f' % x)\n",
    "pd.options.display.precision = 4\n",
    "\n",
    "#import sys\n",
    "np.set_printoptions(threshold=sys.maxsize) #- print the full NumPy array\n",
    "\n",
    "from myDefs.defs import *\n",
    "\n",
    "# visualization\n",
    "import seaborn as sns\n",
    "import matplotlib.pyplot as plt \n",
    "from matplotlib.pyplot import figure\n",
    "%matplotlib inline\n"
   ]
  },
  {
   "cell_type": "markdown",
   "metadata": {
    "collapsed": true
   },
   "source": [
    "**Read events file**"
   ]
  },
  {
   "cell_type": "code",
   "execution_count": 129,
   "metadata": {},
   "outputs": [],
   "source": [
    "#read events\n",
    "path = DATA_PATH + \"parseData1.csv\"\n",
    "df = pd.read_csv(path, sep=',') \n",
    "#parse date of surgery\n",
    "df['eventStartDate'] = pd.to_datetime(df['eventStartDate'], format='%Y-%m-%d')\n",
    "df['eventEndDate'] = pd.to_datetime(df['eventEndDate'], format='%Y-%m-%d')\n",
    "\n",
    "#read annonymous file\n",
    "path = \"{}parseAnonymous0.csv\".format(DATA_PATH)\n",
    "anonymous = pd.read_csv(path, sep=',')\n",
    "#parse date of surgery\n",
    "anonymous['Date of surgery'] = pd.to_datetime(anonymous['Date of surgery'], format='%Y-%m-%d')\n"
   ]
  },
  {
   "cell_type": "code",
   "execution_count": 130,
   "metadata": {},
   "outputs": [],
   "source": [
    "#read events info\n",
    "eventsinfo = pd.read_excel(EVENTS_INFO_PATH + \"EventsInfo.xlsx\")"
   ]
  },
  {
   "cell_type": "code",
   "execution_count": 131,
   "metadata": {},
   "outputs": [
    {
     "name": "stdout",
     "output_type": "stream",
     "text": [
      "(1683616, 17)\n",
      "(718, 14)\n",
      "(3755, 15)\n"
     ]
    }
   ],
   "source": [
    "print(df.shape)\n",
    "print(anonymous.shape)\n",
    "print(eventsinfo.shape)"
   ]
  },
  {
   "cell_type": "markdown",
   "metadata": {},
   "source": [
    "# New column: feature name"
   ]
  },
  {
   "cell_type": "code",
   "execution_count": 132,
   "metadata": {},
   "outputs": [],
   "source": [
    "#create new column feature name \n",
    "names_dict = eventsinfo.loc[eventsinfo['feature_name'].notna(), :]\n",
    "names_dict = dict(zip(names_dict['eventName'], names_dict['feature_name']))\n",
    "\n",
    "df['feature_name'] = df['eventName']\n",
    "df['feature_name'] = df['feature_name'].replace(names_dict)"
   ]
  },
  {
   "cell_type": "code",
   "execution_count": 133,
   "metadata": {},
   "outputs": [
    {
     "data": {
      "text/plain": [
       "2927"
      ]
     },
     "execution_count": 133,
     "metadata": {},
     "output_type": "execute_result"
    }
   ],
   "source": [
    "df['feature_name'].nunique()"
   ]
  },
  {
   "cell_type": "markdown",
   "metadata": {},
   "source": [
    "# Replace values (sValue -> dValue), create column \"numeric\""
   ]
  },
  {
   "cell_type": "code",
   "execution_count": 134,
   "metadata": {
    "scrolled": true
   },
   "outputs": [],
   "source": [
    "def convert_to_dict(x):\n",
    "    s = x.replace('\"\"', '\"')\n",
    "    d = json.loads(s)\n",
    "    for key in d:\n",
    "        if d[key] == 'None':\n",
    "            d[key] = None\n",
    "    return d\n",
    "\n",
    "#replace dValue by values in dictionary\n",
    "def replace_values(x, info):\n",
    "    #get dictionary \n",
    "    d = info.loc[info['eventName'] == x['eventName'].iloc[0], 'dict'].iloc[0]\n",
    "    #copy sValue to dValue\n",
    "    x.loc[x['sValue'].notna(),'dValue'] = x['sValue']\n",
    "    #replace dValues by by sValues \n",
    "    return x['dValue'].replace(d)\n",
    "\n",
    "#convert dict column to dictionary \n",
    "eventsinfo.loc[eventsinfo['dict'].notna(),'dict'] = eventsinfo.loc[eventsinfo['dict'].notna(),'dict'].apply(convert_to_dict)\n",
    "\n",
    "#replace values\n",
    "df['numeric'] = df.groupby('eventName', group_keys=False).apply(replace_values, eventsinfo)"
   ]
  },
  {
   "cell_type": "markdown",
   "metadata": {},
   "source": [
    "# Create new column \"unit\""
   ]
  },
  {
   "cell_type": "code",
   "execution_count": 135,
   "metadata": {},
   "outputs": [],
   "source": [
    "#create new column of unit\n",
    "df['unit'] = df['unitOfMeasure']"
   ]
  },
  {
   "cell_type": "markdown",
   "metadata": {},
   "source": [
    "## reorder columns"
   ]
  },
  {
   "cell_type": "code",
   "execution_count": 136,
   "metadata": {},
   "outputs": [],
   "source": [
    "df = df[['pid', 'eventName', 'feature_name','eventStartDate', 'eventEndDate',  'numeric', 'unit',\n",
    "       'dValue', 'iValue', 'sValue', 'eventDesc', 'unitOfMeasure',\n",
    "       'orderNumber', 'organismId', 'eventCode', 'eventCodeOrg', 'eventType',\n",
    "       'eventTypeOrg', 'sourceName']]"
   ]
  },
  {
   "cell_type": "code",
   "execution_count": 137,
   "metadata": {},
   "outputs": [
    {
     "data": {
      "text/plain": [
       "Index(['pid', 'eventName', 'feature_name', 'eventStartDate', 'eventEndDate',\n",
       "       'numeric', 'unit', 'dValue', 'iValue', 'sValue', 'eventDesc',\n",
       "       'unitOfMeasure', 'orderNumber', 'organismId', 'eventCode',\n",
       "       'eventCodeOrg', 'eventType', 'eventTypeOrg', 'sourceName'],\n",
       "      dtype='object')"
      ]
     },
     "execution_count": 137,
     "metadata": {},
     "output_type": "execute_result"
    }
   ],
   "source": [
    "df.columns"
   ]
  },
  {
   "cell_type": "markdown",
   "metadata": {},
   "source": [
    "# Filter events and slice data"
   ]
  },
  {
   "cell_type": "code",
   "execution_count": 138,
   "metadata": {},
   "outputs": [
    {
     "name": "stdout",
     "output_type": "stream",
     "text": [
      "anonymous: (525, 14)\n"
     ]
    }
   ],
   "source": [
    "#get only patient with a surgery date, which are not duplicate (first surgey)\n",
    "anonymous_ix = anonymous[(anonymous['Date of surgery'].notna()) \n",
    "                         & (~anonymous['pid'].duplicated())].index\n",
    "print(\"anonymous:\", anonymous.loc[anonymous_ix].shape)"
   ]
  },
  {
   "cell_type": "code",
   "execution_count": 139,
   "metadata": {},
   "outputs": [
    {
     "data": {
      "text/plain": [
       "(67,)"
      ]
     },
     "execution_count": 139,
     "metadata": {},
     "output_type": "execute_result"
    }
   ],
   "source": [
    "#filter events by thier info\n",
    "#filter 1\n",
    "filter1 = ((eventsinfo['category'] == 'laboratory') & (eventsinfo['inMatrix'] == 1) \\\n",
    "         & (eventsinfo['nPatients'] > 300))\n",
    "\n",
    "filtered = eventsinfo.loc[filter1, 'dict'].dropna().head().replace()\n",
    "\n",
    "#filter 2\n",
    "filter2 = ((eventsinfo['category'] == 'physical') & \\\n",
    "        (eventsinfo['inMatrix'] == 1) & \\\n",
    "           \n",
    "        (eventsinfo['nPatients'] > 30)) \n",
    "\n",
    "#filter 3\n",
    "filter3 = ((eventsinfo['category'] == 'drug') & \\\n",
    "        (eventsinfo['inMatrix'] == 1) & \\\n",
    "            (eventsinfo['sValue'].isna()) & \\\n",
    "        (eventsinfo['nPatients'] > 30)) \n",
    "\n",
    "            \n",
    "info_ix = eventsinfo[filter1 | filter2].index\n",
    "\n",
    "\n",
    "info_ix.shape\n",
    "#'Fentanyl'"
   ]
  },
  {
   "cell_type": "code",
   "execution_count": 140,
   "metadata": {},
   "outputs": [],
   "source": [
    "events_names = eventsinfo.loc[filter1 | filter2, 'eventName']\n",
    "events_names;"
   ]
  },
  {
   "cell_type": "code",
   "execution_count": 141,
   "metadata": {
    "scrolled": true
   },
   "outputs": [
    {
     "name": "stdout",
     "output_type": "stream",
     "text": [
      "df: (743328, 19)\n"
     ]
    }
   ],
   "source": [
    "#slice events data  \n",
    "df_ix = df[df['eventName'].isin(eventsinfo.loc[info_ix, 'eventName']) ].index\n",
    "print(\"df:\", df.loc[df_ix].shape)\n"
   ]
  },
  {
   "cell_type": "code",
   "execution_count": 142,
   "metadata": {},
   "outputs": [],
   "source": [
    "#get meta data from anonymous \n",
    "\n",
    "metadata = anonymous.loc[anonymous_ix]\n",
    "\n",
    "#map: 1 if Anastomotic Leak, 0 o.w.\n",
    "metadata['Anastomotic Leak'] = 0\n",
    "metadata.loc[metadata['Complications']=='Anastomotic Leak', 'Anastomotic Leak'] = 1\n",
    "\n",
    "#drop columns\n",
    "cols_to_remove = ['Date of surgery', 'Days of hospitalization', 'Patient classification', \n",
    "                  'Responsible surgeon', 'Kk', 'Simple', 'Severe', 'Complications']\n",
    "metadata = metadata.drop(columns=cols_to_remove).set_index('pid')"
   ]
  },
  {
   "cell_type": "markdown",
   "metadata": {},
   "source": [
    "# convert units"
   ]
  },
  {
   "cell_type": "code",
   "execution_count": 143,
   "metadata": {},
   "outputs": [
    {
     "data": {
      "text/html": [
       "<div>\n",
       "<style scoped>\n",
       "    .dataframe tbody tr th:only-of-type {\n",
       "        vertical-align: middle;\n",
       "    }\n",
       "\n",
       "    .dataframe tbody tr th {\n",
       "        vertical-align: top;\n",
       "    }\n",
       "\n",
       "    .dataframe thead th {\n",
       "        text-align: right;\n",
       "    }\n",
       "</style>\n",
       "<table border=\"1\" class=\"dataframe\">\n",
       "  <thead>\n",
       "    <tr style=\"text-align: right;\">\n",
       "      <th></th>\n",
       "      <th>eventName</th>\n",
       "      <th>feature_name</th>\n",
       "      <th>unit</th>\n",
       "    </tr>\n",
       "  </thead>\n",
       "  <tbody>\n",
       "    <tr>\n",
       "      <td>15</td>\n",
       "      <td>Temperature</td>\n",
       "      <td>body temperature</td>\n",
       "      <td>['F']</td>\n",
       "    </tr>\n",
       "    <tr>\n",
       "      <td>16</td>\n",
       "      <td>חום</td>\n",
       "      <td>body temperature</td>\n",
       "      <td>['F', 'C']</td>\n",
       "    </tr>\n",
       "    <tr>\n",
       "      <td>251</td>\n",
       "      <td>WBC</td>\n",
       "      <td>WBC</td>\n",
       "      <td>[nan, '/HPF', 'K/microL', 'cells/mm3', 'LEU/UL']</td>\n",
       "    </tr>\n",
       "  </tbody>\n",
       "</table>\n",
       "</div>"
      ],
      "text/plain": [
       "       eventName      feature_name  \\\n",
       "15   Temperature  body temperature   \n",
       "16           חום  body temperature   \n",
       "251          WBC               WBC   \n",
       "\n",
       "                                                 unit  \n",
       "15                                              ['F']  \n",
       "16                                         ['F', 'C']  \n",
       "251  [nan, '/HPF', 'K/microL', 'cells/mm3', 'LEU/UL']  "
      ]
     },
     "execution_count": 143,
     "metadata": {},
     "output_type": "execute_result"
    }
   ],
   "source": [
    "#see which events should be converted\n",
    "eventsinfo.loc[info_ix].loc[eventsinfo['convertUnit'].notna(), ['eventName', 'feature_name', 'unit']]"
   ]
  },
  {
   "cell_type": "markdown",
   "metadata": {},
   "source": [
    "#### Body temperature"
   ]
  },
  {
   "cell_type": "code",
   "execution_count": 144,
   "metadata": {},
   "outputs": [],
   "source": [
    "def fahrenheit_to_celsius(f):\n",
    "    return (f - 32) * 5.0/9.0\n",
    "\n",
    "temp_ix = df.loc[df['feature_name'] == 'body temperature'].loc[df['unitOfMeasure'] == 'F'].index\n",
    "df.loc[temp_ix, 'numeric'] = df.loc[temp_ix, 'numeric'].apply(fahrenheit_to_celsius)\n",
    "df.loc[temp_ix, 'unit'] = 'C'\n",
    "\n",
    "#remove noise\n",
    "temp = df.loc[df['feature_name'] == 'body temperature', 'numeric']\n",
    "temp_ix = temp[temp > 45].index\n",
    "df.loc[temp_ix, 'numeric'] = None"
   ]
  },
  {
   "cell_type": "markdown",
   "metadata": {},
   "source": [
    "#### WBC"
   ]
  },
  {
   "cell_type": "code",
   "execution_count": 145,
   "metadata": {},
   "outputs": [
    {
     "data": {
      "text/plain": [
       "K/microL     14626\n",
       "/HPF           468\n",
       "LEU/UL         137\n",
       "cells/mm3        5\n",
       "Name: unitOfMeasure, dtype: int64"
      ]
     },
     "metadata": {},
     "output_type": "display_data"
    }
   ],
   "source": [
    "wbc = df.loc[df['eventName'] == 'WBC', 'unitOfMeasure'].value_counts()\n",
    "display(wbc)\n",
    "\n",
    "for unit in wbc.head(3).index:\n",
    "    wbc_ix = df.loc[df['feature_name'] == 'WBC'].loc[df['unitOfMeasure'] == unit].index\n",
    "    df.loc[wbc_ix, 'feature_name'] = 'WBC_' + unit\n",
    "    df.loc[wbc_ix, 'unit'] = unit\n",
    "\n"
   ]
  },
  {
   "cell_type": "code",
   "execution_count": 165,
   "metadata": {},
   "outputs": [
    {
     "data": {
      "text/html": [
       "<div>\n",
       "<style scoped>\n",
       "    .dataframe tbody tr th:only-of-type {\n",
       "        vertical-align: middle;\n",
       "    }\n",
       "\n",
       "    .dataframe tbody tr th {\n",
       "        vertical-align: top;\n",
       "    }\n",
       "\n",
       "    .dataframe thead th {\n",
       "        text-align: right;\n",
       "    }\n",
       "</style>\n",
       "<table border=\"1\" class=\"dataframe\">\n",
       "  <thead>\n",
       "    <tr style=\"text-align: right;\">\n",
       "      <th></th>\n",
       "      <th>pid</th>\n",
       "      <th>eventName</th>\n",
       "      <th>feature_name</th>\n",
       "      <th>eventStartDate</th>\n",
       "      <th>eventEndDate</th>\n",
       "      <th>numeric</th>\n",
       "      <th>unit</th>\n",
       "      <th>dValue</th>\n",
       "      <th>iValue</th>\n",
       "      <th>sValue</th>\n",
       "      <th>eventDesc</th>\n",
       "      <th>unitOfMeasure</th>\n",
       "      <th>orderNumber</th>\n",
       "      <th>organismId</th>\n",
       "      <th>eventCode</th>\n",
       "      <th>eventCodeOrg</th>\n",
       "      <th>eventType</th>\n",
       "      <th>eventTypeOrg</th>\n",
       "      <th>sourceName</th>\n",
       "    </tr>\n",
       "  </thead>\n",
       "  <tbody>\n",
       "    <tr>\n",
       "      <td>233571</td>\n",
       "      <td>1.0175e+09</td>\n",
       "      <td>LAPAROSCOPIC PARTIAL GASTRECTOMY WEDGE RESECTI...</td>\n",
       "      <td>LAPAROSCOPIC PARTIAL GASTRECTOMY WEDGE RESECTI...</td>\n",
       "      <td>2018-02-18</td>\n",
       "      <td>2018-02-18</td>\n",
       "      <td>0</td>\n",
       "      <td>NaN</td>\n",
       "      <td>0.0</td>\n",
       "      <td>0.0</td>\n",
       "      <td>NaN</td>\n",
       "      <td>NaN</td>\n",
       "      <td>NaN</td>\n",
       "      <td>NaN</td>\n",
       "      <td>NaN</td>\n",
       "      <td>87604009</td>\n",
       "      <td>43.89</td>\n",
       "      <td>snomed</td>\n",
       "      <td>conv_proc_cham</td>\n",
       "      <td>[MIRROR_Chameleon].[Procedures]</td>\n",
       "    </tr>\n",
       "    <tr>\n",
       "      <td>495427</td>\n",
       "      <td>1.1283e+06</td>\n",
       "      <td>LAPAROSCOPIC PARTIAL GASTRECTOMY WEDGE RESECTI...</td>\n",
       "      <td>LAPAROSCOPIC PARTIAL GASTRECTOMY WEDGE RESECTI...</td>\n",
       "      <td>2018-09-25</td>\n",
       "      <td>2018-09-25</td>\n",
       "      <td>0</td>\n",
       "      <td>NaN</td>\n",
       "      <td>0.0</td>\n",
       "      <td>0.0</td>\n",
       "      <td>NaN</td>\n",
       "      <td>NaN</td>\n",
       "      <td>NaN</td>\n",
       "      <td>NaN</td>\n",
       "      <td>NaN</td>\n",
       "      <td>87604009</td>\n",
       "      <td>43.89</td>\n",
       "      <td>snomed</td>\n",
       "      <td>conv_proc_cham</td>\n",
       "      <td>[MIRROR_Chameleon].[Procedures]</td>\n",
       "    </tr>\n",
       "  </tbody>\n",
       "</table>\n",
       "</div>"
      ],
      "text/plain": [
       "               pid                                          eventName  \\\n",
       "233571  1.0175e+09  LAPAROSCOPIC PARTIAL GASTRECTOMY WEDGE RESECTI...   \n",
       "495427  1.1283e+06  LAPAROSCOPIC PARTIAL GASTRECTOMY WEDGE RESECTI...   \n",
       "\n",
       "                                             feature_name eventStartDate  \\\n",
       "233571  LAPAROSCOPIC PARTIAL GASTRECTOMY WEDGE RESECTI...     2018-02-18   \n",
       "495427  LAPAROSCOPIC PARTIAL GASTRECTOMY WEDGE RESECTI...     2018-09-25   \n",
       "\n",
       "       eventEndDate numeric unit  dValue  iValue sValue eventDesc  \\\n",
       "233571   2018-02-18       0  NaN     0.0     0.0    NaN       NaN   \n",
       "495427   2018-09-25       0  NaN     0.0     0.0    NaN       NaN   \n",
       "\n",
       "       unitOfMeasure  orderNumber  organismId eventCode eventCodeOrg  \\\n",
       "233571           NaN          NaN         NaN  87604009        43.89   \n",
       "495427           NaN          NaN         NaN  87604009        43.89   \n",
       "\n",
       "       eventType    eventTypeOrg                       sourceName  \n",
       "233571    snomed  conv_proc_cham  [MIRROR_Chameleon].[Procedures]  \n",
       "495427    snomed  conv_proc_cham  [MIRROR_Chameleon].[Procedures]  "
      ]
     },
     "execution_count": 165,
     "metadata": {},
     "output_type": "execute_result"
    }
   ],
   "source": [
    "\n",
    "df.loc[df['eventName'] == 'LAPAROSCOPIC PARTIAL GASTRECTOMY WEDGE RESECTION 436103']"
   ]
  },
  {
   "cell_type": "code",
   "execution_count": 173,
   "metadata": {},
   "outputs": [
    {
     "data": {
      "text/html": [
       "<div>\n",
       "<style scoped>\n",
       "    .dataframe tbody tr th:only-of-type {\n",
       "        vertical-align: middle;\n",
       "    }\n",
       "\n",
       "    .dataframe tbody tr th {\n",
       "        vertical-align: top;\n",
       "    }\n",
       "\n",
       "    .dataframe thead th {\n",
       "        text-align: right;\n",
       "    }\n",
       "</style>\n",
       "<table border=\"1\" class=\"dataframe\">\n",
       "  <thead>\n",
       "    <tr style=\"text-align: right;\">\n",
       "      <th></th>\n",
       "      <th>pid</th>\n",
       "      <th>eventName</th>\n",
       "      <th>feature_name</th>\n",
       "      <th>eventStartDate</th>\n",
       "      <th>eventEndDate</th>\n",
       "      <th>numeric</th>\n",
       "      <th>unit</th>\n",
       "      <th>dValue</th>\n",
       "      <th>iValue</th>\n",
       "      <th>sValue</th>\n",
       "      <th>eventDesc</th>\n",
       "      <th>unitOfMeasure</th>\n",
       "      <th>orderNumber</th>\n",
       "      <th>organismId</th>\n",
       "      <th>eventCode</th>\n",
       "      <th>eventCodeOrg</th>\n",
       "      <th>eventType</th>\n",
       "      <th>eventTypeOrg</th>\n",
       "      <th>sourceName</th>\n",
       "    </tr>\n",
       "  </thead>\n",
       "  <tbody>\n",
       "    <tr>\n",
       "      <td>79</td>\n",
       "      <td>1.0133e+09</td>\n",
       "      <td>FLAGYL vial 500 mg</td>\n",
       "      <td>FLAGYL</td>\n",
       "      <td>2018-02-16 02:00:00</td>\n",
       "      <td>2018-02-16 02:00:00</td>\n",
       "      <td>500</td>\n",
       "      <td>mg</td>\n",
       "      <td>500.0</td>\n",
       "      <td>0.0</td>\n",
       "      <td>NaN</td>\n",
       "      <td>NaN</td>\n",
       "      <td>mg</td>\n",
       "      <td>NaN</td>\n",
       "      <td>NaN</td>\n",
       "      <td>317428</td>\n",
       "      <td>113730</td>\n",
       "      <td>rxnorm</td>\n",
       "      <td>conv_medicine_cham</td>\n",
       "      <td>[MIRROR_Chameleon].[MedExecutionMedicine]</td>\n",
       "    </tr>\n",
       "    <tr>\n",
       "      <td>104</td>\n",
       "      <td>1.0133e+09</td>\n",
       "      <td>MIDAZOLAM 50 mg (6mg/hour)+SODIUM CHLORIDE 0.9...</td>\n",
       "      <td>MIDAZOLAM 50 mg (6mg/hour)+SODIUM CHLORIDE 0.9...</td>\n",
       "      <td>2018-02-16 03:41:00</td>\n",
       "      <td>2018-02-16 03:41:00</td>\n",
       "      <td>50</td>\n",
       "      <td>mg</td>\n",
       "      <td>50.0</td>\n",
       "      <td>0.0</td>\n",
       "      <td>NaN</td>\n",
       "      <td>NaN</td>\n",
       "      <td>mg</td>\n",
       "      <td>NaN</td>\n",
       "      <td>NaN</td>\n",
       "      <td>6960</td>\n",
       "      <td>114086</td>\n",
       "      <td>rxnorm</td>\n",
       "      <td>conv_medicine_cham</td>\n",
       "      <td>[MIRROR_Chameleon].[MedExecutionMedicine]</td>\n",
       "    </tr>\n",
       "    <tr>\n",
       "      <td>105</td>\n",
       "      <td>1.0133e+09</td>\n",
       "      <td>MIDAZOLAM 50 mg (6mg/hour)+SODIUM CHLORIDE 0.9...</td>\n",
       "      <td>MIDAZOLAM 50 mg (6mg/hour)+SODIUM CHLORIDE 0.9...</td>\n",
       "      <td>2018-02-16 03:41:00</td>\n",
       "      <td>2018-02-16 03:41:00</td>\n",
       "      <td>50</td>\n",
       "      <td>cc</td>\n",
       "      <td>50.0</td>\n",
       "      <td>0.0</td>\n",
       "      <td>NaN</td>\n",
       "      <td>NaN</td>\n",
       "      <td>cc</td>\n",
       "      <td>NaN</td>\n",
       "      <td>NaN</td>\n",
       "      <td>1162505</td>\n",
       "      <td>146186</td>\n",
       "      <td>rxnorm</td>\n",
       "      <td>conv_medicine_cham</td>\n",
       "      <td>[MIRROR_Chameleon].[MedExecutionMedicine]</td>\n",
       "    </tr>\n",
       "    <tr>\n",
       "      <td>110</td>\n",
       "      <td>1.0133e+09</td>\n",
       "      <td>MIDAZOLAM 50 mg (6mg/hour)+SODIUM CHLORIDE 0.9...</td>\n",
       "      <td>MIDAZOLAM 50 mg (6mg/hour)+SODIUM CHLORIDE 0.9...</td>\n",
       "      <td>2018-02-16 03:42:00</td>\n",
       "      <td>2018-02-16 03:42:00</td>\n",
       "      <td>50</td>\n",
       "      <td>mg</td>\n",
       "      <td>50.0</td>\n",
       "      <td>0.0</td>\n",
       "      <td>NaN</td>\n",
       "      <td>NaN</td>\n",
       "      <td>mg</td>\n",
       "      <td>NaN</td>\n",
       "      <td>NaN</td>\n",
       "      <td>6960</td>\n",
       "      <td>114086</td>\n",
       "      <td>rxnorm</td>\n",
       "      <td>conv_medicine_cham</td>\n",
       "      <td>[MIRROR_Chameleon].[MedExecutionMedicine]</td>\n",
       "    </tr>\n",
       "    <tr>\n",
       "      <td>111</td>\n",
       "      <td>1.0133e+09</td>\n",
       "      <td>MIDAZOLAM 50 mg (6mg/hour)+SODIUM CHLORIDE 0.9...</td>\n",
       "      <td>MIDAZOLAM 50 mg (6mg/hour)+SODIUM CHLORIDE 0.9...</td>\n",
       "      <td>2018-02-16 03:42:00</td>\n",
       "      <td>2018-02-16 03:42:00</td>\n",
       "      <td>50</td>\n",
       "      <td>cc</td>\n",
       "      <td>50.0</td>\n",
       "      <td>0.0</td>\n",
       "      <td>NaN</td>\n",
       "      <td>NaN</td>\n",
       "      <td>cc</td>\n",
       "      <td>NaN</td>\n",
       "      <td>NaN</td>\n",
       "      <td>1162505</td>\n",
       "      <td>146186</td>\n",
       "      <td>rxnorm</td>\n",
       "      <td>conv_medicine_cham</td>\n",
       "      <td>[MIRROR_Chameleon].[MedExecutionMedicine]</td>\n",
       "    </tr>\n",
       "    <tr>\n",
       "      <td>...</td>\n",
       "      <td>...</td>\n",
       "      <td>...</td>\n",
       "      <td>...</td>\n",
       "      <td>...</td>\n",
       "      <td>...</td>\n",
       "      <td>...</td>\n",
       "      <td>...</td>\n",
       "      <td>...</td>\n",
       "      <td>...</td>\n",
       "      <td>...</td>\n",
       "      <td>...</td>\n",
       "      <td>...</td>\n",
       "      <td>...</td>\n",
       "      <td>...</td>\n",
       "      <td>...</td>\n",
       "      <td>...</td>\n",
       "      <td>...</td>\n",
       "      <td>...</td>\n",
       "      <td>...</td>\n",
       "    </tr>\n",
       "    <tr>\n",
       "      <td>1683491</td>\n",
       "      <td>5.7390e+08</td>\n",
       "      <td>ROCEPHIN amp 1000 mg</td>\n",
       "      <td>ROCEPHIN</td>\n",
       "      <td>2018-09-13 01:11:00</td>\n",
       "      <td>2018-09-13 01:11:00</td>\n",
       "      <td>1000</td>\n",
       "      <td>mg</td>\n",
       "      <td>1000.0</td>\n",
       "      <td>0.0</td>\n",
       "      <td>NaN</td>\n",
       "      <td>NaN</td>\n",
       "      <td>mg</td>\n",
       "      <td>NaN</td>\n",
       "      <td>NaN</td>\n",
       "      <td>1665020</td>\n",
       "      <td>74231</td>\n",
       "      <td>rxnorm</td>\n",
       "      <td>conv_medicine_cham</td>\n",
       "      <td>[MIRROR_Chameleon].[MedExecutionMedicine]</td>\n",
       "    </tr>\n",
       "    <tr>\n",
       "      <td>1683592</td>\n",
       "      <td>1.0726e+08</td>\n",
       "      <td>DISOTHIAZIDE tab tab 25 mg</td>\n",
       "      <td>DISOTHIAZIDE</td>\n",
       "      <td>2018-10-21 17:33:00</td>\n",
       "      <td>2018-10-21 17:33:00</td>\n",
       "      <td>25</td>\n",
       "      <td>mg</td>\n",
       "      <td>25.0</td>\n",
       "      <td>0.0</td>\n",
       "      <td>NaN</td>\n",
       "      <td>NaN</td>\n",
       "      <td>mg</td>\n",
       "      <td>NaN</td>\n",
       "      <td>NaN</td>\n",
       "      <td>C03AA</td>\n",
       "      <td>100114</td>\n",
       "      <td>rxnorm</td>\n",
       "      <td>conv_medicine_cham</td>\n",
       "      <td>[MIRROR_Chameleon].[MedExecutionMedicine]</td>\n",
       "    </tr>\n",
       "    <tr>\n",
       "      <td>1683593</td>\n",
       "      <td>1.0726e+08</td>\n",
       "      <td>SIMVASTATIN-TEVA tab tab 10 mg</td>\n",
       "      <td>SIMVASTATIN-TEVA</td>\n",
       "      <td>2018-10-21 17:33:00</td>\n",
       "      <td>2018-10-21 17:33:00</td>\n",
       "      <td>10</td>\n",
       "      <td>mg</td>\n",
       "      <td>10.0</td>\n",
       "      <td>0.0</td>\n",
       "      <td>NaN</td>\n",
       "      <td>NaN</td>\n",
       "      <td>mg</td>\n",
       "      <td>NaN</td>\n",
       "      <td>NaN</td>\n",
       "      <td>C10AA</td>\n",
       "      <td>145736</td>\n",
       "      <td>rxnorm</td>\n",
       "      <td>conv_medicine_cham</td>\n",
       "      <td>[MIRROR_Chameleon].[MedExecutionMedicine]</td>\n",
       "    </tr>\n",
       "    <tr>\n",
       "      <td>1683594</td>\n",
       "      <td>1.0726e+08</td>\n",
       "      <td>DISOTHIAZIDE tab tab 25 mg</td>\n",
       "      <td>DISOTHIAZIDE</td>\n",
       "      <td>2018-10-21 17:33:00</td>\n",
       "      <td>2018-10-21 17:33:00</td>\n",
       "      <td>25</td>\n",
       "      <td>mg</td>\n",
       "      <td>25.0</td>\n",
       "      <td>0.0</td>\n",
       "      <td>NaN</td>\n",
       "      <td>NaN</td>\n",
       "      <td>mg</td>\n",
       "      <td>NaN</td>\n",
       "      <td>NaN</td>\n",
       "      <td>C03AA</td>\n",
       "      <td>100114</td>\n",
       "      <td>rxnorm</td>\n",
       "      <td>conv_medicine_cham</td>\n",
       "      <td>[MIRROR_Chameleon].[MedExecutionMedicine]</td>\n",
       "    </tr>\n",
       "    <tr>\n",
       "      <td>1683595</td>\n",
       "      <td>1.0726e+08</td>\n",
       "      <td>SIMVASTATIN-TEVA tab tab 10 mg</td>\n",
       "      <td>SIMVASTATIN-TEVA</td>\n",
       "      <td>2018-10-21 17:33:00</td>\n",
       "      <td>2018-10-21 17:33:00</td>\n",
       "      <td>10</td>\n",
       "      <td>mg</td>\n",
       "      <td>10.0</td>\n",
       "      <td>0.0</td>\n",
       "      <td>NaN</td>\n",
       "      <td>NaN</td>\n",
       "      <td>mg</td>\n",
       "      <td>NaN</td>\n",
       "      <td>NaN</td>\n",
       "      <td>C10AA</td>\n",
       "      <td>145736</td>\n",
       "      <td>rxnorm</td>\n",
       "      <td>conv_medicine_cham</td>\n",
       "      <td>[MIRROR_Chameleon].[MedExecutionMedicine]</td>\n",
       "    </tr>\n",
       "  </tbody>\n",
       "</table>\n",
       "<p>59239 rows × 19 columns</p>\n",
       "</div>"
      ],
      "text/plain": [
       "                pid                                          eventName  \\\n",
       "79       1.0133e+09                                 FLAGYL vial 500 mg   \n",
       "104      1.0133e+09  MIDAZOLAM 50 mg (6mg/hour)+SODIUM CHLORIDE 0.9...   \n",
       "105      1.0133e+09  MIDAZOLAM 50 mg (6mg/hour)+SODIUM CHLORIDE 0.9...   \n",
       "110      1.0133e+09  MIDAZOLAM 50 mg (6mg/hour)+SODIUM CHLORIDE 0.9...   \n",
       "111      1.0133e+09  MIDAZOLAM 50 mg (6mg/hour)+SODIUM CHLORIDE 0.9...   \n",
       "...             ...                                                ...   \n",
       "1683491  5.7390e+08                               ROCEPHIN amp 1000 mg   \n",
       "1683592  1.0726e+08                         DISOTHIAZIDE tab tab 25 mg   \n",
       "1683593  1.0726e+08                     SIMVASTATIN-TEVA tab tab 10 mg   \n",
       "1683594  1.0726e+08                         DISOTHIAZIDE tab tab 25 mg   \n",
       "1683595  1.0726e+08                     SIMVASTATIN-TEVA tab tab 10 mg   \n",
       "\n",
       "                                              feature_name  \\\n",
       "79                                                  FLAGYL   \n",
       "104      MIDAZOLAM 50 mg (6mg/hour)+SODIUM CHLORIDE 0.9...   \n",
       "105      MIDAZOLAM 50 mg (6mg/hour)+SODIUM CHLORIDE 0.9...   \n",
       "110      MIDAZOLAM 50 mg (6mg/hour)+SODIUM CHLORIDE 0.9...   \n",
       "111      MIDAZOLAM 50 mg (6mg/hour)+SODIUM CHLORIDE 0.9...   \n",
       "...                                                    ...   \n",
       "1683491                                           ROCEPHIN   \n",
       "1683592                                       DISOTHIAZIDE   \n",
       "1683593                                   SIMVASTATIN-TEVA   \n",
       "1683594                                       DISOTHIAZIDE   \n",
       "1683595                                   SIMVASTATIN-TEVA   \n",
       "\n",
       "             eventStartDate        eventEndDate numeric unit  dValue  iValue  \\\n",
       "79      2018-02-16 02:00:00 2018-02-16 02:00:00     500   mg   500.0     0.0   \n",
       "104     2018-02-16 03:41:00 2018-02-16 03:41:00      50   mg    50.0     0.0   \n",
       "105     2018-02-16 03:41:00 2018-02-16 03:41:00      50   cc    50.0     0.0   \n",
       "110     2018-02-16 03:42:00 2018-02-16 03:42:00      50   mg    50.0     0.0   \n",
       "111     2018-02-16 03:42:00 2018-02-16 03:42:00      50   cc    50.0     0.0   \n",
       "...                     ...                 ...     ...  ...     ...     ...   \n",
       "1683491 2018-09-13 01:11:00 2018-09-13 01:11:00    1000   mg  1000.0     0.0   \n",
       "1683592 2018-10-21 17:33:00 2018-10-21 17:33:00      25   mg    25.0     0.0   \n",
       "1683593 2018-10-21 17:33:00 2018-10-21 17:33:00      10   mg    10.0     0.0   \n",
       "1683594 2018-10-21 17:33:00 2018-10-21 17:33:00      25   mg    25.0     0.0   \n",
       "1683595 2018-10-21 17:33:00 2018-10-21 17:33:00      10   mg    10.0     0.0   \n",
       "\n",
       "        sValue eventDesc unitOfMeasure  orderNumber  organismId eventCode  \\\n",
       "79         NaN       NaN            mg          NaN         NaN    317428   \n",
       "104        NaN       NaN            mg          NaN         NaN      6960   \n",
       "105        NaN       NaN            cc          NaN         NaN   1162505   \n",
       "110        NaN       NaN            mg          NaN         NaN      6960   \n",
       "111        NaN       NaN            cc          NaN         NaN   1162505   \n",
       "...        ...       ...           ...          ...         ...       ...   \n",
       "1683491    NaN       NaN            mg          NaN         NaN   1665020   \n",
       "1683592    NaN       NaN            mg          NaN         NaN     C03AA   \n",
       "1683593    NaN       NaN            mg          NaN         NaN     C10AA   \n",
       "1683594    NaN       NaN            mg          NaN         NaN     C03AA   \n",
       "1683595    NaN       NaN            mg          NaN         NaN     C10AA   \n",
       "\n",
       "        eventCodeOrg eventType        eventTypeOrg  \\\n",
       "79            113730    rxnorm  conv_medicine_cham   \n",
       "104           114086    rxnorm  conv_medicine_cham   \n",
       "105           146186    rxnorm  conv_medicine_cham   \n",
       "110           114086    rxnorm  conv_medicine_cham   \n",
       "111           146186    rxnorm  conv_medicine_cham   \n",
       "...              ...       ...                 ...   \n",
       "1683491        74231    rxnorm  conv_medicine_cham   \n",
       "1683592       100114    rxnorm  conv_medicine_cham   \n",
       "1683593       145736    rxnorm  conv_medicine_cham   \n",
       "1683594       100114    rxnorm  conv_medicine_cham   \n",
       "1683595       145736    rxnorm  conv_medicine_cham   \n",
       "\n",
       "                                        sourceName  \n",
       "79       [MIRROR_Chameleon].[MedExecutionMedicine]  \n",
       "104      [MIRROR_Chameleon].[MedExecutionMedicine]  \n",
       "105      [MIRROR_Chameleon].[MedExecutionMedicine]  \n",
       "110      [MIRROR_Chameleon].[MedExecutionMedicine]  \n",
       "111      [MIRROR_Chameleon].[MedExecutionMedicine]  \n",
       "...                                            ...  \n",
       "1683491  [MIRROR_Chameleon].[MedExecutionMedicine]  \n",
       "1683592  [MIRROR_Chameleon].[MedExecutionMedicine]  \n",
       "1683593  [MIRROR_Chameleon].[MedExecutionMedicine]  \n",
       "1683594  [MIRROR_Chameleon].[MedExecutionMedicine]  \n",
       "1683595  [MIRROR_Chameleon].[MedExecutionMedicine]  \n",
       "\n",
       "[59239 rows x 19 columns]"
      ]
     },
     "execution_count": 173,
     "metadata": {},
     "output_type": "execute_result"
    }
   ],
   "source": [
    "\n",
    "\n",
    "\n",
    "\n",
    "df.loc[df['sourceName'] == '[MIRROR_Chameleon].[MedExecutionMedicine]']"
   ]
  },
  {
   "cell_type": "code",
   "execution_count": 190,
   "metadata": {},
   "outputs": [
    {
     "data": {
      "text/plain": [
       "ArtBPS          35468\n",
       "לחץ סיסטולי     28682\n",
       "NiBPS            4419\n",
       "ART Systolic      669\n",
       "Name: eventName, dtype: int64"
      ]
     },
     "execution_count": 190,
     "metadata": {},
     "output_type": "execute_result"
    }
   ],
   "source": [
    "df.loc[df['feature_name'] == 'body temperature', 'eventCode'].value_counts()\n",
    "\n",
    "x = df.groupby('eventCode', group_keys=False)['eventName'].size().sort_values()\n",
    "\n",
    "df.loc[df['eventCode'] == '271649006', 'eventName'].value_counts()"
   ]
  },
  {
   "cell_type": "markdown",
   "metadata": {},
   "source": [
    "#### weight"
   ]
  },
  {
   "cell_type": "code",
   "execution_count": 147,
   "metadata": {},
   "outputs": [],
   "source": [
    "#convert to kg \n",
    "weight_ix = df.loc[df['eventName'] == 'CurrentWeight'].index\n",
    "df.loc[weight_ix, 'numeric'] = df.loc[weight_ix, 'numeric'].apply(lambda x: x/1000)\n",
    "df.loc[weight_ix, 'unit'] = 'kg'"
   ]
  },
  {
   "cell_type": "markdown",
   "metadata": {},
   "source": [
    "# print events"
   ]
  },
  {
   "cell_type": "code",
   "execution_count": 148,
   "metadata": {},
   "outputs": [
    {
     "data": {
      "text/plain": [
       "feature_name\n",
       " heart rate / Ventricular Rate    942\n",
       "% Alpha1                            9\n",
       "% Alpha2                            9\n",
       "% Gamma                             9\n",
       "% LYMPHO                            2\n",
       "                                 ... \n",
       "תרבית מניקור מותניCSF               7\n",
       "תרגול אקטיבי                        2\n",
       "תרופות קבועות                       3\n",
       "תשובת CT חזה בטן אגן                1\n",
       "תשובת ייעוץ מרפאת כאב               1\n",
       "Length: 2930, dtype: int64"
      ]
     },
     "execution_count": 148,
     "metadata": {},
     "output_type": "execute_result"
    }
   ],
   "source": [
    "df.groupby('feature_name').apply(len)"
   ]
  },
  {
   "cell_type": "markdown",
   "metadata": {},
   "source": [
    "# Create A Features Table"
   ]
  },
  {
   "cell_type": "code",
   "execution_count": 149,
   "metadata": {},
   "outputs": [],
   "source": [
    "data = df.loc[df_ix]"
   ]
  },
  {
   "cell_type": "code",
   "execution_count": 150,
   "metadata": {},
   "outputs": [
    {
     "ename": "DataError",
     "evalue": "No numeric types to aggregate",
     "output_type": "error",
     "traceback": [
      "\u001b[1;31m---------------------------------------------------------------------------\u001b[0m",
      "\u001b[1;31mDataError\u001b[0m                                 Traceback (most recent call last)",
      "\u001b[1;32m<ipython-input-150-894d0f078d39>\u001b[0m in \u001b[0;36m<module>\u001b[1;34m\u001b[0m\n\u001b[0;32m     17\u001b[0m \u001b[1;33m\u001b[0m\u001b[0m\n\u001b[0;32m     18\u001b[0m     \u001b[1;31m#calculate statistics\u001b[0m\u001b[1;33m\u001b[0m\u001b[1;33m\u001b[0m\u001b[1;33m\u001b[0m\u001b[0m\n\u001b[1;32m---> 19\u001b[1;33m     \u001b[0mx1\u001b[0m \u001b[1;33m=\u001b[0m \u001b[0mbefore\u001b[0m\u001b[1;33m.\u001b[0m\u001b[0mgroupby\u001b[0m\u001b[1;33m(\u001b[0m\u001b[1;34m'feature_name'\u001b[0m\u001b[1;33m)\u001b[0m\u001b[1;33m[\u001b[0m\u001b[1;34m'numeric'\u001b[0m\u001b[1;33m]\u001b[0m\u001b[1;33m.\u001b[0m\u001b[0magg\u001b[0m\u001b[1;33m(\u001b[0m\u001b[1;33m[\u001b[0m\u001b[1;34m'mean'\u001b[0m\u001b[1;33m,\u001b[0m \u001b[1;34m'median'\u001b[0m\u001b[1;33m,\u001b[0m \u001b[1;34m'min'\u001b[0m\u001b[1;33m,\u001b[0m \u001b[1;34m'max'\u001b[0m\u001b[1;33m]\u001b[0m\u001b[1;33m)\u001b[0m\u001b[1;33m\u001b[0m\u001b[1;33m\u001b[0m\u001b[0m\n\u001b[0m\u001b[0;32m     20\u001b[0m     \u001b[0mx2\u001b[0m \u001b[1;33m=\u001b[0m \u001b[0mafter\u001b[0m\u001b[1;33m.\u001b[0m\u001b[0mgroupby\u001b[0m\u001b[1;33m(\u001b[0m\u001b[1;34m'feature_name'\u001b[0m\u001b[1;33m)\u001b[0m\u001b[1;33m[\u001b[0m\u001b[1;34m'numeric'\u001b[0m\u001b[1;33m]\u001b[0m\u001b[1;33m.\u001b[0m\u001b[0magg\u001b[0m\u001b[1;33m(\u001b[0m\u001b[1;33m[\u001b[0m \u001b[1;34m'mean'\u001b[0m\u001b[1;33m,\u001b[0m \u001b[1;34m'median'\u001b[0m\u001b[1;33m,\u001b[0m \u001b[1;34m'min'\u001b[0m\u001b[1;33m,\u001b[0m \u001b[1;34m'max'\u001b[0m\u001b[1;33m]\u001b[0m\u001b[1;33m)\u001b[0m\u001b[1;33m\u001b[0m\u001b[1;33m\u001b[0m\u001b[0m\n\u001b[0;32m     21\u001b[0m \u001b[1;33m\u001b[0m\u001b[0m\n",
      "\u001b[1;32m~\\AppData\\Local\\Continuum\\anaconda3\\lib\\site-packages\\pandas\\core\\groupby\\generic.py\u001b[0m in \u001b[0;36maggregate\u001b[1;34m(self, func_or_funcs, *args, **kwargs)\u001b[0m\n\u001b[0;32m    849\u001b[0m             \u001b[1;31m# but not the class list / tuple itself.\u001b[0m\u001b[1;33m\u001b[0m\u001b[1;33m\u001b[0m\u001b[1;33m\u001b[0m\u001b[0m\n\u001b[0;32m    850\u001b[0m             \u001b[0mfunc_or_funcs\u001b[0m \u001b[1;33m=\u001b[0m \u001b[0m_maybe_mangle_lambdas\u001b[0m\u001b[1;33m(\u001b[0m\u001b[0mfunc_or_funcs\u001b[0m\u001b[1;33m)\u001b[0m\u001b[1;33m\u001b[0m\u001b[1;33m\u001b[0m\u001b[0m\n\u001b[1;32m--> 851\u001b[1;33m             \u001b[0mret\u001b[0m \u001b[1;33m=\u001b[0m \u001b[0mself\u001b[0m\u001b[1;33m.\u001b[0m\u001b[0m_aggregate_multiple_funcs\u001b[0m\u001b[1;33m(\u001b[0m\u001b[0mfunc_or_funcs\u001b[0m\u001b[1;33m,\u001b[0m \u001b[1;33m(\u001b[0m\u001b[0m_level\u001b[0m \u001b[1;32mor\u001b[0m \u001b[1;36m0\u001b[0m\u001b[1;33m)\u001b[0m \u001b[1;33m+\u001b[0m \u001b[1;36m1\u001b[0m\u001b[1;33m)\u001b[0m\u001b[1;33m\u001b[0m\u001b[1;33m\u001b[0m\u001b[0m\n\u001b[0m\u001b[0;32m    852\u001b[0m             \u001b[1;32mif\u001b[0m \u001b[0mrelabeling\u001b[0m\u001b[1;33m:\u001b[0m\u001b[1;33m\u001b[0m\u001b[1;33m\u001b[0m\u001b[0m\n\u001b[0;32m    853\u001b[0m                 \u001b[0mret\u001b[0m\u001b[1;33m.\u001b[0m\u001b[0mcolumns\u001b[0m \u001b[1;33m=\u001b[0m \u001b[0mcolumns\u001b[0m\u001b[1;33m\u001b[0m\u001b[1;33m\u001b[0m\u001b[0m\n",
      "\u001b[1;32m~\\AppData\\Local\\Continuum\\anaconda3\\lib\\site-packages\\pandas\\core\\groupby\\generic.py\u001b[0m in \u001b[0;36m_aggregate_multiple_funcs\u001b[1;34m(self, arg, _level)\u001b[0m\n\u001b[0;32m    928\u001b[0m                 \u001b[0mobj\u001b[0m\u001b[1;33m.\u001b[0m\u001b[0m_reset_cache\u001b[0m\u001b[1;33m(\u001b[0m\u001b[1;33m)\u001b[0m\u001b[1;33m\u001b[0m\u001b[1;33m\u001b[0m\u001b[0m\n\u001b[0;32m    929\u001b[0m                 \u001b[0mobj\u001b[0m\u001b[1;33m.\u001b[0m\u001b[0m_selection\u001b[0m \u001b[1;33m=\u001b[0m \u001b[0mname\u001b[0m\u001b[1;33m\u001b[0m\u001b[1;33m\u001b[0m\u001b[0m\n\u001b[1;32m--> 930\u001b[1;33m             \u001b[0mresults\u001b[0m\u001b[1;33m[\u001b[0m\u001b[0mname\u001b[0m\u001b[1;33m]\u001b[0m \u001b[1;33m=\u001b[0m \u001b[0mobj\u001b[0m\u001b[1;33m.\u001b[0m\u001b[0maggregate\u001b[0m\u001b[1;33m(\u001b[0m\u001b[0mfunc\u001b[0m\u001b[1;33m)\u001b[0m\u001b[1;33m\u001b[0m\u001b[1;33m\u001b[0m\u001b[0m\n\u001b[0m\u001b[0;32m    931\u001b[0m \u001b[1;33m\u001b[0m\u001b[0m\n\u001b[0;32m    932\u001b[0m         \u001b[1;32mif\u001b[0m \u001b[0many\u001b[0m\u001b[1;33m(\u001b[0m\u001b[0misinstance\u001b[0m\u001b[1;33m(\u001b[0m\u001b[0mx\u001b[0m\u001b[1;33m,\u001b[0m \u001b[0mDataFrame\u001b[0m\u001b[1;33m)\u001b[0m \u001b[1;32mfor\u001b[0m \u001b[0mx\u001b[0m \u001b[1;32min\u001b[0m \u001b[0mresults\u001b[0m\u001b[1;33m.\u001b[0m\u001b[0mvalues\u001b[0m\u001b[1;33m(\u001b[0m\u001b[1;33m)\u001b[0m\u001b[1;33m)\u001b[0m\u001b[1;33m:\u001b[0m\u001b[1;33m\u001b[0m\u001b[1;33m\u001b[0m\u001b[0m\n",
      "\u001b[1;32m~\\AppData\\Local\\Continuum\\anaconda3\\lib\\site-packages\\pandas\\core\\groupby\\generic.py\u001b[0m in \u001b[0;36maggregate\u001b[1;34m(self, func_or_funcs, *args, **kwargs)\u001b[0m\n\u001b[0;32m    843\u001b[0m \u001b[1;33m\u001b[0m\u001b[0m\n\u001b[0;32m    844\u001b[0m         \u001b[1;32mif\u001b[0m \u001b[0misinstance\u001b[0m\u001b[1;33m(\u001b[0m\u001b[0mfunc_or_funcs\u001b[0m\u001b[1;33m,\u001b[0m \u001b[0mstr\u001b[0m\u001b[1;33m)\u001b[0m\u001b[1;33m:\u001b[0m\u001b[1;33m\u001b[0m\u001b[1;33m\u001b[0m\u001b[0m\n\u001b[1;32m--> 845\u001b[1;33m             \u001b[1;32mreturn\u001b[0m \u001b[0mgetattr\u001b[0m\u001b[1;33m(\u001b[0m\u001b[0mself\u001b[0m\u001b[1;33m,\u001b[0m \u001b[0mfunc_or_funcs\u001b[0m\u001b[1;33m)\u001b[0m\u001b[1;33m(\u001b[0m\u001b[1;33m*\u001b[0m\u001b[0margs\u001b[0m\u001b[1;33m,\u001b[0m \u001b[1;33m**\u001b[0m\u001b[0mkwargs\u001b[0m\u001b[1;33m)\u001b[0m\u001b[1;33m\u001b[0m\u001b[1;33m\u001b[0m\u001b[0m\n\u001b[0m\u001b[0;32m    846\u001b[0m \u001b[1;33m\u001b[0m\u001b[0m\n\u001b[0;32m    847\u001b[0m         \u001b[1;32mif\u001b[0m \u001b[0misinstance\u001b[0m\u001b[1;33m(\u001b[0m\u001b[0mfunc_or_funcs\u001b[0m\u001b[1;33m,\u001b[0m \u001b[0mabc\u001b[0m\u001b[1;33m.\u001b[0m\u001b[0mIterable\u001b[0m\u001b[1;33m)\u001b[0m\u001b[1;33m:\u001b[0m\u001b[1;33m\u001b[0m\u001b[1;33m\u001b[0m\u001b[0m\n",
      "\u001b[1;32m~\\AppData\\Local\\Continuum\\anaconda3\\lib\\site-packages\\pandas\\core\\groupby\\groupby.py\u001b[0m in \u001b[0;36mmean\u001b[1;34m(self, *args, **kwargs)\u001b[0m\n\u001b[0;32m   1203\u001b[0m         \u001b[1;32mtry\u001b[0m\u001b[1;33m:\u001b[0m\u001b[1;33m\u001b[0m\u001b[1;33m\u001b[0m\u001b[0m\n\u001b[0;32m   1204\u001b[0m             return self._cython_agg_general(\n\u001b[1;32m-> 1205\u001b[1;33m                 \u001b[1;34m\"mean\"\u001b[0m\u001b[1;33m,\u001b[0m \u001b[0malt\u001b[0m\u001b[1;33m=\u001b[0m\u001b[1;32mlambda\u001b[0m \u001b[0mx\u001b[0m\u001b[1;33m,\u001b[0m \u001b[0maxis\u001b[0m\u001b[1;33m:\u001b[0m \u001b[0mSeries\u001b[0m\u001b[1;33m(\u001b[0m\u001b[0mx\u001b[0m\u001b[1;33m)\u001b[0m\u001b[1;33m.\u001b[0m\u001b[0mmean\u001b[0m\u001b[1;33m(\u001b[0m\u001b[1;33m**\u001b[0m\u001b[0mkwargs\u001b[0m\u001b[1;33m)\u001b[0m\u001b[1;33m,\u001b[0m \u001b[1;33m**\u001b[0m\u001b[0mkwargs\u001b[0m\u001b[1;33m\u001b[0m\u001b[1;33m\u001b[0m\u001b[0m\n\u001b[0m\u001b[0;32m   1206\u001b[0m             )\n\u001b[0;32m   1207\u001b[0m         \u001b[1;32mexcept\u001b[0m \u001b[0mGroupByError\u001b[0m\u001b[1;33m:\u001b[0m\u001b[1;33m\u001b[0m\u001b[1;33m\u001b[0m\u001b[0m\n",
      "\u001b[1;32m~\\AppData\\Local\\Continuum\\anaconda3\\lib\\site-packages\\pandas\\core\\groupby\\groupby.py\u001b[0m in \u001b[0;36m_cython_agg_general\u001b[1;34m(self, how, alt, numeric_only, min_count)\u001b[0m\n\u001b[0;32m    886\u001b[0m \u001b[1;33m\u001b[0m\u001b[0m\n\u001b[0;32m    887\u001b[0m         \u001b[1;32mif\u001b[0m \u001b[0mlen\u001b[0m\u001b[1;33m(\u001b[0m\u001b[0moutput\u001b[0m\u001b[1;33m)\u001b[0m \u001b[1;33m==\u001b[0m \u001b[1;36m0\u001b[0m\u001b[1;33m:\u001b[0m\u001b[1;33m\u001b[0m\u001b[1;33m\u001b[0m\u001b[0m\n\u001b[1;32m--> 888\u001b[1;33m             \u001b[1;32mraise\u001b[0m \u001b[0mDataError\u001b[0m\u001b[1;33m(\u001b[0m\u001b[1;34m\"No numeric types to aggregate\"\u001b[0m\u001b[1;33m)\u001b[0m\u001b[1;33m\u001b[0m\u001b[1;33m\u001b[0m\u001b[0m\n\u001b[0m\u001b[0;32m    889\u001b[0m \u001b[1;33m\u001b[0m\u001b[0m\n\u001b[0;32m    890\u001b[0m         \u001b[1;32mreturn\u001b[0m \u001b[0mself\u001b[0m\u001b[1;33m.\u001b[0m\u001b[0m_wrap_aggregated_output\u001b[0m\u001b[1;33m(\u001b[0m\u001b[0moutput\u001b[0m\u001b[1;33m,\u001b[0m \u001b[0mnames\u001b[0m\u001b[1;33m)\u001b[0m\u001b[1;33m\u001b[0m\u001b[1;33m\u001b[0m\u001b[0m\n",
      "\u001b[1;31mDataError\u001b[0m: No numeric types to aggregate"
     ]
    }
   ],
   "source": [
    "\n",
    "before_frames = []\n",
    "after_frames = []\n",
    "\n",
    "for index, row in anonymous.loc[anonymous_ix].head().iterrows(): #.head(10)\n",
    "\n",
    "    #get surgery date of current patient \n",
    "    surgery_date = row['Date of surgery']\n",
    "    \n",
    "    #print(row['pid'], surgery_date)\n",
    "    \n",
    "    #get events before and after date of surgery\n",
    "    patient = data.loc[data['pid'] == row['pid'], :]\n",
    "    before = patient[patient['eventStartDate'] < surgery_date]\n",
    "    after = patient[patient['eventStartDate'] >= surgery_date]\n",
    "    \n",
    "    #display(data['eventName'].value_counts())\n",
    "    \n",
    "    #calculate statistics\n",
    "    x1 = before.groupby('feature_name')['numeric'].agg(['mean', 'median', 'min', 'max']) \n",
    "    x2 = after.groupby('feature_name')['numeric'].agg([ 'mean', 'median', 'min', 'max'])\n",
    "    \n",
    "    #reshape and add pid\n",
    "    y1 = x1.stack().to_frame().T.assign(pid=row['pid'])\n",
    "    y2 = x2.stack().to_frame().T.assign(pid=row['pid'])\n",
    "\n",
    "    #add to list\n",
    "    before_frames.append(y1)\n",
    "    after_frames.append(y2)\n",
    "    \n",
    "    #display(y1)\n",
    "    #display(y2)\n",
    "    \n",
    "#y1 = pd.concat([x1], keys=['before_surgery'], names=['date'])\n",
    "#y2 = pd.concat([x2], keys=['after_surgery'], names=['date'])\n",
    "\n",
    "before_concat = pd.concat(before_frames).set_index('pid', drop=True) \n",
    "after_concat = pd.concat(after_frames).set_index('pid', drop=True) \n",
    "\n",
    "result_data = pd.concat([before_concat, after_concat], axis=1, \n",
    "                        keys=['before_surgery', 'after_surgery'], \n",
    "                        names=['date','eventName', 'statistics'])\n",
    "\n",
    "print(\"before shape:\", before_concat.shape, \"Num events:\", before_concat.columns.get_level_values(1).nunique())\n",
    "print(\"before shape:\", after_concat.shape, \"Num events:\", after_concat.columns.get_level_values(1).nunique())\n",
    "print(\"result shape:\", result_data.shape)"
   ]
  },
  {
   "cell_type": "code",
   "execution_count": null,
   "metadata": {},
   "outputs": [],
   "source": [
    "result_data"
   ]
  },
  {
   "cell_type": "code",
   "execution_count": null,
   "metadata": {},
   "outputs": [],
   "source": [
    "metadata.columns\n",
    "#a.merge(res, on='pid').to_csv(DATA_PATH + \"/draft1.csv\", index=False)\n",
    "\n",
    "#pd.concat([metadata.columns], keys=['a'], names=['nomi'])"
   ]
  },
  {
   "cell_type": "code",
   "execution_count": null,
   "metadata": {},
   "outputs": [],
   "source": [
    "pd.concat([metadata, result_data], axis=1, levels=['date','eventName', 'statistics'])\n"
   ]
  },
  {
   "cell_type": "code",
   "execution_count": null,
   "metadata": {},
   "outputs": [],
   "source": [
    "#write output\n",
    "result.to_excel(DATA_PATH + 'draft1_.xlsx')"
   ]
  },
  {
   "cell_type": "code",
   "execution_count": null,
   "metadata": {},
   "outputs": [],
   "source": []
  },
  {
   "cell_type": "code",
   "execution_count": null,
   "metadata": {},
   "outputs": [],
   "source": []
  },
  {
   "cell_type": "markdown",
   "metadata": {},
   "source": [
    "## שונות"
   ]
  },
  {
   "cell_type": "code",
   "execution_count": null,
   "metadata": {},
   "outputs": [],
   "source": [
    "def create_feature(df, feature_name, alter_names, column_value='dValue', print_output=True):\n",
    "\n",
    "    '''\n",
    "    df - data frame of all events \n",
    "    feature_name - name of feature \n",
    "    alter_names - alternative names of feature\n",
    "    \n",
    "    '''\n",
    "   \n",
    "    #get the required events\n",
    "    sub_events = df[df[\"eventName\"].isin(alter_names)]\n",
    "\n",
    "    #select only rellevant columns \n",
    "    feature = sub_events.loc[:, ['pid', 'eventStartDate', 'eventEndDate', 'unitOfMeasure']]\n",
    "    \n",
    "    #get values of event \n",
    "    feature[feature_name] = sub_events[column_value]\n",
    "    \n",
    "    if print_output:\n",
    "        \n",
    "        print(\"Num {} events:\".format(feature_name), sub_events.shape[0])     \n",
    "\n",
    "        print(\"\\nHas sValue:\", sub_events['sValue'].any())\n",
    "        print(\"Has event description:\", sub_events['eventDesc'].any())\n",
    "\n",
    "        print(\"\\nDescribe numeric values:\\n\", sub_events[['dValue', 'iValue']].describe())\n",
    "\n",
    "        print(\"\\nUnit of measure:\", sub_events['unitOfMeasure'].unique())\n",
    "    \n",
    "        print(\"\\nResult:\")\n",
    "        display(feature.head())\n",
    "\n",
    "\n",
    "    return feature\n"
   ]
  },
  {
   "cell_type": "code",
   "execution_count": null,
   "metadata": {},
   "outputs": [],
   "source": [
    "'''\n",
    "Adding suffix to duplicate patients (pateints who underwent > 1 surgery) \n",
    "'''\n",
    "\n",
    "res = anonymous.copy()\n",
    "anonymous.head()\n",
    "res = res[['pid', 'Sex', 'Age', 'Date of surgery']]\n",
    "\n",
    "#convert column to strig \n",
    "res['pid'] = res['pid'].astype(str)\n",
    "\n",
    "#Number each item in each group from 1 to the length of that group.\n",
    "cumcount = res.groupby('pid').cumcount() + 1\n",
    "\n",
    "\n",
    "#which patients are duplicated\n",
    "idx = res['pid'].duplicated(keep=False)\n",
    "\n",
    "#concatenate suffixes\n",
    "res.loc[idx, 'pid'] = res['pid'] + \"_\" + cumcount.astype(str)\n",
    "\n",
    "res[idx];\n"
   ]
  },
  {
   "cell_type": "code",
   "execution_count": null,
   "metadata": {},
   "outputs": [],
   "source": []
  },
  {
   "cell_type": "code",
   "execution_count": null,
   "metadata": {},
   "outputs": [],
   "source": []
  },
  {
   "cell_type": "code",
   "execution_count": null,
   "metadata": {},
   "outputs": [],
   "source": []
  },
  {
   "cell_type": "code",
   "execution_count": null,
   "metadata": {},
   "outputs": [],
   "source": []
  },
  {
   "cell_type": "code",
   "execution_count": null,
   "metadata": {},
   "outputs": [],
   "source": [
    "ann['cumcount'] = ann.groupby('pid').cumcount()\n",
    "ann['pid'].astype(str) +\"_\"+ ann['cumcount'].astype(str)"
   ]
  }
 ],
 "metadata": {
  "kernelspec": {
   "display_name": "Python 3",
   "language": "python",
   "name": "python3"
  },
  "language_info": {
   "codemirror_mode": {
    "name": "ipython",
    "version": 3
   },
   "file_extension": ".py",
   "mimetype": "text/x-python",
   "name": "python",
   "nbconvert_exporter": "python",
   "pygments_lexer": "ipython3",
   "version": "3.7.4"
  }
 },
 "nbformat": 4,
 "nbformat_minor": 2
}
