{
 "cells": [
  {
   "cell_type": "markdown",
   "metadata": {},
   "source": [
    "**Notebook content:**\n",
    "- First model: logistic regression \n",
    "- "
   ]
  },
  {
   "cell_type": "code",
   "execution_count": 42,
   "metadata": {},
   "outputs": [],
   "source": [
    "%reset -f "
   ]
  },
  {
   "cell_type": "code",
   "execution_count": 43,
   "metadata": {},
   "outputs": [],
   "source": [
    "from myDefs.defs import *\n",
    "from sklearn.model_selection import train_test_split\n",
    "from sklearn.linear_model import LogisticRegression\n",
    "from sklearn.metrics import confusion_matrix, plot_confusion_matrix, classification_report\n",
    "from sklearn import metrics\n",
    "from IPython.display import display\n",
    "\n",
    "pd.set_option('display.max_columns', 30)\n",
    "pd.set_option('display.max_rows', 200)\n",
    "#pd.set_option('display.float_format', lambda x: '%.f' % x)\n",
    "pd.options.display.precision = 4\n",
    "\n",
    "#import sys\n",
    "np.set_printoptions(threshold=sys.maxsize) #- print the full NumPy array\n",
    "\n",
    "# visualization\n",
    "import seaborn as sns\n",
    "import matplotlib.pyplot as plt \n",
    "from matplotlib.pyplot import figure\n",
    "%matplotlib inline\n"
   ]
  },
  {
   "cell_type": "code",
   "execution_count": 44,
   "metadata": {},
   "outputs": [],
   "source": [
    "INPUT_PATH = DATA_PATH + 'pre_matrix0.xlsx'\n",
    "OUTPUT_PATH0 = DATA_PATH + 'matrix0_missing_values.xlsx'\n",
    "OUTPUT_PATH1 = DATA_PATH + 'matrix0.xlsx'"
   ]
  },
  {
   "cell_type": "markdown",
   "metadata": {
    "collapsed": true
   },
   "source": [
    "**Read events file**"
   ]
  },
  {
   "cell_type": "code",
   "execution_count": 45,
   "metadata": {},
   "outputs": [],
   "source": [
    "df = pd.read_excel(INPUT_PATH, header=[0,1,2,3], index_col=0)"
   ]
  },
  {
   "cell_type": "code",
   "execution_count": 46,
   "metadata": {},
   "outputs": [
    {
     "data": {
      "text/plain": [
       "(525, 894)"
      ]
     },
     "execution_count": 46,
     "metadata": {},
     "output_type": "execute_result"
    }
   ],
   "source": [
    "df.shape"
   ]
  },
  {
   "cell_type": "code",
   "execution_count": 47,
   "metadata": {},
   "outputs": [
    {
     "data": {
      "text/html": [
       "<div>\n",
       "<style scoped>\n",
       "    .dataframe tbody tr th:only-of-type {\n",
       "        vertical-align: middle;\n",
       "    }\n",
       "\n",
       "    .dataframe tbody tr th {\n",
       "        vertical-align: top;\n",
       "    }\n",
       "\n",
       "    .dataframe thead tr th {\n",
       "        text-align: left;\n",
       "    }\n",
       "\n",
       "    .dataframe thead tr:last-of-type th {\n",
       "        text-align: right;\n",
       "    }\n",
       "</style>\n",
       "<table border=\"1\" class=\"dataframe\">\n",
       "  <thead>\n",
       "    <tr>\n",
       "      <th>type</th>\n",
       "      <th colspan=\"5\" halign=\"left\">metadata</th>\n",
       "      <th colspan=\"10\" halign=\"left\">numeric_events</th>\n",
       "      <th>...</th>\n",
       "      <th colspan=\"15\" halign=\"left\">drugs</th>\n",
       "    </tr>\n",
       "    <tr>\n",
       "      <th>time</th>\n",
       "      <th colspan=\"5\" halign=\"left\">general</th>\n",
       "      <th colspan=\"10\" halign=\"left\">before_surgery</th>\n",
       "      <th>...</th>\n",
       "      <th colspan=\"15\" halign=\"left\">all_days</th>\n",
       "    </tr>\n",
       "    <tr>\n",
       "      <th>feature</th>\n",
       "      <th>Sex</th>\n",
       "      <th>Age</th>\n",
       "      <th>Urgency</th>\n",
       "      <th>Surgical approach</th>\n",
       "      <th>Anastomotic Leak</th>\n",
       "      <th colspan=\"4\" halign=\"left\">Albumin</th>\n",
       "      <th colspan=\"4\" halign=\"left\">Alkaline Phosphatase</th>\n",
       "      <th colspan=\"2\" halign=\"left\">Amylase</th>\n",
       "      <th>...</th>\n",
       "      <th>Magnesium sulfate</th>\n",
       "      <th>Magnesium sulfate</th>\n",
       "      <th>Meroken new</th>\n",
       "      <th>Meropenem</th>\n",
       "      <th>Metronidazole</th>\n",
       "      <th>Morphine hcl</th>\n",
       "      <th>Morphine hcl</th>\n",
       "      <th>Norepinephrine</th>\n",
       "      <th>Norepinephrine + dextrose</th>\n",
       "      <th>Optalgin</th>\n",
       "      <th>Piperacillin / tazobactam</th>\n",
       "      <th>Prednisone</th>\n",
       "      <th>Propranolol</th>\n",
       "      <th>Vaben</th>\n",
       "      <th>Vancomycin</th>\n",
       "    </tr>\n",
       "    <tr>\n",
       "      <th>statistic</th>\n",
       "      <th>constant</th>\n",
       "      <th>constant</th>\n",
       "      <th>constant</th>\n",
       "      <th>constant</th>\n",
       "      <th>constant</th>\n",
       "      <th>max</th>\n",
       "      <th>mean</th>\n",
       "      <th>median</th>\n",
       "      <th>min</th>\n",
       "      <th>max</th>\n",
       "      <th>mean</th>\n",
       "      <th>median</th>\n",
       "      <th>min</th>\n",
       "      <th>max</th>\n",
       "      <th>mean</th>\n",
       "      <th>...</th>\n",
       "      <th>count</th>\n",
       "      <th>count</th>\n",
       "      <th>count</th>\n",
       "      <th>count</th>\n",
       "      <th>count</th>\n",
       "      <th>count</th>\n",
       "      <th>count</th>\n",
       "      <th>count</th>\n",
       "      <th>count</th>\n",
       "      <th>count</th>\n",
       "      <th>count</th>\n",
       "      <th>count</th>\n",
       "      <th>count</th>\n",
       "      <th>count</th>\n",
       "      <th>count</th>\n",
       "    </tr>\n",
       "    <tr>\n",
       "      <th>pid</th>\n",
       "      <th></th>\n",
       "      <th></th>\n",
       "      <th></th>\n",
       "      <th></th>\n",
       "      <th></th>\n",
       "      <th></th>\n",
       "      <th></th>\n",
       "      <th></th>\n",
       "      <th></th>\n",
       "      <th></th>\n",
       "      <th></th>\n",
       "      <th></th>\n",
       "      <th></th>\n",
       "      <th></th>\n",
       "      <th></th>\n",
       "      <th></th>\n",
       "      <th></th>\n",
       "      <th></th>\n",
       "      <th></th>\n",
       "      <th></th>\n",
       "      <th></th>\n",
       "      <th></th>\n",
       "      <th></th>\n",
       "      <th></th>\n",
       "      <th></th>\n",
       "      <th></th>\n",
       "      <th></th>\n",
       "      <th></th>\n",
       "      <th></th>\n",
       "      <th></th>\n",
       "      <th></th>\n",
       "    </tr>\n",
       "  </thead>\n",
       "  <tbody>\n",
       "    <tr>\n",
       "      <td>1123813</td>\n",
       "      <td>male</td>\n",
       "      <td>59.0</td>\n",
       "      <td>elective</td>\n",
       "      <td>Open</td>\n",
       "      <td>1</td>\n",
       "      <td>4.2</td>\n",
       "      <td>4.2000</td>\n",
       "      <td>4.20</td>\n",
       "      <td>4.2</td>\n",
       "      <td>97.0</td>\n",
       "      <td>97.0</td>\n",
       "      <td>97.0</td>\n",
       "      <td>97.0</td>\n",
       "      <td>63.0</td>\n",
       "      <td>63.0000</td>\n",
       "      <td>...</td>\n",
       "      <td>4.0</td>\n",
       "      <td>NaN</td>\n",
       "      <td>1.0</td>\n",
       "      <td>22.0</td>\n",
       "      <td>52.0</td>\n",
       "      <td>3.0</td>\n",
       "      <td>NaN</td>\n",
       "      <td>30.0</td>\n",
       "      <td>NaN</td>\n",
       "      <td>2.0</td>\n",
       "      <td>11.0</td>\n",
       "      <td>NaN</td>\n",
       "      <td>NaN</td>\n",
       "      <td>NaN</td>\n",
       "      <td>NaN</td>\n",
       "    </tr>\n",
       "    <tr>\n",
       "      <td>1135541</td>\n",
       "      <td>female</td>\n",
       "      <td>43.0</td>\n",
       "      <td>elective</td>\n",
       "      <td>Open</td>\n",
       "      <td>0</td>\n",
       "      <td>NaN</td>\n",
       "      <td>NaN</td>\n",
       "      <td>NaN</td>\n",
       "      <td>NaN</td>\n",
       "      <td>NaN</td>\n",
       "      <td>NaN</td>\n",
       "      <td>NaN</td>\n",
       "      <td>NaN</td>\n",
       "      <td>NaN</td>\n",
       "      <td>NaN</td>\n",
       "      <td>...</td>\n",
       "      <td>NaN</td>\n",
       "      <td>NaN</td>\n",
       "      <td>NaN</td>\n",
       "      <td>NaN</td>\n",
       "      <td>26.0</td>\n",
       "      <td>NaN</td>\n",
       "      <td>3.0</td>\n",
       "      <td>NaN</td>\n",
       "      <td>NaN</td>\n",
       "      <td>NaN</td>\n",
       "      <td>NaN</td>\n",
       "      <td>NaN</td>\n",
       "      <td>NaN</td>\n",
       "      <td>NaN</td>\n",
       "      <td>NaN</td>\n",
       "    </tr>\n",
       "    <tr>\n",
       "      <td>3918745</td>\n",
       "      <td>female</td>\n",
       "      <td>57.0</td>\n",
       "      <td>elective</td>\n",
       "      <td>Laparoscopic</td>\n",
       "      <td>0</td>\n",
       "      <td>3.9</td>\n",
       "      <td>3.9000</td>\n",
       "      <td>3.90</td>\n",
       "      <td>3.9</td>\n",
       "      <td>90.0</td>\n",
       "      <td>90.0</td>\n",
       "      <td>90.0</td>\n",
       "      <td>90.0</td>\n",
       "      <td>53.0</td>\n",
       "      <td>53.0000</td>\n",
       "      <td>...</td>\n",
       "      <td>NaN</td>\n",
       "      <td>NaN</td>\n",
       "      <td>NaN</td>\n",
       "      <td>NaN</td>\n",
       "      <td>NaN</td>\n",
       "      <td>NaN</td>\n",
       "      <td>NaN</td>\n",
       "      <td>NaN</td>\n",
       "      <td>NaN</td>\n",
       "      <td>NaN</td>\n",
       "      <td>NaN</td>\n",
       "      <td>NaN</td>\n",
       "      <td>NaN</td>\n",
       "      <td>NaN</td>\n",
       "      <td>NaN</td>\n",
       "    </tr>\n",
       "    <tr>\n",
       "      <td>4894647</td>\n",
       "      <td>NaN</td>\n",
       "      <td>NaN</td>\n",
       "      <td>elective</td>\n",
       "      <td>Open</td>\n",
       "      <td>0</td>\n",
       "      <td>4.3</td>\n",
       "      <td>4.3000</td>\n",
       "      <td>4.30</td>\n",
       "      <td>4.3</td>\n",
       "      <td>70.0</td>\n",
       "      <td>70.0</td>\n",
       "      <td>70.0</td>\n",
       "      <td>70.0</td>\n",
       "      <td>NaN</td>\n",
       "      <td>NaN</td>\n",
       "      <td>...</td>\n",
       "      <td>1.0</td>\n",
       "      <td>1.0</td>\n",
       "      <td>1.0</td>\n",
       "      <td>NaN</td>\n",
       "      <td>73.0</td>\n",
       "      <td>NaN</td>\n",
       "      <td>NaN</td>\n",
       "      <td>NaN</td>\n",
       "      <td>NaN</td>\n",
       "      <td>3.0</td>\n",
       "      <td>18.0</td>\n",
       "      <td>NaN</td>\n",
       "      <td>NaN</td>\n",
       "      <td>2.0</td>\n",
       "      <td>NaN</td>\n",
       "    </tr>\n",
       "    <tr>\n",
       "      <td>6541482</td>\n",
       "      <td>female</td>\n",
       "      <td>65.0</td>\n",
       "      <td>urgent</td>\n",
       "      <td>Open</td>\n",
       "      <td>0</td>\n",
       "      <td>3.1</td>\n",
       "      <td>1.9429</td>\n",
       "      <td>1.95</td>\n",
       "      <td>1.4</td>\n",
       "      <td>123.0</td>\n",
       "      <td>94.0</td>\n",
       "      <td>112.5</td>\n",
       "      <td>33.0</td>\n",
       "      <td>68.0</td>\n",
       "      <td>32.6923</td>\n",
       "      <td>...</td>\n",
       "      <td>7.0</td>\n",
       "      <td>NaN</td>\n",
       "      <td>NaN</td>\n",
       "      <td>NaN</td>\n",
       "      <td>51.0</td>\n",
       "      <td>2.0</td>\n",
       "      <td>NaN</td>\n",
       "      <td>20.0</td>\n",
       "      <td>NaN</td>\n",
       "      <td>NaN</td>\n",
       "      <td>62.0</td>\n",
       "      <td>NaN</td>\n",
       "      <td>44.0</td>\n",
       "      <td>NaN</td>\n",
       "      <td>NaN</td>\n",
       "    </tr>\n",
       "  </tbody>\n",
       "</table>\n",
       "<p>5 rows × 894 columns</p>\n",
       "</div>"
      ],
      "text/plain": [
       "type      metadata                                                        \\\n",
       "time       general                                                         \n",
       "feature        Sex      Age   Urgency Surgical approach Anastomotic Leak   \n",
       "statistic constant constant  constant          constant         constant   \n",
       "pid                                                                        \n",
       "1123813       male     59.0  elective              Open                1   \n",
       "1135541     female     43.0  elective              Open                0   \n",
       "3918745     female     57.0  elective      Laparoscopic                0   \n",
       "4894647        NaN      NaN  elective              Open                0   \n",
       "6541482     female     65.0    urgent              Open                0   \n",
       "\n",
       "type      numeric_events                                                 \\\n",
       "time      before_surgery                                                  \n",
       "feature          Albumin                     Alkaline Phosphatase         \n",
       "statistic            max    mean median  min                  max  mean   \n",
       "pid                                                                       \n",
       "1123813              4.2  4.2000   4.20  4.2                 97.0  97.0   \n",
       "1135541              NaN     NaN    NaN  NaN                  NaN   NaN   \n",
       "3918745              3.9  3.9000   3.90  3.9                 90.0  90.0   \n",
       "4894647              4.3  4.3000   4.30  4.3                 70.0  70.0   \n",
       "6541482              3.1  1.9429   1.95  1.4                123.0  94.0   \n",
       "\n",
       "type                                     ...             drugs  \\\n",
       "time                                     ...          all_days   \n",
       "feature                Amylase           ... Magnesium sulfate   \n",
       "statistic median   min     max     mean  ...             count   \n",
       "pid                                      ...                     \n",
       "1123813     97.0  97.0    63.0  63.0000  ...               4.0   \n",
       "1135541      NaN   NaN     NaN      NaN  ...               NaN   \n",
       "3918745     90.0  90.0    53.0  53.0000  ...               NaN   \n",
       "4894647     70.0  70.0     NaN      NaN  ...               1.0   \n",
       "6541482    112.5  33.0    68.0  32.6923  ...               7.0   \n",
       "\n",
       "type                                                                           \\\n",
       "time                                                                            \n",
       "feature   Magnesium sulfate  Meroken new Meropenem Metronidazole Morphine hcl   \n",
       "statistic              count       count     count         count        count   \n",
       "pid                                                                             \n",
       "1123813                  NaN         1.0      22.0          52.0          3.0   \n",
       "1135541                  NaN         NaN       NaN          26.0          NaN   \n",
       "3918745                  NaN         NaN       NaN           NaN          NaN   \n",
       "4894647                  1.0         1.0       NaN          73.0          NaN   \n",
       "6541482                  NaN         NaN       NaN          51.0          2.0   \n",
       "\n",
       "type                                                                       \\\n",
       "time                                                                        \n",
       "feature   Morphine hcl  Norepinephrine Norepinephrine + dextrose Optalgin   \n",
       "statistic         count          count                     count    count   \n",
       "pid                                                                         \n",
       "1123813             NaN           30.0                       NaN      2.0   \n",
       "1135541             3.0            NaN                       NaN      NaN   \n",
       "3918745             NaN            NaN                       NaN      NaN   \n",
       "4894647             NaN            NaN                       NaN      3.0   \n",
       "6541482             NaN           20.0                       NaN      NaN   \n",
       "\n",
       "type                                                                         \n",
       "time                                                                         \n",
       "feature   Piperacillin / tazobactam Prednisone Propranolol Vaben Vancomycin  \n",
       "statistic                     count      count       count count      count  \n",
       "pid                                                                          \n",
       "1123813                        11.0        NaN         NaN   NaN        NaN  \n",
       "1135541                         NaN        NaN         NaN   NaN        NaN  \n",
       "3918745                         NaN        NaN         NaN   NaN        NaN  \n",
       "4894647                        18.0        NaN         NaN   2.0        NaN  \n",
       "6541482                        62.0        NaN        44.0   NaN        NaN  \n",
       "\n",
       "[5 rows x 894 columns]"
      ]
     },
     "execution_count": 47,
     "metadata": {},
     "output_type": "execute_result"
    }
   ],
   "source": [
    "df.head()"
   ]
  },
  {
   "cell_type": "code",
   "execution_count": 48,
   "metadata": {},
   "outputs": [
    {
     "name": "stdout",
     "output_type": "stream",
     "text": [
      "number of features: 138\n"
     ]
    }
   ],
   "source": [
    "n = df.columns.get_level_values('feature').nunique() - df['metadata'].shape[1]\n",
    "print(\"number of features:\", n)"
   ]
  },
  {
   "cell_type": "markdown",
   "metadata": {},
   "source": [
    "# Process data \n"
   ]
  },
  {
   "cell_type": "markdown",
   "metadata": {},
   "source": [
    "## Remove columns by missing values"
   ]
  },
  {
   "cell_type": "code",
   "execution_count": 49,
   "metadata": {},
   "outputs": [
    {
     "name": "stdout",
     "output_type": "stream",
     "text": [
      "Num features before dropping columns: 138\n"
     ]
    }
   ],
   "source": [
    "n = df.columns.get_level_values('feature').nunique() - df['metadata'].shape[1]\n",
    "print(\"Num features before dropping columns:\", n)"
   ]
  },
  {
   "cell_type": "code",
   "execution_count": 50,
   "metadata": {},
   "outputs": [],
   "source": [
    "npatients = df.shape[0]"
   ]
  },
  {
   "cell_type": "code",
   "execution_count": 51,
   "metadata": {},
   "outputs": [],
   "source": [
    "#filter \"numeric events\" columns\n",
    "v = df[['numeric_events']].isna().sum().gt(npatients*0.50) #gt = greater than\n",
    "df.drop(v.index[v], axis=1, inplace=True)"
   ]
  },
  {
   "cell_type": "code",
   "execution_count": 52,
   "metadata": {},
   "outputs": [],
   "source": [
    "#filter drugs columns\n",
    "v = df[['drugs']].isna().sum().gt(npatients*0.80)\n",
    "df.drop(v.index[v], axis=1, inplace=True)"
   ]
  },
  {
   "cell_type": "code",
   "execution_count": 53,
   "metadata": {},
   "outputs": [
    {
     "name": "stdout",
     "output_type": "stream",
     "text": [
      "Num features after dropping columns: 71\n"
     ]
    }
   ],
   "source": [
    "n = df.columns.get_level_values('feature').nunique() - df['metadata'].shape[1]\n",
    "print(\"Num features after dropping columns:\", n)"
   ]
  },
  {
   "cell_type": "code",
   "execution_count": 54,
   "metadata": {},
   "outputs": [],
   "source": [
    "if WRITE_FLAG:\n",
    "    df.to_excel(OUTPUT_PATH0)"
   ]
  },
  {
   "cell_type": "markdown",
   "metadata": {},
   "source": [
    "## Fill missing data"
   ]
  },
  {
   "cell_type": "code",
   "execution_count": 55,
   "metadata": {},
   "outputs": [],
   "source": [
    "#fill numeric events with median \n",
    "df['numeric_events'] = df['numeric_events'].fillna(df['numeric_events'].median())"
   ]
  },
  {
   "cell_type": "code",
   "execution_count": 56,
   "metadata": {},
   "outputs": [],
   "source": [
    "#fill missing values in dtugs with 0 \n",
    "df['drugs'] = df['drugs'].fillna(0)"
   ]
  },
  {
   "cell_type": "code",
   "execution_count": 57,
   "metadata": {},
   "outputs": [],
   "source": [
    "#fill numeric events with median \n",
    "df.iloc[:,1] = df.iloc[:,1].fillna(df.iloc[:,1].median())"
   ]
  },
  {
   "cell_type": "code",
   "execution_count": 58,
   "metadata": {},
   "outputs": [
    {
     "data": {
      "text/html": [
       "<div>\n",
       "<style scoped>\n",
       "    .dataframe tbody tr th:only-of-type {\n",
       "        vertical-align: middle;\n",
       "    }\n",
       "\n",
       "    .dataframe tbody tr th {\n",
       "        vertical-align: top;\n",
       "    }\n",
       "\n",
       "    .dataframe thead tr th {\n",
       "        text-align: left;\n",
       "    }\n",
       "\n",
       "    .dataframe thead tr:last-of-type th {\n",
       "        text-align: right;\n",
       "    }\n",
       "</style>\n",
       "<table border=\"1\" class=\"dataframe\">\n",
       "  <thead>\n",
       "    <tr>\n",
       "      <th>type</th>\n",
       "      <th colspan=\"5\" halign=\"left\">metadata</th>\n",
       "      <th colspan=\"19\" halign=\"left\">numeric_events</th>\n",
       "      <th colspan=\"7\" halign=\"left\">drugs</th>\n",
       "    </tr>\n",
       "    <tr>\n",
       "      <th>time</th>\n",
       "      <th colspan=\"5\" halign=\"left\">general</th>\n",
       "      <th colspan=\"10\" halign=\"left\">before_surgery</th>\n",
       "      <th>...</th>\n",
       "      <th colspan=\"8\" halign=\"left\">after_surgery</th>\n",
       "      <th colspan=\"7\" halign=\"left\">all_days</th>\n",
       "    </tr>\n",
       "    <tr>\n",
       "      <th>feature</th>\n",
       "      <th>Sex</th>\n",
       "      <th>Age</th>\n",
       "      <th>Urgency</th>\n",
       "      <th>Surgical approach</th>\n",
       "      <th>Anastomotic Leak</th>\n",
       "      <th colspan=\"4\" halign=\"left\">Albumin</th>\n",
       "      <th colspan=\"4\" halign=\"left\">Alkaline Phosphatase</th>\n",
       "      <th colspan=\"2\" halign=\"left\">Amylase</th>\n",
       "      <th>...</th>\n",
       "      <th colspan=\"4\" halign=\"left\">saturation</th>\n",
       "      <th colspan=\"4\" halign=\"left\">weight</th>\n",
       "      <th>Cefazolin</th>\n",
       "      <th>Ceftriaxone</th>\n",
       "      <th>Fleet enema</th>\n",
       "      <th>Furosemide</th>\n",
       "      <th>Magnesium sulfate</th>\n",
       "      <th>Meroken new</th>\n",
       "      <th>Metronidazole</th>\n",
       "    </tr>\n",
       "    <tr>\n",
       "      <th>statistic</th>\n",
       "      <th>constant</th>\n",
       "      <th>constant</th>\n",
       "      <th>constant</th>\n",
       "      <th>constant</th>\n",
       "      <th>constant</th>\n",
       "      <th>max</th>\n",
       "      <th>mean</th>\n",
       "      <th>median</th>\n",
       "      <th>min</th>\n",
       "      <th>max</th>\n",
       "      <th>mean</th>\n",
       "      <th>median</th>\n",
       "      <th>min</th>\n",
       "      <th>max</th>\n",
       "      <th>mean</th>\n",
       "      <th>...</th>\n",
       "      <th>max</th>\n",
       "      <th>mean</th>\n",
       "      <th>median</th>\n",
       "      <th>min</th>\n",
       "      <th>max</th>\n",
       "      <th>mean</th>\n",
       "      <th>median</th>\n",
       "      <th>min</th>\n",
       "      <th>count</th>\n",
       "      <th>count</th>\n",
       "      <th>count</th>\n",
       "      <th>count</th>\n",
       "      <th>count</th>\n",
       "      <th>count</th>\n",
       "      <th>count</th>\n",
       "    </tr>\n",
       "    <tr>\n",
       "      <th>pid</th>\n",
       "      <th></th>\n",
       "      <th></th>\n",
       "      <th></th>\n",
       "      <th></th>\n",
       "      <th></th>\n",
       "      <th></th>\n",
       "      <th></th>\n",
       "      <th></th>\n",
       "      <th></th>\n",
       "      <th></th>\n",
       "      <th></th>\n",
       "      <th></th>\n",
       "      <th></th>\n",
       "      <th></th>\n",
       "      <th></th>\n",
       "      <th></th>\n",
       "      <th></th>\n",
       "      <th></th>\n",
       "      <th></th>\n",
       "      <th></th>\n",
       "      <th></th>\n",
       "      <th></th>\n",
       "      <th></th>\n",
       "      <th></th>\n",
       "      <th></th>\n",
       "      <th></th>\n",
       "      <th></th>\n",
       "      <th></th>\n",
       "      <th></th>\n",
       "      <th></th>\n",
       "      <th></th>\n",
       "    </tr>\n",
       "  </thead>\n",
       "  <tbody>\n",
       "    <tr>\n",
       "      <td>1123813</td>\n",
       "      <td>male</td>\n",
       "      <td>59.0</td>\n",
       "      <td>elective</td>\n",
       "      <td>Open</td>\n",
       "      <td>1</td>\n",
       "      <td>4.2</td>\n",
       "      <td>4.2000</td>\n",
       "      <td>4.20</td>\n",
       "      <td>4.2</td>\n",
       "      <td>97.0</td>\n",
       "      <td>97.0</td>\n",
       "      <td>97.0</td>\n",
       "      <td>97.0</td>\n",
       "      <td>63.0</td>\n",
       "      <td>63.0000</td>\n",
       "      <td>...</td>\n",
       "      <td>100.0</td>\n",
       "      <td>97.1693</td>\n",
       "      <td>98.0</td>\n",
       "      <td>85.0</td>\n",
       "      <td>108.0</td>\n",
       "      <td>96.9667</td>\n",
       "      <td>105.0</td>\n",
       "      <td>85.3</td>\n",
       "      <td>6.0</td>\n",
       "      <td>13.0</td>\n",
       "      <td>1.0</td>\n",
       "      <td>16.0</td>\n",
       "      <td>4.0</td>\n",
       "      <td>1.0</td>\n",
       "      <td>52.0</td>\n",
       "    </tr>\n",
       "    <tr>\n",
       "      <td>1135541</td>\n",
       "      <td>female</td>\n",
       "      <td>43.0</td>\n",
       "      <td>elective</td>\n",
       "      <td>Open</td>\n",
       "      <td>0</td>\n",
       "      <td>4.1</td>\n",
       "      <td>4.0000</td>\n",
       "      <td>4.00</td>\n",
       "      <td>3.9</td>\n",
       "      <td>94.0</td>\n",
       "      <td>91.0</td>\n",
       "      <td>91.0</td>\n",
       "      <td>84.0</td>\n",
       "      <td>68.0</td>\n",
       "      <td>60.5000</td>\n",
       "      <td>...</td>\n",
       "      <td>100.0</td>\n",
       "      <td>97.9277</td>\n",
       "      <td>98.0</td>\n",
       "      <td>94.0</td>\n",
       "      <td>68.0</td>\n",
       "      <td>68.0000</td>\n",
       "      <td>68.0</td>\n",
       "      <td>68.0</td>\n",
       "      <td>0.0</td>\n",
       "      <td>10.0</td>\n",
       "      <td>0.0</td>\n",
       "      <td>2.0</td>\n",
       "      <td>0.0</td>\n",
       "      <td>0.0</td>\n",
       "      <td>26.0</td>\n",
       "    </tr>\n",
       "    <tr>\n",
       "      <td>3918745</td>\n",
       "      <td>female</td>\n",
       "      <td>57.0</td>\n",
       "      <td>elective</td>\n",
       "      <td>Laparoscopic</td>\n",
       "      <td>0</td>\n",
       "      <td>3.9</td>\n",
       "      <td>3.9000</td>\n",
       "      <td>3.90</td>\n",
       "      <td>3.9</td>\n",
       "      <td>90.0</td>\n",
       "      <td>90.0</td>\n",
       "      <td>90.0</td>\n",
       "      <td>90.0</td>\n",
       "      <td>53.0</td>\n",
       "      <td>53.0000</td>\n",
       "      <td>...</td>\n",
       "      <td>100.0</td>\n",
       "      <td>96.7879</td>\n",
       "      <td>97.0</td>\n",
       "      <td>91.0</td>\n",
       "      <td>80.0</td>\n",
       "      <td>78.0000</td>\n",
       "      <td>78.0</td>\n",
       "      <td>76.0</td>\n",
       "      <td>0.0</td>\n",
       "      <td>0.0</td>\n",
       "      <td>0.0</td>\n",
       "      <td>0.0</td>\n",
       "      <td>0.0</td>\n",
       "      <td>0.0</td>\n",
       "      <td>0.0</td>\n",
       "    </tr>\n",
       "    <tr>\n",
       "      <td>4894647</td>\n",
       "      <td>NaN</td>\n",
       "      <td>55.0</td>\n",
       "      <td>elective</td>\n",
       "      <td>Open</td>\n",
       "      <td>0</td>\n",
       "      <td>4.3</td>\n",
       "      <td>4.3000</td>\n",
       "      <td>4.30</td>\n",
       "      <td>4.3</td>\n",
       "      <td>70.0</td>\n",
       "      <td>70.0</td>\n",
       "      <td>70.0</td>\n",
       "      <td>70.0</td>\n",
       "      <td>68.0</td>\n",
       "      <td>60.5000</td>\n",
       "      <td>...</td>\n",
       "      <td>100.0</td>\n",
       "      <td>96.7396</td>\n",
       "      <td>98.0</td>\n",
       "      <td>0.0</td>\n",
       "      <td>85.0</td>\n",
       "      <td>71.1250</td>\n",
       "      <td>74.6</td>\n",
       "      <td>0.0</td>\n",
       "      <td>5.0</td>\n",
       "      <td>12.0</td>\n",
       "      <td>1.0</td>\n",
       "      <td>38.0</td>\n",
       "      <td>1.0</td>\n",
       "      <td>1.0</td>\n",
       "      <td>73.0</td>\n",
       "    </tr>\n",
       "    <tr>\n",
       "      <td>6541482</td>\n",
       "      <td>female</td>\n",
       "      <td>65.0</td>\n",
       "      <td>urgent</td>\n",
       "      <td>Open</td>\n",
       "      <td>0</td>\n",
       "      <td>3.1</td>\n",
       "      <td>1.9429</td>\n",
       "      <td>1.95</td>\n",
       "      <td>1.4</td>\n",
       "      <td>123.0</td>\n",
       "      <td>94.0</td>\n",
       "      <td>112.5</td>\n",
       "      <td>33.0</td>\n",
       "      <td>68.0</td>\n",
       "      <td>32.6923</td>\n",
       "      <td>...</td>\n",
       "      <td>100.0</td>\n",
       "      <td>97.2320</td>\n",
       "      <td>98.0</td>\n",
       "      <td>80.0</td>\n",
       "      <td>58.0</td>\n",
       "      <td>54.6667</td>\n",
       "      <td>53.0</td>\n",
       "      <td>53.0</td>\n",
       "      <td>4.0</td>\n",
       "      <td>15.0</td>\n",
       "      <td>0.0</td>\n",
       "      <td>151.0</td>\n",
       "      <td>7.0</td>\n",
       "      <td>0.0</td>\n",
       "      <td>51.0</td>\n",
       "    </tr>\n",
       "  </tbody>\n",
       "</table>\n",
       "<p>5 rows × 480 columns</p>\n",
       "</div>"
      ],
      "text/plain": [
       "type      metadata                                                        \\\n",
       "time       general                                                         \n",
       "feature        Sex      Age   Urgency Surgical approach Anastomotic Leak   \n",
       "statistic constant constant  constant          constant         constant   \n",
       "pid                                                                        \n",
       "1123813       male     59.0  elective              Open                1   \n",
       "1135541     female     43.0  elective              Open                0   \n",
       "3918745     female     57.0  elective      Laparoscopic                0   \n",
       "4894647        NaN     55.0  elective              Open                0   \n",
       "6541482     female     65.0    urgent              Open                0   \n",
       "\n",
       "type      numeric_events                                                 \\\n",
       "time      before_surgery                                                  \n",
       "feature          Albumin                     Alkaline Phosphatase         \n",
       "statistic            max    mean median  min                  max  mean   \n",
       "pid                                                                       \n",
       "1123813              4.2  4.2000   4.20  4.2                 97.0  97.0   \n",
       "1135541              4.1  4.0000   4.00  3.9                 94.0  91.0   \n",
       "3918745              3.9  3.9000   3.90  3.9                 90.0  90.0   \n",
       "4894647              4.3  4.3000   4.30  4.3                 70.0  70.0   \n",
       "6541482              3.1  1.9429   1.95  1.4                123.0  94.0   \n",
       "\n",
       "type                                     ...                                \\\n",
       "time                                     ... after_surgery                   \n",
       "feature                Amylase           ...    saturation                   \n",
       "statistic median   min     max     mean  ...           max     mean median   \n",
       "pid                                      ...                                 \n",
       "1123813     97.0  97.0    63.0  63.0000  ...         100.0  97.1693   98.0   \n",
       "1135541     91.0  84.0    68.0  60.5000  ...         100.0  97.9277   98.0   \n",
       "3918745     90.0  90.0    53.0  53.0000  ...         100.0  96.7879   97.0   \n",
       "4894647     70.0  70.0    68.0  60.5000  ...         100.0  96.7396   98.0   \n",
       "6541482    112.5  33.0    68.0  32.6923  ...         100.0  97.2320   98.0   \n",
       "\n",
       "type                                              drugs              \\\n",
       "time                                           all_days               \n",
       "feature         weight                        Cefazolin Ceftriaxone   \n",
       "statistic   min     max     mean median   min     count       count   \n",
       "pid                                                                   \n",
       "1123813    85.0   108.0  96.9667  105.0  85.3       6.0        13.0   \n",
       "1135541    94.0    68.0  68.0000   68.0  68.0       0.0        10.0   \n",
       "3918745    91.0    80.0  78.0000   78.0  76.0       0.0         0.0   \n",
       "4894647     0.0    85.0  71.1250   74.6   0.0       5.0        12.0   \n",
       "6541482    80.0    58.0  54.6667   53.0  53.0       4.0        15.0   \n",
       "\n",
       "type                                                                          \n",
       "time                                                                          \n",
       "feature   Fleet enema Furosemide Magnesium sulfate Meroken new Metronidazole  \n",
       "statistic       count      count             count       count         count  \n",
       "pid                                                                           \n",
       "1123813           1.0       16.0               4.0         1.0          52.0  \n",
       "1135541           0.0        2.0               0.0         0.0          26.0  \n",
       "3918745           0.0        0.0               0.0         0.0           0.0  \n",
       "4894647           1.0       38.0               1.0         1.0          73.0  \n",
       "6541482           0.0      151.0               7.0         0.0          51.0  \n",
       "\n",
       "[5 rows x 480 columns]"
      ]
     },
     "execution_count": 58,
     "metadata": {},
     "output_type": "execute_result"
    }
   ],
   "source": [
    "df.head()"
   ]
  },
  {
   "cell_type": "code",
   "execution_count": 59,
   "metadata": {},
   "outputs": [
    {
     "data": {
      "text/plain": [
       "'#read events\\npath = DATA_PATH + \"parseData2.csv\"\\ndf = pd.read_csv(path, sep=\\',\\') \\n#parse date of surgery\\ndf[\\'eventStartDate\\'] = pd.to_datetime(df[\\'eventStartDate\\'], format=\\'%Y-%m-%d\\')\\ndf[\\'eventEndDate\\'] = pd.to_datetime(df[\\'eventEndDate\\'], format=\\'%Y-%m-%d\\')\\n\\n#read annonymous file\\npath = \"{}parseAnonymous0.csv\".format(DATA_PATH)\\nanonymous = pd.read_csv(path, sep=\\',\\')\\n#parse date of surgery\\nanonymous[\\'Date of surgery\\'] = pd.to_datetime(anonymous[\\'Date of surgery\\'], format=\\'%Y-%m-%d\\')'"
      ]
     },
     "execution_count": 59,
     "metadata": {},
     "output_type": "execute_result"
    }
   ],
   "source": [
    "'''#read events\n",
    "path = DATA_PATH + \"parseData2.csv\"\n",
    "df = pd.read_csv(path, sep=',') \n",
    "#parse date of surgery\n",
    "df['eventStartDate'] = pd.to_datetime(df['eventStartDate'], format='%Y-%m-%d')\n",
    "df['eventEndDate'] = pd.to_datetime(df['eventEndDate'], format='%Y-%m-%d')\n",
    "\n",
    "#read annonymous file\n",
    "path = \"{}parseAnonymous0.csv\".format(DATA_PATH)\n",
    "anonymous = pd.read_csv(path, sep=',')\n",
    "#parse date of surgery\n",
    "anonymous['Date of surgery'] = pd.to_datetime(anonymous['Date of surgery'], format='%Y-%m-%d')'''"
   ]
  },
  {
   "cell_type": "markdown",
   "metadata": {},
   "source": []
  },
  {
   "cell_type": "markdown",
   "metadata": {},
   "source": [
    "## Exploration"
   ]
  },
  {
   "cell_type": "code",
   "execution_count": 60,
   "metadata": {},
   "outputs": [
    {
     "ename": "NameError",
     "evalue": "name 'y' is not defined",
     "output_type": "error",
     "traceback": [
      "\u001b[1;31m---------------------------------------------------------------------------\u001b[0m",
      "\u001b[1;31mNameError\u001b[0m                                 Traceback (most recent call last)",
      "\u001b[1;32m<ipython-input-60-026b6daa745a>\u001b[0m in \u001b[0;36m<module>\u001b[1;34m\u001b[0m\n\u001b[1;32m----> 1\u001b[1;33m \u001b[0mcounts\u001b[0m \u001b[1;33m=\u001b[0m \u001b[0my\u001b[0m\u001b[1;33m.\u001b[0m\u001b[0mvalue_counts\u001b[0m\u001b[1;33m(\u001b[0m\u001b[1;33m)\u001b[0m\u001b[1;33m.\u001b[0m\u001b[0mto_frame\u001b[0m\u001b[1;33m(\u001b[0m\u001b[1;33m)\u001b[0m\u001b[1;33m\u001b[0m\u001b[1;33m\u001b[0m\u001b[0m\n\u001b[0m\u001b[0;32m      2\u001b[0m \u001b[0mcounts\u001b[0m\u001b[1;33m.\u001b[0m\u001b[0mindex\u001b[0m \u001b[1;33m=\u001b[0m \u001b[1;33m[\u001b[0m\u001b[1;34m\"AL\"\u001b[0m\u001b[1;33m,\u001b[0m \u001b[1;34m\"non-AL\"\u001b[0m\u001b[1;33m]\u001b[0m\u001b[1;33m\u001b[0m\u001b[1;33m\u001b[0m\u001b[0m\n\u001b[0;32m      3\u001b[0m \u001b[0mcounts\u001b[0m\u001b[1;33m.\u001b[0m\u001b[0mcolumns\u001b[0m \u001b[1;33m=\u001b[0m \u001b[1;33m[\u001b[0m\u001b[1;34m\"counts\"\u001b[0m\u001b[1;33m]\u001b[0m\u001b[1;33m\u001b[0m\u001b[1;33m\u001b[0m\u001b[0m\n\u001b[0;32m      4\u001b[0m \u001b[0mdisplay\u001b[0m\u001b[1;33m(\u001b[0m\u001b[0mcounts\u001b[0m\u001b[1;33m)\u001b[0m\u001b[1;33m\u001b[0m\u001b[1;33m\u001b[0m\u001b[0m\n\u001b[0;32m      5\u001b[0m \u001b[1;33m\u001b[0m\u001b[0m\n",
      "\u001b[1;31mNameError\u001b[0m: name 'y' is not defined"
     ]
    }
   ],
   "source": [
    "counts = y.value_counts().to_frame()\n",
    "counts.index = [\"AL\", \"non-AL\"]\n",
    "counts.columns = [\"counts\"]\n",
    "display(counts)\n",
    "\n",
    "percent = y.sum()/len(y) \n",
    "print(\"percentage of num Anastomotic leak: {:.2f}%\".format(percent*100))\n",
    "\n",
    "# Pie chart, where the slices will be ordered and plotted counter-clockwise:\n",
    "labels = 'Non-AL', 'Anastomotic Leak (AL)'\n",
    "sizes = [len(y) - y.sum(), y.sum()]\n",
    "\n",
    "fig1, ax1 = plt.subplots()\n",
    "ax1.pie(sizes, labels=labels, autopct='%1.1f%%',\n",
    "        shadow=True, startangle=90)\n",
    "ax1.axis('equal')  # Equal aspect ratio ensures that pie is drawn as a circle.\n",
    "\n",
    "plt.show()"
   ]
  },
  {
   "cell_type": "markdown",
   "metadata": {},
   "source": [
    "# Logistic Regression "
   ]
  },
  {
   "cell_type": "markdown",
   "metadata": {},
   "source": [
    "## Get x and y"
   ]
  },
  {
   "cell_type": "code",
   "execution_count": null,
   "metadata": {},
   "outputs": [],
   "source": [
    "to_drop = [df.columns[0], df.columns[2], df.columns[3], df.columns[4]]\n",
    "x = df.drop(columns=to_drop)\n",
    "x.head()"
   ]
  },
  {
   "cell_type": "code",
   "execution_count": null,
   "metadata": {},
   "outputs": [],
   "source": [
    "y = df.iloc[:, 4]\n",
    "y.name = \"labels\""
   ]
  },
  {
   "cell_type": "markdown",
   "metadata": {},
   "source": [
    "### train - test"
   ]
  },
  {
   "cell_type": "code",
   "execution_count": null,
   "metadata": {},
   "outputs": [],
   "source": [
    "#The stratify parameter makes a split so that the proportion of values in the sample produced \n",
    "#will be the same as the proportion of values provided to parameter stratify.\n",
    "\n",
    "x_train, x_test, y_train, y_test = train_test_split(x, y,\n",
    "                                                    test_size=0.2,\n",
    "                                                    random_state=0,\n",
    "                                                    stratify=y)"
   ]
  },
  {
   "cell_type": "code",
   "execution_count": null,
   "metadata": {},
   "outputs": [],
   "source": [
    "traintest = pd.concat([y_train.value_counts(), y_test.value_counts()], axis=1).T\n",
    "traintest.index = ['train', 'test'] \n",
    "traintest.columns = [\"non-AL\", \"AL\"]\n",
    "traintest['total'] = traintest.sum(axis=1)\n",
    "traintest"
   ]
  },
  {
   "cell_type": "markdown",
   "metadata": {},
   "source": [
    "## fit"
   ]
  },
  {
   "cell_type": "code",
   "execution_count": null,
   "metadata": {},
   "outputs": [],
   "source": [
    "model = LogisticRegression(solver='lbfgs', max_iter=100000) #liblinear\n",
    "model.fit(x_train, y_train)"
   ]
  },
  {
   "cell_type": "markdown",
   "metadata": {},
   "source": [
    "### Performances"
   ]
  },
  {
   "cell_type": "code",
   "execution_count": null,
   "metadata": {},
   "outputs": [],
   "source": [
    "y_pred = model.predict(x_test)\n",
    "score = model.score(x_test, y_test) \n",
    "#accuracy: tp + tn / all\n",
    "print('Accuracy of logistic regression classifier on test set: {:.2f}'.format(score))\n"
   ]
  },
  {
   "cell_type": "code",
   "execution_count": null,
   "metadata": {
    "scrolled": true
   },
   "outputs": [],
   "source": [
    "#precision is the ratio tp / (tp + fp)\n",
    "# recall is the ratio tp / (tp / fn)\n",
    "print(classification_report(y_test, y_pred))"
   ]
  },
  {
   "cell_type": "markdown",
   "metadata": {},
   "source": [
    "#### confusion matrix"
   ]
  },
  {
   "cell_type": "code",
   "execution_count": null,
   "metadata": {},
   "outputs": [],
   "source": [
    "#plot confusion matrix\n",
    "#confusion_matrix = confusion_matrix(y_test, y_pred)\n",
    "\n",
    "disp = plot_confusion_matrix(model, x_test, y_test, display_labels=[\"no Leak\", \"Leak\"], normalize='true') #normalize='false'\n",
    "#normalization: first row is divided by number of no leak, second is divided by number of leak\n",
    "disp.ax_.set_title(\"Normalized confusion matrix\")"
   ]
  },
  {
   "cell_type": "markdown",
   "metadata": {},
   "source": [
    "#### ROC curve"
   ]
  },
  {
   "cell_type": "code",
   "execution_count": null,
   "metadata": {},
   "outputs": [],
   "source": [
    "#roc curve\n",
    "probs = model.predict_proba(x_test)[:,1] #first index - probability that data belongs to class 0, second index - to class 1\n",
    "fpr, tpr, thresholds = metrics.roc_curve(y_test, probs)\n",
    "\n",
    "#area under curve\n",
    "logit_roc_auc = metrics.roc_auc_score(y_test, y_pred)\n",
    "\n",
    "plt.figure()\n",
    "plt.plot(fpr, tpr, label='Logistic Regression (area = {:.2f})'.format(logit_roc_auc))\n",
    "plt.plot([0, 1], [0, 1],'r--')\n",
    "plt.xlabel('False Positive Rate')\n",
    "plt.ylabel('True Positive Rate')\n",
    "plt.title('ROC curve')\n",
    "plt.legend(loc=\"lower right\")\n",
    "plt.show()"
   ]
  },
  {
   "cell_type": "markdown",
   "metadata": {},
   "source": [
    "### forward selection"
   ]
  },
  {
   "cell_type": "code",
   "execution_count": null,
   "metadata": {},
   "outputs": [],
   "source": [
    "from mlxtend.feature_selection import SequentialFeatureSelector as SFS\n",
    "\n",
    "k_feautres = 3 \n",
    "\n",
    "#Sequential Forward Selection\n",
    "sfs = SFS(model, \n",
    "          k_features=k_feautres, \n",
    "          forward=True, \n",
    "          floating=False, \n",
    "          scoring='accuracy',\n",
    "          cv=4,\n",
    "          n_jobs=-1)\n",
    "sfs = sfs.fit(X, y)\n",
    "\n",
    "print('\\nSequential Forward Selection (k=3):')\n",
    "print(sfs.k_feature_idx_)\n",
    "print('CV Score:')\n",
    "print(sfs.k_score_)\n"
   ]
  },
  {
   "cell_type": "code",
   "execution_count": 61,
   "metadata": {},
   "outputs": [
    {
     "ename": "ModuleNotFoundError",
     "evalue": "No module named 'mlxtend'",
     "output_type": "error",
     "traceback": [
      "\u001b[1;31m---------------------------------------------------------------------------\u001b[0m",
      "\u001b[1;31mModuleNotFoundError\u001b[0m                       Traceback (most recent call last)",
      "\u001b[1;32m<ipython-input-61-87d910befb79>\u001b[0m in \u001b[0;36m<module>\u001b[1;34m\u001b[0m\n\u001b[1;32m----> 1\u001b[1;33m \u001b[1;32mimport\u001b[0m \u001b[0mmlxtend\u001b[0m\u001b[1;33m\u001b[0m\u001b[1;33m\u001b[0m\u001b[0m\n\u001b[0m",
      "\u001b[1;31mModuleNotFoundError\u001b[0m: No module named 'mlxtend'"
     ]
    }
   ],
   "source": [
    "import mlxtend"
   ]
  },
  {
   "cell_type": "code",
   "execution_count": null,
   "metadata": {},
   "outputs": [],
   "source": []
  },
  {
   "cell_type": "code",
   "execution_count": null,
   "metadata": {},
   "outputs": [],
   "source": []
  },
  {
   "cell_type": "code",
   "execution_count": null,
   "metadata": {},
   "outputs": [],
   "source": []
  },
  {
   "cell_type": "code",
   "execution_count": null,
   "metadata": {},
   "outputs": [],
   "source": []
  },
  {
   "cell_type": "code",
   "execution_count": null,
   "metadata": {},
   "outputs": [],
   "source": [
    "\n"
   ]
  },
  {
   "cell_type": "code",
   "execution_count": null,
   "metadata": {},
   "outputs": [],
   "source": [
    "\n",
    "\n"
   ]
  }
 ],
 "metadata": {
  "kernelspec": {
   "display_name": "Python 3",
   "language": "python",
   "name": "python3"
  },
  "language_info": {
   "codemirror_mode": {
    "name": "ipython",
    "version": 3
   },
   "file_extension": ".py",
   "mimetype": "text/x-python",
   "name": "python",
   "nbconvert_exporter": "python",
   "pygments_lexer": "ipython3",
   "version": "3.7.4"
  }
 },
 "nbformat": 4,
 "nbformat_minor": 2
}
