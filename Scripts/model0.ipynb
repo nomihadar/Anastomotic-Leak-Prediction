{
 "cells": [
  {
   "cell_type": "markdown",
   "metadata": {},
   "source": [
    "**Notebook content:**\n",
    "- First model: logistic regression \n",
    "- "
   ]
  },
  {
   "cell_type": "code",
   "execution_count": 157,
   "metadata": {},
   "outputs": [],
   "source": [
    "%reset -f "
   ]
  },
  {
   "cell_type": "code",
   "execution_count": 158,
   "metadata": {},
   "outputs": [],
   "source": [
    "from myDefs.defs import *\n",
    "from sklearn.model_selection import train_test_split\n",
    "from sklearn.linear_model import LogisticRegression\n",
    "from sklearn.metrics import confusion_matrix, plot_confusion_matrix, classification_report\n",
    "from sklearn import metrics\n",
    "from IPython.display import display\n",
    "\n",
    "from mlxtend.feature_selection import SequentialFeatureSelector as SFS\n",
    "from mlxtend.plotting import plot_sequential_feature_selection as plot_sfs\n",
    "\n",
    "pd.set_option('display.max_columns', 30)\n",
    "pd.set_option('display.max_rows', 200)\n",
    "#pd.set_option('display.float_format', lambda x: '%.f' % x)\n",
    "pd.options.display.precision = 4\n",
    "\n",
    "#import sys\n",
    "np.set_printoptions(threshold=sys.maxsize) #- print the full NumPy array\n",
    "\n",
    "# visualization\n",
    "import seaborn as sns\n",
    "import matplotlib.pyplot as plt \n",
    "from matplotlib.pyplot import figure\n",
    "%matplotlib inline\n"
   ]
  },
  {
   "cell_type": "code",
   "execution_count": 159,
   "metadata": {},
   "outputs": [],
   "source": [
    "INPUT_PATH = DATA_PATH + 'pre_matrix0.xlsx'\n",
    "OUTPUT_PATH0 = DATA_PATH + 'matrix0_missing_values.xlsx'\n",
    "OUTPUT_PATH1 = DATA_PATH + 'matrix0.xlsx'"
   ]
  },
  {
   "cell_type": "markdown",
   "metadata": {
    "collapsed": true
   },
   "source": [
    "**Read events file**"
   ]
  },
  {
   "cell_type": "code",
   "execution_count": 160,
   "metadata": {},
   "outputs": [],
   "source": [
    "df = pd.read_excel(INPUT_PATH, header=[0,1,2,3], index_col=0)"
   ]
  },
  {
   "cell_type": "code",
   "execution_count": 161,
   "metadata": {},
   "outputs": [
    {
     "data": {
      "text/plain": [
       "(525, 894)"
      ]
     },
     "execution_count": 161,
     "metadata": {},
     "output_type": "execute_result"
    }
   ],
   "source": [
    "df.shape"
   ]
  },
  {
   "cell_type": "code",
   "execution_count": 162,
   "metadata": {},
   "outputs": [
    {
     "data": {
      "text/html": [
       "<div>\n",
       "<style scoped>\n",
       "    .dataframe tbody tr th:only-of-type {\n",
       "        vertical-align: middle;\n",
       "    }\n",
       "\n",
       "    .dataframe tbody tr th {\n",
       "        vertical-align: top;\n",
       "    }\n",
       "\n",
       "    .dataframe thead tr th {\n",
       "        text-align: left;\n",
       "    }\n",
       "\n",
       "    .dataframe thead tr:last-of-type th {\n",
       "        text-align: right;\n",
       "    }\n",
       "</style>\n",
       "<table border=\"1\" class=\"dataframe\">\n",
       "  <thead>\n",
       "    <tr>\n",
       "      <th>type</th>\n",
       "      <th colspan=\"5\" halign=\"left\">metadata</th>\n",
       "      <th colspan=\"10\" halign=\"left\">numeric_events</th>\n",
       "      <th>...</th>\n",
       "      <th colspan=\"15\" halign=\"left\">drugs</th>\n",
       "    </tr>\n",
       "    <tr>\n",
       "      <th>time</th>\n",
       "      <th colspan=\"5\" halign=\"left\">general</th>\n",
       "      <th colspan=\"10\" halign=\"left\">before_surgery</th>\n",
       "      <th>...</th>\n",
       "      <th colspan=\"15\" halign=\"left\">all_days</th>\n",
       "    </tr>\n",
       "    <tr>\n",
       "      <th>feature</th>\n",
       "      <th>Sex</th>\n",
       "      <th>Age</th>\n",
       "      <th>Urgency</th>\n",
       "      <th>Surgical approach</th>\n",
       "      <th>Anastomotic Leak</th>\n",
       "      <th colspan=\"4\" halign=\"left\">Albumin</th>\n",
       "      <th colspan=\"4\" halign=\"left\">Alkaline Phosphatase</th>\n",
       "      <th colspan=\"2\" halign=\"left\">Amylase</th>\n",
       "      <th>...</th>\n",
       "      <th>Magnesium sulfate</th>\n",
       "      <th>Magnesium sulfate</th>\n",
       "      <th>Meroken new</th>\n",
       "      <th>Meropenem</th>\n",
       "      <th>Metronidazole</th>\n",
       "      <th>Morphine hcl</th>\n",
       "      <th>Morphine hcl</th>\n",
       "      <th>Norepinephrine</th>\n",
       "      <th>Norepinephrine + dextrose</th>\n",
       "      <th>Optalgin</th>\n",
       "      <th>Piperacillin / tazobactam</th>\n",
       "      <th>Prednisone</th>\n",
       "      <th>Propranolol</th>\n",
       "      <th>Vaben</th>\n",
       "      <th>Vancomycin</th>\n",
       "    </tr>\n",
       "    <tr>\n",
       "      <th>statistic</th>\n",
       "      <th>constant</th>\n",
       "      <th>constant</th>\n",
       "      <th>constant</th>\n",
       "      <th>constant</th>\n",
       "      <th>constant</th>\n",
       "      <th>max</th>\n",
       "      <th>mean</th>\n",
       "      <th>median</th>\n",
       "      <th>min</th>\n",
       "      <th>max</th>\n",
       "      <th>mean</th>\n",
       "      <th>median</th>\n",
       "      <th>min</th>\n",
       "      <th>max</th>\n",
       "      <th>mean</th>\n",
       "      <th>...</th>\n",
       "      <th>count</th>\n",
       "      <th>count</th>\n",
       "      <th>count</th>\n",
       "      <th>count</th>\n",
       "      <th>count</th>\n",
       "      <th>count</th>\n",
       "      <th>count</th>\n",
       "      <th>count</th>\n",
       "      <th>count</th>\n",
       "      <th>count</th>\n",
       "      <th>count</th>\n",
       "      <th>count</th>\n",
       "      <th>count</th>\n",
       "      <th>count</th>\n",
       "      <th>count</th>\n",
       "    </tr>\n",
       "    <tr>\n",
       "      <th>pid</th>\n",
       "      <th></th>\n",
       "      <th></th>\n",
       "      <th></th>\n",
       "      <th></th>\n",
       "      <th></th>\n",
       "      <th></th>\n",
       "      <th></th>\n",
       "      <th></th>\n",
       "      <th></th>\n",
       "      <th></th>\n",
       "      <th></th>\n",
       "      <th></th>\n",
       "      <th></th>\n",
       "      <th></th>\n",
       "      <th></th>\n",
       "      <th></th>\n",
       "      <th></th>\n",
       "      <th></th>\n",
       "      <th></th>\n",
       "      <th></th>\n",
       "      <th></th>\n",
       "      <th></th>\n",
       "      <th></th>\n",
       "      <th></th>\n",
       "      <th></th>\n",
       "      <th></th>\n",
       "      <th></th>\n",
       "      <th></th>\n",
       "      <th></th>\n",
       "      <th></th>\n",
       "      <th></th>\n",
       "    </tr>\n",
       "  </thead>\n",
       "  <tbody>\n",
       "    <tr>\n",
       "      <td>1123813</td>\n",
       "      <td>male</td>\n",
       "      <td>59.0</td>\n",
       "      <td>elective</td>\n",
       "      <td>Open</td>\n",
       "      <td>1</td>\n",
       "      <td>4.2</td>\n",
       "      <td>4.2000</td>\n",
       "      <td>4.20</td>\n",
       "      <td>4.2</td>\n",
       "      <td>97.0</td>\n",
       "      <td>97.0</td>\n",
       "      <td>97.0</td>\n",
       "      <td>97.0</td>\n",
       "      <td>63.0</td>\n",
       "      <td>63.0000</td>\n",
       "      <td>...</td>\n",
       "      <td>4.0</td>\n",
       "      <td>NaN</td>\n",
       "      <td>1.0</td>\n",
       "      <td>22.0</td>\n",
       "      <td>52.0</td>\n",
       "      <td>3.0</td>\n",
       "      <td>NaN</td>\n",
       "      <td>30.0</td>\n",
       "      <td>NaN</td>\n",
       "      <td>2.0</td>\n",
       "      <td>11.0</td>\n",
       "      <td>NaN</td>\n",
       "      <td>NaN</td>\n",
       "      <td>NaN</td>\n",
       "      <td>NaN</td>\n",
       "    </tr>\n",
       "    <tr>\n",
       "      <td>1135541</td>\n",
       "      <td>female</td>\n",
       "      <td>43.0</td>\n",
       "      <td>elective</td>\n",
       "      <td>Open</td>\n",
       "      <td>0</td>\n",
       "      <td>NaN</td>\n",
       "      <td>NaN</td>\n",
       "      <td>NaN</td>\n",
       "      <td>NaN</td>\n",
       "      <td>NaN</td>\n",
       "      <td>NaN</td>\n",
       "      <td>NaN</td>\n",
       "      <td>NaN</td>\n",
       "      <td>NaN</td>\n",
       "      <td>NaN</td>\n",
       "      <td>...</td>\n",
       "      <td>NaN</td>\n",
       "      <td>NaN</td>\n",
       "      <td>NaN</td>\n",
       "      <td>NaN</td>\n",
       "      <td>26.0</td>\n",
       "      <td>NaN</td>\n",
       "      <td>3.0</td>\n",
       "      <td>NaN</td>\n",
       "      <td>NaN</td>\n",
       "      <td>NaN</td>\n",
       "      <td>NaN</td>\n",
       "      <td>NaN</td>\n",
       "      <td>NaN</td>\n",
       "      <td>NaN</td>\n",
       "      <td>NaN</td>\n",
       "    </tr>\n",
       "    <tr>\n",
       "      <td>3918745</td>\n",
       "      <td>female</td>\n",
       "      <td>57.0</td>\n",
       "      <td>elective</td>\n",
       "      <td>Laparoscopic</td>\n",
       "      <td>0</td>\n",
       "      <td>3.9</td>\n",
       "      <td>3.9000</td>\n",
       "      <td>3.90</td>\n",
       "      <td>3.9</td>\n",
       "      <td>90.0</td>\n",
       "      <td>90.0</td>\n",
       "      <td>90.0</td>\n",
       "      <td>90.0</td>\n",
       "      <td>53.0</td>\n",
       "      <td>53.0000</td>\n",
       "      <td>...</td>\n",
       "      <td>NaN</td>\n",
       "      <td>NaN</td>\n",
       "      <td>NaN</td>\n",
       "      <td>NaN</td>\n",
       "      <td>NaN</td>\n",
       "      <td>NaN</td>\n",
       "      <td>NaN</td>\n",
       "      <td>NaN</td>\n",
       "      <td>NaN</td>\n",
       "      <td>NaN</td>\n",
       "      <td>NaN</td>\n",
       "      <td>NaN</td>\n",
       "      <td>NaN</td>\n",
       "      <td>NaN</td>\n",
       "      <td>NaN</td>\n",
       "    </tr>\n",
       "    <tr>\n",
       "      <td>4894647</td>\n",
       "      <td>NaN</td>\n",
       "      <td>NaN</td>\n",
       "      <td>elective</td>\n",
       "      <td>Open</td>\n",
       "      <td>0</td>\n",
       "      <td>4.3</td>\n",
       "      <td>4.3000</td>\n",
       "      <td>4.30</td>\n",
       "      <td>4.3</td>\n",
       "      <td>70.0</td>\n",
       "      <td>70.0</td>\n",
       "      <td>70.0</td>\n",
       "      <td>70.0</td>\n",
       "      <td>NaN</td>\n",
       "      <td>NaN</td>\n",
       "      <td>...</td>\n",
       "      <td>1.0</td>\n",
       "      <td>1.0</td>\n",
       "      <td>1.0</td>\n",
       "      <td>NaN</td>\n",
       "      <td>73.0</td>\n",
       "      <td>NaN</td>\n",
       "      <td>NaN</td>\n",
       "      <td>NaN</td>\n",
       "      <td>NaN</td>\n",
       "      <td>3.0</td>\n",
       "      <td>18.0</td>\n",
       "      <td>NaN</td>\n",
       "      <td>NaN</td>\n",
       "      <td>2.0</td>\n",
       "      <td>NaN</td>\n",
       "    </tr>\n",
       "    <tr>\n",
       "      <td>6541482</td>\n",
       "      <td>female</td>\n",
       "      <td>65.0</td>\n",
       "      <td>urgent</td>\n",
       "      <td>Open</td>\n",
       "      <td>0</td>\n",
       "      <td>3.1</td>\n",
       "      <td>1.9429</td>\n",
       "      <td>1.95</td>\n",
       "      <td>1.4</td>\n",
       "      <td>123.0</td>\n",
       "      <td>94.0</td>\n",
       "      <td>112.5</td>\n",
       "      <td>33.0</td>\n",
       "      <td>68.0</td>\n",
       "      <td>32.6923</td>\n",
       "      <td>...</td>\n",
       "      <td>7.0</td>\n",
       "      <td>NaN</td>\n",
       "      <td>NaN</td>\n",
       "      <td>NaN</td>\n",
       "      <td>51.0</td>\n",
       "      <td>2.0</td>\n",
       "      <td>NaN</td>\n",
       "      <td>20.0</td>\n",
       "      <td>NaN</td>\n",
       "      <td>NaN</td>\n",
       "      <td>62.0</td>\n",
       "      <td>NaN</td>\n",
       "      <td>44.0</td>\n",
       "      <td>NaN</td>\n",
       "      <td>NaN</td>\n",
       "    </tr>\n",
       "  </tbody>\n",
       "</table>\n",
       "<p>5 rows × 894 columns</p>\n",
       "</div>"
      ],
      "text/plain": [
       "type      metadata                                                        \\\n",
       "time       general                                                         \n",
       "feature        Sex      Age   Urgency Surgical approach Anastomotic Leak   \n",
       "statistic constant constant  constant          constant         constant   \n",
       "pid                                                                        \n",
       "1123813       male     59.0  elective              Open                1   \n",
       "1135541     female     43.0  elective              Open                0   \n",
       "3918745     female     57.0  elective      Laparoscopic                0   \n",
       "4894647        NaN      NaN  elective              Open                0   \n",
       "6541482     female     65.0    urgent              Open                0   \n",
       "\n",
       "type      numeric_events                                                 \\\n",
       "time      before_surgery                                                  \n",
       "feature          Albumin                     Alkaline Phosphatase         \n",
       "statistic            max    mean median  min                  max  mean   \n",
       "pid                                                                       \n",
       "1123813              4.2  4.2000   4.20  4.2                 97.0  97.0   \n",
       "1135541              NaN     NaN    NaN  NaN                  NaN   NaN   \n",
       "3918745              3.9  3.9000   3.90  3.9                 90.0  90.0   \n",
       "4894647              4.3  4.3000   4.30  4.3                 70.0  70.0   \n",
       "6541482              3.1  1.9429   1.95  1.4                123.0  94.0   \n",
       "\n",
       "type                                     ...             drugs  \\\n",
       "time                                     ...          all_days   \n",
       "feature                Amylase           ... Magnesium sulfate   \n",
       "statistic median   min     max     mean  ...             count   \n",
       "pid                                      ...                     \n",
       "1123813     97.0  97.0    63.0  63.0000  ...               4.0   \n",
       "1135541      NaN   NaN     NaN      NaN  ...               NaN   \n",
       "3918745     90.0  90.0    53.0  53.0000  ...               NaN   \n",
       "4894647     70.0  70.0     NaN      NaN  ...               1.0   \n",
       "6541482    112.5  33.0    68.0  32.6923  ...               7.0   \n",
       "\n",
       "type                                                                           \\\n",
       "time                                                                            \n",
       "feature   Magnesium sulfate  Meroken new Meropenem Metronidazole Morphine hcl   \n",
       "statistic              count       count     count         count        count   \n",
       "pid                                                                             \n",
       "1123813                  NaN         1.0      22.0          52.0          3.0   \n",
       "1135541                  NaN         NaN       NaN          26.0          NaN   \n",
       "3918745                  NaN         NaN       NaN           NaN          NaN   \n",
       "4894647                  1.0         1.0       NaN          73.0          NaN   \n",
       "6541482                  NaN         NaN       NaN          51.0          2.0   \n",
       "\n",
       "type                                                                       \\\n",
       "time                                                                        \n",
       "feature   Morphine hcl  Norepinephrine Norepinephrine + dextrose Optalgin   \n",
       "statistic         count          count                     count    count   \n",
       "pid                                                                         \n",
       "1123813             NaN           30.0                       NaN      2.0   \n",
       "1135541             3.0            NaN                       NaN      NaN   \n",
       "3918745             NaN            NaN                       NaN      NaN   \n",
       "4894647             NaN            NaN                       NaN      3.0   \n",
       "6541482             NaN           20.0                       NaN      NaN   \n",
       "\n",
       "type                                                                         \n",
       "time                                                                         \n",
       "feature   Piperacillin / tazobactam Prednisone Propranolol Vaben Vancomycin  \n",
       "statistic                     count      count       count count      count  \n",
       "pid                                                                          \n",
       "1123813                        11.0        NaN         NaN   NaN        NaN  \n",
       "1135541                         NaN        NaN         NaN   NaN        NaN  \n",
       "3918745                         NaN        NaN         NaN   NaN        NaN  \n",
       "4894647                        18.0        NaN         NaN   2.0        NaN  \n",
       "6541482                        62.0        NaN        44.0   NaN        NaN  \n",
       "\n",
       "[5 rows x 894 columns]"
      ]
     },
     "execution_count": 162,
     "metadata": {},
     "output_type": "execute_result"
    }
   ],
   "source": [
    "df.head()"
   ]
  },
  {
   "cell_type": "code",
   "execution_count": 163,
   "metadata": {},
   "outputs": [
    {
     "name": "stdout",
     "output_type": "stream",
     "text": [
      "number of features: 138\n"
     ]
    }
   ],
   "source": [
    "n = df.columns.get_level_values('feature').nunique() - df['metadata'].shape[1]\n",
    "print(\"number of features:\", n)"
   ]
  },
  {
   "cell_type": "markdown",
   "metadata": {},
   "source": [
    "# Process data \n"
   ]
  },
  {
   "cell_type": "markdown",
   "metadata": {},
   "source": [
    "## Remove columns by missing values"
   ]
  },
  {
   "cell_type": "code",
   "execution_count": 164,
   "metadata": {},
   "outputs": [
    {
     "name": "stdout",
     "output_type": "stream",
     "text": [
      "Num features before dropping columns: 138\n"
     ]
    }
   ],
   "source": [
    "n = df.columns.get_level_values('feature').nunique() - df['metadata'].shape[1]\n",
    "print(\"Num features before dropping columns:\", n)"
   ]
  },
  {
   "cell_type": "code",
   "execution_count": 165,
   "metadata": {},
   "outputs": [],
   "source": [
    "npatients = df.shape[0]"
   ]
  },
  {
   "cell_type": "code",
   "execution_count": 166,
   "metadata": {},
   "outputs": [],
   "source": [
    "#filter \"numeric events\" columns\n",
    "v = df[['numeric_events']].isna().sum().gt(npatients*0.50) #gt = greater than\n",
    "df.drop(v.index[v], axis=1, inplace=True)"
   ]
  },
  {
   "cell_type": "code",
   "execution_count": 167,
   "metadata": {},
   "outputs": [],
   "source": [
    "#filter drugs columns\n",
    "v = df[['drugs']].isna().sum().gt(npatients*0.80)\n",
    "df.drop(v.index[v], axis=1, inplace=True)"
   ]
  },
  {
   "cell_type": "code",
   "execution_count": 168,
   "metadata": {},
   "outputs": [
    {
     "name": "stdout",
     "output_type": "stream",
     "text": [
      "Num columns after dropping columns: 480\n",
      "Num features after dropping columns: 71\n"
     ]
    }
   ],
   "source": [
    "n = df.columns.get_level_values('feature').nunique() - df['metadata'].shape[1]\n",
    "print(\"Num columns after dropping columns:\", df.shape[1])\n",
    "print(\"Num features after dropping columns:\", n)\n"
   ]
  },
  {
   "cell_type": "code",
   "execution_count": 169,
   "metadata": {},
   "outputs": [
    {
     "name": "stdout",
     "output_type": "stream",
     "text": [
      " numeric events, before surgery: 53\n",
      " numeric events, after surgery: 64\n",
      " numeric events, drugs: 7\n"
     ]
    },
    {
     "name": "stderr",
     "output_type": "stream",
     "text": [
      "C:\\Users\\hp4mp\\AppData\\Local\\Continuum\\anaconda3\\lib\\site-packages\\IPython\\core\\interactiveshell.py:2855: PerformanceWarning: indexing past lexsort depth may impact performance.\n",
      "  raw_cell, store_history, silent, shell_futures)\n"
     ]
    },
    {
     "data": {
      "text/plain": [
       "475"
      ]
     },
     "execution_count": 169,
     "metadata": {},
     "output_type": "execute_result"
    }
   ],
   "source": [
    "a = df[('numeric_events', 'before_surgery')].columns.get_level_values('feature').nunique()\n",
    "b = df[('numeric_events', 'after_surgery')].columns.get_level_values('feature').nunique()\n",
    "c = df[('drugs')].columns.get_level_values('feature').nunique()\n",
    "\n",
    "print(\" numeric events, before surgery:\", a)\n",
    "print(\" numeric events, after surgery:\", b)\n",
    "print(\" numeric events, drugs:\", c)\n",
    "\n",
    "a*4+b*4+c"
   ]
  },
  {
   "cell_type": "code",
   "execution_count": 170,
   "metadata": {},
   "outputs": [],
   "source": [
    "if WRITE_FLAG:\n",
    "    df.to_excel(OUTPUT_PATH0)"
   ]
  },
  {
   "cell_type": "markdown",
   "metadata": {},
   "source": [
    "## Fill missing data"
   ]
  },
  {
   "cell_type": "code",
   "execution_count": 171,
   "metadata": {},
   "outputs": [],
   "source": [
    "#fill numeric events with median \n",
    "df['numeric_events'] = df['numeric_events'].fillna(df['numeric_events'].median())"
   ]
  },
  {
   "cell_type": "code",
   "execution_count": 172,
   "metadata": {},
   "outputs": [],
   "source": [
    "#fill missing values in dtugs with 0 \n",
    "df['drugs'] = df['drugs'].fillna(0)"
   ]
  },
  {
   "cell_type": "code",
   "execution_count": 173,
   "metadata": {},
   "outputs": [],
   "source": [
    "#fill numeric events with median \n",
    "df.iloc[:,1] = df.iloc[:,1].fillna(df.iloc[:,1].median())"
   ]
  },
  {
   "cell_type": "code",
   "execution_count": 174,
   "metadata": {},
   "outputs": [
    {
     "data": {
      "text/html": [
       "<div>\n",
       "<style scoped>\n",
       "    .dataframe tbody tr th:only-of-type {\n",
       "        vertical-align: middle;\n",
       "    }\n",
       "\n",
       "    .dataframe tbody tr th {\n",
       "        vertical-align: top;\n",
       "    }\n",
       "\n",
       "    .dataframe thead tr th {\n",
       "        text-align: left;\n",
       "    }\n",
       "\n",
       "    .dataframe thead tr:last-of-type th {\n",
       "        text-align: right;\n",
       "    }\n",
       "</style>\n",
       "<table border=\"1\" class=\"dataframe\">\n",
       "  <thead>\n",
       "    <tr>\n",
       "      <th>type</th>\n",
       "      <th colspan=\"5\" halign=\"left\">metadata</th>\n",
       "      <th colspan=\"19\" halign=\"left\">numeric_events</th>\n",
       "      <th colspan=\"7\" halign=\"left\">drugs</th>\n",
       "    </tr>\n",
       "    <tr>\n",
       "      <th>time</th>\n",
       "      <th colspan=\"5\" halign=\"left\">general</th>\n",
       "      <th colspan=\"10\" halign=\"left\">before_surgery</th>\n",
       "      <th>...</th>\n",
       "      <th colspan=\"8\" halign=\"left\">after_surgery</th>\n",
       "      <th colspan=\"7\" halign=\"left\">all_days</th>\n",
       "    </tr>\n",
       "    <tr>\n",
       "      <th>feature</th>\n",
       "      <th>Sex</th>\n",
       "      <th>Age</th>\n",
       "      <th>Urgency</th>\n",
       "      <th>Surgical approach</th>\n",
       "      <th>Anastomotic Leak</th>\n",
       "      <th colspan=\"4\" halign=\"left\">Albumin</th>\n",
       "      <th colspan=\"4\" halign=\"left\">Alkaline Phosphatase</th>\n",
       "      <th colspan=\"2\" halign=\"left\">Amylase</th>\n",
       "      <th>...</th>\n",
       "      <th colspan=\"4\" halign=\"left\">saturation</th>\n",
       "      <th colspan=\"4\" halign=\"left\">weight</th>\n",
       "      <th>Cefazolin</th>\n",
       "      <th>Ceftriaxone</th>\n",
       "      <th>Fleet enema</th>\n",
       "      <th>Furosemide</th>\n",
       "      <th>Magnesium sulfate</th>\n",
       "      <th>Meroken new</th>\n",
       "      <th>Metronidazole</th>\n",
       "    </tr>\n",
       "    <tr>\n",
       "      <th>statistic</th>\n",
       "      <th>constant</th>\n",
       "      <th>constant</th>\n",
       "      <th>constant</th>\n",
       "      <th>constant</th>\n",
       "      <th>constant</th>\n",
       "      <th>max</th>\n",
       "      <th>mean</th>\n",
       "      <th>median</th>\n",
       "      <th>min</th>\n",
       "      <th>max</th>\n",
       "      <th>mean</th>\n",
       "      <th>median</th>\n",
       "      <th>min</th>\n",
       "      <th>max</th>\n",
       "      <th>mean</th>\n",
       "      <th>...</th>\n",
       "      <th>max</th>\n",
       "      <th>mean</th>\n",
       "      <th>median</th>\n",
       "      <th>min</th>\n",
       "      <th>max</th>\n",
       "      <th>mean</th>\n",
       "      <th>median</th>\n",
       "      <th>min</th>\n",
       "      <th>count</th>\n",
       "      <th>count</th>\n",
       "      <th>count</th>\n",
       "      <th>count</th>\n",
       "      <th>count</th>\n",
       "      <th>count</th>\n",
       "      <th>count</th>\n",
       "    </tr>\n",
       "    <tr>\n",
       "      <th>pid</th>\n",
       "      <th></th>\n",
       "      <th></th>\n",
       "      <th></th>\n",
       "      <th></th>\n",
       "      <th></th>\n",
       "      <th></th>\n",
       "      <th></th>\n",
       "      <th></th>\n",
       "      <th></th>\n",
       "      <th></th>\n",
       "      <th></th>\n",
       "      <th></th>\n",
       "      <th></th>\n",
       "      <th></th>\n",
       "      <th></th>\n",
       "      <th></th>\n",
       "      <th></th>\n",
       "      <th></th>\n",
       "      <th></th>\n",
       "      <th></th>\n",
       "      <th></th>\n",
       "      <th></th>\n",
       "      <th></th>\n",
       "      <th></th>\n",
       "      <th></th>\n",
       "      <th></th>\n",
       "      <th></th>\n",
       "      <th></th>\n",
       "      <th></th>\n",
       "      <th></th>\n",
       "      <th></th>\n",
       "    </tr>\n",
       "  </thead>\n",
       "  <tbody>\n",
       "    <tr>\n",
       "      <td>1123813</td>\n",
       "      <td>male</td>\n",
       "      <td>59.0</td>\n",
       "      <td>elective</td>\n",
       "      <td>Open</td>\n",
       "      <td>1</td>\n",
       "      <td>4.2</td>\n",
       "      <td>4.2000</td>\n",
       "      <td>4.20</td>\n",
       "      <td>4.2</td>\n",
       "      <td>97.0</td>\n",
       "      <td>97.0</td>\n",
       "      <td>97.0</td>\n",
       "      <td>97.0</td>\n",
       "      <td>63.0</td>\n",
       "      <td>63.0000</td>\n",
       "      <td>...</td>\n",
       "      <td>100.0</td>\n",
       "      <td>97.1693</td>\n",
       "      <td>98.0</td>\n",
       "      <td>85.0</td>\n",
       "      <td>108.0</td>\n",
       "      <td>96.9667</td>\n",
       "      <td>105.0</td>\n",
       "      <td>85.3</td>\n",
       "      <td>6.0</td>\n",
       "      <td>13.0</td>\n",
       "      <td>1.0</td>\n",
       "      <td>16.0</td>\n",
       "      <td>4.0</td>\n",
       "      <td>1.0</td>\n",
       "      <td>52.0</td>\n",
       "    </tr>\n",
       "    <tr>\n",
       "      <td>1135541</td>\n",
       "      <td>female</td>\n",
       "      <td>43.0</td>\n",
       "      <td>elective</td>\n",
       "      <td>Open</td>\n",
       "      <td>0</td>\n",
       "      <td>4.1</td>\n",
       "      <td>4.0000</td>\n",
       "      <td>4.00</td>\n",
       "      <td>3.9</td>\n",
       "      <td>94.0</td>\n",
       "      <td>91.0</td>\n",
       "      <td>91.0</td>\n",
       "      <td>84.0</td>\n",
       "      <td>68.0</td>\n",
       "      <td>60.5000</td>\n",
       "      <td>...</td>\n",
       "      <td>100.0</td>\n",
       "      <td>97.9277</td>\n",
       "      <td>98.0</td>\n",
       "      <td>94.0</td>\n",
       "      <td>68.0</td>\n",
       "      <td>68.0000</td>\n",
       "      <td>68.0</td>\n",
       "      <td>68.0</td>\n",
       "      <td>0.0</td>\n",
       "      <td>10.0</td>\n",
       "      <td>0.0</td>\n",
       "      <td>2.0</td>\n",
       "      <td>0.0</td>\n",
       "      <td>0.0</td>\n",
       "      <td>26.0</td>\n",
       "    </tr>\n",
       "    <tr>\n",
       "      <td>3918745</td>\n",
       "      <td>female</td>\n",
       "      <td>57.0</td>\n",
       "      <td>elective</td>\n",
       "      <td>Laparoscopic</td>\n",
       "      <td>0</td>\n",
       "      <td>3.9</td>\n",
       "      <td>3.9000</td>\n",
       "      <td>3.90</td>\n",
       "      <td>3.9</td>\n",
       "      <td>90.0</td>\n",
       "      <td>90.0</td>\n",
       "      <td>90.0</td>\n",
       "      <td>90.0</td>\n",
       "      <td>53.0</td>\n",
       "      <td>53.0000</td>\n",
       "      <td>...</td>\n",
       "      <td>100.0</td>\n",
       "      <td>96.7879</td>\n",
       "      <td>97.0</td>\n",
       "      <td>91.0</td>\n",
       "      <td>80.0</td>\n",
       "      <td>78.0000</td>\n",
       "      <td>78.0</td>\n",
       "      <td>76.0</td>\n",
       "      <td>0.0</td>\n",
       "      <td>0.0</td>\n",
       "      <td>0.0</td>\n",
       "      <td>0.0</td>\n",
       "      <td>0.0</td>\n",
       "      <td>0.0</td>\n",
       "      <td>0.0</td>\n",
       "    </tr>\n",
       "    <tr>\n",
       "      <td>4894647</td>\n",
       "      <td>NaN</td>\n",
       "      <td>55.0</td>\n",
       "      <td>elective</td>\n",
       "      <td>Open</td>\n",
       "      <td>0</td>\n",
       "      <td>4.3</td>\n",
       "      <td>4.3000</td>\n",
       "      <td>4.30</td>\n",
       "      <td>4.3</td>\n",
       "      <td>70.0</td>\n",
       "      <td>70.0</td>\n",
       "      <td>70.0</td>\n",
       "      <td>70.0</td>\n",
       "      <td>68.0</td>\n",
       "      <td>60.5000</td>\n",
       "      <td>...</td>\n",
       "      <td>100.0</td>\n",
       "      <td>96.7396</td>\n",
       "      <td>98.0</td>\n",
       "      <td>0.0</td>\n",
       "      <td>85.0</td>\n",
       "      <td>71.1250</td>\n",
       "      <td>74.6</td>\n",
       "      <td>0.0</td>\n",
       "      <td>5.0</td>\n",
       "      <td>12.0</td>\n",
       "      <td>1.0</td>\n",
       "      <td>38.0</td>\n",
       "      <td>1.0</td>\n",
       "      <td>1.0</td>\n",
       "      <td>73.0</td>\n",
       "    </tr>\n",
       "    <tr>\n",
       "      <td>6541482</td>\n",
       "      <td>female</td>\n",
       "      <td>65.0</td>\n",
       "      <td>urgent</td>\n",
       "      <td>Open</td>\n",
       "      <td>0</td>\n",
       "      <td>3.1</td>\n",
       "      <td>1.9429</td>\n",
       "      <td>1.95</td>\n",
       "      <td>1.4</td>\n",
       "      <td>123.0</td>\n",
       "      <td>94.0</td>\n",
       "      <td>112.5</td>\n",
       "      <td>33.0</td>\n",
       "      <td>68.0</td>\n",
       "      <td>32.6923</td>\n",
       "      <td>...</td>\n",
       "      <td>100.0</td>\n",
       "      <td>97.2320</td>\n",
       "      <td>98.0</td>\n",
       "      <td>80.0</td>\n",
       "      <td>58.0</td>\n",
       "      <td>54.6667</td>\n",
       "      <td>53.0</td>\n",
       "      <td>53.0</td>\n",
       "      <td>4.0</td>\n",
       "      <td>15.0</td>\n",
       "      <td>0.0</td>\n",
       "      <td>151.0</td>\n",
       "      <td>7.0</td>\n",
       "      <td>0.0</td>\n",
       "      <td>51.0</td>\n",
       "    </tr>\n",
       "  </tbody>\n",
       "</table>\n",
       "<p>5 rows × 480 columns</p>\n",
       "</div>"
      ],
      "text/plain": [
       "type      metadata                                                        \\\n",
       "time       general                                                         \n",
       "feature        Sex      Age   Urgency Surgical approach Anastomotic Leak   \n",
       "statistic constant constant  constant          constant         constant   \n",
       "pid                                                                        \n",
       "1123813       male     59.0  elective              Open                1   \n",
       "1135541     female     43.0  elective              Open                0   \n",
       "3918745     female     57.0  elective      Laparoscopic                0   \n",
       "4894647        NaN     55.0  elective              Open                0   \n",
       "6541482     female     65.0    urgent              Open                0   \n",
       "\n",
       "type      numeric_events                                                 \\\n",
       "time      before_surgery                                                  \n",
       "feature          Albumin                     Alkaline Phosphatase         \n",
       "statistic            max    mean median  min                  max  mean   \n",
       "pid                                                                       \n",
       "1123813              4.2  4.2000   4.20  4.2                 97.0  97.0   \n",
       "1135541              4.1  4.0000   4.00  3.9                 94.0  91.0   \n",
       "3918745              3.9  3.9000   3.90  3.9                 90.0  90.0   \n",
       "4894647              4.3  4.3000   4.30  4.3                 70.0  70.0   \n",
       "6541482              3.1  1.9429   1.95  1.4                123.0  94.0   \n",
       "\n",
       "type                                     ...                                \\\n",
       "time                                     ... after_surgery                   \n",
       "feature                Amylase           ...    saturation                   \n",
       "statistic median   min     max     mean  ...           max     mean median   \n",
       "pid                                      ...                                 \n",
       "1123813     97.0  97.0    63.0  63.0000  ...         100.0  97.1693   98.0   \n",
       "1135541     91.0  84.0    68.0  60.5000  ...         100.0  97.9277   98.0   \n",
       "3918745     90.0  90.0    53.0  53.0000  ...         100.0  96.7879   97.0   \n",
       "4894647     70.0  70.0    68.0  60.5000  ...         100.0  96.7396   98.0   \n",
       "6541482    112.5  33.0    68.0  32.6923  ...         100.0  97.2320   98.0   \n",
       "\n",
       "type                                              drugs              \\\n",
       "time                                           all_days               \n",
       "feature         weight                        Cefazolin Ceftriaxone   \n",
       "statistic   min     max     mean median   min     count       count   \n",
       "pid                                                                   \n",
       "1123813    85.0   108.0  96.9667  105.0  85.3       6.0        13.0   \n",
       "1135541    94.0    68.0  68.0000   68.0  68.0       0.0        10.0   \n",
       "3918745    91.0    80.0  78.0000   78.0  76.0       0.0         0.0   \n",
       "4894647     0.0    85.0  71.1250   74.6   0.0       5.0        12.0   \n",
       "6541482    80.0    58.0  54.6667   53.0  53.0       4.0        15.0   \n",
       "\n",
       "type                                                                          \n",
       "time                                                                          \n",
       "feature   Fleet enema Furosemide Magnesium sulfate Meroken new Metronidazole  \n",
       "statistic       count      count             count       count         count  \n",
       "pid                                                                           \n",
       "1123813           1.0       16.0               4.0         1.0          52.0  \n",
       "1135541           0.0        2.0               0.0         0.0          26.0  \n",
       "3918745           0.0        0.0               0.0         0.0           0.0  \n",
       "4894647           1.0       38.0               1.0         1.0          73.0  \n",
       "6541482           0.0      151.0               7.0         0.0          51.0  \n",
       "\n",
       "[5 rows x 480 columns]"
      ]
     },
     "execution_count": 174,
     "metadata": {},
     "output_type": "execute_result"
    }
   ],
   "source": [
    "df.head()"
   ]
  },
  {
   "cell_type": "code",
   "execution_count": 175,
   "metadata": {},
   "outputs": [
    {
     "data": {
      "text/plain": [
       "'#read events\\npath = DATA_PATH + \"parseData2.csv\"\\ndf = pd.read_csv(path, sep=\\',\\') \\n#parse date of surgery\\ndf[\\'eventStartDate\\'] = pd.to_datetime(df[\\'eventStartDate\\'], format=\\'%Y-%m-%d\\')\\ndf[\\'eventEndDate\\'] = pd.to_datetime(df[\\'eventEndDate\\'], format=\\'%Y-%m-%d\\')\\n\\n#read annonymous file\\npath = \"{}parseAnonymous0.csv\".format(DATA_PATH)\\nanonymous = pd.read_csv(path, sep=\\',\\')\\n#parse date of surgery\\nanonymous[\\'Date of surgery\\'] = pd.to_datetime(anonymous[\\'Date of surgery\\'], format=\\'%Y-%m-%d\\')'"
      ]
     },
     "execution_count": 175,
     "metadata": {},
     "output_type": "execute_result"
    }
   ],
   "source": [
    "'''#read events\n",
    "path = DATA_PATH + \"parseData2.csv\"\n",
    "df = pd.read_csv(path, sep=',') \n",
    "#parse date of surgery\n",
    "df['eventStartDate'] = pd.to_datetime(df['eventStartDate'], format='%Y-%m-%d')\n",
    "df['eventEndDate'] = pd.to_datetime(df['eventEndDate'], format='%Y-%m-%d')\n",
    "\n",
    "#read annonymous file\n",
    "path = \"{}parseAnonymous0.csv\".format(DATA_PATH)\n",
    "anonymous = pd.read_csv(path, sep=',')\n",
    "#parse date of surgery\n",
    "anonymous['Date of surgery'] = pd.to_datetime(anonymous['Date of surgery'], format='%Y-%m-%d')'''"
   ]
  },
  {
   "cell_type": "markdown",
   "metadata": {},
   "source": []
  },
  {
   "cell_type": "markdown",
   "metadata": {},
   "source": [
    "## Get x and y"
   ]
  },
  {
   "cell_type": "code",
   "execution_count": 176,
   "metadata": {},
   "outputs": [
    {
     "data": {
      "text/html": [
       "<div>\n",
       "<style scoped>\n",
       "    .dataframe tbody tr th:only-of-type {\n",
       "        vertical-align: middle;\n",
       "    }\n",
       "\n",
       "    .dataframe tbody tr th {\n",
       "        vertical-align: top;\n",
       "    }\n",
       "\n",
       "    .dataframe thead tr th {\n",
       "        text-align: left;\n",
       "    }\n",
       "\n",
       "    .dataframe thead tr:last-of-type th {\n",
       "        text-align: right;\n",
       "    }\n",
       "</style>\n",
       "<table border=\"1\" class=\"dataframe\">\n",
       "  <thead>\n",
       "    <tr>\n",
       "      <th>type</th>\n",
       "      <th>metadata</th>\n",
       "      <th colspan=\"23\" halign=\"left\">numeric_events</th>\n",
       "      <th colspan=\"7\" halign=\"left\">drugs</th>\n",
       "    </tr>\n",
       "    <tr>\n",
       "      <th>time</th>\n",
       "      <th>general</th>\n",
       "      <th colspan=\"14\" halign=\"left\">before_surgery</th>\n",
       "      <th>...</th>\n",
       "      <th colspan=\"8\" halign=\"left\">after_surgery</th>\n",
       "      <th colspan=\"7\" halign=\"left\">all_days</th>\n",
       "    </tr>\n",
       "    <tr>\n",
       "      <th>feature</th>\n",
       "      <th>Age</th>\n",
       "      <th colspan=\"4\" halign=\"left\">Albumin</th>\n",
       "      <th colspan=\"4\" halign=\"left\">Alkaline Phosphatase</th>\n",
       "      <th colspan=\"4\" halign=\"left\">Amylase</th>\n",
       "      <th colspan=\"2\" halign=\"left\">BASO (%)</th>\n",
       "      <th>...</th>\n",
       "      <th colspan=\"4\" halign=\"left\">saturation</th>\n",
       "      <th colspan=\"4\" halign=\"left\">weight</th>\n",
       "      <th>Cefazolin</th>\n",
       "      <th>Ceftriaxone</th>\n",
       "      <th>Fleet enema</th>\n",
       "      <th>Furosemide</th>\n",
       "      <th>Magnesium sulfate</th>\n",
       "      <th>Meroken new</th>\n",
       "      <th>Metronidazole</th>\n",
       "    </tr>\n",
       "    <tr>\n",
       "      <th>statistic</th>\n",
       "      <th>constant</th>\n",
       "      <th>max</th>\n",
       "      <th>mean</th>\n",
       "      <th>median</th>\n",
       "      <th>min</th>\n",
       "      <th>max</th>\n",
       "      <th>mean</th>\n",
       "      <th>median</th>\n",
       "      <th>min</th>\n",
       "      <th>max</th>\n",
       "      <th>mean</th>\n",
       "      <th>median</th>\n",
       "      <th>min</th>\n",
       "      <th>max</th>\n",
       "      <th>mean</th>\n",
       "      <th>...</th>\n",
       "      <th>max</th>\n",
       "      <th>mean</th>\n",
       "      <th>median</th>\n",
       "      <th>min</th>\n",
       "      <th>max</th>\n",
       "      <th>mean</th>\n",
       "      <th>median</th>\n",
       "      <th>min</th>\n",
       "      <th>count</th>\n",
       "      <th>count</th>\n",
       "      <th>count</th>\n",
       "      <th>count</th>\n",
       "      <th>count</th>\n",
       "      <th>count</th>\n",
       "      <th>count</th>\n",
       "    </tr>\n",
       "    <tr>\n",
       "      <th>pid</th>\n",
       "      <th></th>\n",
       "      <th></th>\n",
       "      <th></th>\n",
       "      <th></th>\n",
       "      <th></th>\n",
       "      <th></th>\n",
       "      <th></th>\n",
       "      <th></th>\n",
       "      <th></th>\n",
       "      <th></th>\n",
       "      <th></th>\n",
       "      <th></th>\n",
       "      <th></th>\n",
       "      <th></th>\n",
       "      <th></th>\n",
       "      <th></th>\n",
       "      <th></th>\n",
       "      <th></th>\n",
       "      <th></th>\n",
       "      <th></th>\n",
       "      <th></th>\n",
       "      <th></th>\n",
       "      <th></th>\n",
       "      <th></th>\n",
       "      <th></th>\n",
       "      <th></th>\n",
       "      <th></th>\n",
       "      <th></th>\n",
       "      <th></th>\n",
       "      <th></th>\n",
       "      <th></th>\n",
       "    </tr>\n",
       "  </thead>\n",
       "  <tbody>\n",
       "    <tr>\n",
       "      <td>1123813</td>\n",
       "      <td>59.0</td>\n",
       "      <td>4.2</td>\n",
       "      <td>4.2000</td>\n",
       "      <td>4.20</td>\n",
       "      <td>4.2</td>\n",
       "      <td>97.0</td>\n",
       "      <td>97.0</td>\n",
       "      <td>97.0</td>\n",
       "      <td>97.0</td>\n",
       "      <td>63.0</td>\n",
       "      <td>63.0000</td>\n",
       "      <td>63.0</td>\n",
       "      <td>63.0</td>\n",
       "      <td>0.5</td>\n",
       "      <td>0.5000</td>\n",
       "      <td>...</td>\n",
       "      <td>100.0</td>\n",
       "      <td>97.1693</td>\n",
       "      <td>98.0</td>\n",
       "      <td>85.0</td>\n",
       "      <td>108.0</td>\n",
       "      <td>96.9667</td>\n",
       "      <td>105.0</td>\n",
       "      <td>85.3</td>\n",
       "      <td>6.0</td>\n",
       "      <td>13.0</td>\n",
       "      <td>1.0</td>\n",
       "      <td>16.0</td>\n",
       "      <td>4.0</td>\n",
       "      <td>1.0</td>\n",
       "      <td>52.0</td>\n",
       "    </tr>\n",
       "    <tr>\n",
       "      <td>1135541</td>\n",
       "      <td>43.0</td>\n",
       "      <td>4.1</td>\n",
       "      <td>4.0000</td>\n",
       "      <td>4.00</td>\n",
       "      <td>3.9</td>\n",
       "      <td>94.0</td>\n",
       "      <td>91.0</td>\n",
       "      <td>91.0</td>\n",
       "      <td>84.0</td>\n",
       "      <td>68.0</td>\n",
       "      <td>60.5000</td>\n",
       "      <td>60.0</td>\n",
       "      <td>56.0</td>\n",
       "      <td>0.5</td>\n",
       "      <td>0.4000</td>\n",
       "      <td>...</td>\n",
       "      <td>100.0</td>\n",
       "      <td>97.9277</td>\n",
       "      <td>98.0</td>\n",
       "      <td>94.0</td>\n",
       "      <td>68.0</td>\n",
       "      <td>68.0000</td>\n",
       "      <td>68.0</td>\n",
       "      <td>68.0</td>\n",
       "      <td>0.0</td>\n",
       "      <td>10.0</td>\n",
       "      <td>0.0</td>\n",
       "      <td>2.0</td>\n",
       "      <td>0.0</td>\n",
       "      <td>0.0</td>\n",
       "      <td>26.0</td>\n",
       "    </tr>\n",
       "    <tr>\n",
       "      <td>3918745</td>\n",
       "      <td>57.0</td>\n",
       "      <td>3.9</td>\n",
       "      <td>3.9000</td>\n",
       "      <td>3.90</td>\n",
       "      <td>3.9</td>\n",
       "      <td>90.0</td>\n",
       "      <td>90.0</td>\n",
       "      <td>90.0</td>\n",
       "      <td>90.0</td>\n",
       "      <td>53.0</td>\n",
       "      <td>53.0000</td>\n",
       "      <td>53.0</td>\n",
       "      <td>53.0</td>\n",
       "      <td>0.4</td>\n",
       "      <td>0.4000</td>\n",
       "      <td>...</td>\n",
       "      <td>100.0</td>\n",
       "      <td>96.7879</td>\n",
       "      <td>97.0</td>\n",
       "      <td>91.0</td>\n",
       "      <td>80.0</td>\n",
       "      <td>78.0000</td>\n",
       "      <td>78.0</td>\n",
       "      <td>76.0</td>\n",
       "      <td>0.0</td>\n",
       "      <td>0.0</td>\n",
       "      <td>0.0</td>\n",
       "      <td>0.0</td>\n",
       "      <td>0.0</td>\n",
       "      <td>0.0</td>\n",
       "      <td>0.0</td>\n",
       "    </tr>\n",
       "    <tr>\n",
       "      <td>4894647</td>\n",
       "      <td>55.0</td>\n",
       "      <td>4.3</td>\n",
       "      <td>4.3000</td>\n",
       "      <td>4.30</td>\n",
       "      <td>4.3</td>\n",
       "      <td>70.0</td>\n",
       "      <td>70.0</td>\n",
       "      <td>70.0</td>\n",
       "      <td>70.0</td>\n",
       "      <td>68.0</td>\n",
       "      <td>60.5000</td>\n",
       "      <td>60.0</td>\n",
       "      <td>56.0</td>\n",
       "      <td>0.3</td>\n",
       "      <td>0.3000</td>\n",
       "      <td>...</td>\n",
       "      <td>100.0</td>\n",
       "      <td>96.7396</td>\n",
       "      <td>98.0</td>\n",
       "      <td>0.0</td>\n",
       "      <td>85.0</td>\n",
       "      <td>71.1250</td>\n",
       "      <td>74.6</td>\n",
       "      <td>0.0</td>\n",
       "      <td>5.0</td>\n",
       "      <td>12.0</td>\n",
       "      <td>1.0</td>\n",
       "      <td>38.0</td>\n",
       "      <td>1.0</td>\n",
       "      <td>1.0</td>\n",
       "      <td>73.0</td>\n",
       "    </tr>\n",
       "    <tr>\n",
       "      <td>6541482</td>\n",
       "      <td>65.0</td>\n",
       "      <td>3.1</td>\n",
       "      <td>1.9429</td>\n",
       "      <td>1.95</td>\n",
       "      <td>1.4</td>\n",
       "      <td>123.0</td>\n",
       "      <td>94.0</td>\n",
       "      <td>112.5</td>\n",
       "      <td>33.0</td>\n",
       "      <td>68.0</td>\n",
       "      <td>32.6923</td>\n",
       "      <td>29.0</td>\n",
       "      <td>9.0</td>\n",
       "      <td>0.3</td>\n",
       "      <td>0.1214</td>\n",
       "      <td>...</td>\n",
       "      <td>100.0</td>\n",
       "      <td>97.2320</td>\n",
       "      <td>98.0</td>\n",
       "      <td>80.0</td>\n",
       "      <td>58.0</td>\n",
       "      <td>54.6667</td>\n",
       "      <td>53.0</td>\n",
       "      <td>53.0</td>\n",
       "      <td>4.0</td>\n",
       "      <td>15.0</td>\n",
       "      <td>0.0</td>\n",
       "      <td>151.0</td>\n",
       "      <td>7.0</td>\n",
       "      <td>0.0</td>\n",
       "      <td>51.0</td>\n",
       "    </tr>\n",
       "  </tbody>\n",
       "</table>\n",
       "<p>5 rows × 476 columns</p>\n",
       "</div>"
      ],
      "text/plain": [
       "type      metadata numeric_events                                           \\\n",
       "time       general before_surgery                                            \n",
       "feature        Age        Albumin                     Alkaline Phosphatase   \n",
       "statistic constant            max    mean median  min                  max   \n",
       "pid                                                                          \n",
       "1123813       59.0            4.2  4.2000   4.20  4.2                 97.0   \n",
       "1135541       43.0            4.1  4.0000   4.00  3.9                 94.0   \n",
       "3918745       57.0            3.9  3.9000   3.90  3.9                 90.0   \n",
       "4894647       55.0            4.3  4.3000   4.30  4.3                 70.0   \n",
       "6541482       65.0            3.1  1.9429   1.95  1.4                123.0   \n",
       "\n",
       "type                                                                         \\\n",
       "time                                                                          \n",
       "feature                      Amylase                       BASO (%)           \n",
       "statistic  mean median   min     max     mean median   min      max    mean   \n",
       "pid                                                                           \n",
       "1123813    97.0   97.0  97.0    63.0  63.0000   63.0  63.0      0.5  0.5000   \n",
       "1135541    91.0   91.0  84.0    68.0  60.5000   60.0  56.0      0.5  0.4000   \n",
       "3918745    90.0   90.0  90.0    53.0  53.0000   53.0  53.0      0.4  0.4000   \n",
       "4894647    70.0   70.0  70.0    68.0  60.5000   60.0  56.0      0.3  0.3000   \n",
       "6541482    94.0  112.5  33.0    68.0  32.6923   29.0   9.0      0.3  0.1214   \n",
       "\n",
       "type       ...                                                              \\\n",
       "time       ... after_surgery                                                 \n",
       "feature    ...    saturation                       weight                    \n",
       "statistic  ...           max     mean median   min     max     mean median   \n",
       "pid        ...                                                               \n",
       "1123813    ...         100.0  97.1693   98.0  85.0   108.0  96.9667  105.0   \n",
       "1135541    ...         100.0  97.9277   98.0  94.0    68.0  68.0000   68.0   \n",
       "3918745    ...         100.0  96.7879   97.0  91.0    80.0  78.0000   78.0   \n",
       "4894647    ...         100.0  96.7396   98.0   0.0    85.0  71.1250   74.6   \n",
       "6541482    ...         100.0  97.2320   98.0  80.0    58.0  54.6667   53.0   \n",
       "\n",
       "type                drugs                                     \\\n",
       "time             all_days                                      \n",
       "feature         Cefazolin Ceftriaxone Fleet enema Furosemide   \n",
       "statistic   min     count       count       count      count   \n",
       "pid                                                            \n",
       "1123813    85.3       6.0        13.0         1.0       16.0   \n",
       "1135541    68.0       0.0        10.0         0.0        2.0   \n",
       "3918745    76.0       0.0         0.0         0.0        0.0   \n",
       "4894647     0.0       5.0        12.0         1.0       38.0   \n",
       "6541482    53.0       4.0        15.0         0.0      151.0   \n",
       "\n",
       "type                                                   \n",
       "time                                                   \n",
       "feature   Magnesium sulfate Meroken new Metronidazole  \n",
       "statistic             count       count         count  \n",
       "pid                                                    \n",
       "1123813                 4.0         1.0          52.0  \n",
       "1135541                 0.0         0.0          26.0  \n",
       "3918745                 0.0         0.0           0.0  \n",
       "4894647                 1.0         1.0          73.0  \n",
       "6541482                 7.0         0.0          51.0  \n",
       "\n",
       "[5 rows x 476 columns]"
      ]
     },
     "execution_count": 176,
     "metadata": {},
     "output_type": "execute_result"
    }
   ],
   "source": [
    "to_drop = [df.columns[0], df.columns[2], df.columns[3], df.columns[4]]\n",
    "x = df.drop(columns=to_drop)\n",
    "x.head()"
   ]
  },
  {
   "cell_type": "code",
   "execution_count": 177,
   "metadata": {},
   "outputs": [],
   "source": [
    "y = df.iloc[:, 4]\n",
    "y.name = \"labels\""
   ]
  },
  {
   "cell_type": "markdown",
   "metadata": {},
   "source": [
    "## Exploration"
   ]
  },
  {
   "cell_type": "code",
   "execution_count": 178,
   "metadata": {},
   "outputs": [
    {
     "data": {
      "text/html": [
       "<div>\n",
       "<style scoped>\n",
       "    .dataframe tbody tr th:only-of-type {\n",
       "        vertical-align: middle;\n",
       "    }\n",
       "\n",
       "    .dataframe tbody tr th {\n",
       "        vertical-align: top;\n",
       "    }\n",
       "\n",
       "    .dataframe thead th {\n",
       "        text-align: right;\n",
       "    }\n",
       "</style>\n",
       "<table border=\"1\" class=\"dataframe\">\n",
       "  <thead>\n",
       "    <tr style=\"text-align: right;\">\n",
       "      <th></th>\n",
       "      <th>counts</th>\n",
       "    </tr>\n",
       "  </thead>\n",
       "  <tbody>\n",
       "    <tr>\n",
       "      <td>AL</td>\n",
       "      <td>482</td>\n",
       "    </tr>\n",
       "    <tr>\n",
       "      <td>non-AL</td>\n",
       "      <td>43</td>\n",
       "    </tr>\n",
       "  </tbody>\n",
       "</table>\n",
       "</div>"
      ],
      "text/plain": [
       "        counts\n",
       "AL         482\n",
       "non-AL      43"
      ]
     },
     "metadata": {},
     "output_type": "display_data"
    },
    {
     "name": "stdout",
     "output_type": "stream",
     "text": [
      "percentage of num Anastomotic leak: 8.19%\n"
     ]
    },
    {
     "data": {
      "image/png": "[encoded data removed]",
      "text/plain": [
       "<Figure size 432x288 with 1 Axes>"
      ]
     },
     "metadata": {},
     "output_type": "display_data"
    }
   ],
   "source": [
    "counts = y.value_counts().to_frame()\n",
    "counts.index = [\"AL\", \"non-AL\"]\n",
    "counts.columns = [\"counts\"]\n",
    "display(counts)\n",
    "\n",
    "percent = y.sum()/len(y) \n",
    "print(\"percentage of num Anastomotic leak: {:.2f}%\".format(percent*100))\n",
    "\n",
    "# Pie chart, where the slices will be ordered and plotted counter-clockwise:\n",
    "labels = 'Non-AL', 'Anastomotic Leak (AL)'\n",
    "sizes = [len(y) - y.sum(), y.sum()]\n",
    "\n",
    "fig1, ax1 = plt.subplots()\n",
    "ax1.pie(sizes, labels=labels, autopct='%1.1f%%',\n",
    "        shadow=True, startangle=90)\n",
    "ax1.axis('equal')  # Equal aspect ratio ensures that pie is drawn as a circle.\n",
    "\n",
    "plt.show()"
   ]
  },
  {
   "cell_type": "markdown",
   "metadata": {},
   "source": [
    "## train - test"
   ]
  },
  {
   "cell_type": "code",
   "execution_count": 179,
   "metadata": {},
   "outputs": [],
   "source": [
    "#The stratify parameter makes a split so that the proportion of values in the sample produced \n",
    "#will be the same as the proportion of values provided to parameter stratify.\n",
    "\n",
    "x_train, x_test, y_train, y_test = train_test_split(x, y,\n",
    "                                                    test_size=0.2,\n",
    "                                                    random_state=0,\n",
    "                                                    stratify=y)"
   ]
  },
  {
   "cell_type": "code",
   "execution_count": 188,
   "metadata": {},
   "outputs": [
    {
     "data": {
      "text/html": [
       "<div>\n",
       "<style scoped>\n",
       "    .dataframe tbody tr th:only-of-type {\n",
       "        vertical-align: middle;\n",
       "    }\n",
       "\n",
       "    .dataframe tbody tr th {\n",
       "        vertical-align: top;\n",
       "    }\n",
       "\n",
       "    .dataframe thead th {\n",
       "        text-align: right;\n",
       "    }\n",
       "</style>\n",
       "<table border=\"1\" class=\"dataframe\">\n",
       "  <thead>\n",
       "    <tr style=\"text-align: right;\">\n",
       "      <th></th>\n",
       "      <th>non-AL</th>\n",
       "      <th>AL</th>\n",
       "      <th>total</th>\n",
       "    </tr>\n",
       "  </thead>\n",
       "  <tbody>\n",
       "    <tr>\n",
       "      <td>train</td>\n",
       "      <td>0.9190</td>\n",
       "      <td>0.0810</td>\n",
       "      <td>1.0</td>\n",
       "    </tr>\n",
       "    <tr>\n",
       "      <td>test</td>\n",
       "      <td>0.9143</td>\n",
       "      <td>0.0857</td>\n",
       "      <td>1.0</td>\n",
       "    </tr>\n",
       "  </tbody>\n",
       "</table>\n",
       "</div>"
      ],
      "text/plain": [
       "       non-AL      AL  total\n",
       "train  0.9190  0.0810    1.0\n",
       "test   0.9143  0.0857    1.0"
      ]
     },
     "execution_count": 188,
     "metadata": {},
     "output_type": "execute_result"
    }
   ],
   "source": [
    "traintest = pd.concat([y_train.value_counts(normalize=True), y_test.value_counts(normalize=True)], axis=1).T #normalize=False\n",
    "traintest.index = ['train', 'test'] \n",
    "traintest.columns = [\"non-AL\", \"AL\"]\n",
    "traintest['total'] = traintest.sum(axis=1)\n",
    "traintest"
   ]
  },
  {
   "cell_type": "markdown",
   "metadata": {},
   "source": [
    "# Model 0 -  Logistic Regression "
   ]
  },
  {
   "cell_type": "code",
   "execution_count": 182,
   "metadata": {},
   "outputs": [
    {
     "data": {
      "text/plain": [
       "LogisticRegression(C=1.0, class_weight=None, dual=False, fit_intercept=True,\n",
       "                   intercept_scaling=1, l1_ratio=None, max_iter=100000,\n",
       "                   multi_class='auto', n_jobs=None, penalty='l2',\n",
       "                   random_state=None, solver='lbfgs', tol=0.0001, verbose=0,\n",
       "                   warm_start=False)"
      ]
     },
     "execution_count": 182,
     "metadata": {},
     "output_type": "execute_result"
    }
   ],
   "source": [
    "#define model\n",
    "model = LogisticRegression(solver='lbfgs', max_iter=100000) #liblinear\n",
    "model"
   ]
  },
  {
   "cell_type": "markdown",
   "metadata": {},
   "source": [
    "### performances"
   ]
  },
  {
   "cell_type": "code",
   "execution_count": 186,
   "metadata": {},
   "outputs": [],
   "source": [
    "def performances(model, x_train, x_test, y_train, y_test):\n",
    "    \n",
    "    y_pred = model.predict(x_test)\n",
    "    score = model.score(x_test, y_test) \n",
    "    #accuracy: tp + tn / all\n",
    "    print('Accuracy of logistic regression classifier on test set: {:.2f}'.format(score))\n",
    "    \n",
    "    '''\n",
    "    classification report\n",
    "    '''\n",
    "    #precision is the ratio tp / (tp + fp)\n",
    "    #recall is the ratio tp / (tp / fn)\n",
    "    print(classification_report(y_test, y_pred, labels=[0, 1], target_names=[\"no Leak\", \"Leak\"]))\n",
    "    \n",
    "    \n",
    "    '''\n",
    "    confusion matrix\n",
    "    '''\n",
    "    disp = plot_confusion_matrix(model, x_test, y_test, display_labels=[\"no Leak\", \"Leak\"], normalize='true') #normalize='false'\n",
    "    #normalization: first row is divided by number of no leak, second is divided by number of leak\n",
    "    disp.ax_.set_title(\"Normalized confusion matrix\")\n",
    "    \n",
    "    '''\n",
    "    roc curve\n",
    "    '''\n",
    "    probs = model.predict_proba(x_test)[:,1] #first index - probability that data belongs to class 0, second index - to class 1\n",
    "    fpr, tpr, thresholds = metrics.roc_curve(y_test, probs)\n",
    "    \n",
    "    #area under curve\n",
    "    logit_roc_auc = metrics.roc_auc_score(y_test, y_pred)\n",
    "\n",
    "    plt.figure()\n",
    "    plt.plot(fpr, tpr, label='Logistic Regression (area = {:.2f})'.format(logit_roc_auc))\n",
    "    plt.plot([0, 1], [0, 1],'r--')\n",
    "    plt.xlabel('False Positive Rate')\n",
    "    plt.ylabel('True Positive Rate')\n",
    "    plt.title('ROC curve')\n",
    "    plt.legend(loc=\"lower right\")\n",
    "    plt.show()\n",
    "    \n"
   ]
  },
  {
   "cell_type": "markdown",
   "metadata": {},
   "source": [
    "## round 0 "
   ]
  },
  {
   "cell_type": "code",
   "execution_count": 187,
   "metadata": {},
   "outputs": [
    {
     "name": "stdout",
     "output_type": "stream",
     "text": [
      "Accuracy of logistic regression classifier on test set: 0.88\n",
      "              precision    recall  f1-score   support\n",
      "\n",
      "     no Leak       0.96      0.91      0.93        96\n",
      "        Leak       0.36      0.56      0.43         9\n",
      "\n",
      "    accuracy                           0.88       105\n",
      "   macro avg       0.66      0.73      0.68       105\n",
      "weighted avg       0.90      0.88      0.89       105\n",
      "\n"
     ]
    },
    {
     "data": {
      "image/png": "[encoded data removed]",
      "text/plain": [
       "<Figure size 432x288 with 2 Axes>"
      ]
     },
     "metadata": {
      "needs_background": "light"
     },
     "output_type": "display_data"
    },
    {
     "data": {
      "image/png": "[encoded data removed]",
      "text/plain": [
       "<Figure size 432x288 with 1 Axes>"
      ]
     },
     "metadata": {
      "needs_background": "light"
     },
     "output_type": "display_data"
    }
   ],
   "source": [
    "#split into train and test \n",
    "x_train, x_test, y_train, y_test = train_test_split(x, y,\n",
    "                                                    test_size=0.2,\n",
    "                                                    random_state=0,\n",
    "                                                    stratify=y)\n",
    "#fit\n",
    "model.fit(x_train, y_train)\n",
    "\n",
    "performances(model, x_train, x_test, y_train, y_test)"
   ]
  },
  {
   "cell_type": "markdown",
   "metadata": {},
   "source": [
    "## round 1"
   ]
  },
  {
   "cell_type": "code",
   "execution_count": 27,
   "metadata": {},
   "outputs": [
    {
     "name": "stdout",
     "output_type": "stream",
     "text": [
      "Accuracy of logistic regression classifier on test set: 0.86\n",
      "              precision    recall  f1-score   support\n",
      "\n",
      "           0       0.95      0.90      0.92        96\n",
      "           1       0.29      0.44      0.35         9\n",
      "\n",
      "    accuracy                           0.86       105\n",
      "   macro avg       0.62      0.67      0.63       105\n",
      "weighted avg       0.89      0.86      0.87       105\n",
      "\n"
     ]
    },
    {
     "data": {
      "image/png": "[encoded data removed]",
      "text/plain": [
       "<Figure size 432x288 with 2 Axes>"
      ]
     },
     "metadata": {
      "needs_background": "light"
     },
     "output_type": "display_data"
    },
    {
     "data": {
      "image/png": "[encoded data removed]",
      "text/plain": [
       "<Figure size 432x288 with 1 Axes>"
      ]
     },
     "metadata": {
      "needs_background": "light"
     },
     "output_type": "display_data"
    }
   ],
   "source": [
    "'''\n",
    "Remove features taken after surgery\n",
    "'''\n",
    "\n",
    "x_include_before = x.copy()\n",
    "cols = x.columns[x.columns.get_level_values('time') == 'after_surgery']\n",
    "x = x.drop(cols, axis=1)\n",
    "\n",
    "x_train, x_test, y_train, y_test = train_test_split(x, y,\n",
    "                                                    test_size=0.2,\n",
    "                                                    random_state=0,\n",
    "                                                    stratify=y)\n",
    "#fit\n",
    "model.fit(x_train, y_train)\n",
    "\n",
    "performances(model, x_train, x_test, y_train, y_test)"
   ]
  },
  {
   "cell_type": "markdown",
   "metadata": {},
   "source": [
    "## round 2"
   ]
  },
  {
   "cell_type": "markdown",
   "metadata": {},
   "source": [
    "### sequential forward selection\n",
    "\n",
    "http://rasbt.github.io/mlxtend/user_guide/feature_selection/SequentialFeatureSelector/"
   ]
  },
  {
   "cell_type": "code",
   "execution_count": 28,
   "metadata": {},
   "outputs": [
    {
     "data": {
      "text/plain": [
       "220"
      ]
     },
     "execution_count": 28,
     "metadata": {},
     "output_type": "execute_result"
    }
   ],
   "source": [
    "n_features = x.columns.get_level_values('feature').shape[0]\n",
    "n_features"
   ]
  },
  {
   "cell_type": "code",
   "execution_count": 29,
   "metadata": {},
   "outputs": [
    {
     "name": "stdout",
     "output_type": "stream",
     "text": [
      "\n",
      "Sequential Forward Selection (k=(10, 100)):\n",
      "(1, 5, 9, 13, 14, 15, 16, 17, 18, 19, 20, 26, 27, 28, 32, 34, 35, 40, 41, 42, 43, 49, 50, 51, 52, 56, 57, 61, 73, 74, 75, 76, 81, 89, 99, 101, 102, 103, 106, 107, 112, 121, 122, 123, 124, 125, 126, 127, 128, 132, 134, 136, 140, 148, 198)\n",
      "CV Score:\n",
      "0.9333333333333333\n"
     ]
    }
   ],
   "source": [
    "k_feautres = 30\n",
    "k_feautres = (10, 100) \n",
    "\n",
    "FIRST_RUN = False\n",
    "\n",
    "if FIRST_RUN:\n",
    "    #Sequential Forward Selection\n",
    "    sfs = SFS(model, \n",
    "              k_features=k_feautres, \n",
    "              forward=True, \n",
    "              floating=False, \n",
    "              scoring='accuracy',\n",
    "              cv=5,\n",
    "              n_jobs=-1)\n",
    "    sfs = sfs.fit(x, y)\n",
    "    \n",
    "    #write to file \n",
    "    feature_idx = pd.Series(sfs.k_feature_idx_).to_frame()\n",
    "    feature_idx.columns = [\"feature_idx\"]\n",
    "    feature_idx.to_csv(DATA_PATH + \"round2_sfs_feature_idx.csv\", index=False)\n",
    "\n",
    "\n",
    "print('\\nSequential Forward Selection (k={}):'.format(k_feautres))\n",
    "print(sfs.k_feature_idx_)\n",
    "print('CV Score:')\n",
    "print(sfs.k_score_)\n"
   ]
  },
  {
   "cell_type": "code",
   "execution_count": 79,
   "metadata": {},
   "outputs": [
    {
     "name": "stdout",
     "output_type": "stream",
     "text": [
      "best combination (ACC): 0.9333333333333333\n",
      " (1, 5, 9, 13, 14, 15, 16, 17, 18, 19, 20, 26, 27, 28, 32, 34, 35, 40, 41, 42, 43, 49, 50, 51, 52, 56, 57, 61, 73, 74, 75, 76, 81, 89, 99, 101, 102, 103, 106, 107, 112, 121, 122, 123, 124, 125, 126, 127, 128, 132, 134, 136, 140, 148, 198)\n"
     ]
    }
   ],
   "source": [
    "print('best combination (ACC):', sfs.k_score_)\n",
    "print('', sfs.k_feature_idx_)\n",
    "#print('all subsets:\\n', sfs.subsets_)\n"
   ]
  },
  {
   "cell_type": "code",
   "execution_count": 82,
   "metadata": {},
   "outputs": [
    {
     "data": {
      "text/html": [
       "<div>\n",
       "<style scoped>\n",
       "    .dataframe tbody tr th:only-of-type {\n",
       "        vertical-align: middle;\n",
       "    }\n",
       "\n",
       "    .dataframe tbody tr th {\n",
       "        vertical-align: top;\n",
       "    }\n",
       "\n",
       "    .dataframe thead th {\n",
       "        text-align: right;\n",
       "    }\n",
       "</style>\n",
       "<table border=\"1\" class=\"dataframe\">\n",
       "  <thead>\n",
       "    <tr style=\"text-align: right;\">\n",
       "      <th></th>\n",
       "      <th>feature_idx</th>\n",
       "      <th>cv_scores</th>\n",
       "      <th>avg_score</th>\n",
       "      <th>feature_names</th>\n",
       "      <th>ci_bound</th>\n",
       "      <th>std_dev</th>\n",
       "      <th>std_err</th>\n",
       "    </tr>\n",
       "  </thead>\n",
       "  <tbody>\n",
       "    <tr>\n",
       "      <td>1</td>\n",
       "      <td>(9,)</td>\n",
       "      <td>[0.9333333333333333, 0.9142857142857143, 0.904...</td>\n",
       "      <td>0.9238</td>\n",
       "      <td>((numeric_events, before_surgery, Amylase, max),)</td>\n",
       "      <td>0.01548</td>\n",
       "      <td>0.01205</td>\n",
       "      <td>0.006023</td>\n",
       "    </tr>\n",
       "    <tr>\n",
       "      <td>2</td>\n",
       "      <td>(9, 140)</td>\n",
       "      <td>[0.9333333333333333, 0.9142857142857143, 0.914...</td>\n",
       "      <td>0.9276</td>\n",
       "      <td>((numeric_events, before_surgery, Amylase, max...</td>\n",
       "      <td>0.01469</td>\n",
       "      <td>0.01143</td>\n",
       "      <td>0.005714</td>\n",
       "    </tr>\n",
       "    <tr>\n",
       "      <td>3</td>\n",
       "      <td>(9, 32, 140)</td>\n",
       "      <td>[0.9333333333333333, 0.9142857142857143, 0.914...</td>\n",
       "      <td>0.9295</td>\n",
       "      <td>((numeric_events, before_surgery, Amylase, max...</td>\n",
       "      <td>0.01832</td>\n",
       "      <td>0.01425</td>\n",
       "      <td>0.007127</td>\n",
       "    </tr>\n",
       "    <tr>\n",
       "      <td>4</td>\n",
       "      <td>(9, 32, 107, 140)</td>\n",
       "      <td>[0.9333333333333333, 0.9142857142857143, 0.923...</td>\n",
       "      <td>0.9314</td>\n",
       "      <td>((numeric_events, before_surgery, Amylase, max...</td>\n",
       "      <td>0.01624</td>\n",
       "      <td>0.01263</td>\n",
       "      <td>0.006317</td>\n",
       "    </tr>\n",
       "    <tr>\n",
       "      <td>5</td>\n",
       "      <td>(1, 9, 32, 107, 140)</td>\n",
       "      <td>[0.9333333333333333, 0.9142857142857143, 0.923...</td>\n",
       "      <td>0.9314</td>\n",
       "      <td>((numeric_events, before_surgery, Albumin, max...</td>\n",
       "      <td>0.01624</td>\n",
       "      <td>0.01263</td>\n",
       "      <td>0.006317</td>\n",
       "    </tr>\n",
       "  </tbody>\n",
       "</table>\n",
       "</div>"
      ],
      "text/plain": [
       "            feature_idx                                          cv_scores  \\\n",
       "1                  (9,)  [0.9333333333333333, 0.9142857142857143, 0.904...   \n",
       "2              (9, 140)  [0.9333333333333333, 0.9142857142857143, 0.914...   \n",
       "3          (9, 32, 140)  [0.9333333333333333, 0.9142857142857143, 0.914...   \n",
       "4     (9, 32, 107, 140)  [0.9333333333333333, 0.9142857142857143, 0.923...   \n",
       "5  (1, 9, 32, 107, 140)  [0.9333333333333333, 0.9142857142857143, 0.923...   \n",
       "\n",
       "  avg_score                                      feature_names ci_bound  \\\n",
       "1    0.9238  ((numeric_events, before_surgery, Amylase, max),)  0.01548   \n",
       "2    0.9276  ((numeric_events, before_surgery, Amylase, max...  0.01469   \n",
       "3    0.9295  ((numeric_events, before_surgery, Amylase, max...  0.01832   \n",
       "4    0.9314  ((numeric_events, before_surgery, Amylase, max...  0.01624   \n",
       "5    0.9314  ((numeric_events, before_surgery, Albumin, max...  0.01624   \n",
       "\n",
       "   std_dev   std_err  \n",
       "1  0.01205  0.006023  \n",
       "2  0.01143  0.005714  \n",
       "3  0.01425  0.007127  \n",
       "4  0.01263  0.006317  \n",
       "5  0.01263  0.006317  "
      ]
     },
     "metadata": {},
     "output_type": "display_data"
    }
   ],
   "source": [
    "sfs_table = pd.DataFrame.from_dict(sfs.get_metric_dict()).T.head()\n",
    "display(sfs_table)"
   ]
  },
  {
   "cell_type": "code",
   "execution_count": 153,
   "metadata": {},
   "outputs": [
    {
     "ename": "NameError",
     "evalue": "name 'sfs' is not defined",
     "output_type": "error",
     "traceback": [
      "\u001b[1;31m---------------------------------------------------------------------------\u001b[0m",
      "\u001b[1;31mNameError\u001b[0m                                 Traceback (most recent call last)",
      "\u001b[1;32m<ipython-input-153-52f4e7f262fd>\u001b[0m in \u001b[0;36m<module>\u001b[1;34m\u001b[0m\n\u001b[0;32m      1\u001b[0m \u001b[1;31m#plot\u001b[0m\u001b[1;33m\u001b[0m\u001b[1;33m\u001b[0m\u001b[1;33m\u001b[0m\u001b[0m\n\u001b[0;32m      2\u001b[0m \u001b[0mplt\u001b[0m\u001b[1;33m.\u001b[0m\u001b[0mfigure\u001b[0m\u001b[1;33m(\u001b[0m\u001b[0mfigsize\u001b[0m\u001b[1;33m=\u001b[0m\u001b[1;33m(\u001b[0m\u001b[1;36m8\u001b[0m\u001b[1;33m,\u001b[0m\u001b[1;36m12\u001b[0m\u001b[1;33m)\u001b[0m\u001b[1;33m)\u001b[0m\u001b[1;33m\u001b[0m\u001b[1;33m\u001b[0m\u001b[0m\n\u001b[1;32m----> 3\u001b[1;33m \u001b[0mfig1\u001b[0m \u001b[1;33m=\u001b[0m \u001b[0mplot_sfs\u001b[0m\u001b[1;33m(\u001b[0m\u001b[0msfs\u001b[0m\u001b[1;33m.\u001b[0m\u001b[0mget_metric_dict\u001b[0m\u001b[1;33m(\u001b[0m\u001b[1;33m)\u001b[0m\u001b[1;33m,\u001b[0m \u001b[0mfigsize\u001b[0m\u001b[1;33m=\u001b[0m\u001b[1;33m(\u001b[0m\u001b[1;36m30\u001b[0m\u001b[1;33m,\u001b[0m\u001b[1;36m8\u001b[0m\u001b[1;33m)\u001b[0m\u001b[1;33m,\u001b[0m \u001b[0mkind\u001b[0m\u001b[1;33m=\u001b[0m\u001b[1;34m'std_dev'\u001b[0m\u001b[1;33m)\u001b[0m\u001b[1;33m\u001b[0m\u001b[1;33m\u001b[0m\u001b[0m\n\u001b[0m\u001b[0;32m      4\u001b[0m \u001b[1;33m\u001b[0m\u001b[0m\n\u001b[0;32m      5\u001b[0m \u001b[0mplt\u001b[0m\u001b[1;33m.\u001b[0m\u001b[0mylim\u001b[0m\u001b[1;33m(\u001b[0m\u001b[1;33m[\u001b[0m\u001b[1;36m0.8\u001b[0m\u001b[1;33m,\u001b[0m \u001b[1;36m1\u001b[0m\u001b[1;33m]\u001b[0m\u001b[1;33m)\u001b[0m\u001b[1;33m\u001b[0m\u001b[1;33m\u001b[0m\u001b[0m\n",
      "\u001b[1;31mNameError\u001b[0m: name 'sfs' is not defined"
     ]
    },
    {
     "data": {
      "text/plain": [
       "<Figure size 576x864 with 0 Axes>"
      ]
     },
     "metadata": {},
     "output_type": "display_data"
    }
   ],
   "source": [
    "#plot \n",
    "plt.figure(figsize=(8,12))\n",
    "fig1 = plot_sfs(sfs.get_metric_dict(), figsize=(30,8), kind='std_dev')\n",
    "\n",
    "plt.ylim([0.8, 1])\n",
    "plt.title('Sequential Forward Selection (w. StdDev)')\n",
    "plt.grid()\n",
    "plt.show()"
   ]
  },
  {
   "cell_type": "code",
   "execution_count": 101,
   "metadata": {
    "collapsed": true
   },
   "outputs": [
    {
     "name": "stdout",
     "output_type": "stream",
     "text": [
      "28\n"
     ]
    },
    {
     "data": {
      "text/plain": [
       "INR                     4\n",
       "BASO (%)                4\n",
       "Nucleated RBC (%)       4\n",
       "Nucleated RBC (abs)     4\n",
       "BASO (abs)              4\n",
       "EOS (abs)               4\n",
       "Bilirubin, direct       3\n",
       "MONO (abs)              3\n",
       "Creatinine              3\n",
       "PCT                     2\n",
       "MPV                     2\n",
       "Calcium, total          2\n",
       "PLT                     1\n",
       "MCHC                    1\n",
       "Glucose                 1\n",
       "heart rate              1\n",
       "Magnesium               1\n",
       "MONO (%)                1\n",
       "Bilirubin, total        1\n",
       "Albumin                 1\n",
       "Osmolality (calc.)      1\n",
       "PTT                     1\n",
       "Amylase                 1\n",
       "Chloride                1\n",
       "Alkaline Phosphatase    1\n",
       "Estimated Globulin      1\n",
       "LYMPHO (abs)            1\n",
       "Gamma-GT                1\n",
       "Name: feature, dtype: int64"
      ]
     },
     "execution_count": 101,
     "metadata": {},
     "output_type": "execute_result"
    }
   ],
   "source": [
    "chosen_columns = x.iloc[:, list(sfs.k_feature_idx_)].columns.get_level_values('feature')\n",
    "print(chosen_columns.nunique())\n",
    "chosen_columns.value_counts()"
   ]
  },
  {
   "cell_type": "code",
   "execution_count": 120,
   "metadata": {},
   "outputs": [],
   "source": []
  },
  {
   "cell_type": "markdown",
   "metadata": {},
   "source": [
    "### Generate the new subsets based on the selected features"
   ]
  },
  {
   "cell_type": "code",
   "execution_count": 190,
   "metadata": {},
   "outputs": [],
   "source": [
    "# Generate the new subsets based on the selected features\n",
    "\n",
    "#split into train and test \n",
    "x_train, x_test, y_train, y_test = train_test_split(x, y,\n",
    "                                                    test_size=0.2,\n",
    "                                                    random_state=0,\n",
    "                                                    stratify=y) \n",
    "x_train_sfs = x_train.iloc[:, list(sfs.k_feature_idx_)]\n",
    "x_test_sfs = x_test.iloc[:, list(sfs.k_feature_idx_)]"
   ]
  },
  {
   "cell_type": "code",
   "execution_count": 36,
   "metadata": {
    "collapsed": true
   },
   "outputs": [
    {
     "name": "stdout",
     "output_type": "stream",
     "text": [
      "Accuracy of logistic regression classifier on test set: 0.92\n",
      "              precision    recall  f1-score   support\n",
      "\n",
      "           0       0.93      0.99      0.96        96\n",
      "           1       0.67      0.22      0.33         9\n",
      "\n",
      "    accuracy                           0.92       105\n",
      "   macro avg       0.80      0.61      0.65       105\n",
      "weighted avg       0.91      0.92      0.91       105\n",
      "\n"
     ]
    },
    {
     "data": {
      "image/png": "[encoded data removed]",
      "text/plain": [
       "<Figure size 432x288 with 2 Axes>"
      ]
     },
     "metadata": {
      "needs_background": "light"
     },
     "output_type": "display_data"
    },
    {
     "data": {
      "image/png": "[encoded data removed]",
      "text/plain": [
       "<Figure size 432x288 with 1 Axes>"
      ]
     },
     "metadata": {
      "needs_background": "light"
     },
     "output_type": "display_data"
    }
   ],
   "source": [
    "# Fit the estimator using the new feature subset\n",
    "# and make a prediction on the test data\n",
    "model.fit(x_train_sfs, y_train)\n",
    "\n",
    "y_pred = model.predict(x_test_sfs)\n",
    "\n",
    "performances(model, x_train_sfs, x_test_sfs, y_train, y_test)"
   ]
  },
  {
   "cell_type": "markdown",
   "metadata": {},
   "source": [
    "## round 3"
   ]
  },
  {
   "cell_type": "code",
   "execution_count": 122,
   "metadata": {},
   "outputs": [
    {
     "name": "stdout",
     "output_type": "stream",
     "text": [
      "\n",
      "Sequential Forward Selection (k=(10, 100)):\n",
      "(0, 1, 2, 3, 4, 9, 10, 12, 13, 14, 15, 16, 17, 18, 19, 20, 21, 22, 23, 24, 25, 26, 27, 28, 29, 30, 31, 32, 33, 34, 35, 36, 37, 39, 40, 41, 42, 43, 44, 45, 48, 49, 50, 51, 52, 53, 54, 67, 68, 69, 70, 71, 72, 73, 74, 75, 76, 79, 81, 84, 85, 86, 89, 90, 91, 92, 93, 96, 100, 102, 104, 110, 116, 121, 122, 125, 127, 147, 151, 156, 161, 177, 189, 196, 215, 217, 219)\n",
      "CV Score:\n",
      "0.5916666666666666\n"
     ]
    }
   ],
   "source": [
    "\n",
    "k_feautres = (10, 100) \n",
    "\n",
    "#Sequential Forward Selection\n",
    "sfs1 = SFS(model, \n",
    "          k_features=k_feautres, \n",
    "          forward=True, \n",
    "          floating=False, \n",
    "          scoring='recall',\n",
    "          cv=5,\n",
    "          n_jobs=-1)\n",
    "sfs1 = sfs1.fit(x, y)\n",
    "\n",
    "print('\\nSequential Forward Selection (k={}):'.format(k_feautres))\n",
    "print(sfs1.k_feature_idx_)\n",
    "print('CV Score:')\n",
    "print(sfs1.k_score_)\n"
   ]
  },
  {
   "cell_type": "code",
   "execution_count": 123,
   "metadata": {},
   "outputs": [
    {
     "data": {
      "text/plain": [
       "87"
      ]
     },
     "execution_count": 123,
     "metadata": {},
     "output_type": "execute_result"
    }
   ],
   "source": [
    "len(sfs1.k_feature_idx_)"
   ]
  },
  {
   "cell_type": "code",
   "execution_count": 124,
   "metadata": {},
   "outputs": [],
   "source": [
    "# Generate the new subsets based on the selected features\n",
    "\n",
    "#split into train and test \n",
    "x_train, x_test, y_train, y_test = train_test_split(x, y,\n",
    "                                                    test_size=0.2,\n",
    "                                                    random_state=0,\n",
    "                                                    stratify=y)\n",
    "\n",
    "x_train_sfs = x_train.iloc[:, list(sfs1.k_feature_idx_)]\n",
    "x_test_sfs = x_test.iloc[:, list(sfs1.k_feature_idx_)]"
   ]
  },
  {
   "cell_type": "code",
   "execution_count": 125,
   "metadata": {},
   "outputs": [
    {
     "name": "stdout",
     "output_type": "stream",
     "text": [
      "Accuracy of logistic regression classifier on test set: 0.91\n",
      "              precision    recall  f1-score   support\n",
      "\n",
      "           0       0.92      0.99      0.95        96\n",
      "           1       0.50      0.11      0.18         9\n",
      "\n",
      "    accuracy                           0.91       105\n",
      "   macro avg       0.71      0.55      0.57       105\n",
      "weighted avg       0.89      0.91      0.89       105\n",
      "\n"
     ]
    },
    {
     "data": {
      "image/png": "[encoded data removed]",
      "text/plain": [
       "<Figure size 432x288 with 2 Axes>"
      ]
     },
     "metadata": {
      "needs_background": "light"
     },
     "output_type": "display_data"
    },
    {
     "data": {
      "image/png": "[encoded data removed]",
      "text/plain": [
       "<Figure size 432x288 with 1 Axes>"
      ]
     },
     "metadata": {
      "needs_background": "light"
     },
     "output_type": "display_data"
    }
   ],
   "source": [
    "# Fit the estimator using the new feature subset\n",
    "# and make a prediction on the test data\n",
    "model.fit(x_train_sfs, y_train)\n",
    "\n",
    "y_pred = model.predict(x_test_sfs)\n",
    "\n",
    "performances(model, x_train_sfs, x_test_sfs, y_train, y_test)"
   ]
  },
  {
   "cell_type": "markdown",
   "metadata": {},
   "source": [
    "## round 4"
   ]
  },
  {
   "cell_type": "code",
   "execution_count": 155,
   "metadata": {},
   "outputs": [
    {
     "name": "stdout",
     "output_type": "stream",
     "text": [
      "\n",
      "Sequential Forward Selection (k=50):\n",
      "(2, 3, 4, 5, 9, 14, 15, 16, 17, 18, 19, 20, 26, 27, 28, 30, 32, 36, 42, 43, 44, 45, 49, 50, 51, 52, 74, 76, 81, 85, 86, 92, 97, 102, 103, 104, 106, 107, 108, 123, 362, 416, 450)\n",
      "CV Score:\n",
      "1.0\n"
     ]
    },
    {
     "name": "stderr",
     "output_type": "stream",
     "text": [
      "\n",
      "STOPPING EARLY DUE TO KEYBOARD INTERRUPT..."
     ]
    }
   ],
   "source": [
    "\n",
    "k_feautres = (10, 100) \n",
    "k_feautres = 50\n",
    "#Sequential Forward Selection\n",
    "sfs2 = SFS(model, \n",
    "          k_features=k_feautres, \n",
    "          forward=True, \n",
    "          floating=False, \n",
    "          scoring='precision',\n",
    "          cv=5,\n",
    "          n_jobs=-1)\n",
    "sfs2 = sfs2.fit(x, y)\n",
    "\n",
    "print('\\nSequential Forward Selection (k={}):'.format(k_feautres))\n",
    "print(sfs2.k_feature_idx_)\n",
    "print('CV Score:')\n",
    "print(sfs2.k_score_)"
   ]
  },
  {
   "cell_type": "code",
   "execution_count": null,
   "metadata": {},
   "outputs": [],
   "source": []
  },
  {
   "cell_type": "code",
   "execution_count": null,
   "metadata": {},
   "outputs": [],
   "source": []
  },
  {
   "cell_type": "code",
   "execution_count": null,
   "metadata": {},
   "outputs": [],
   "source": []
  }
 ],
 "metadata": {
  "kernelspec": {
   "display_name": "Python 3",
   "language": "python",
   "name": "python3"
  },
  "language_info": {
   "codemirror_mode": {
    "name": "ipython",
    "version": 3
   },
   "file_extension": ".py",
   "mimetype": "text/x-python",
   "name": "python",
   "nbconvert_exporter": "python",
   "pygments_lexer": "ipython3",
   "version": "3.7.4"
  }
 },
 "nbformat": 4,
 "nbformat_minor": 2
}
