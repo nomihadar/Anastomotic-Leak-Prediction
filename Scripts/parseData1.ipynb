{
 "cells": [
  {
   "cell_type": "markdown",
   "metadata": {},
   "source": [
    "**Notebook content:**\n",
    "- Explore event names.\n",
    "- Explore event values."
   ]
  },
  {
   "cell_type": "code",
   "execution_count": 20,
   "metadata": {
    "scrolled": true
   },
   "outputs": [],
   "source": [
    "%reset -f "
   ]
  },
  {
   "cell_type": "code",
   "execution_count": 21,
   "metadata": {},
   "outputs": [],
   "source": [
    "import sys\n",
    "import pandas as pd\n",
    "import numpy as np\n",
    "\n",
    "# visualization\n",
    "import seaborn as sns\n",
    "import matplotlib.pyplot as plt \n",
    "from matplotlib.pyplot import figure\n",
    "%matplotlib inline\n",
    "\n",
    "#mine\n",
    "from myDefs.defs import *"
   ]
  },
  {
   "cell_type": "code",
   "execution_count": 22,
   "metadata": {},
   "outputs": [],
   "source": [
    "#display settings\n",
    "\n",
    "from IPython.display import display\n",
    "\n",
    "pd.set_option('display.max_columns', 30)\n",
    "pd.set_option('display.max_rows', 100)\n",
    "#pd.set_option('display.float_format', lambda x: '%.f' % x)\n",
    "pd.options.display.precision = 4\n",
    "\n",
    "np.set_printoptions(threshold=sys.maxsize) #print the full NumPy array"
   ]
  },
  {
   "cell_type": "markdown",
   "metadata": {},
   "source": [
    "### **Read events file**"
   ]
  },
  {
   "cell_type": "code",
   "execution_count": 23,
   "metadata": {
    "pycharm": {
     "is_executing": false
    },
    "scrolled": true
   },
   "outputs": [],
   "source": [
    "file = DATA_PATH + \"parseData0.csv\"\n",
    "df = pd.read_csv(file, sep=',') "
   ]
  },
  {
   "cell_type": "code",
   "execution_count": 24,
   "metadata": {
    "jupyter": {
     "outputs_hidden": false
    },
    "pycharm": {
     "name": "#%%\n"
    },
    "scrolled": true
   },
   "outputs": [
    {
     "data": {
      "text/plain": [
       "(1683616, 18)"
      ]
     },
     "execution_count": 24,
     "metadata": {},
     "output_type": "execute_result"
    }
   ],
   "source": [
    "df.shape"
   ]
  },
  {
   "cell_type": "code",
   "execution_count": 25,
   "metadata": {
    "scrolled": true
   },
   "outputs": [
    {
     "data": {
      "text/html": [
       "<div>\n",
       "<style scoped>\n",
       "    .dataframe tbody tr th:only-of-type {\n",
       "        vertical-align: middle;\n",
       "    }\n",
       "\n",
       "    .dataframe tbody tr th {\n",
       "        vertical-align: top;\n",
       "    }\n",
       "\n",
       "    .dataframe thead th {\n",
       "        text-align: right;\n",
       "    }\n",
       "</style>\n",
       "<table border=\"1\" class=\"dataframe\">\n",
       "  <thead>\n",
       "    <tr style=\"text-align: right;\">\n",
       "      <th></th>\n",
       "      <th>pid</th>\n",
       "      <th>admissionId</th>\n",
       "      <th>eventName</th>\n",
       "      <th>eventStartDate</th>\n",
       "      <th>eventEndDate</th>\n",
       "      <th>bValue</th>\n",
       "      <th>dValue</th>\n",
       "      <th>iValue</th>\n",
       "      <th>sValue</th>\n",
       "      <th>eventDesc</th>\n",
       "      <th>unitOfMeasure</th>\n",
       "      <th>orderNumber</th>\n",
       "      <th>organismId</th>\n",
       "      <th>eventCode</th>\n",
       "      <th>eventCodeOrg</th>\n",
       "      <th>eventType</th>\n",
       "      <th>eventTypeOrg</th>\n",
       "      <th>sourceName</th>\n",
       "    </tr>\n",
       "  </thead>\n",
       "  <tbody>\n",
       "    <tr>\n",
       "      <td>0</td>\n",
       "      <td>1.0133e+09</td>\n",
       "      <td>1840641.0</td>\n",
       "      <td>WBC</td>\n",
       "      <td>2018-02-15 10:58:00.0000000</td>\n",
       "      <td>2018-02-15 10:58:00.0000000</td>\n",
       "      <td>False</td>\n",
       "      <td>2.14</td>\n",
       "      <td>0.0</td>\n",
       "      <td>NaN</td>\n",
       "      <td>NaN</td>\n",
       "      <td>K/microL</td>\n",
       "      <td>NaN</td>\n",
       "      <td>NaN</td>\n",
       "      <td>26464-8</td>\n",
       "      <td>100109500</td>\n",
       "      <td>loinc</td>\n",
       "      <td>conv_lab_cham</td>\n",
       "      <td>[MIRROR_Chameleon].[Lab_Results]</td>\n",
       "    </tr>\n",
       "    <tr>\n",
       "      <td>1</td>\n",
       "      <td>1.0133e+09</td>\n",
       "      <td>1840641.0</td>\n",
       "      <td>Alkaline Phosphatase -Blood</td>\n",
       "      <td>2018-02-15 10:25:00.0000000</td>\n",
       "      <td>2018-02-15 10:25:00.0000000</td>\n",
       "      <td>False</td>\n",
       "      <td>129.00</td>\n",
       "      <td>0.0</td>\n",
       "      <td>NaN</td>\n",
       "      <td>NaN</td>\n",
       "      <td>IU/l</td>\n",
       "      <td>NaN</td>\n",
       "      <td>NaN</td>\n",
       "      <td>77141-0</td>\n",
       "      <td>100184075</td>\n",
       "      <td>loinc</td>\n",
       "      <td>conv_lab_cham</td>\n",
       "      <td>[MIRROR_Chameleon].[Lab_Results]</td>\n",
       "    </tr>\n",
       "    <tr>\n",
       "      <td>2</td>\n",
       "      <td>1.0133e+09</td>\n",
       "      <td>1840641.0</td>\n",
       "      <td>Protein -Blood, total</td>\n",
       "      <td>2018-02-15 10:25:00.0000000</td>\n",
       "      <td>2018-02-15 10:25:00.0000000</td>\n",
       "      <td>False</td>\n",
       "      <td>3.60</td>\n",
       "      <td>0.0</td>\n",
       "      <td>NaN</td>\n",
       "      <td>NaN</td>\n",
       "      <td>g/dl</td>\n",
       "      <td>NaN</td>\n",
       "      <td>NaN</td>\n",
       "      <td>2885-2</td>\n",
       "      <td>100184155</td>\n",
       "      <td>loinc</td>\n",
       "      <td>conv_lab_cham</td>\n",
       "      <td>[MIRROR_Chameleon].[Lab_Results]</td>\n",
       "    </tr>\n",
       "    <tr>\n",
       "      <td>3</td>\n",
       "      <td>1.0133e+09</td>\n",
       "      <td>1840641.0</td>\n",
       "      <td>Sodium -Blood</td>\n",
       "      <td>2018-02-15 10:25:00.0000000</td>\n",
       "      <td>2018-02-15 10:25:00.0000000</td>\n",
       "      <td>False</td>\n",
       "      <td>147.00</td>\n",
       "      <td>0.0</td>\n",
       "      <td>NaN</td>\n",
       "      <td>NaN</td>\n",
       "      <td>meq/l</td>\n",
       "      <td>NaN</td>\n",
       "      <td>NaN</td>\n",
       "      <td>2951-2</td>\n",
       "      <td>100184295</td>\n",
       "      <td>loinc</td>\n",
       "      <td>conv_lab_cham</td>\n",
       "      <td>[MIRROR_Chameleon].[Lab_Results]</td>\n",
       "    </tr>\n",
       "    <tr>\n",
       "      <td>4</td>\n",
       "      <td>1.0133e+09</td>\n",
       "      <td>1840641.0</td>\n",
       "      <td>Urea -Blood</td>\n",
       "      <td>2018-02-15 10:25:00.0000000</td>\n",
       "      <td>2018-02-15 10:25:00.0000000</td>\n",
       "      <td>False</td>\n",
       "      <td>24.00</td>\n",
       "      <td>0.0</td>\n",
       "      <td>NaN</td>\n",
       "      <td>NaN</td>\n",
       "      <td>mg/dl</td>\n",
       "      <td>NaN</td>\n",
       "      <td>NaN</td>\n",
       "      <td>3091-6</td>\n",
       "      <td>100184520</td>\n",
       "      <td>loinc</td>\n",
       "      <td>conv_lab_cham</td>\n",
       "      <td>[MIRROR_Chameleon].[Lab_Results]</td>\n",
       "    </tr>\n",
       "  </tbody>\n",
       "</table>\n",
       "</div>"
      ],
      "text/plain": [
       "          pid  admissionId                     eventName  \\\n",
       "0  1.0133e+09    1840641.0                          WBC    \n",
       "1  1.0133e+09    1840641.0  Alkaline Phosphatase -Blood    \n",
       "2  1.0133e+09    1840641.0        Protein -Blood, total    \n",
       "3  1.0133e+09    1840641.0                Sodium -Blood    \n",
       "4  1.0133e+09    1840641.0                  Urea -Blood    \n",
       "\n",
       "                eventStartDate                 eventEndDate bValue  dValue  \\\n",
       "0  2018-02-15 10:58:00.0000000  2018-02-15 10:58:00.0000000  False    2.14   \n",
       "1  2018-02-15 10:25:00.0000000  2018-02-15 10:25:00.0000000  False  129.00   \n",
       "2  2018-02-15 10:25:00.0000000  2018-02-15 10:25:00.0000000  False    3.60   \n",
       "3  2018-02-15 10:25:00.0000000  2018-02-15 10:25:00.0000000  False  147.00   \n",
       "4  2018-02-15 10:25:00.0000000  2018-02-15 10:25:00.0000000  False   24.00   \n",
       "\n",
       "   iValue sValue eventDesc unitOfMeasure  orderNumber  organismId eventCode  \\\n",
       "0     0.0    NaN       NaN      K/microL          NaN         NaN   26464-8   \n",
       "1     0.0    NaN       NaN          IU/l          NaN         NaN   77141-0   \n",
       "2     0.0    NaN       NaN          g/dl          NaN         NaN    2885-2   \n",
       "3     0.0    NaN       NaN         meq/l          NaN         NaN    2951-2   \n",
       "4     0.0    NaN       NaN         mg/dl          NaN         NaN    3091-6   \n",
       "\n",
       "  eventCodeOrg eventType   eventTypeOrg                        sourceName  \n",
       "0    100109500     loinc  conv_lab_cham  [MIRROR_Chameleon].[Lab_Results]  \n",
       "1    100184075     loinc  conv_lab_cham  [MIRROR_Chameleon].[Lab_Results]  \n",
       "2    100184155     loinc  conv_lab_cham  [MIRROR_Chameleon].[Lab_Results]  \n",
       "3    100184295     loinc  conv_lab_cham  [MIRROR_Chameleon].[Lab_Results]  \n",
       "4    100184520     loinc  conv_lab_cham  [MIRROR_Chameleon].[Lab_Results]  "
      ]
     },
     "execution_count": 25,
     "metadata": {},
     "output_type": "execute_result"
    }
   ],
   "source": [
    "df.head()"
   ]
  },
  {
   "cell_type": "markdown",
   "metadata": {},
   "source": [
    "# Explore Event Names"
   ]
  },
  {
   "cell_type": "markdown",
   "metadata": {},
   "source": [
    "There are **3,762** unique events names. However, this number does not reflect the real number of unique names, due to duplicates. To find duplicates, we should:\n",
    "\n",
    "- Find ***synonymous*** names. For exmple: **Pulse** and **\"Hr\"** (heart rate).\n",
    "- ***Translate*** names from Hebrew to English. This is especially important when there are events with both an Hebrew name and an English name For example, the event **\"דופק\"**.\n",
    "- Find events differ in one or several characters, either due to ***typos*** or due to different use in capitals and lowercases.\n",
    "\n",
    "This will be done by preparing a file containing all events names (see below), which will be scaned manually, and will be corrected, translated or replaced, by a new name / term, if needed. \n"
   ]
  },
  {
   "cell_type": "code",
   "execution_count": 26,
   "metadata": {
    "scrolled": true
   },
   "outputs": [
    {
     "data": {
      "text/plain": [
       "3762"
      ]
     },
     "execution_count": 26,
     "metadata": {},
     "output_type": "execute_result"
    }
   ],
   "source": [
    "df[\"eventName\"].nunique()"
   ]
  },
  {
   "cell_type": "markdown",
   "metadata": {},
   "source": [
    "Show examples of events:"
   ]
  },
  {
   "cell_type": "code",
   "execution_count": 27,
   "metadata": {
    "scrolled": false
   },
   "outputs": [
    {
     "data": {
      "text/html": [
       "<div>\n",
       "<style scoped>\n",
       "    .dataframe tbody tr th:only-of-type {\n",
       "        vertical-align: middle;\n",
       "    }\n",
       "\n",
       "    .dataframe tbody tr th {\n",
       "        vertical-align: top;\n",
       "    }\n",
       "\n",
       "    .dataframe thead th {\n",
       "        text-align: right;\n",
       "    }\n",
       "</style>\n",
       "<table border=\"1\" class=\"dataframe\">\n",
       "  <thead>\n",
       "    <tr style=\"text-align: right;\">\n",
       "      <th></th>\n",
       "      <th>eventName</th>\n",
       "    </tr>\n",
       "  </thead>\n",
       "  <tbody>\n",
       "    <tr>\n",
       "      <td>0</td>\n",
       "      <td>WBC</td>\n",
       "    </tr>\n",
       "    <tr>\n",
       "      <td>1</td>\n",
       "      <td>Alkaline Phosphatase -Blood</td>\n",
       "    </tr>\n",
       "    <tr>\n",
       "      <td>2</td>\n",
       "      <td>Protein -Blood, total</td>\n",
       "    </tr>\n",
       "    <tr>\n",
       "      <td>3</td>\n",
       "      <td>Sodium -Blood</td>\n",
       "    </tr>\n",
       "    <tr>\n",
       "      <td>4</td>\n",
       "      <td>Urea -Blood</td>\n",
       "    </tr>\n",
       "    <tr>\n",
       "      <td>5</td>\n",
       "      <td>Calcium -Blood, total</td>\n",
       "    </tr>\n",
       "    <tr>\n",
       "      <td>6</td>\n",
       "      <td>Chloride -Blood</td>\n",
       "    </tr>\n",
       "    <tr>\n",
       "      <td>7</td>\n",
       "      <td>SGPT (ALT) -Blood</td>\n",
       "    </tr>\n",
       "    <tr>\n",
       "      <td>8</td>\n",
       "      <td>Albumin -Blood</td>\n",
       "    </tr>\n",
       "    <tr>\n",
       "      <td>9</td>\n",
       "      <td>Amylase -Blood</td>\n",
       "    </tr>\n",
       "  </tbody>\n",
       "</table>\n",
       "</div>"
      ],
      "text/plain": [
       "                      eventName\n",
       "0                          WBC \n",
       "1  Alkaline Phosphatase -Blood \n",
       "2        Protein -Blood, total \n",
       "3                Sodium -Blood \n",
       "4                  Urea -Blood \n",
       "5        Calcium -Blood, total \n",
       "6              Chloride -Blood \n",
       "7            SGPT (ALT) -Blood \n",
       "8               Albumin -Blood \n",
       "9               Amylase -Blood "
      ]
     },
     "execution_count": 27,
     "metadata": {},
     "output_type": "execute_result"
    }
   ],
   "source": [
    "df[[\"eventName\"]].drop_duplicates().head(10)"
   ]
  },
  {
   "cell_type": "markdown",
   "metadata": {},
   "source": [
    "### Reduce number of names  "
   ]
  },
  {
   "cell_type": "markdown",
   "metadata": {},
   "source": [
    "#### Strip names\n",
    "Strip events names (remove any leading and trailing space characters).\n",
    "Now there are **3,755** unique event names."
   ]
  },
  {
   "cell_type": "code",
   "execution_count": 28,
   "metadata": {
    "scrolled": true
   },
   "outputs": [
    {
     "name": "stdout",
     "output_type": "stream",
     "text": [
      "After strip: 3755\n",
      "Num duplicates: 7\n",
      "Duplicate events:\n",
      "\n",
      "{'DERMATITIS STASIS', 'Vitamin B12', 'NEUTRO%', 'ESR -2h', 'BACTEREMIA', 'ESR -1h', 'WBC'}\n"
     ]
    }
   ],
   "source": [
    "#get event names before  and after stripping  \n",
    "before_strip = df[\"eventName\"]\n",
    "after_strip = df[\"eventName\"].str.strip()\n",
    "\n",
    "#get the dulicate events \n",
    "diff = pd.Series(list(set(before_strip) - set(after_strip)))\n",
    "dup = set(diff.str.strip()) & set(before_strip)\n",
    "\n",
    "print(\"After strip:\", after_strip.nunique())\n",
    "print(\"Num duplicates:\", before_strip.nunique() - after_strip.nunique())\n",
    "print (\"Duplicate events:\\n\")\n",
    "print(dup)\n"
   ]
  },
  {
   "cell_type": "code",
   "execution_count": 29,
   "metadata": {},
   "outputs": [],
   "source": [
    "#strip events\n",
    "df[\"eventName\"] = df[\"eventName\"].str.strip()"
   ]
  },
  {
   "cell_type": "markdown",
   "metadata": {},
   "source": [
    "#### Insensitive case\n",
    "Capitalize events names (convert the first character in first word to Uppercase). \n",
    "Strip events names (any leading and trailing space characters).\n",
    "Now there are **3,699** unique event names."
   ]
  },
  {
   "cell_type": "code",
   "execution_count": 30,
   "metadata": {},
   "outputs": [
    {
     "name": "stdout",
     "output_type": "stream",
     "text": [
      "0    Nomi\n",
      "1    noMi\n",
      "2    nOmi\n",
      "dtype: object\n",
      "['nomi']\n",
      "\n",
      "After lower: 3\n",
      "Num duplicates: 2\n",
      "Duplicate events:\n",
      "\n",
      "set()\n"
     ]
    }
   ],
   "source": [
    "#get event names before  and after stripping  \n",
    "ls = [\"nOmi\",\"Nomi\",\"noMi\", \"hadar\", \"was\"]\n",
    "before_lower = pd.Series(ls) #df[\"eventName\"]\n",
    "after_lower = pd.Series(ls).str.lower() #df[\"eventName\"].str.lower()\n",
    "\n",
    "#get the dulicate events \n",
    "diff = pd.Series(list(set(before_lower) - set(after_lower)))\n",
    "print(diff)\n",
    "print(diff.str.lower().unique())\n",
    "dup = set(diff.str.lower()) & set(before_lower)\n",
    "print()\n",
    "print(\"After lower:\", after_lower.nunique())\n",
    "print(\"Num duplicates:\", before_lower.nunique() - after_lower.nunique())\n",
    "print (\"Duplicate events:\\n\")\n",
    "print(dup)\n"
   ]
  },
  {
   "cell_type": "code",
   "execution_count": 31,
   "metadata": {},
   "outputs": [
    {
     "data": {
      "text/plain": [
       "eventName\n",
       "% albumin                    [353194, 409299, 828995, 1012053, 1365530, 141...\n",
       "% alpha1                     [353193, 409297, 828994, 1012052, 1365529, 141...\n",
       "% alpha2                     [353195, 409300, 828996, 1012056, 1365531, 141...\n",
       "% gamma                      [353196, 409298, 828997, 1012055, 1365533, 141...\n",
       "% lympho                                                    [1298547, 1301551]\n",
       "                                                   ...                        \n",
       "תלונת החולה / תלונה עקרית    [1151, 17045, 28540, 30273, 47201, 47202, 4720...\n",
       "תפקוד                                         [413785, 414054, 420195, 481257]\n",
       "תרבית מניקור מותניcsf        [69837, 1355897, 1417189, 1420335, 1427252, 14...\n",
       "תרגול אקטיבי                                                  [597375, 597387]\n",
       "תרופות קבועות                                         [13103, 651156, 1306300]\n",
       "Length: 2954, dtype: object"
      ]
     },
     "execution_count": 31,
     "metadata": {},
     "output_type": "execute_result"
    }
   ],
   "source": [
    "def f(x):\n",
    "    return x.index.to_list()\n",
    "\n",
    "y = df.groupby(df['eventName'].str.lower()).apply(f)\n",
    "y = y[y.str.len() > 1]\n",
    "y"
   ]
  },
  {
   "cell_type": "code",
   "execution_count": 32,
   "metadata": {},
   "outputs": [
    {
     "data": {
      "text/plain": [
       "0    b\n",
       "1    c\n",
       "2    a\n",
       "dtype: object"
      ]
     },
     "execution_count": 32,
     "metadata": {},
     "output_type": "execute_result"
    }
   ],
   "source": [
    "pd.Series(list(set(pd.Series(['a', 'b', 'c','a']))))"
   ]
  },
  {
   "cell_type": "code",
   "execution_count": 33,
   "metadata": {},
   "outputs": [],
   "source": [
    "#strip events\n",
    "df[\"eventName\"] = df[\"eventName\"].str.strip()"
   ]
  },
  {
   "cell_type": "markdown",
   "metadata": {},
   "source": [
    "### Empty events names\n",
    "\n",
    "There are **55,458** rows without a name.\n",
    "- Out of them, **898** don't have sValue/event description. These events corresponds to the type of surgery. "
   ]
  },
  {
   "cell_type": "code",
   "execution_count": 34,
   "metadata": {},
   "outputs": [
    {
     "name": "stdout",
     "output_type": "stream",
     "text": [
      "Num events without a name: 55458\n"
     ]
    }
   ],
   "source": [
    "x = df[df[\"eventName\"].isna()].shape[0]\n",
    "print (\"Num events without a name:\", x)"
   ]
  },
  {
   "cell_type": "code",
   "execution_count": 35,
   "metadata": {},
   "outputs": [
    {
     "name": "stdout",
     "output_type": "stream",
     "text": [
      "Num events without a name and without sValue or event description: 898\n"
     ]
    },
    {
     "data": {
      "text/html": [
       "<div>\n",
       "<style scoped>\n",
       "    .dataframe tbody tr th:only-of-type {\n",
       "        vertical-align: middle;\n",
       "    }\n",
       "\n",
       "    .dataframe tbody tr th {\n",
       "        vertical-align: top;\n",
       "    }\n",
       "\n",
       "    .dataframe thead th {\n",
       "        text-align: right;\n",
       "    }\n",
       "</style>\n",
       "<table border=\"1\" class=\"dataframe\">\n",
       "  <thead>\n",
       "    <tr style=\"text-align: right;\">\n",
       "      <th></th>\n",
       "      <th>pid</th>\n",
       "      <th>admissionId</th>\n",
       "      <th>eventName</th>\n",
       "      <th>eventStartDate</th>\n",
       "      <th>eventEndDate</th>\n",
       "      <th>bValue</th>\n",
       "      <th>dValue</th>\n",
       "      <th>iValue</th>\n",
       "      <th>sValue</th>\n",
       "      <th>eventDesc</th>\n",
       "      <th>unitOfMeasure</th>\n",
       "      <th>orderNumber</th>\n",
       "      <th>organismId</th>\n",
       "      <th>eventCode</th>\n",
       "      <th>eventCodeOrg</th>\n",
       "      <th>eventType</th>\n",
       "      <th>eventTypeOrg</th>\n",
       "      <th>sourceName</th>\n",
       "    </tr>\n",
       "  </thead>\n",
       "  <tbody>\n",
       "    <tr>\n",
       "      <td>455</td>\n",
       "      <td>1.7782e+08</td>\n",
       "      <td>1935793.0</td>\n",
       "      <td>NaN</td>\n",
       "      <td>2018-12-09 07:54:27.0000000</td>\n",
       "      <td>2018-12-09 07:54:27.0000000</td>\n",
       "      <td>False</td>\n",
       "      <td>0.0</td>\n",
       "      <td>0.0</td>\n",
       "      <td>NaN</td>\n",
       "      <td>NaN</td>\n",
       "      <td>NaN</td>\n",
       "      <td>NaN</td>\n",
       "      <td>NaN</td>\n",
       "      <td>37270008</td>\n",
       "      <td>LAPAROSCOPIC</td>\n",
       "      <td>snomed</td>\n",
       "      <td>conv_approach_cham</td>\n",
       "      <td>[MIRROR_Chameleon].[Approach]</td>\n",
       "    </tr>\n",
       "    <tr>\n",
       "      <td>2606</td>\n",
       "      <td>6.9680e+08</td>\n",
       "      <td>1841065.0</td>\n",
       "      <td>NaN</td>\n",
       "      <td>2018-02-12 21:55:03.7470000</td>\n",
       "      <td>2018-02-12 21:55:03.7470000</td>\n",
       "      <td>False</td>\n",
       "      <td>0.0</td>\n",
       "      <td>0.0</td>\n",
       "      <td>NaN</td>\n",
       "      <td>NaN</td>\n",
       "      <td>NaN</td>\n",
       "      <td>NaN</td>\n",
       "      <td>NaN</td>\n",
       "      <td>129236007</td>\n",
       "      <td>פתוח</td>\n",
       "      <td>snomed</td>\n",
       "      <td>conv_approach_cham</td>\n",
       "      <td>[MIRROR_Chameleon].[Approach]</td>\n",
       "    </tr>\n",
       "    <tr>\n",
       "      <td>2677</td>\n",
       "      <td>4.8546e+08</td>\n",
       "      <td>1840978.0</td>\n",
       "      <td>NaN</td>\n",
       "      <td>2018-02-12 18:33:39.0170000</td>\n",
       "      <td>2018-02-12 18:33:39.0170000</td>\n",
       "      <td>False</td>\n",
       "      <td>0.0</td>\n",
       "      <td>0.0</td>\n",
       "      <td>NaN</td>\n",
       "      <td>NaN</td>\n",
       "      <td>NaN</td>\n",
       "      <td>NaN</td>\n",
       "      <td>NaN</td>\n",
       "      <td>129236007</td>\n",
       "      <td>פתוח</td>\n",
       "      <td>snomed</td>\n",
       "      <td>conv_approach_cham</td>\n",
       "      <td>[MIRROR_Chameleon].[Approach]</td>\n",
       "    </tr>\n",
       "    <tr>\n",
       "      <td>2984</td>\n",
       "      <td>2.3193e+08</td>\n",
       "      <td>1840104.0</td>\n",
       "      <td>NaN</td>\n",
       "      <td>2018-02-07 17:33:53.4230000</td>\n",
       "      <td>2018-02-07 17:33:53.4230000</td>\n",
       "      <td>False</td>\n",
       "      <td>0.0</td>\n",
       "      <td>0.0</td>\n",
       "      <td>NaN</td>\n",
       "      <td>NaN</td>\n",
       "      <td>NaN</td>\n",
       "      <td>NaN</td>\n",
       "      <td>NaN</td>\n",
       "      <td>37270008</td>\n",
       "      <td>LAPAROSCOPIC</td>\n",
       "      <td>snomed</td>\n",
       "      <td>conv_approach_cham</td>\n",
       "      <td>[MIRROR_Chameleon].[Approach]</td>\n",
       "    </tr>\n",
       "    <tr>\n",
       "      <td>4579</td>\n",
       "      <td>3.2398e+08</td>\n",
       "      <td>1947392.0</td>\n",
       "      <td>NaN</td>\n",
       "      <td>2019-02-06 17:56:14.0000000</td>\n",
       "      <td>2019-02-06 17:56:14.0000000</td>\n",
       "      <td>False</td>\n",
       "      <td>0.0</td>\n",
       "      <td>0.0</td>\n",
       "      <td>NaN</td>\n",
       "      <td>NaN</td>\n",
       "      <td>NaN</td>\n",
       "      <td>NaN</td>\n",
       "      <td>NaN</td>\n",
       "      <td>37270008</td>\n",
       "      <td>LAPAROSCOPIC</td>\n",
       "      <td>snomed</td>\n",
       "      <td>conv_approach_cham</td>\n",
       "      <td>[MIRROR_Chameleon].[Approach]</td>\n",
       "    </tr>\n",
       "  </tbody>\n",
       "</table>\n",
       "</div>"
      ],
      "text/plain": [
       "             pid  admissionId eventName               eventStartDate  \\\n",
       "455   1.7782e+08    1935793.0       NaN  2018-12-09 07:54:27.0000000   \n",
       "2606  6.9680e+08    1841065.0       NaN  2018-02-12 21:55:03.7470000   \n",
       "2677  4.8546e+08    1840978.0       NaN  2018-02-12 18:33:39.0170000   \n",
       "2984  2.3193e+08    1840104.0       NaN  2018-02-07 17:33:53.4230000   \n",
       "4579  3.2398e+08    1947392.0       NaN  2019-02-06 17:56:14.0000000   \n",
       "\n",
       "                     eventEndDate bValue  dValue  iValue sValue eventDesc  \\\n",
       "455   2018-12-09 07:54:27.0000000  False     0.0     0.0    NaN       NaN   \n",
       "2606  2018-02-12 21:55:03.7470000  False     0.0     0.0    NaN       NaN   \n",
       "2677  2018-02-12 18:33:39.0170000  False     0.0     0.0    NaN       NaN   \n",
       "2984  2018-02-07 17:33:53.4230000  False     0.0     0.0    NaN       NaN   \n",
       "4579  2019-02-06 17:56:14.0000000  False     0.0     0.0    NaN       NaN   \n",
       "\n",
       "     unitOfMeasure  orderNumber  organismId  eventCode  eventCodeOrg  \\\n",
       "455            NaN          NaN         NaN   37270008  LAPAROSCOPIC   \n",
       "2606           NaN          NaN         NaN  129236007          פתוח   \n",
       "2677           NaN          NaN         NaN  129236007          פתוח   \n",
       "2984           NaN          NaN         NaN   37270008  LAPAROSCOPIC   \n",
       "4579           NaN          NaN         NaN   37270008  LAPAROSCOPIC   \n",
       "\n",
       "     eventType        eventTypeOrg                     sourceName  \n",
       "455     snomed  conv_approach_cham  [MIRROR_Chameleon].[Approach]  \n",
       "2606    snomed  conv_approach_cham  [MIRROR_Chameleon].[Approach]  \n",
       "2677    snomed  conv_approach_cham  [MIRROR_Chameleon].[Approach]  \n",
       "2984    snomed  conv_approach_cham  [MIRROR_Chameleon].[Approach]  \n",
       "4579    snomed  conv_approach_cham  [MIRROR_Chameleon].[Approach]  "
      ]
     },
     "execution_count": 35,
     "metadata": {},
     "output_type": "execute_result"
    }
   ],
   "source": [
    "#get events without name / sValue / eventDesc\n",
    "y = df[df[\"eventName\"].isna() & df['sValue'].isna() & df['eventDesc'].isna()]\n",
    "print (\"Num events without a name and without sValue or event description:\", y.shape[0])\n",
    "y.head()"
   ]
  },
  {
   "cell_type": "markdown",
   "metadata": {},
   "source": [
    "The value of events without name or sValue or eventDesc is found in column **eventCodeOrg** and is actually the **surgery type**. \n",
    "\n",
    "**To do**: check that the type of surgeryis consistent with the type of surgery in the anonymous file."
   ]
  },
  {
   "cell_type": "code",
   "execution_count": 36,
   "metadata": {},
   "outputs": [
    {
     "data": {
      "text/plain": [
       "פתוח            497\n",
       "LAPAROSCOPIC    397\n",
       "ניתוח רובוטי      4\n",
       "Name: eventCodeOrg, dtype: int64"
      ]
     },
     "execution_count": 36,
     "metadata": {},
     "output_type": "execute_result"
    }
   ],
   "source": [
    "y['eventCodeOrg'].value_counts()"
   ]
  },
  {
   "cell_type": "code",
   "execution_count": 37,
   "metadata": {},
   "outputs": [],
   "source": [
    "path = EVENTS_INFO_PATH + \"NoEventsNames.xlsx\"\n",
    "df[df[\"eventName\"].isna()].to_excel(path, index = False)"
   ]
  },
  {
   "cell_type": "markdown",
   "metadata": {},
   "source": [
    "# Explore Event Value\n",
    "### Columns bValue, dValue, iValue, sValue\n",
    "\n",
    "The value of an event is found in one of the columns dValue / iValue / sValue / bValue.\n",
    "\n",
    "- **dValue** - decimal value. There are 19,503 unique values.  \n",
    "\n",
    "- **iValue** - integer value. There are only 11 unique values. The value 0 is probably a default value. \n",
    "\n",
    "- **sValue** - text value. There are 1,290 unique values.  \n",
    "\n",
    "- **bValue** - boolean value. Useless: all is False.\n",
    "\n",
    "Values can also be in column **EventDesc**.\n"
   ]
  },
  {
   "cell_type": "code",
   "execution_count": 38,
   "metadata": {
    "scrolled": true
   },
   "outputs": [
    {
     "data": {
      "text/plain": [
       "0.0     1529746\n",
       "1.0       23480\n",
       "5.0        1870\n",
       "2.0         890\n",
       "3.0         748\n",
       "4.0          89\n",
       "9.0          51\n",
       "10.0         30\n",
       "8.0          18\n",
       "7.0           6\n",
       "11.0          3\n",
       "Name: iValue, dtype: int64"
      ]
     },
     "execution_count": 38,
     "metadata": {},
     "output_type": "execute_result"
    }
   ],
   "source": [
    "#iValue\n",
    "df[\"iValue\"].nunique();\n",
    "df[\"iValue\"].value_counts()"
   ]
  },
  {
   "cell_type": "code",
   "execution_count": 39,
   "metadata": {
    "scrolled": true
   },
   "outputs": [
    {
     "data": {
      "text/plain": [
       "0.0000         147269\n",
       "100.0000        30044\n",
       "99.0000         21970\n",
       "98.0000         18172\n",
       "97.0000         15907\n",
       "                ...  \n",
       "0.0017              1\n",
       "730000.0000         1\n",
       "74.7400             1\n",
       "47.9600             1\n",
       "1983.0000           1\n",
       "Name: dValue, Length: 19503, dtype: int64"
      ]
     },
     "execution_count": 39,
     "metadata": {},
     "output_type": "execute_result"
    }
   ],
   "source": [
    "#dValue\n",
    "df[\"dValue\"].nunique();\n",
    "df[\"dValue\"].value_counts()"
   ]
  },
  {
   "cell_type": "code",
   "execution_count": 40,
   "metadata": {
    "scrolled": true
   },
   "outputs": [
    {
     "data": {
      "text/html": [
       "<div>\n",
       "<style scoped>\n",
       "    .dataframe tbody tr th:only-of-type {\n",
       "        vertical-align: middle;\n",
       "    }\n",
       "\n",
       "    .dataframe tbody tr th {\n",
       "        vertical-align: top;\n",
       "    }\n",
       "\n",
       "    .dataframe thead th {\n",
       "        text-align: right;\n",
       "    }\n",
       "</style>\n",
       "<table border=\"1\" class=\"dataframe\">\n",
       "  <thead>\n",
       "    <tr style=\"text-align: right;\">\n",
       "      <th></th>\n",
       "      <th>sValue</th>\n",
       "      <th>counts</th>\n",
       "    </tr>\n",
       "  </thead>\n",
       "  <tbody>\n",
       "    <tr>\n",
       "      <td>0</td>\n",
       "      <td>חכלג כירור כלל ג' ואונק</td>\n",
       "      <td>9654</td>\n",
       "    </tr>\n",
       "    <tr>\n",
       "      <td>1</td>\n",
       "      <td>IV</td>\n",
       "      <td>6351</td>\n",
       "    </tr>\n",
       "    <tr>\n",
       "      <td>2</td>\n",
       "      <td>PSIMV</td>\n",
       "      <td>2686</td>\n",
       "    </tr>\n",
       "    <tr>\n",
       "      <td>3</td>\n",
       "      <td>1</td>\n",
       "      <td>1820</td>\n",
       "    </tr>\n",
       "    <tr>\n",
       "      <td>4</td>\n",
       "      <td>פעיל</td>\n",
       "      <td>926</td>\n",
       "    </tr>\n",
       "    <tr>\n",
       "      <td>...</td>\n",
       "      <td>...</td>\n",
       "      <td>...</td>\n",
       "    </tr>\n",
       "    <tr>\n",
       "      <td>1285</td>\n",
       "      <td>'חט</td>\n",
       "      <td>1</td>\n",
       "    </tr>\n",
       "    <tr>\n",
       "      <td>1286</td>\n",
       "      <td>'Dyslipidemia</td>\n",
       "      <td>1</td>\n",
       "    </tr>\n",
       "    <tr>\n",
       "      <td>1287</td>\n",
       "      <td>'2000</td>\n",
       "      <td>1</td>\n",
       "    </tr>\n",
       "    <tr>\n",
       "      <td>1288</td>\n",
       "      <td>'ישן</td>\n",
       "      <td>1</td>\n",
       "    </tr>\n",
       "    <tr>\n",
       "      <td>1289</td>\n",
       "      <td>'חיוור</td>\n",
       "      <td>1</td>\n",
       "    </tr>\n",
       "  </tbody>\n",
       "</table>\n",
       "<p>1290 rows × 2 columns</p>\n",
       "</div>"
      ],
      "text/plain": [
       "                       sValue  counts\n",
       "0     חכלג כירור כלל ג' ואונק    9654\n",
       "1                          IV    6351\n",
       "2                       PSIMV    2686\n",
       "3                           1    1820\n",
       "4                        פעיל     926\n",
       "...                       ...     ...\n",
       "1285                      'חט       1\n",
       "1286            'Dyslipidemia       1\n",
       "1287                    '2000       1\n",
       "1288                     'ישן       1\n",
       "1289                   'חיוור       1\n",
       "\n",
       "[1290 rows x 2 columns]"
      ]
     },
     "execution_count": 40,
     "metadata": {},
     "output_type": "execute_result"
    }
   ],
   "source": [
    "#sValue\n",
    "df[\"sValue\"].value_counts().rename_axis('sValue').reset_index(name='counts')"
   ]
  },
  {
   "cell_type": "code",
   "execution_count": 41,
   "metadata": {
    "scrolled": false
   },
   "outputs": [
    {
     "name": "stdout",
     "output_type": "stream",
     "text": [
      "Num unique values in bValue: 1\n"
     ]
    }
   ],
   "source": [
    "#bValue\n",
    "\n",
    "print(\"Num unique values in bValue:\", df[\"bValue\"].nunique())\n",
    "\n",
    "#drop column bValue\n",
    "df.drop(columns=['bValue'], inplace=True)"
   ]
  },
  {
   "cell_type": "markdown",
   "metadata": {},
   "source": [
    "### 1) Numeric columns iValue and dValue\n",
    "First let's examine the numeric values in **iValue** and **dValue**.\n",
    "- **iValue** - Most values are in range [0,1]. Maximal number is 11.\n",
    "- **dValue** - Most values are in range [-97,1000]. Maximal number is very big, probably not a number."
   ]
  },
  {
   "cell_type": "code",
   "execution_count": 42,
   "metadata": {},
   "outputs": [
    {
     "data": {
      "text/html": [
       "<div>\n",
       "<style scoped>\n",
       "    .dataframe tbody tr th:only-of-type {\n",
       "        vertical-align: middle;\n",
       "    }\n",
       "\n",
       "    .dataframe tbody tr th {\n",
       "        vertical-align: top;\n",
       "    }\n",
       "\n",
       "    .dataframe thead th {\n",
       "        text-align: right;\n",
       "    }\n",
       "</style>\n",
       "<table border=\"1\" class=\"dataframe\">\n",
       "  <thead>\n",
       "    <tr style=\"text-align: right;\">\n",
       "      <th></th>\n",
       "      <th>dValue</th>\n",
       "      <th>iValue</th>\n",
       "    </tr>\n",
       "  </thead>\n",
       "  <tbody>\n",
       "    <tr>\n",
       "      <td>count</td>\n",
       "      <td>1556931</td>\n",
       "      <td>1556931</td>\n",
       "    </tr>\n",
       "    <tr>\n",
       "      <td>mean</td>\n",
       "      <td>4985</td>\n",
       "      <td>0</td>\n",
       "    </tr>\n",
       "    <tr>\n",
       "      <td>std</td>\n",
       "      <td>1326034</td>\n",
       "      <td>0</td>\n",
       "    </tr>\n",
       "    <tr>\n",
       "      <td>min</td>\n",
       "      <td>-97</td>\n",
       "      <td>0</td>\n",
       "    </tr>\n",
       "    <tr>\n",
       "      <td>10%</td>\n",
       "      <td>0</td>\n",
       "      <td>0</td>\n",
       "    </tr>\n",
       "    <tr>\n",
       "      <td>25%</td>\n",
       "      <td>5</td>\n",
       "      <td>0</td>\n",
       "    </tr>\n",
       "    <tr>\n",
       "      <td>50%</td>\n",
       "      <td>42</td>\n",
       "      <td>0</td>\n",
       "    </tr>\n",
       "    <tr>\n",
       "      <td>75%</td>\n",
       "      <td>98</td>\n",
       "      <td>0</td>\n",
       "    </tr>\n",
       "    <tr>\n",
       "      <td>80%</td>\n",
       "      <td>100</td>\n",
       "      <td>0</td>\n",
       "    </tr>\n",
       "    <tr>\n",
       "      <td>90%</td>\n",
       "      <td>140</td>\n",
       "      <td>0</td>\n",
       "    </tr>\n",
       "    <tr>\n",
       "      <td>99%</td>\n",
       "      <td>1000</td>\n",
       "      <td>1</td>\n",
       "    </tr>\n",
       "    <tr>\n",
       "      <td>max</td>\n",
       "      <td>459102677</td>\n",
       "      <td>11</td>\n",
       "    </tr>\n",
       "  </tbody>\n",
       "</table>\n",
       "</div>"
      ],
      "text/plain": [
       "         dValue  iValue\n",
       "count   1556931 1556931\n",
       "mean       4985       0\n",
       "std     1326034       0\n",
       "min         -97       0\n",
       "10%           0       0\n",
       "25%           5       0\n",
       "50%          42       0\n",
       "75%          98       0\n",
       "80%         100       0\n",
       "90%         140       0\n",
       "99%        1000       1\n",
       "max   459102677      11"
      ]
     },
     "execution_count": 42,
     "metadata": {},
     "output_type": "execute_result"
    }
   ],
   "source": [
    "pd.set_option('display.float_format', lambda x: '%.f' % x)\n",
    "df[['dValue', 'iValue']].describe(percentiles=[0.1, 0.25, 0.5, 0.75, 0.8, 0.9, 0.99])"
   ]
  },
  {
   "cell_type": "markdown",
   "metadata": {},
   "source": [
    "#### Histograms of iValue and dValue"
   ]
  },
  {
   "cell_type": "code",
   "execution_count": 43,
   "metadata": {
    "scrolled": true
   },
   "outputs": [
    {
     "data": {
      "text/plain": [
       "Text(0.5, 1.0, 'iValue, q >.99')"
      ]
     },
     "execution_count": 43,
     "metadata": {},
     "output_type": "execute_result"
    },
    {
     "data": {
      "image/png": "[encoded data removed]",
      "text/plain": [
       "<Figure size 792x504 with 4 Axes>"
      ]
     },
     "metadata": {
      "needs_background": "light"
     },
     "output_type": "display_data"
    }
   ],
   "source": [
    "#plot histograms of dValue and iValue\n",
    "\n",
    "#get values under and above quantile 0.99\n",
    "q = df['dValue'].quantile(.99)\n",
    "x1 = df[df['dValue'] < q]['dValue']\n",
    "x2 = df[df['dValue'] > q]['dValue']\n",
    "x1.describe();\n",
    "x2.describe();\n",
    "\n",
    "#get values under and above quantile 0.99\n",
    "q = df['iValue'].quantile(.99)\n",
    "x3 = df[df['iValue'] < q]['iValue']\n",
    "x4 = df[df['iValue'] > q]['iValue']\n",
    "x3.describe();\n",
    "x4.describe();\n",
    "\n",
    "#plot histograms \n",
    "plt.figure(figsize=(11, 7))\n",
    "plt.subplot(221)\n",
    "plt.hist(x1)\n",
    "plt.title(\"dValue, q <.99\")\n",
    "\n",
    "plt.subplot(222)\n",
    "plt.hist(x2, log=True)\n",
    "plt.title(\"dValue, q >.99\")\n",
    "\n",
    "plt.subplot(223)\n",
    "plt.hist(x3, color='g')\n",
    "plt.title(\"iValue, q <.99\")\n",
    "\n",
    "plt.subplot(224)\n",
    "plt.hist(x4, color='g')\n",
    "plt.title(\"iValue, q >.99\")\n"
   ]
  },
  {
   "cell_type": "markdown",
   "metadata": {},
   "source": [
    "#### Big values\n",
    "Big values may be the result of small units, such as **mg**."
   ]
  },
  {
   "cell_type": "code",
   "execution_count": 44,
   "metadata": {},
   "outputs": [],
   "source": [
    "#show events with very big values \n",
    "df[df['dValue'] > df['dValue'].quantile(.99)]['eventName'].value_counts();"
   ]
  },
  {
   "cell_type": "markdown",
   "metadata": {},
   "source": [
    "#### The relations between dValue and iValue.\n",
    "There ane no events where both iValue and dValue are different from 0."
   ]
  },
  {
   "cell_type": "code",
   "execution_count": 45,
   "metadata": {},
   "outputs": [
    {
     "data": {
      "text/plain": [
       "dValue    False\n",
       "iValue    False\n",
       "dtype: bool"
      ]
     },
     "execution_count": 45,
     "metadata": {},
     "output_type": "execute_result"
    }
   ],
   "source": [
    "df[ (df[\"dValue\"] != 0) & (df[\"iValue\"] != 0)][[\"dValue\", \"iValue\"]].any()"
   ]
  },
  {
   "cell_type": "markdown",
   "metadata": {},
   "source": [
    "### 2) Textual columns sValue nad eventDesc\n",
    "Let's examine the text values in **sValue** and **eventDesc**.\n",
    "\n",
    "- If sValue exists, then eventDesc exists too, but not the opposite. "
   ]
  },
  {
   "cell_type": "code",
   "execution_count": 46,
   "metadata": {},
   "outputs": [
    {
     "name": "stdout",
     "output_type": "stream",
     "text": [
      "counts of sValue and eventDesc in events without a name:\n"
     ]
    },
    {
     "data": {
      "text/html": [
       "<div>\n",
       "<style scoped>\n",
       "    .dataframe tbody tr th:only-of-type {\n",
       "        vertical-align: middle;\n",
       "    }\n",
       "\n",
       "    .dataframe tbody tr th {\n",
       "        vertical-align: top;\n",
       "    }\n",
       "\n",
       "    .dataframe thead th {\n",
       "        text-align: right;\n",
       "    }\n",
       "</style>\n",
       "<table border=\"1\" class=\"dataframe\">\n",
       "  <thead>\n",
       "    <tr style=\"text-align: right;\">\n",
       "      <th></th>\n",
       "      <th>sValue</th>\n",
       "      <th>eventDesc</th>\n",
       "      <th>count</th>\n",
       "    </tr>\n",
       "  </thead>\n",
       "  <tbody>\n",
       "    <tr>\n",
       "      <td>0</td>\n",
       "      <td>+</td>\n",
       "      <td>+</td>\n",
       "      <td>1726</td>\n",
       "    </tr>\n",
       "    <tr>\n",
       "      <td>1</td>\n",
       "      <td>+</td>\n",
       "      <td>-</td>\n",
       "      <td>0</td>\n",
       "    </tr>\n",
       "    <tr>\n",
       "      <td>2</td>\n",
       "      <td>-</td>\n",
       "      <td>+</td>\n",
       "      <td>52834</td>\n",
       "    </tr>\n",
       "    <tr>\n",
       "      <td>3</td>\n",
       "      <td>-</td>\n",
       "      <td>-</td>\n",
       "      <td>898</td>\n",
       "    </tr>\n",
       "  </tbody>\n",
       "</table>\n",
       "</div>"
      ],
      "text/plain": [
       "  sValue eventDesc  count\n",
       "0      +         +   1726\n",
       "1      +         -      0\n",
       "2      -         +  52834\n",
       "3      -         -    898"
      ]
     },
     "execution_count": 46,
     "metadata": {},
     "output_type": "execute_result"
    }
   ],
   "source": [
    "#counts of sValue and eventDesc in events without a name\n",
    "a = df[df[\"eventName\"].isna() & df['sValue'].notna() & df['eventDesc'].notna()].shape[0]\n",
    "b = df[df[\"eventName\"].isna() & df['sValue'].notna() & df['eventDesc'].isna()].shape[0]\n",
    "c = df[df[\"eventName\"].isna() & df['sValue'].isna() & df['eventDesc'].notna()].shape[0]\n",
    "d = df[df[\"eventName\"].isna() & df['sValue'].isna() & df['eventDesc'].isna()].shape[0]\n",
    "\n",
    "dd = pd.DataFrame({'sValue' : ['+', '+', '-', '-'],\n",
    "                    'eventDesc' : ['+', '-', '+', '-'],\n",
    "                    'count' : [a, b, c, d]})\n",
    "\n",
    "assert(df[df[\"eventName\"].isna()].shape[0] == dd['count'].sum())\n",
    "\n",
    "print(\"counts of sValue and eventDesc in events without a name:\")\n",
    "dd"
   ]
  },
  {
   "cell_type": "markdown",
   "metadata": {},
   "source": [
    "# Process column sValue"
   ]
  },
  {
   "cell_type": "code",
   "execution_count": 78,
   "metadata": {},
   "outputs": [],
   "source": [
    "df['sValue'] = df.loc[:,'sValue'].str.replace(\"'\", \"\")"
   ]
  },
  {
   "cell_type": "markdown",
   "metadata": {},
   "source": [
    "# Create  a file of events and thier values\n",
    "\n",
    "The file contains the following columns:\n",
    "- **count** - number of occurrences of event.\n",
    "- **dValues_description** - description of values in column dValues.\n",
    "- **iValues_description** - description of values in column iValues.\n",
    "- **sValue_values** - unique list of values in column sValue.\n",
    "- **eventDesc_values** - unique list of values in column sValue.\n",
    "- **unitOfMeasure** - unique list of values in column unitOfMeasure.\n",
    "\n",
    "File should help us looking closer at each events and understand its values."
   ]
  },
  {
   "cell_type": "code",
   "execution_count": 84,
   "metadata": {
    "scrolled": true
   },
   "outputs": [
    {
     "data": {
      "text/html": [
       "<div>\n",
       "<style scoped>\n",
       "    .dataframe tbody tr th:only-of-type {\n",
       "        vertical-align: middle;\n",
       "    }\n",
       "\n",
       "    .dataframe tbody tr th {\n",
       "        vertical-align: top;\n",
       "    }\n",
       "\n",
       "    .dataframe thead th {\n",
       "        text-align: right;\n",
       "    }\n",
       "</style>\n",
       "<table border=\"1\" class=\"dataframe\">\n",
       "  <thead>\n",
       "    <tr style=\"text-align: right;\">\n",
       "      <th></th>\n",
       "      <th>eventName</th>\n",
       "      <th>count</th>\n",
       "      <th>nPatients</th>\n",
       "      <th>dValues</th>\n",
       "      <th>iValues</th>\n",
       "      <th>sValue</th>\n",
       "      <th>eventDesc</th>\n",
       "      <th>sValueDict</th>\n",
       "      <th>unit</th>\n",
       "      <th>diffUnits</th>\n",
       "    </tr>\n",
       "  </thead>\n",
       "  <tbody>\n",
       "    <tr>\n",
       "      <td>0</td>\n",
       "      <td>דופק</td>\n",
       "      <td>82256</td>\n",
       "      <td>680</td>\n",
       "      <td>{'count': 82256.0, 'mean': 85.56524995137133, ...</td>\n",
       "      <td>0</td>\n",
       "      <td>NaN</td>\n",
       "      <td>NaN</td>\n",
       "      <td>NaN</td>\n",
       "      <td>NaN</td>\n",
       "      <td>nan</td>\n",
       "    </tr>\n",
       "    <tr>\n",
       "      <td>1</td>\n",
       "      <td>לחץ דם</td>\n",
       "      <td>82194</td>\n",
       "      <td>679</td>\n",
       "      <td>{'count': 82194.0, 'mean': 95.12156605104995, ...</td>\n",
       "      <td>0</td>\n",
       "      <td>NaN</td>\n",
       "      <td>NaN</td>\n",
       "      <td>NaN</td>\n",
       "      <td>NaN</td>\n",
       "      <td>nan</td>\n",
       "    </tr>\n",
       "    <tr>\n",
       "      <td>2</td>\n",
       "      <td>סטורציה</td>\n",
       "      <td>66636</td>\n",
       "      <td>680</td>\n",
       "      <td>{'count': 66636.0, 'mean': 96.82040518638574, ...</td>\n",
       "      <td>0</td>\n",
       "      <td>NaN</td>\n",
       "      <td>NaN</td>\n",
       "      <td>NaN</td>\n",
       "      <td>NaN</td>\n",
       "      <td>nan</td>\n",
       "    </tr>\n",
       "    <tr>\n",
       "      <td>3</td>\n",
       "      <td>חום</td>\n",
       "      <td>38503</td>\n",
       "      <td>680</td>\n",
       "      <td>{'count': 38503.0, 'mean': 36.841587149053346,...</td>\n",
       "      <td>0</td>\n",
       "      <td>NaN</td>\n",
       "      <td>NaN</td>\n",
       "      <td>NaN</td>\n",
       "      <td>[C, F]</td>\n",
       "      <td>1</td>\n",
       "    </tr>\n",
       "    <tr>\n",
       "      <td>4</td>\n",
       "      <td>HR</td>\n",
       "      <td>36653</td>\n",
       "      <td>47</td>\n",
       "      <td>{'count': 36653.0, 'mean': 88.27975881919625, ...</td>\n",
       "      <td>0</td>\n",
       "      <td>NaN</td>\n",
       "      <td>NaN</td>\n",
       "      <td>NaN</td>\n",
       "      <td>[bpm]</td>\n",
       "      <td>nan</td>\n",
       "    </tr>\n",
       "    <tr>\n",
       "      <td>...</td>\n",
       "      <td>...</td>\n",
       "      <td>...</td>\n",
       "      <td>...</td>\n",
       "      <td>...</td>\n",
       "      <td>...</td>\n",
       "      <td>...</td>\n",
       "      <td>...</td>\n",
       "      <td>...</td>\n",
       "      <td>...</td>\n",
       "      <td>...</td>\n",
       "    </tr>\n",
       "    <tr>\n",
       "      <td>3750</td>\n",
       "      <td>appendicitis- acute</td>\n",
       "      <td>1</td>\n",
       "      <td>1</td>\n",
       "      <td>0</td>\n",
       "      <td>0</td>\n",
       "      <td>NaN</td>\n",
       "      <td>NaN</td>\n",
       "      <td>NaN</td>\n",
       "      <td>NaN</td>\n",
       "      <td>nan</td>\n",
       "    </tr>\n",
       "    <tr>\n",
       "      <td>3751</td>\n",
       "      <td>HEPARIN 25000 units (15units/kg/hour)+SODIUM C...</td>\n",
       "      <td>1</td>\n",
       "      <td>1</td>\n",
       "      <td>50</td>\n",
       "      <td>0</td>\n",
       "      <td>NaN</td>\n",
       "      <td>NaN</td>\n",
       "      <td>NaN</td>\n",
       "      <td>[cc]</td>\n",
       "      <td>nan</td>\n",
       "    </tr>\n",
       "    <tr>\n",
       "      <td>3752</td>\n",
       "      <td>c-CD22 (early B)</td>\n",
       "      <td>1</td>\n",
       "      <td>1</td>\n",
       "      <td>58</td>\n",
       "      <td>0</td>\n",
       "      <td>NaN</td>\n",
       "      <td>NaN</td>\n",
       "      <td>NaN</td>\n",
       "      <td>[%]</td>\n",
       "      <td>nan</td>\n",
       "    </tr>\n",
       "    <tr>\n",
       "      <td>3753</td>\n",
       "      <td>c-IgG</td>\n",
       "      <td>1</td>\n",
       "      <td>1</td>\n",
       "      <td>18</td>\n",
       "      <td>0</td>\n",
       "      <td>NaN</td>\n",
       "      <td>NaN</td>\n",
       "      <td>NaN</td>\n",
       "      <td>[%]</td>\n",
       "      <td>nan</td>\n",
       "    </tr>\n",
       "    <tr>\n",
       "      <td>3754</td>\n",
       "      <td>תשובת ייעוץ מרפאת כאב</td>\n",
       "      <td>1</td>\n",
       "      <td>1</td>\n",
       "      <td>0</td>\n",
       "      <td>0</td>\n",
       "      <td>NaN</td>\n",
       "      <td>[anesthesia]</td>\n",
       "      <td>NaN</td>\n",
       "      <td>NaN</td>\n",
       "      <td>nan</td>\n",
       "    </tr>\n",
       "  </tbody>\n",
       "</table>\n",
       "<p>3755 rows × 10 columns</p>\n",
       "</div>"
      ],
      "text/plain": [
       "                                              eventName  count  nPatients  \\\n",
       "0                                                  דופק  82256        680   \n",
       "1                                                לחץ דם  82194        679   \n",
       "2                                               סטורציה  66636        680   \n",
       "3                                                   חום  38503        680   \n",
       "4                                                    HR  36653         47   \n",
       "...                                                 ...    ...        ...   \n",
       "3750                                appendicitis- acute      1          1   \n",
       "3751  HEPARIN 25000 units (15units/kg/hour)+SODIUM C...      1          1   \n",
       "3752                                   c-CD22 (early B)      1          1   \n",
       "3753                                              c-IgG      1          1   \n",
       "3754                              תשובת ייעוץ מרפאת כאב      1          1   \n",
       "\n",
       "                                                dValues iValues sValue  \\\n",
       "0     {'count': 82256.0, 'mean': 85.56524995137133, ...       0    NaN   \n",
       "1     {'count': 82194.0, 'mean': 95.12156605104995, ...       0    NaN   \n",
       "2     {'count': 66636.0, 'mean': 96.82040518638574, ...       0    NaN   \n",
       "3     {'count': 38503.0, 'mean': 36.841587149053346,...       0    NaN   \n",
       "4     {'count': 36653.0, 'mean': 88.27975881919625, ...       0    NaN   \n",
       "...                                                 ...     ...    ...   \n",
       "3750                                                  0       0    NaN   \n",
       "3751                                                 50       0    NaN   \n",
       "3752                                                 58       0    NaN   \n",
       "3753                                                 18       0    NaN   \n",
       "3754                                                  0       0    NaN   \n",
       "\n",
       "         eventDesc sValueDict    unit  diffUnits  \n",
       "0              NaN        NaN     NaN        nan  \n",
       "1              NaN        NaN     NaN        nan  \n",
       "2              NaN        NaN     NaN        nan  \n",
       "3              NaN        NaN  [C, F]          1  \n",
       "4              NaN        NaN   [bpm]        nan  \n",
       "...            ...        ...     ...        ...  \n",
       "3750           NaN        NaN     NaN        nan  \n",
       "3751           NaN        NaN    [cc]        nan  \n",
       "3752           NaN        NaN     [%]        nan  \n",
       "3753           NaN        NaN     [%]        nan  \n",
       "3754  [anesthesia]        NaN     NaN        nan  \n",
       "\n",
       "[3755 rows x 10 columns]"
      ]
     },
     "execution_count": 84,
     "metadata": {},
     "output_type": "execute_result"
    }
   ],
   "source": [
    "#Create a file of events and thier values\n",
    "\n",
    "def getUniqueList(x):\n",
    "    #return a unique \n",
    "    if not x.any():\n",
    "        return np.nan\n",
    "    x.dropna(inplace=True)\n",
    "    x.sort_values(inplace=True) \n",
    "    return list(set(x)) \n",
    "\n",
    "def getDescription(x):\n",
    "    #return a description of the values \n",
    "    if x.notna().any():\n",
    "         \n",
    "        if x.nunique() == 1:\n",
    "            return x.min()\n",
    "        else:\n",
    "            des = x.describe(percentiles=[0.1, 0.25, 0.5, 0.75, 0.8, 0.9, 0.99])\n",
    "            return des.to_dict()     \n",
    "\n",
    "    return np.nan\n",
    "\n",
    "def createDict(x):\n",
    "    ls = getUniqueList(x)\n",
    "    if ls and type(ls) == type([]):\n",
    "        return {str(item) : \"None\" for item in ls}\n",
    "    return np.nan\n",
    "\n",
    "def diffUnits(x):\n",
    "    \n",
    "    if not x.any():\n",
    "        return np.nan\n",
    "    x.dropna(inplace=True)\n",
    "    x.sort_values(inplace=True)\n",
    "    x = x.str.capitalize()\n",
    "    ls = list(set(x)) \n",
    "    if len(ls) > 1:\n",
    "        return 1\n",
    "    else:\n",
    "        return np.nan\n",
    "    \n",
    "    \n",
    "    \n",
    "#grouped by eventName events and return all unique values in each value column\n",
    "grouped = df.groupby('eventName')\n",
    "\n",
    "aggs = grouped.agg(\n",
    "    #count number of events\n",
    "    count = pd.NamedAgg(column='eventName', aggfunc= 'size'),\n",
    "    \n",
    "    #get number of unique patients\n",
    "    nPatients = pd.NamedAgg(column='pid', aggfunc= 'nunique'),\n",
    "    \n",
    "    #for numeric values \n",
    "    dValues = pd.NamedAgg(column= 'dValue', aggfunc= getDescription),\n",
    "    iValues = pd.NamedAgg(column= 'iValue', aggfunc= getDescription),\n",
    "    \n",
    "    #for text values \n",
    "    sValue = pd.NamedAgg(column= 'sValue', aggfunc= getUniqueList),\n",
    "    eventDesc = pd.NamedAgg(column= 'eventDesc', aggfunc= getUniqueList),\n",
    "    \n",
    "    #create dict from sValues\n",
    "    sValueDict = pd.NamedAgg(column='sValue', aggfunc=createDict),\n",
    "    \n",
    "    #get measure \n",
    "    unit = pd.NamedAgg(column='unitOfMeasure', aggfunc= getUniqueList),\n",
    "    \n",
    "    diffUnits = pd.NamedAgg(column='unitOfMeasure', aggfunc=diffUnits)\n",
    ")\n",
    "\n",
    "aggs = aggs.sort_values(by='count', ascending=False).reset_index()\n",
    "\n",
    "aggs"
   ]
  },
  {
   "cell_type": "code",
   "execution_count": 85,
   "metadata": {},
   "outputs": [],
   "source": [
    "#write to file \n",
    "output_path = DATA_PATH + \"EventsInfo_not_manual.xlsx\"\n",
    "aggs.to_excel(output_path, index=False, float_format=\"%.2f\" ) #uncomment to write to file "
   ]
  },
  {
   "cell_type": "markdown",
   "metadata": {},
   "source": [
    "# Create a file of all words in event names"
   ]
  },
  {
   "cell_type": "markdown",
   "metadata": {},
   "source": [
    "File should help find events that should be merged.\n",
    "The structure of the file is as follow:\n",
    "\n",
    "- First column is a word in en event name. \n",
    "- Rest columns are the all the events which contain this word."
   ]
  },
  {
   "cell_type": "code",
   "execution_count": 74,
   "metadata": {
    "scrolled": true
   },
   "outputs": [],
   "source": [
    "#get unique events \n",
    "unique_events = df[[\"eventName\"]].drop_duplicates().dropna()[\"eventName\"]\n",
    "\n",
    "#split each event name to words\n",
    "splited = unique_events.str.split(r'[\\s*,\\-,\\+,,\\,&(),\\/,\\:,\\?,\\\\,\\%,\\>,\\<,\\,\\n,\\_]')\n",
    "\n",
    "#get words which thier length > 1 into a flatten list\n",
    "flat_list = [s for row in splited for s in row if len(s) > 1]\n",
    "\n",
    "#get only unique words    \n",
    "unique_words = list(set(flat_list)) \n",
    "\n",
    "unique_words;"
   ]
  },
  {
   "cell_type": "code",
   "execution_count": 67,
   "metadata": {
    "scrolled": false
   },
   "outputs": [
    {
     "name": "stdout",
     "output_type": "stream",
     "text": [
      "Estimated number of unique words in event names: 2990\n"
     ]
    }
   ],
   "source": [
    "def is_number(s):\n",
    "    try:\n",
    "        float(s)\n",
    "        return True\n",
    "    except ValueError:\n",
    "        return False\n",
    "    \n",
    "def hasNumbers(inputString):\n",
    "    return any(char.isdigit() for char in inputString)\n",
    "\n",
    "\n",
    "#remove words in length < 2, and remove numbers\n",
    "filtered = [word for word in unique_words if len(word) > 1 and not is_number(word)]  \n",
    "\n",
    "print(\"Estimated number of unique words in event names:\", len(filtered))\n"
   ]
  },
  {
   "cell_type": "code",
   "execution_count": 68,
   "metadata": {
    "scrolled": true
   },
   "outputs": [],
   "source": [
    "#for each unique word (length > 1) get all events it appears in \n",
    "d = {word : \n",
    "     unique_events[unique_events.str.contains(word, regex=False, case=False, na=False)].values\n",
    "     for word in filtered} \n",
    "\n",
    "words_df = pd.DataFrame(dict([ (k, pd.Series(v)) for k,v in d.items() ])).T"
   ]
  },
  {
   "cell_type": "code",
   "execution_count": 69,
   "metadata": {},
   "outputs": [
    {
     "data": {
      "text/html": [
       "<div>\n",
       "<style scoped>\n",
       "    .dataframe tbody tr th:only-of-type {\n",
       "        vertical-align: middle;\n",
       "    }\n",
       "\n",
       "    .dataframe tbody tr th {\n",
       "        vertical-align: top;\n",
       "    }\n",
       "\n",
       "    .dataframe thead th {\n",
       "        text-align: right;\n",
       "    }\n",
       "</style>\n",
       "<table border=\"1\" class=\"dataframe\">\n",
       "  <thead>\n",
       "    <tr style=\"text-align: right;\">\n",
       "      <th></th>\n",
       "      <th>0</th>\n",
       "      <th>1</th>\n",
       "      <th>2</th>\n",
       "      <th>3</th>\n",
       "      <th>4</th>\n",
       "      <th>5</th>\n",
       "      <th>6</th>\n",
       "      <th>7</th>\n",
       "      <th>8</th>\n",
       "      <th>9</th>\n",
       "      <th>10</th>\n",
       "      <th>11</th>\n",
       "      <th>12</th>\n",
       "      <th>13</th>\n",
       "      <th>14</th>\n",
       "      <th>...</th>\n",
       "      <th>1069</th>\n",
       "      <th>1070</th>\n",
       "      <th>1071</th>\n",
       "      <th>1072</th>\n",
       "      <th>1073</th>\n",
       "      <th>1074</th>\n",
       "      <th>1075</th>\n",
       "      <th>1076</th>\n",
       "      <th>1077</th>\n",
       "      <th>1078</th>\n",
       "      <th>1079</th>\n",
       "      <th>1080</th>\n",
       "      <th>1081</th>\n",
       "      <th>1082</th>\n",
       "      <th>1083</th>\n",
       "    </tr>\n",
       "  </thead>\n",
       "  <tbody>\n",
       "    <tr>\n",
       "      <td>.Lipemia</td>\n",
       "      <td>.Lipemia</td>\n",
       "      <td>NaN</td>\n",
       "      <td>NaN</td>\n",
       "      <td>NaN</td>\n",
       "      <td>NaN</td>\n",
       "      <td>NaN</td>\n",
       "      <td>NaN</td>\n",
       "      <td>NaN</td>\n",
       "      <td>NaN</td>\n",
       "      <td>NaN</td>\n",
       "      <td>NaN</td>\n",
       "      <td>NaN</td>\n",
       "      <td>NaN</td>\n",
       "      <td>NaN</td>\n",
       "      <td>NaN</td>\n",
       "      <td>...</td>\n",
       "      <td>NaN</td>\n",
       "      <td>NaN</td>\n",
       "      <td>NaN</td>\n",
       "      <td>NaN</td>\n",
       "      <td>NaN</td>\n",
       "      <td>NaN</td>\n",
       "      <td>NaN</td>\n",
       "      <td>NaN</td>\n",
       "      <td>NaN</td>\n",
       "      <td>NaN</td>\n",
       "      <td>NaN</td>\n",
       "      <td>NaN</td>\n",
       "      <td>NaN</td>\n",
       "      <td>NaN</td>\n",
       "      <td>NaN</td>\n",
       "    </tr>\n",
       "    <tr>\n",
       "      <td>0.0005cc</td>\n",
       "      <td>REMIFentaNIL HCL  5000 mcg+SODIUM CHLORIDE 0.9...</td>\n",
       "      <td>NaN</td>\n",
       "      <td>NaN</td>\n",
       "      <td>NaN</td>\n",
       "      <td>NaN</td>\n",
       "      <td>NaN</td>\n",
       "      <td>NaN</td>\n",
       "      <td>NaN</td>\n",
       "      <td>NaN</td>\n",
       "      <td>NaN</td>\n",
       "      <td>NaN</td>\n",
       "      <td>NaN</td>\n",
       "      <td>NaN</td>\n",
       "      <td>NaN</td>\n",
       "      <td>NaN</td>\n",
       "      <td>...</td>\n",
       "      <td>NaN</td>\n",
       "      <td>NaN</td>\n",
       "      <td>NaN</td>\n",
       "      <td>NaN</td>\n",
       "      <td>NaN</td>\n",
       "      <td>NaN</td>\n",
       "      <td>NaN</td>\n",
       "      <td>NaN</td>\n",
       "      <td>NaN</td>\n",
       "      <td>NaN</td>\n",
       "      <td>NaN</td>\n",
       "      <td>NaN</td>\n",
       "      <td>NaN</td>\n",
       "      <td>NaN</td>\n",
       "      <td>NaN</td>\n",
       "    </tr>\n",
       "    <tr>\n",
       "      <td>0.01IU</td>\n",
       "      <td>VASOPRESSIN  20 IU (0.01IU/min)+SODIUM CHLORID...</td>\n",
       "      <td>NaN</td>\n",
       "      <td>NaN</td>\n",
       "      <td>NaN</td>\n",
       "      <td>NaN</td>\n",
       "      <td>NaN</td>\n",
       "      <td>NaN</td>\n",
       "      <td>NaN</td>\n",
       "      <td>NaN</td>\n",
       "      <td>NaN</td>\n",
       "      <td>NaN</td>\n",
       "      <td>NaN</td>\n",
       "      <td>NaN</td>\n",
       "      <td>NaN</td>\n",
       "      <td>NaN</td>\n",
       "      <td>...</td>\n",
       "      <td>NaN</td>\n",
       "      <td>NaN</td>\n",
       "      <td>NaN</td>\n",
       "      <td>NaN</td>\n",
       "      <td>NaN</td>\n",
       "      <td>NaN</td>\n",
       "      <td>NaN</td>\n",
       "      <td>NaN</td>\n",
       "      <td>NaN</td>\n",
       "      <td>NaN</td>\n",
       "      <td>NaN</td>\n",
       "      <td>NaN</td>\n",
       "      <td>NaN</td>\n",
       "      <td>NaN</td>\n",
       "      <td>NaN</td>\n",
       "    </tr>\n",
       "    <tr>\n",
       "      <td>0.01mg</td>\n",
       "      <td>MIDAZOLAM  50 mg (0.01mg)+SODIUM CHLORIDE 0.9%...</td>\n",
       "      <td>MIDAZOLAM  50 mg (0.01mg/kg)+SODIUM CHLORIDE 0...</td>\n",
       "      <td>NaN</td>\n",
       "      <td>NaN</td>\n",
       "      <td>NaN</td>\n",
       "      <td>NaN</td>\n",
       "      <td>NaN</td>\n",
       "      <td>NaN</td>\n",
       "      <td>NaN</td>\n",
       "      <td>NaN</td>\n",
       "      <td>NaN</td>\n",
       "      <td>NaN</td>\n",
       "      <td>NaN</td>\n",
       "      <td>NaN</td>\n",
       "      <td>NaN</td>\n",
       "      <td>...</td>\n",
       "      <td>NaN</td>\n",
       "      <td>NaN</td>\n",
       "      <td>NaN</td>\n",
       "      <td>NaN</td>\n",
       "      <td>NaN</td>\n",
       "      <td>NaN</td>\n",
       "      <td>NaN</td>\n",
       "      <td>NaN</td>\n",
       "      <td>NaN</td>\n",
       "      <td>NaN</td>\n",
       "      <td>NaN</td>\n",
       "      <td>NaN</td>\n",
       "      <td>NaN</td>\n",
       "      <td>NaN</td>\n",
       "      <td>NaN</td>\n",
       "    </tr>\n",
       "    <tr>\n",
       "      <td>0.02IU</td>\n",
       "      <td>VASOPRESSIN  20 IU (0.02IU/min)+SODIUM CHLORID...</td>\n",
       "      <td>NaN</td>\n",
       "      <td>NaN</td>\n",
       "      <td>NaN</td>\n",
       "      <td>NaN</td>\n",
       "      <td>NaN</td>\n",
       "      <td>NaN</td>\n",
       "      <td>NaN</td>\n",
       "      <td>NaN</td>\n",
       "      <td>NaN</td>\n",
       "      <td>NaN</td>\n",
       "      <td>NaN</td>\n",
       "      <td>NaN</td>\n",
       "      <td>NaN</td>\n",
       "      <td>NaN</td>\n",
       "      <td>...</td>\n",
       "      <td>NaN</td>\n",
       "      <td>NaN</td>\n",
       "      <td>NaN</td>\n",
       "      <td>NaN</td>\n",
       "      <td>NaN</td>\n",
       "      <td>NaN</td>\n",
       "      <td>NaN</td>\n",
       "      <td>NaN</td>\n",
       "      <td>NaN</td>\n",
       "      <td>NaN</td>\n",
       "      <td>NaN</td>\n",
       "      <td>NaN</td>\n",
       "      <td>NaN</td>\n",
       "      <td>NaN</td>\n",
       "      <td>NaN</td>\n",
       "    </tr>\n",
       "  </tbody>\n",
       "</table>\n",
       "<p>5 rows × 1084 columns</p>\n",
       "</div>"
      ],
      "text/plain": [
       "                                                       0     \\\n",
       ".Lipemia                                           .Lipemia   \n",
       "0.0005cc  REMIFentaNIL HCL  5000 mcg+SODIUM CHLORIDE 0.9...   \n",
       "0.01IU    VASOPRESSIN  20 IU (0.01IU/min)+SODIUM CHLORID...   \n",
       "0.01mg    MIDAZOLAM  50 mg (0.01mg)+SODIUM CHLORIDE 0.9%...   \n",
       "0.02IU    VASOPRESSIN  20 IU (0.02IU/min)+SODIUM CHLORID...   \n",
       "\n",
       "                                                       1    2    3    4     \\\n",
       ".Lipemia                                                NaN  NaN  NaN  NaN   \n",
       "0.0005cc                                                NaN  NaN  NaN  NaN   \n",
       "0.01IU                                                  NaN  NaN  NaN  NaN   \n",
       "0.01mg    MIDAZOLAM  50 mg (0.01mg/kg)+SODIUM CHLORIDE 0...  NaN  NaN  NaN   \n",
       "0.02IU                                                  NaN  NaN  NaN  NaN   \n",
       "\n",
       "         5    6    7    8    9    10   11   12   13   14    ... 1069 1070  \\\n",
       ".Lipemia  NaN  NaN  NaN  NaN  NaN  NaN  NaN  NaN  NaN  NaN  ...  NaN  NaN   \n",
       "0.0005cc  NaN  NaN  NaN  NaN  NaN  NaN  NaN  NaN  NaN  NaN  ...  NaN  NaN   \n",
       "0.01IU    NaN  NaN  NaN  NaN  NaN  NaN  NaN  NaN  NaN  NaN  ...  NaN  NaN   \n",
       "0.01mg    NaN  NaN  NaN  NaN  NaN  NaN  NaN  NaN  NaN  NaN  ...  NaN  NaN   \n",
       "0.02IU    NaN  NaN  NaN  NaN  NaN  NaN  NaN  NaN  NaN  NaN  ...  NaN  NaN   \n",
       "\n",
       "         1071 1072 1073 1074 1075 1076 1077 1078 1079 1080 1081 1082 1083  \n",
       ".Lipemia  NaN  NaN  NaN  NaN  NaN  NaN  NaN  NaN  NaN  NaN  NaN  NaN  NaN  \n",
       "0.0005cc  NaN  NaN  NaN  NaN  NaN  NaN  NaN  NaN  NaN  NaN  NaN  NaN  NaN  \n",
       "0.01IU    NaN  NaN  NaN  NaN  NaN  NaN  NaN  NaN  NaN  NaN  NaN  NaN  NaN  \n",
       "0.01mg    NaN  NaN  NaN  NaN  NaN  NaN  NaN  NaN  NaN  NaN  NaN  NaN  NaN  \n",
       "0.02IU    NaN  NaN  NaN  NaN  NaN  NaN  NaN  NaN  NaN  NaN  NaN  NaN  NaN  \n",
       "\n",
       "[5 rows x 1084 columns]"
      ]
     },
     "execution_count": 69,
     "metadata": {},
     "output_type": "execute_result"
    }
   ],
   "source": [
    "\n",
    "words_df.sort_index(inplace = True)\n",
    "\n",
    "words_df.head()"
   ]
  },
  {
   "cell_type": "code",
   "execution_count": 70,
   "metadata": {},
   "outputs": [],
   "source": [
    "#write output\n",
    "\n",
    "output_path = \"{}events_names_splitted.xlsx\".format(DATA_PATH)\n",
    "\n",
    "#words_df.to_excel(output_path) #uncomment to write to file"
   ]
  },
  {
   "cell_type": "markdown",
   "metadata": {},
   "source": [
    "# Num evnets per patient"
   ]
  },
  {
   "cell_type": "markdown",
   "metadata": {},
   "source": [
    "There are **233** events with more than 680 (= number of patients) occurrences"
   ]
  },
  {
   "cell_type": "code",
   "execution_count": 71,
   "metadata": {
    "scrolled": true
   },
   "outputs": [
    {
     "data": {
      "text/plain": [
       "231"
      ]
     },
     "execution_count": 71,
     "metadata": {},
     "output_type": "execute_result"
    }
   ],
   "source": [
    "#count values again\n",
    "events_counts = df[\"eventName\"].value_counts().sort_values(ascending=False)\n",
    "\n",
    "nPatients = df[\"pid\"].nunique()\n",
    "nEvents = events_counts[events_counts > nPatients/2].shape[0]\n",
    "nEvents"
   ]
  },
  {
   "cell_type": "code",
   "execution_count": 72,
   "metadata": {
    "scrolled": true
   },
   "outputs": [
    {
     "data": {
      "text/plain": [
       "Text(0.5, 1.0, 'Num occurrences of the 231 most common events')"
      ]
     },
     "execution_count": 72,
     "metadata": {},
     "output_type": "execute_result"
    },
    {
     "data": {
      "image/png": "[encoded data removed]",
      "text/plain": [
       "<Figure size 800x400 with 1 Axes>"
      ]
     },
     "metadata": {
      "needs_background": "light"
     },
     "output_type": "display_data"
    }
   ],
   "source": [
    "#create a bar plot of num occurrences of most frequent events\n",
    "events_counts = events_counts[:nEvents]\n",
    "x = range(events_counts.shape[0])\n",
    "y = events_counts.values\n",
    "\n",
    "figure(num=None, figsize=(10, 5), dpi=80)\n",
    "\n",
    "plt.bar(x, y, align='center')\n",
    "plt.xlabel('Event')\n",
    "plt.title('Num occurrences of the {} most common events'.format(nEvents))\n",
    "#plt.yscale('log')\n"
   ]
  },
  {
   "cell_type": "markdown",
   "metadata": {},
   "source": [
    "# Write output\n"
   ]
  },
  {
   "cell_type": "code",
   "execution_count": 81,
   "metadata": {},
   "outputs": [],
   "source": [
    "#output into one file \n",
    "output_path = \"{}parseData1.csv\".format(DATA_PATH)\n",
    "df.to_csv(output_path, sep=',', index=False)"
   ]
  }
 ],
 "metadata": {
  "kernelspec": {
   "display_name": "Python 3",
   "language": "python",
   "name": "python3"
  },
  "language_info": {
   "codemirror_mode": {
    "name": "ipython",
    "version": 3
   },
   "file_extension": ".py",
   "mimetype": "text/x-python",
   "name": "python",
   "nbconvert_exporter": "python",
   "pygments_lexer": "ipython3",
   "version": "3.7.4"
  },
  "pycharm": {
   "stem_cell": {
    "cell_type": "raw",
    "metadata": {
     "collapsed": false
    },
    "source": []
   }
  }
 },
 "nbformat": 4,
 "nbformat_minor": 4
}
